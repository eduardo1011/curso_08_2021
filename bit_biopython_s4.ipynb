{
 "cells": [
  {
   "cell_type": "code",
   "execution_count": null,
   "metadata": {},
   "outputs": [],
   "source": [
    "from IPython.core.display import display, HTML, Javascript, clear_output, Image\n",
    "display(HTML(\"<style>.container { width:90% !important; } </style>\"))"
   ]
  },
  {
   "cell_type": "code",
   "execution_count": null,
   "metadata": {},
   "outputs": [],
   "source": []
  },
  {
   "cell_type": "markdown",
   "metadata": {},
   "source": [
    "[<img align=\"left\" src=\"http://biopython.org/DIST/docs/tutorial/images/biopython_logo.svg\" width=\"500\" height=\"500\">](https://biopython.org/)"
   ]
  },
  {
   "cell_type": "markdown",
   "metadata": {},
   "source": [
    "### <font color=#333333>Biopython es un conjunto de herramientas para análisis biológico escritas en python por un equipo internacional de desarrolladores.</font>\n",
    "### <font color=#333333>Esta aplicación refleja un esfuerzo colaborativo para desarrollar bibliotecas de python y aplicaciones para dirigir las necesidades actuales y a futuro de trabajos bioinformáticos.</font>\n",
    "</br>"
   ]
  },
  {
   "cell_type": "code",
   "execution_count": null,
   "metadata": {},
   "outputs": [],
   "source": []
  },
  {
   "cell_type": "code",
   "execution_count": null,
   "metadata": {},
   "outputs": [],
   "source": []
  },
  {
   "cell_type": "markdown",
   "metadata": {},
   "source": [
    "<b style=\"font-size:2vw\"><font color = red>1. Trabajando sobre secuencias</font></b>"
   ]
  },
  {
   "cell_type": "code",
   "execution_count": null,
   "metadata": {},
   "outputs": [],
   "source": []
  },
  {
   "cell_type": "markdown",
   "metadata": {},
   "source": [
    "#### importamos la función `Seq` desde el módulo Bio.Seq\n",
    "La función `Seq` convierte en objeto Seq, el cual es compatible con más funciones implementadas en Biopython"
   ]
  },
  {
   "cell_type": "code",
   "execution_count": null,
   "metadata": {},
   "outputs": [],
   "source": [
    "from Bio.Seq import Seq"
   ]
  },
  {
   "cell_type": "code",
   "execution_count": null,
   "metadata": {},
   "outputs": [],
   "source": []
  },
  {
   "cell_type": "markdown",
   "metadata": {},
   "source": [
    "#### guardamos una secuencia de nucleótidos en la variable `mi_sec`"
   ]
  },
  {
   "cell_type": "code",
   "execution_count": null,
   "metadata": {},
   "outputs": [],
   "source": [
    "mi_sec = Seq(\"TTTGTTTTTCTTGTTTTATTGCCACTAGTCTCTAGTCAGTGTGTTAATCTTACAACCAGA\")"
   ]
  },
  {
   "cell_type": "code",
   "execution_count": null,
   "metadata": {},
   "outputs": [],
   "source": [
    "print(mi_sec)"
   ]
  },
  {
   "cell_type": "code",
   "execution_count": null,
   "metadata": {},
   "outputs": [],
   "source": []
  },
  {
   "cell_type": "markdown",
   "metadata": {},
   "source": [
    "#### longitud de la secuencia"
   ]
  },
  {
   "cell_type": "code",
   "execution_count": null,
   "metadata": {},
   "outputs": [],
   "source": [
    "len(mi_sec)"
   ]
  },
  {
   "cell_type": "code",
   "execution_count": null,
   "metadata": {},
   "outputs": [],
   "source": []
  },
  {
   "cell_type": "markdown",
   "metadata": {},
   "source": [
    "#### iteración sobre las bases de la secuencia"
   ]
  },
  {
   "cell_type": "code",
   "execution_count": null,
   "metadata": {
    "scrolled": true
   },
   "outputs": [],
   "source": [
    "for indice, base in enumerate(mi_sec):\n",
    "    print(indice, base)"
   ]
  },
  {
   "cell_type": "code",
   "execution_count": null,
   "metadata": {},
   "outputs": [],
   "source": []
  },
  {
   "cell_type": "markdown",
   "metadata": {},
   "source": [
    "#### determinar el % de GC"
   ]
  },
  {
   "cell_type": "code",
   "execution_count": null,
   "metadata": {},
   "outputs": [],
   "source": [
    "float(mi_sec.count(\"G\") + mi_sec.count(\"C\")) / len(mi_sec) * 100"
   ]
  },
  {
   "cell_type": "code",
   "execution_count": null,
   "metadata": {},
   "outputs": [],
   "source": []
  },
  {
   "cell_type": "markdown",
   "metadata": {},
   "source": [
    "####  importamos la función `GC` para determinar % de GC"
   ]
  },
  {
   "cell_type": "code",
   "execution_count": null,
   "metadata": {},
   "outputs": [],
   "source": [
    "from Bio.SeqUtils import GC"
   ]
  },
  {
   "cell_type": "code",
   "execution_count": null,
   "metadata": {},
   "outputs": [],
   "source": [
    "GC(mi_sec)"
   ]
  },
  {
   "cell_type": "code",
   "execution_count": null,
   "metadata": {},
   "outputs": [],
   "source": []
  },
  {
   "cell_type": "markdown",
   "metadata": {},
   "source": [
    "#### cortar una secuencia\n",
    "[Revizar como es el indizado en python.](https://raw.githubusercontent.com/eduardo1011/curso_08_2021/main/indizado2_python.jpg)"
   ]
  },
  {
   "cell_type": "code",
   "execution_count": null,
   "metadata": {},
   "outputs": [],
   "source": [
    "# !cuidado con los índice que maneja python! \n",
    "# en realidad está obteniendo desde la 7 a la 14\n",
    "print(mi_sec[6:14])"
   ]
  },
  {
   "cell_type": "code",
   "execution_count": null,
   "metadata": {},
   "outputs": [],
   "source": [
    "# en realidad está obteniendo desde la 25 a la 34\n",
    "print(mi_sec[24:34]) "
   ]
  },
  {
   "cell_type": "code",
   "execution_count": null,
   "metadata": {},
   "outputs": [],
   "source": [
    "# empieza de la posición 0, y muestra las bases que se encuentran cada 2 posiciones\n",
    "print(mi_sec[0::2])"
   ]
  },
  {
   "cell_type": "code",
   "execution_count": null,
   "metadata": {},
   "outputs": [],
   "source": []
  },
  {
   "cell_type": "markdown",
   "metadata": {},
   "source": [
    "#### convierte la secuencia en una cadena de caracteres"
   ]
  },
  {
   "cell_type": "code",
   "execution_count": null,
   "metadata": {},
   "outputs": [],
   "source": [
    "# la función str convierte a la secuencia en un objeto de tipo \"str\" (string)\n",
    "str(mi_sec)"
   ]
  },
  {
   "cell_type": "code",
   "execution_count": null,
   "metadata": {},
   "outputs": [],
   "source": []
  },
  {
   "cell_type": "markdown",
   "metadata": {},
   "source": [
    "#### convierte el objeto en secuencia fasta"
   ]
  },
  {
   "cell_type": "code",
   "execution_count": null,
   "metadata": {},
   "outputs": [],
   "source": [
    "# guarda la secuencia en la variable sec_fasta\n",
    "sec_fasta = '>nombre de secuencia\\n' + str(mi_sec)"
   ]
  },
  {
   "cell_type": "code",
   "execution_count": null,
   "metadata": {},
   "outputs": [],
   "source": [
    "# imprimir la secuencia\n",
    "print(sec_fasta)"
   ]
  },
  {
   "cell_type": "code",
   "execution_count": null,
   "metadata": {},
   "outputs": [],
   "source": []
  },
  {
   "cell_type": "markdown",
   "metadata": {},
   "source": [
    "#### concatena o agrega secuencias"
   ]
  },
  {
   "cell_type": "code",
   "execution_count": null,
   "metadata": {},
   "outputs": [],
   "source": [
    "# crea una lista con objetos \"Seq\" (es decir, fragmentos de secuencias)\n",
    "list_secs = [Seq(\"tttgtttttc\"), Seq(\"ttgttttattgcca\"), Seq(\"CTAGTCTCTAGTCAG\"), Seq(\"TGTGTTAAT\")]\n",
    "\n",
    "# crea una variable vacía donde se guardará cada fragmento\n",
    "concatenada = Seq(\"\")\n",
    "\n",
    "# itera la lista de secuencias para unir todos los fragmentos y generar una sola secuencia final\n",
    "for s in list_secs:\n",
    "    concatenada += s"
   ]
  },
  {
   "cell_type": "code",
   "execution_count": null,
   "metadata": {},
   "outputs": [],
   "source": [
    "print(concatenada)"
   ]
  },
  {
   "cell_type": "code",
   "execution_count": null,
   "metadata": {},
   "outputs": [],
   "source": []
  },
  {
   "cell_type": "markdown",
   "metadata": {},
   "source": [
    "####  funciones `.upper()` y `.lower()` para transformar minúsculas y mayúsculas"
   ]
  },
  {
   "cell_type": "code",
   "execution_count": null,
   "metadata": {},
   "outputs": [],
   "source": [
    "# transforma en mayúsculas\n",
    "concatenada.upper()"
   ]
  },
  {
   "cell_type": "code",
   "execution_count": null,
   "metadata": {},
   "outputs": [],
   "source": [
    "# transforma en minúsculas\n",
    "concatenada.lower()"
   ]
  },
  {
   "cell_type": "code",
   "execution_count": null,
   "metadata": {},
   "outputs": [],
   "source": []
  },
  {
   "cell_type": "markdown",
   "metadata": {},
   "source": [
    "#### las funciones `.upper()` y `.lower()` son útiles para buscar coincidencias que no distinguen entre minúsculas y mayúsculas"
   ]
  },
  {
   "cell_type": "code",
   "execution_count": null,
   "metadata": {},
   "outputs": [],
   "source": [
    "# no hay coincidencia porque tiene minúsculas y mayúsculas (ctagTCTC)\n",
    "\"TGCCACTAGTCT\" in concatenada"
   ]
  },
  {
   "cell_type": "code",
   "execution_count": null,
   "metadata": {},
   "outputs": [],
   "source": [
    "# ahora que todas son mayúsculas (CTAGTCTC) si hay coincidencia\n",
    "\"TGCCACTAGTCT\" in concatenada.upper()"
   ]
  },
  {
   "cell_type": "code",
   "execution_count": null,
   "metadata": {},
   "outputs": [],
   "source": []
  },
  {
   "cell_type": "markdown",
   "metadata": {},
   "source": [
    "#### Obtener el reverso complementario, funciones `.complement()` y `.reverse_complement()`"
   ]
  },
  {
   "cell_type": "code",
   "execution_count": null,
   "metadata": {},
   "outputs": [],
   "source": [
    "print(mi_sec)"
   ]
  },
  {
   "cell_type": "code",
   "execution_count": null,
   "metadata": {},
   "outputs": [],
   "source": []
  },
  {
   "cell_type": "code",
   "execution_count": null,
   "metadata": {},
   "outputs": [],
   "source": [
    "# imprime la cadena complementaria\n",
    "print(mi_sec.complement())"
   ]
  },
  {
   "cell_type": "code",
   "execution_count": null,
   "metadata": {},
   "outputs": [],
   "source": []
  },
  {
   "cell_type": "code",
   "execution_count": null,
   "metadata": {},
   "outputs": [],
   "source": [
    "# imprime la cadena reversa complementaria\n",
    "print(mi_sec.reverse_complement())"
   ]
  },
  {
   "cell_type": "code",
   "execution_count": null,
   "metadata": {},
   "outputs": [],
   "source": []
  },
  {
   "cell_type": "markdown",
   "metadata": {},
   "source": [
    "<hr style=\"height:5px;border-width:0;color:blue;background-color:blue\">"
   ]
  },
  {
   "cell_type": "markdown",
   "metadata": {},
   "source": [
    "<img align=\"left\" src=\"https://raw.githubusercontent.com/eduardo1011/curso_08_2021/main/exercise_blue.png\" width=\"80\" height=\"80\">\n",
    "\n",
    "<font color=#0000ff> <b>Ejercicio:</b> *determina la cadena reversa complementaria de la siguiente secuencia usando funciones de Biopython.*  </font><br>\n",
    "<font> `ACTCAATTACCCCCTGCATACACTAATTCTTTCACACGTGGTGTT` </font>\n"
   ]
  },
  {
   "cell_type": "code",
   "execution_count": null,
   "metadata": {},
   "outputs": [],
   "source": [
    "print('Respuesta:', )"
   ]
  },
  {
   "cell_type": "code",
   "execution_count": null,
   "metadata": {},
   "outputs": [],
   "source": []
  },
  {
   "cell_type": "code",
   "execution_count": null,
   "metadata": {},
   "outputs": [],
   "source": []
  },
  {
   "cell_type": "code",
   "execution_count": null,
   "metadata": {},
   "outputs": [],
   "source": []
  },
  {
   "cell_type": "markdown",
   "metadata": {},
   "source": [
    "<hr style=\"height:5px;border-width:0;color:blue;background-color:blue\">"
   ]
  },
  {
   "cell_type": "code",
   "execution_count": null,
   "metadata": {},
   "outputs": [],
   "source": []
  },
  {
   "cell_type": "code",
   "execution_count": null,
   "metadata": {},
   "outputs": [],
   "source": []
  },
  {
   "cell_type": "markdown",
   "metadata": {},
   "source": [
    "* ### Transcripción\n",
    "<img align=\"left\" src=\"https://raw.githubusercontent.com/eduardo1011/curso_08_2021/main/transcripcion2.png\" width=\"600\" height=\"600\">"
   ]
  },
  {
   "cell_type": "markdown",
   "metadata": {},
   "source": [
    " > #### funciones de biopython: `.transcribe()` y `.back_transcribe()`"
   ]
  },
  {
   "cell_type": "code",
   "execution_count": null,
   "metadata": {},
   "outputs": [],
   "source": []
  },
  {
   "cell_type": "code",
   "execution_count": null,
   "metadata": {},
   "outputs": [],
   "source": [
    "# cadena \n",
    "print(\"5'-\", mi_sec, \"-3'\")\n",
    "print('    '+'|' * len(mi_sec))\n",
    "print(\"3'-\", mi_sec.complement(), \"-5'\")"
   ]
  },
  {
   "cell_type": "code",
   "execution_count": null,
   "metadata": {},
   "outputs": [],
   "source": []
  },
  {
   "cell_type": "code",
   "execution_count": null,
   "metadata": {},
   "outputs": [],
   "source": [
    "mensajero = mi_sec.transcribe()"
   ]
  },
  {
   "cell_type": "code",
   "execution_count": null,
   "metadata": {},
   "outputs": [],
   "source": [
    "# Conversión de la cadena codificante en ARNm, cambio de T por U\n",
    "print(mensajero)"
   ]
  },
  {
   "cell_type": "code",
   "execution_count": null,
   "metadata": {},
   "outputs": [],
   "source": []
  },
  {
   "cell_type": "code",
   "execution_count": null,
   "metadata": {},
   "outputs": [],
   "source": [
    "# conversión del ARNm a cadena codificante \n",
    "print(mensajero.back_transcribe())"
   ]
  },
  {
   "cell_type": "code",
   "execution_count": null,
   "metadata": {},
   "outputs": [],
   "source": []
  },
  {
   "cell_type": "markdown",
   "metadata": {},
   "source": [
    "* ### Traducción\n",
    "<img align=\"left\" src=\"https://raw.githubusercontent.com/eduardo1011/curso_08_2021/main/traduccion.png\" width=\"600\" height=\"600\">"
   ]
  },
  {
   "cell_type": "markdown",
   "metadata": {},
   "source": [
    "> #### funciones `.translate()` (biopython usa el código genético estándar)"
   ]
  },
  {
   "cell_type": "code",
   "execution_count": null,
   "metadata": {},
   "outputs": [],
   "source": []
  },
  {
   "cell_type": "code",
   "execution_count": null,
   "metadata": {},
   "outputs": [],
   "source": [
    "print(mensajero)"
   ]
  },
  {
   "cell_type": "code",
   "execution_count": null,
   "metadata": {},
   "outputs": [],
   "source": []
  },
  {
   "cell_type": "code",
   "execution_count": null,
   "metadata": {},
   "outputs": [],
   "source": [
    "# traducción del ARNm\n",
    "proteina = mensajero.translate()"
   ]
  },
  {
   "cell_type": "code",
   "execution_count": null,
   "metadata": {},
   "outputs": [],
   "source": []
  },
  {
   "cell_type": "code",
   "execution_count": null,
   "metadata": {},
   "outputs": [],
   "source": [
    "# ahora se muestran los residuos de aminoácidos de la proteína\n",
    "print(proteina)"
   ]
  },
  {
   "cell_type": "code",
   "execution_count": null,
   "metadata": {},
   "outputs": [],
   "source": []
  },
  {
   "cell_type": "code",
   "execution_count": null,
   "metadata": {},
   "outputs": [],
   "source": [
    "# otra forma de hacer la traducción es usando cadena codificante\n",
    "print(mi_sec.translate())"
   ]
  },
  {
   "cell_type": "code",
   "execution_count": null,
   "metadata": {},
   "outputs": [],
   "source": []
  },
  {
   "cell_type": "code",
   "execution_count": null,
   "metadata": {},
   "outputs": [],
   "source": [
    "# longitud final de la secuencia traducida\n",
    "print(len(mi_sec.translate()))"
   ]
  },
  {
   "cell_type": "code",
   "execution_count": null,
   "metadata": {},
   "outputs": [],
   "source": []
  },
  {
   "cell_type": "markdown",
   "metadata": {},
   "source": [
    "**Existen varios códigos genéticos disponibles, por lo tanto, para hacer la traducción es necesario conocerlos.**  \n",
    "https://www.ncbi.nlm.nih.gov/Taxonomy/Utils/wprintgc.cgi"
   ]
  },
  {
   "cell_type": "code",
   "execution_count": null,
   "metadata": {},
   "outputs": [],
   "source": [
    "# de acuerdo al código mitocondrial de vertebrados la R (\"AGG\") del código estándar corresponde a un codón de paro (*)\n",
    "print('https://www.ncbi.nlm.nih.gov/Taxonomy/Utils/wprintgc.cgi#SG2', '\\n')\n",
    "print(mi_sec.translate(table=\"Vertebrate Mitochondrial\"))"
   ]
  },
  {
   "cell_type": "code",
   "execution_count": null,
   "metadata": {},
   "outputs": [],
   "source": []
  },
  {
   "cell_type": "code",
   "execution_count": null,
   "metadata": {},
   "outputs": [],
   "source": [
    "# ejemplo con una secuencia de bacteria\n",
    "gen_bacteria = Seq(\"GTGAAAAAGATGCAATCTATCGTACTCGCACTTTCCCTGGTTCTGGTCGCTCCCATGGCA\"\n",
    "                   \"GCACAGGCTGCGGAAATTACGTTAGTCCCGTCAGTAAAATTACAGATAGGCGATCGTGAT\"\n",
    "                   \"AATCGTGGCTATTACTGGGATGGAGGTCACTGGCGCGACCACGGCTGGTGGAAACAACAT\"\n",
    "                   \"TATGAATGGCGAGGCAATCGCTGGCACCTACACGGACCGCCGCCACCGCCGCGCCACCAT\"\n",
    "                   \"AAGAAAGCTCCTCATGATCATCACGGCGGTCATGGTCCAGGCAAACATCACCGCTAA\")"
   ]
  },
  {
   "cell_type": "code",
   "execution_count": null,
   "metadata": {},
   "outputs": [],
   "source": [
    "# se elige el código genético para bacterias\n",
    "# en bacterias GTG puede ser un codón de inicio, mientras que normalmente codifica para valina\n",
    "\n",
    "print(gen_bacteria.translate(table=\"Bacterial\"))"
   ]
  },
  {
   "cell_type": "code",
   "execution_count": null,
   "metadata": {},
   "outputs": [],
   "source": []
  },
  {
   "cell_type": "code",
   "execution_count": null,
   "metadata": {},
   "outputs": [],
   "source": [
    "# la función `to_stop` remueve el codón de paro (*)\n",
    "print(gen_bacteria.translate(table=\"Bacterial\", to_stop=True))"
   ]
  },
  {
   "cell_type": "code",
   "execution_count": null,
   "metadata": {},
   "outputs": [],
   "source": []
  },
  {
   "cell_type": "code",
   "execution_count": null,
   "metadata": {},
   "outputs": [],
   "source": [
    "# en este caso el codón de inicio (GTG = V) se traduce como metionina\n",
    "gen_bacteria.translate(table=\"Bacterial\", cds=True)"
   ]
  },
  {
   "cell_type": "code",
   "execution_count": null,
   "metadata": {},
   "outputs": [],
   "source": []
  },
  {
   "cell_type": "code",
   "execution_count": null,
   "metadata": {},
   "outputs": [],
   "source": []
  },
  {
   "cell_type": "code",
   "execution_count": null,
   "metadata": {},
   "outputs": [],
   "source": [
    "# muestra las tablas de código genético seleccionadas\n",
    "\n",
    "# from Bio.Data import CodonTable\n",
    "\n",
    "# tabla_estandar = CodonTable.unambiguous_dna_by_name[\"Standard\"] # CodonTable.unambiguous_dna_by_id[1]\n",
    "# print(tabla_estandar)\n",
    "\n",
    "# tabla_mitoc = CodonTable.unambiguous_dna_by_name[\"Vertebrate Mitochondrial\"] # CodonTable.unambiguous_dna_by_id[2]\n",
    "# print(tabla_mitoc)"
   ]
  },
  {
   "cell_type": "code",
   "execution_count": null,
   "metadata": {},
   "outputs": [],
   "source": []
  },
  {
   "cell_type": "code",
   "execution_count": null,
   "metadata": {},
   "outputs": [],
   "source": []
  },
  {
   "cell_type": "markdown",
   "metadata": {},
   "source": [
    "#### secuencias mutables"
   ]
  },
  {
   "cell_type": "code",
   "execution_count": null,
   "metadata": {},
   "outputs": [],
   "source": [
    "# la función `MutableSeq` permite hacer modificaciones puntuales en la secuencia\n",
    "from Bio.Seq import MutableSeq"
   ]
  },
  {
   "cell_type": "code",
   "execution_count": null,
   "metadata": {},
   "outputs": [],
   "source": []
  },
  {
   "cell_type": "code",
   "execution_count": null,
   "metadata": {},
   "outputs": [],
   "source": [
    "# convierte la secuencia en un objeto mutable, es decir, se pueden remplazar nucleótidos\n",
    "sec_mutable = MutableSeq('TTTGTTTTTCTTGTTTTATTGCCACTAGTCTCTAGTCAGTGTGTTAATCTTACAACCAGA')"
   ]
  },
  {
   "cell_type": "code",
   "execution_count": null,
   "metadata": {},
   "outputs": [],
   "source": [
    "print(sec_mutable)"
   ]
  },
  {
   "cell_type": "code",
   "execution_count": null,
   "metadata": {},
   "outputs": [],
   "source": []
  },
  {
   "cell_type": "code",
   "execution_count": null,
   "metadata": {},
   "outputs": [],
   "source": [
    "# sustituye cualquier nucleótido que se encuentre en la posición 5 por C\n",
    "sec_mutable[5] = \"C\"\n",
    "print(sec_mutable)"
   ]
  },
  {
   "cell_type": "code",
   "execution_count": null,
   "metadata": {},
   "outputs": [],
   "source": []
  },
  {
   "cell_type": "code",
   "execution_count": null,
   "metadata": {},
   "outputs": [],
   "source": [
    "# remueve de una en una T, empezando por la primera que encuentre en la secuencia\n",
    "sec_mutable.remove(\"T\")\n",
    "print(sec_mutable)"
   ]
  },
  {
   "cell_type": "code",
   "execution_count": null,
   "metadata": {},
   "outputs": [],
   "source": []
  },
  {
   "cell_type": "markdown",
   "metadata": {},
   "source": [
    "#### usando secuencias como cadenas de caracteres"
   ]
  },
  {
   "cell_type": "code",
   "execution_count": null,
   "metadata": {},
   "outputs": [],
   "source": [
    "# estas funciones no dependen del objeto `Seq`, por lo tanto pueden trabajar sobre cadenas de caracteres\n",
    "from Bio.Seq import reverse_complement, transcribe, back_transcribe, translate"
   ]
  },
  {
   "cell_type": "code",
   "execution_count": null,
   "metadata": {},
   "outputs": [],
   "source": []
  },
  {
   "cell_type": "code",
   "execution_count": null,
   "metadata": {},
   "outputs": [],
   "source": [
    "# trabaja como la función `.reverse_complement()`\n",
    "reverse_complement('TTTGTTTTTCTTGTTTTATTGCCACTAGTCTCTAGTCAGTGTGTTAATCTTACAACCAGA')"
   ]
  },
  {
   "cell_type": "code",
   "execution_count": null,
   "metadata": {},
   "outputs": [],
   "source": []
  },
  {
   "cell_type": "code",
   "execution_count": null,
   "metadata": {},
   "outputs": [],
   "source": [
    "# trabaja como la función `.transcribe()`\n",
    "transcribe('TTTGTTTTTCTTGTTTTATTGCCACTAGTCTCTAGTCAGTGTGTTAATCTTACAACCAGA')"
   ]
  },
  {
   "cell_type": "code",
   "execution_count": null,
   "metadata": {},
   "outputs": [],
   "source": []
  },
  {
   "cell_type": "code",
   "execution_count": null,
   "metadata": {},
   "outputs": [],
   "source": [
    "# trabaja como la función `.back_transcribe()`\n",
    "back_transcribe('TTTGTTTTTCTTGTTTTATTGCCACTAGTCTCTAGTCAGTGTGTTAATCTTACAACCAGA')"
   ]
  },
  {
   "cell_type": "code",
   "execution_count": null,
   "metadata": {},
   "outputs": [],
   "source": []
  },
  {
   "cell_type": "code",
   "execution_count": null,
   "metadata": {},
   "outputs": [],
   "source": [
    "# trabaja como la función `.translate()`\n",
    "translate('TTTGTTTTTCTTGTTTTATTGCCACTAGTCTCTAGTCAGTGTGTTAATCTTACAACCAGA')"
   ]
  },
  {
   "cell_type": "code",
   "execution_count": null,
   "metadata": {},
   "outputs": [],
   "source": []
  },
  {
   "cell_type": "code",
   "execution_count": null,
   "metadata": {},
   "outputs": [],
   "source": []
  },
  {
   "cell_type": "markdown",
   "metadata": {},
   "source": [
    "<hr style=\"height:5px;border-width:0;color:blue;background-color:blue\">"
   ]
  },
  {
   "cell_type": "markdown",
   "metadata": {},
   "source": [
    "<img align=\"left\" src=\"https://raw.githubusercontent.com/eduardo1011/curso_08_2021/main/exercise_blue.png\" width=\"80\" height=\"80\">\n",
    "\n",
    "<font color=#0000ff> <b>Ejercicio:</b> *identifica la proteína a partir de la secuencia y determina su longitud, ten en cuenta que la __A__ del __ATG__ se encuentra en la posición __136__.* </font><br> "
   ]
  },
  {
   "cell_type": "code",
   "execution_count": null,
   "metadata": {},
   "outputs": [],
   "source": [
    "secuencia = Seq('GTCTAGAGCCACCGTCCAGGGAGCAGGTAGCTGCTGGGCTCCGGGGACACTTTGCGTTCGGGCTGGGAGC'\n",
    "                           'GTGCTTTCCACGACGGTGACACGCTTCCCTGGATTGGCAGCCAGACTGCCTTCCGGGTCACTGCCATGGA'\n",
    "                           'GGAGCCGCAGTCAGATCCTAGCGTCGAGCCCCCTCTGAGTCAGGAAACATTTTCAGACCTATGGAAACTA'\n",
    "                           'CTTCCTGAAAACAACGTTCTGTCCCCCTTGCCGTCCCAAGCAATGGATGATTTGATGCTGTCCCCGGACG'\n",
    "                           'ATATTGAACAATGGTTCACTGAAGACCCAGGTCCAGATGAAGCTCCCAGAATGCCAGAGGCTGCTCCCCC'\n",
    "                           'CGTGGCCCCTGCACCAGCAGCTCCTACACCGGCGGCCCCTGCACCAGCCCCCTCCTGGCCCCTGTCATCT'\n",
    "                           'TCTGTCCCTTCCCAGAAAACCTACCAGGGCAGCTACGGTTTCCGTCTGGGCTTCTTGCATTCTGGGACAG'\n",
    "                           'CCAAGTCTGTGACTTGCACGTACTCCCCTGCCCTCAACAAGATGTTTTGCCAACTGGCCAAGACCTGCCC'\n",
    "                           'TGTGCAGCTGTGGGTTGATTCCACACCCCCGCCCGGCACCCGCGTCCGCGCCATGGCCATCTACAAGCAG'\n",
    "                           'TCACAGCACATGACGGAGGTTGTGAGGCGCTGCCCCCACCATGAGCGCTGCTCAGATAGCGATGGTCTGG'\n",
    "                           'CCCCTCCTCAGCATCTTATCCGAGTGGAAGGAAATTTGCGTGTGGAGTATTTGGATGACAGAAACACTTT'\n",
    "                           'TCGACATAGTGTGGTGGTGCCCTATGAGCCGCCTGAGGTTGGCTCTGACTGTACCACCATCCACTACAAC'\n",
    "                           'TACATGTGTAACAGTTCCTGCATGGGCGGCATGAACCGGAGGCCCATCCTCACCATCATCACACTGGAAG'\n",
    "                           'ACTCCAGTGGTAATCTACTGGGACGGAACAGCTTTGAGGTGCGTGTTTGTGCCTGTCCTGGGAGAGACCG'\n",
    "                           'GCGCACAGAGGAAGAGAATCTCCGCAAGAAAGGGGAGCCTCACCACGAGCTGCCCCCAGGGAGCACTAAG'\n",
    "                           'CGAGCACTGCCCAACAACACCAGCTCCTCTCCCCAGCCAAAGAAGAAACCACTGGATGGAGAATATTTCA'\n",
    "                           'CCCTTCAGATCCGTGGGCGTGAGCGCTTCGAGATGTTCCGAGAGCTGAATGAGGCCTTGGAACTCAAGGA'\n",
    "                           'TGCCCAGGCTGGGAAGGAGCCAGGGGGGAGCAGGGCTCACTCCAGCCACCTGAAGTCCAAAAAGGGTCAG'\n",
    "                           'TCTACCTCCCGCCATAAAAAACTCATGTTCAAGACAGAAGGGCCTGACTCAGACTGA')"
   ]
  },
  {
   "cell_type": "code",
   "execution_count": null,
   "metadata": {},
   "outputs": [],
   "source": []
  },
  {
   "cell_type": "code",
   "execution_count": null,
   "metadata": {},
   "outputs": [],
   "source": [
    "print(translate(secuencia[135:]))"
   ]
  },
  {
   "cell_type": "code",
   "execution_count": null,
   "metadata": {},
   "outputs": [],
   "source": []
  },
  {
   "cell_type": "code",
   "execution_count": null,
   "metadata": {},
   "outputs": [],
   "source": [
    "proteina_desconocida = str(translate(secuencia[135:]))"
   ]
  },
  {
   "cell_type": "markdown",
   "metadata": {},
   "source": [
    "<font color=#0000ff>*Define la proteína desconocida con la variable `proteina_desconocida` porque se usará para un alineamiento.* </font><br> "
   ]
  },
  {
   "cell_type": "code",
   "execution_count": null,
   "metadata": {},
   "outputs": [],
   "source": [
    "proteina_desconocida"
   ]
  },
  {
   "cell_type": "code",
   "execution_count": null,
   "metadata": {},
   "outputs": [],
   "source": []
  },
  {
   "cell_type": "code",
   "execution_count": null,
   "metadata": {},
   "outputs": [],
   "source": []
  },
  {
   "cell_type": "markdown",
   "metadata": {},
   "source": [
    "<hr style=\"height:5px;border-width:0;color:blue;background-color:blue\"> "
   ]
  },
  {
   "cell_type": "code",
   "execution_count": null,
   "metadata": {},
   "outputs": [],
   "source": []
  },
  {
   "cell_type": "code",
   "execution_count": null,
   "metadata": {},
   "outputs": [],
   "source": []
  },
  {
   "cell_type": "markdown",
   "metadata": {},
   "source": [
    "<b style=\"font-size:2vw\"><font color = red>Formatos y objetos de anotación de secuencias</font></b>\n",
    "\n",
    "__bi__, abi-trim, ace, cif-atom, cif-seqres, __clustal__, __embl__, __fasta__, fasta-2line, __fastq-sanger__, fastq-solexa, __fastq-illumina__, gck, __genbank/gb__, ig, imgt, __nexus__, pdb-seqres, pdb-atom, phd, __phylip__, pir, seqxml, sff, sff-trim, snapgene, __stockholm__, swiss, tab, qual, uniprot-xml, xdna"
   ]
  },
  {
   "cell_type": "code",
   "execution_count": null,
   "metadata": {},
   "outputs": [],
   "source": []
  },
  {
   "cell_type": "markdown",
   "metadata": {},
   "source": [
    "* ### Archivos en formato fasta"
   ]
  },
  {
   "cell_type": "code",
   "execution_count": null,
   "metadata": {},
   "outputs": [],
   "source": []
  },
  {
   "cell_type": "markdown",
   "metadata": {},
   "source": [
    "#### objeto SeqRecord a partir de archivos fasta"
   ]
  },
  {
   "cell_type": "code",
   "execution_count": null,
   "metadata": {},
   "outputs": [],
   "source": [
    "# la función SeqIO tiene los atributos `.read`, `.write`, `.index`, `.parse` \n",
    "from Bio import SeqIO\n",
    "\n",
    "# función para analizar atributos secuencias fasta\n",
    "from Bio.SeqRecord import SeqRecord"
   ]
  },
  {
   "cell_type": "code",
   "execution_count": null,
   "metadata": {},
   "outputs": [],
   "source": []
  },
  {
   "cell_type": "markdown",
   "metadata": {},
   "source": [
    " ###### Atributos de SeqRecord\n",
    " `.seq` : devuelve lasecuencia en objeto Seq  \n",
    "`.id` : devuelve el identificaror de la secuencia  \n",
    "`.name` : devuelve un nombre alternativo de la secuencia si lo tiene, por ejemplo el LOCUS, si no devuelve los mismo que `.id`.   \n",
    "`.description` : devuelve la descripción de la secuencia  \n",
    "`.annotations` : devuelve un diccionario con información sobre la secuencia.  \n",
    "`.features` : devuelve una lista de objetos con información estructurada sobre las características en la secuencia, por ejemplo, posiciones de genes en el genoma, dominios de proteínas."
   ]
  },
  {
   "cell_type": "code",
   "execution_count": null,
   "metadata": {},
   "outputs": [],
   "source": []
  },
  {
   "cell_type": "code",
   "execution_count": null,
   "metadata": {},
   "outputs": [],
   "source": [
    "# una forma de abrir un archivo fasta y obtener la información de cada secuencia\n",
    "# como se observa la función `SeqIO.parse` se le especifica el tipo de formato que se desea abrir \n",
    "# la función `enumerate` sirve para indizar un objeto iterado\n",
    "\n",
    "for e, registro in enumerate(SeqIO.parse(\"../DB/SARS-CoV_&_SARS-CoV-2.faa\", \"fasta\")):\n",
    "    print(e+1, registro.id, repr(registro.seq), len(registro))"
   ]
  },
  {
   "cell_type": "code",
   "execution_count": null,
   "metadata": {},
   "outputs": [],
   "source": []
  },
  {
   "cell_type": "code",
   "execution_count": null,
   "metadata": {},
   "outputs": [],
   "source": [
    "\"\"\"\n",
    "esta es una buena opcición si se quiere editar el encabezado de todas las secuencias, eliminar o adicionar información\n",
    "para crear un archivo fasta nuevo\n",
    "\n",
    "como se muestra en el siguiente ejemplo\n",
    "\"\"\"\n",
    "\n",
    "for registro in SeqIO.parse(\"../DB/SARS-CoV_&_SARS-CoV-2.faa\", \"fasta\"):\n",
    "    print(registro.id)"
   ]
  },
  {
   "cell_type": "code",
   "execution_count": null,
   "metadata": {},
   "outputs": [],
   "source": []
  },
  {
   "cell_type": "markdown",
   "metadata": {},
   "source": [
    "##### un ejemplo de edición del encabezado"
   ]
  },
  {
   "cell_type": "code",
   "execution_count": null,
   "metadata": {},
   "outputs": [],
   "source": [
    "# se importa el módulo de edición de cadenas de caracteres, atributo para sustituciones = `re.sub`\n",
    "import re"
   ]
  },
  {
   "cell_type": "code",
   "execution_count": null,
   "metadata": {},
   "outputs": [],
   "source": [
    "# opción 1\n",
    "for registro in SeqIO.parse(\"../DB/SARS-CoV_&_SARS-CoV-2.faa\", \"fasta\"):\n",
    "    modificacion1 = re.sub('^...', '', registro.id)\n",
    "    print(re.sub('[|].*', '', modificacion1))"
   ]
  },
  {
   "cell_type": "code",
   "execution_count": null,
   "metadata": {},
   "outputs": [],
   "source": [
    "# opción 2\n",
    "for registro in SeqIO.parse(\"../DB/SARS-CoV_&_SARS-CoV-2.faa\", \"fasta\"):\n",
    "    print(registro.id.split('|')[1])"
   ]
  },
  {
   "cell_type": "code",
   "execution_count": null,
   "metadata": {},
   "outputs": [],
   "source": []
  },
  {
   "cell_type": "markdown",
   "metadata": {},
   "source": [
    "#### cómo elegir las secuencias 20 y 50 a partir del archivo"
   ]
  },
  {
   "cell_type": "code",
   "execution_count": null,
   "metadata": {},
   "outputs": [],
   "source": [
    "# el objeto `SeqRecord` es iterado para localizar las secuencias deseadas\n",
    "for e, seq_record in enumerate(SeqIO.parse(\"../DB/SARS-CoV_&_SARS-CoV-2.faa\", \"fasta\")):\n",
    "    if e+1 in [20, 50]:\n",
    "        print(e+1, seq_record.id, repr(seq_record.seq), len(seq_record))"
   ]
  },
  {
   "cell_type": "code",
   "execution_count": null,
   "metadata": {},
   "outputs": [],
   "source": []
  },
  {
   "cell_type": "markdown",
   "metadata": {},
   "source": [
    "#### cómo elegir secuencias con identificadores específicos (D5HJT4, Q3ZTF3, P59594)"
   ]
  },
  {
   "cell_type": "code",
   "execution_count": null,
   "metadata": {},
   "outputs": [],
   "source": [
    "for e, seq_record in enumerate(SeqIO.parse(\"../DB/SARS-CoV_&_SARS-CoV-2.faa\", \"fasta\")):\n",
    "    for iden in ['D5HJT4', 'Q3ZTF3', 'P59594', 'A0A6G8RR89']:\n",
    "        if iden in seq_record.id:\n",
    "            print(e+1, seq_record.id, repr(seq_record.seq), len(seq_record))"
   ]
  },
  {
   "cell_type": "code",
   "execution_count": null,
   "metadata": {},
   "outputs": [],
   "source": []
  },
  {
   "cell_type": "markdown",
   "metadata": {},
   "source": [
    "#### ahora se muestra solo el encabezado de cada secuencia"
   ]
  },
  {
   "cell_type": "code",
   "execution_count": null,
   "metadata": {},
   "outputs": [],
   "source": [
    "for e, seq_record in enumerate(SeqIO.parse(\"../DB/SARS-CoV_&_SARS-CoV-2.faa\", \"fasta\")):\n",
    "    for iden in ['D5HJT4', 'Q3ZTF3', 'P59594', 'A0A6G8RR89']:\n",
    "        if iden in seq_record.id:\n",
    "            print(e+1, seq_record.description)"
   ]
  },
  {
   "cell_type": "code",
   "execution_count": null,
   "metadata": {},
   "outputs": [],
   "source": []
  },
  {
   "cell_type": "markdown",
   "metadata": {},
   "source": [
    "* ### Archivos en formato Genbank"
   ]
  },
  {
   "cell_type": "code",
   "execution_count": null,
   "metadata": {},
   "outputs": [],
   "source": []
  },
  {
   "cell_type": "markdown",
   "metadata": {},
   "source": [
    "#### objeto SeqRecord a partir de archivos genbank"
   ]
  },
  {
   "cell_type": "code",
   "execution_count": null,
   "metadata": {},
   "outputs": [],
   "source": [
    "# se abre el archivo p53_humano.gb localizado en el folder DB y se guarda como objeto `SeqRecord`\n",
    "sec_genbank = SeqIO.read(\"../DB/p53_humano.gb\", \"genbank\")"
   ]
  },
  {
   "cell_type": "code",
   "execution_count": null,
   "metadata": {},
   "outputs": [],
   "source": []
  },
  {
   "cell_type": "code",
   "execution_count": null,
   "metadata": {},
   "outputs": [],
   "source": [
    "# visualización del objeto `SeqRecord`\n",
    "sec_genbank"
   ]
  },
  {
   "cell_type": "code",
   "execution_count": null,
   "metadata": {},
   "outputs": [],
   "source": []
  },
  {
   "cell_type": "code",
   "execution_count": null,
   "metadata": {},
   "outputs": [],
   "source": [
    "# muestra el resultado del atributo `seq`\n",
    "sec_genbank.seq"
   ]
  },
  {
   "cell_type": "code",
   "execution_count": null,
   "metadata": {},
   "outputs": [],
   "source": [
    "print(sec_genbank.seq)"
   ]
  },
  {
   "cell_type": "code",
   "execution_count": null,
   "metadata": {},
   "outputs": [],
   "source": []
  },
  {
   "cell_type": "code",
   "execution_count": null,
   "metadata": {},
   "outputs": [],
   "source": [
    "# muestra el resultado del atributo `id`\n",
    "sec_genbank.id"
   ]
  },
  {
   "cell_type": "code",
   "execution_count": null,
   "metadata": {},
   "outputs": [],
   "source": [
    "# muestra el resultado del atributo `name`\n",
    "sec_genbank.name"
   ]
  },
  {
   "cell_type": "code",
   "execution_count": null,
   "metadata": {},
   "outputs": [],
   "source": []
  },
  {
   "cell_type": "code",
   "execution_count": null,
   "metadata": {},
   "outputs": [],
   "source": [
    "# el atributo `annotations` devuelve un diccionario con información relevante de la secuenica\n",
    "sec_genbank.annotations"
   ]
  },
  {
   "cell_type": "code",
   "execution_count": null,
   "metadata": {},
   "outputs": [],
   "source": []
  },
  {
   "cell_type": "code",
   "execution_count": null,
   "metadata": {},
   "outputs": [],
   "source": [
    "# explorando la clave ['taxonomy'] del diccionario\n",
    "print(sec_genbank.annotations['taxonomy'])"
   ]
  },
  {
   "cell_type": "code",
   "execution_count": null,
   "metadata": {},
   "outputs": [],
   "source": [
    "# explora la clave ['taxonomy'] del diccionario\n",
    "print(sec_genbank.annotations['source'])"
   ]
  },
  {
   "cell_type": "code",
   "execution_count": null,
   "metadata": {},
   "outputs": [],
   "source": [
    "print(sec_genbank.annotations['references'])"
   ]
  },
  {
   "cell_type": "code",
   "execution_count": null,
   "metadata": {},
   "outputs": [],
   "source": [
    "# la clave 'references' tiene otros atributos que explorar\n",
    "print(sec_genbank.annotations['references'][0])"
   ]
  },
  {
   "cell_type": "code",
   "execution_count": null,
   "metadata": {},
   "outputs": [],
   "source": [
    "# la clave 'references' tiene otros atributos que explorar\n",
    "print(sec_genbank.annotations['references'][0].authors)"
   ]
  },
  {
   "cell_type": "code",
   "execution_count": null,
   "metadata": {},
   "outputs": [],
   "source": []
  },
  {
   "cell_type": "code",
   "execution_count": null,
   "metadata": {},
   "outputs": [],
   "source": [
    "# lista de elementos del atributo `features`\n",
    "sec_genbank.features"
   ]
  },
  {
   "cell_type": "code",
   "execution_count": null,
   "metadata": {},
   "outputs": [],
   "source": []
  },
  {
   "cell_type": "markdown",
   "metadata": {},
   "source": [
    "###### Otros atributos de SeqRecord para explorar\n",
    " `.type` : devuelve el tipo de característica dentro de la lista  \n",
    "`.location` : devuelve la ubicación del tipo de característica dentro de la secuencia, por ejemplo la ubicación del CDS.  \n",
    "`.qualifiers` : devuelve un diccionario con información sobre el atributo `features`.  "
   ]
  },
  {
   "cell_type": "code",
   "execution_count": null,
   "metadata": {},
   "outputs": [],
   "source": []
  },
  {
   "cell_type": "code",
   "execution_count": null,
   "metadata": {},
   "outputs": [],
   "source": [
    "# se elige el elemento 1 de la lista para revisar el tipo de característica\n",
    "sec_genbank.features[1].type"
   ]
  },
  {
   "cell_type": "code",
   "execution_count": null,
   "metadata": {},
   "outputs": [],
   "source": []
  },
  {
   "cell_type": "code",
   "execution_count": null,
   "metadata": {},
   "outputs": [],
   "source": [
    "# del mismo elemento se revisa la localización de la característica\n",
    "sec_genbank.features[1].location"
   ]
  },
  {
   "cell_type": "code",
   "execution_count": null,
   "metadata": {},
   "outputs": [],
   "source": []
  },
  {
   "cell_type": "code",
   "execution_count": null,
   "metadata": {},
   "outputs": [],
   "source": [
    "# claves del diccionario generado por el atributo `qualifiers` \n",
    "sec_genbank.features[1].qualifiers.keys()"
   ]
  },
  {
   "cell_type": "code",
   "execution_count": null,
   "metadata": {},
   "outputs": [],
   "source": []
  },
  {
   "cell_type": "code",
   "execution_count": null,
   "metadata": {},
   "outputs": [],
   "source": [
    "# con la clave ['translation'] se extrae la secuencia de la proteína, la proteína está dentro de una lista\n",
    "sec_prot = sec_genbank.features[1].qualifiers['translation']"
   ]
  },
  {
   "cell_type": "code",
   "execution_count": null,
   "metadata": {},
   "outputs": [],
   "source": [
    "sec_prot"
   ]
  },
  {
   "cell_type": "code",
   "execution_count": null,
   "metadata": {},
   "outputs": [],
   "source": []
  },
  {
   "cell_type": "code",
   "execution_count": null,
   "metadata": {},
   "outputs": [],
   "source": [
    "# conversión de una lista en una cadena de caracteres\n",
    "\"\"\"\n",
    "las comillas simples expresan que durante la transformación de la lista\n",
    "entre cada letra no se agregue ningún caracter\n",
    "\"\"\"\n",
    "\n",
    "print(sec_prot)\n",
    "\n",
    "print('\\nPrimera forma obtener los caracteres')\n",
    "print(''.join(sec_prot))\n",
    "\n",
    "print('\\nSegunda forma obtener los caracteres')\n",
    "print(sec_prot[0])"
   ]
  },
  {
   "cell_type": "code",
   "execution_count": null,
   "metadata": {},
   "outputs": [],
   "source": []
  },
  {
   "cell_type": "code",
   "execution_count": null,
   "metadata": {},
   "outputs": [],
   "source": [
    "# longitud de la proteína\n",
    "len(''.join(sec_prot))"
   ]
  },
  {
   "cell_type": "code",
   "execution_count": null,
   "metadata": {},
   "outputs": [],
   "source": []
  },
  {
   "cell_type": "markdown",
   "metadata": {},
   "source": [
    "### Creación de un archivos fasta"
   ]
  },
  {
   "cell_type": "code",
   "execution_count": null,
   "metadata": {},
   "outputs": [],
   "source": []
  },
  {
   "cell_type": "code",
   "execution_count": null,
   "metadata": {},
   "outputs": [],
   "source": [
    "sec01 = SeqRecord(Seq(\n",
    "        \"MMYQQGCFAGGTVLRLAKDLAENNRGARVLVVCSEITAVTFRGPSETHLDSMVGQALFGD\"\n",
    "        \"GAGAVIVGSDPDLSVERPLYELVWTGATLLPDSEGAIDGHLREVGLTFHLLKDVPGLISK\"\n",
    "        \"NIEKSLKEAFTPLGISDWNSTFWIAHPGGPAILDQVEAKLGLKEEKMRATREVLSEYGNM\"\n",
    "        \"SSAC\"),\n",
    "                  id=\"gi|14150838|gb|AAK54648.1|AF376133_1\",\n",
    "                  description=\"chalcone synthase [Cucumis sativus]\")\n",
    "\n",
    "sec02 = SeqRecord(Seq(\n",
    "        \"MVTVEEFRRAQCAEGPATVMAIGTATPSNCVDQSTYPDYYFRITNSEHKVELKEKFKRMC\"\n",
    "        \"EKSMIKKRYMHLTEEILKENPNICAYMAPSLDARQDIVVVEVPKLGKEAAQKAIKEWGQP\"\n",
    "        \"KSKITHLVFCTTSGVDMPGCDYQLTKLLGLRPSVKRFMMYQQGCFAGGTVLRMAKDLAEN\"\n",
    "        \"NKGARVLVVCSEITAVTFRGPNDTHLDSLVGQALFGDGAAAVIIGSDPIPEVERPLFELV\"\n",
    "        \"SAAQTLLPDSEGAIDGHLREVGLTFHLLKDVPGLISKNIEKSLVEAFQPLGISDWNSLFW\"\n",
    "        \"IAHPGGPAILDQVELKLGLKQEKLKATRKVLSNYGNMSSACVLFILDEMRKASAKEGLGT\"\n",
    "        \"TGEGLEWGVLFGFGPGLTVETVVLHSVAT\"),\n",
    "                  id=\"gi|13925890|gb|AAK49457.1|\",\n",
    "                  description=\"chalcone synthase [Nicotiana tabacum]\")"
   ]
  },
  {
   "cell_type": "code",
   "execution_count": null,
   "metadata": {},
   "outputs": [],
   "source": [
    "registros = [sec01, sec02]"
   ]
  },
  {
   "cell_type": "code",
   "execution_count": null,
   "metadata": {},
   "outputs": [],
   "source": [
    "SeqIO.write(registros, \"../salidas/ejemplo1.faa\", \"fasta\")"
   ]
  },
  {
   "cell_type": "code",
   "execution_count": null,
   "metadata": {},
   "outputs": [],
   "source": []
  },
  {
   "cell_type": "code",
   "execution_count": null,
   "metadata": {},
   "outputs": [],
   "source": []
  },
  {
   "cell_type": "markdown",
   "metadata": {},
   "source": [
    "### Creación de un archivos fasta con encabezados editados (para un análisis filogenético):\n",
    "> #### mantener el identificador principal.\n",
    "> #### mantener el nomnre del organismo.\n",
    "> #### concatenar ambos elementos (esto evita redundancias)."
   ]
  },
  {
   "cell_type": "code",
   "execution_count": null,
   "metadata": {},
   "outputs": [],
   "source": []
  },
  {
   "cell_type": "code",
   "execution_count": null,
   "metadata": {
    "scrolled": true
   },
   "outputs": [],
   "source": [
    "registros2 = []\n",
    "\n",
    "for registro in SeqIO.parse(\"../DB/ls_orchid.fasta\", \"fasta\"):\n",
    "    header = registro.id.split('|')[1]+'_'+registro.description.split(' ')[1]\n",
    "    \n",
    "    objeto = SeqRecord(registro.seq, id = header, description = '')\n",
    "    registros2.append(objeto)\n",
    "    \n",
    "    print(header)"
   ]
  },
  {
   "cell_type": "code",
   "execution_count": null,
   "metadata": {},
   "outputs": [],
   "source": [
    "registros2"
   ]
  },
  {
   "cell_type": "code",
   "execution_count": null,
   "metadata": {},
   "outputs": [],
   "source": [
    "SeqIO.write(registros2, \"../DB/ls_orchid_editado.fasta\", \"fasta\")"
   ]
  },
  {
   "cell_type": "code",
   "execution_count": null,
   "metadata": {},
   "outputs": [],
   "source": []
  },
  {
   "cell_type": "markdown",
   "metadata": {},
   "source": [
    "#### así quedó la secuencia después de la edición"
   ]
  },
  {
   "cell_type": "code",
   "execution_count": null,
   "metadata": {},
   "outputs": [],
   "source": [
    "# abrimos el archivo fasta y lo vemos en esta celda\n",
    "for registro in SeqIO.parse(\"../DB/ls_orchid_editado.fasta\", \"fasta\"):\n",
    "    print('>'+registro.id+'\\n'+registro.seq)"
   ]
  },
  {
   "cell_type": "code",
   "execution_count": null,
   "metadata": {},
   "outputs": [],
   "source": []
  },
  {
   "cell_type": "code",
   "execution_count": null,
   "metadata": {},
   "outputs": [],
   "source": []
  },
  {
   "cell_type": "code",
   "execution_count": null,
   "metadata": {},
   "outputs": [],
   "source": []
  },
  {
   "cell_type": "markdown",
   "metadata": {},
   "source": [
    "<b style=\"font-size:2vw\"><font color = red>Alineamiento múltiple de secuencias (Multiple Sequence Alignment: MSA)</font></b>\n",
    "\n",
    "<hr style=\"height:2px;border-width:0;color:blue;background-color:limegreen\">\n",
    "\n",
    "### <font color = black>En bioinformática, un alineamiento de secuencias es una forma de ordenar las secuencias de ADN, ARN o proteínas para identificar regiones similares que pueden ser consecuencia de relaciones funcionales, estructurales o evolutivas.</font> \n",
    "<hr style=\"height:2px;border-width:0;color:blue;background-color:limegreen\"> \n",
    "\n",
    "#### Generalmente se representan en formato gráfico y de texto.\n",
    "#### Es un paso inicial para la construcción de perfiles, regiones conservadas, búsqueda de unidades funcionales dentro de proteínas."
   ]
  },
  {
   "cell_type": "code",
   "execution_count": null,
   "metadata": {},
   "outputs": [],
   "source": []
  },
  {
   "cell_type": "code",
   "execution_count": null,
   "metadata": {},
   "outputs": [],
   "source": [
    "# carga de módulos\n",
    "import sys, os\n",
    "sys.path.append(\"../binarios/\")\n",
    "import edu\n",
    "from Bio import AlignIO\n",
    "from Bio import Phylo\n",
    "import matplotlib.pyplot as plt"
   ]
  },
  {
   "cell_type": "code",
   "execution_count": null,
   "metadata": {},
   "outputs": [],
   "source": []
  },
  {
   "cell_type": "markdown",
   "metadata": {},
   "source": [
    "### [Herramientas para alineamiento de secuencias](https://en.wikipedia.org/wiki/List_of_sequence_alignment_software)"
   ]
  },
  {
   "cell_type": "code",
   "execution_count": null,
   "metadata": {},
   "outputs": [],
   "source": []
  },
  {
   "cell_type": "markdown",
   "metadata": {},
   "source": [
    "#### Cada algoritmo tiene restricciones, una de ellas es el número de secuencias aceptadas, entonces la instalación local puede ser la mejor opción.\n",
    "#### <font color = green>Para hacer uso de estos recursos es necesario proporcionar un correo electrónico.</font>"
   ]
  },
  {
   "cell_type": "code",
   "execution_count": null,
   "metadata": {},
   "outputs": [],
   "source": [
    "# guarda tu email en una variable para usarla en análisis posteriores\n",
    "email = 'ejemplo@hotmail.com'"
   ]
  },
  {
   "cell_type": "code",
   "execution_count": null,
   "metadata": {},
   "outputs": [],
   "source": []
  },
  {
   "cell_type": "markdown",
   "metadata": {},
   "source": [
    "#### [Clustal Omega](https://www.ncbi.nlm.nih.gov/pmc/articles/PMC3261699/)\n",
    "[Documentation](https://www.ebi.ac.uk/seqdb/confluence/display/JDSAT/Clustal+Omega+Help+and+Documentation)"
   ]
  },
  {
   "cell_type": "markdown",
   "metadata": {},
   "source": [
    "##### opción 1\n",
    "<img align=\"left\" src=\"https://creazilla-store.fra1.digitaloceanspaces.com/emojis/47510/warning-emoji-clipart-md.png\" width=\"25\" height=\"25\">\n",
    "\n",
    "<font color=red> !!!!!! esta opción solo es compatible con Windows !!!!!!</font><br> "
   ]
  },
  {
   "cell_type": "code",
   "execution_count": null,
   "metadata": {},
   "outputs": [],
   "source": [
    "# clustalo acepta secuencias fasta\n",
    "comando1 = 'start cmd /k cd ../salidas/ ^&^& python ../binarios/clustalo.py --email '+email+' --stype dna --sequence ../DB/ls_orchid_editado.fasta'\n",
    "cl = os.system(comando1)"
   ]
  },
  {
   "cell_type": "code",
   "execution_count": null,
   "metadata": {},
   "outputs": [],
   "source": [
    "edu.Help_clustalo"
   ]
  },
  {
   "cell_type": "code",
   "execution_count": null,
   "metadata": {},
   "outputs": [],
   "source": []
  },
  {
   "cell_type": "markdown",
   "metadata": {},
   "source": [
    "##### opción 2\n",
    "<img align=\"left\" src=\"https://creazilla-store.fra1.digitaloceanspaces.com/emojis/47510/warning-emoji-clipart-md.png\" width=\"25\" height=\"25\">\n",
    "\n",
    "<font color=red> !!!!!! esta opción solo es compatible con Windows!!!!!!</font><br> "
   ]
  },
  {
   "cell_type": "code",
   "execution_count": null,
   "metadata": {},
   "outputs": [],
   "source": [
    "# para esta opción se necesita el módulo subprocess\n",
    "import subprocess"
   ]
  },
  {
   "cell_type": "code",
   "execution_count": null,
   "metadata": {},
   "outputs": [],
   "source": [
    "# clustalo acepta secuencias fasta\n",
    "\n",
    "os.chdir('../salidas/') # nos movemos al directorio salidas para guardar los resultados\n",
    "init = edu.time_ini()\n",
    "\"\"\"\n",
    "Formatos de alineamientos generados por Clustalo\n",
    "--outfmt={a2m=fa[sta],clu[stal],msf,phy[lip],selex,st[ockholm],vie[nna]} MSA output file format (default: fasta)\n",
    "\"\"\"\n",
    "subprocess.call(['python',\n",
    "                 '../binarios/clustalo.py',                       # archivo de entrada en formato fasta\n",
    "                 '--email', email,                                # seleción del tipo de secuencia (dna o prot)\n",
    "                 '--stype',  'dna',                               # imprime el proceso\n",
    "                 '--sequence', '../DB/ls_orchid_editado.fasta',   # construye un árbol filogenético en formato Newick \n",
    "                 '--outfmt', 'stockholm'])\n",
    "edu.time_fin(i = init)\n",
    "os.chdir('../jupyter/') # nos regresamos al directorio jupyter"
   ]
  },
  {
   "cell_type": "code",
   "execution_count": null,
   "metadata": {},
   "outputs": [],
   "source": []
  },
  {
   "cell_type": "code",
   "execution_count": null,
   "metadata": {},
   "outputs": [],
   "source": []
  },
  {
   "cell_type": "markdown",
   "metadata": {},
   "source": [
    "##### opción 2.1\n",
    "<img align=\"left\" src=\"https://creazilla-store.fra1.digitaloceanspaces.com/emojis/47510/warning-emoji-clipart-md.png\" width=\"25\" height=\"25\">\n",
    "\n",
    "<font color=red> !!!!!! esta opción solo es compatible con Mac y Linux con python v3 !!!!!!</font><br> "
   ]
  },
  {
   "cell_type": "raw",
   "metadata": {},
   "source": [
    "# clustalo acepta secuencias fasta\n",
    "\n",
    "os.chdir('../salidas/') # nos movemos al directorio salidas para guardar los resultados\n",
    "init = edu.time_ini()\n",
    "\n",
    "subprocess.call(['python3',\n",
    "                 '../binarios/clustalo.py',         # archivo de entrada en formato fasta\n",
    "                 '--email', email,                  # seleción del tipo de secuencia (dna o prot)\n",
    "                 '--stype',  'dna',                 # imprime el proceso\n",
    "                 '--sequence',                      # construye un árbol filogenético en formato Newick \n",
    "                 '../DB/ls_orchid_editado.fasta'])  # ordenar el alineamiento múltiple de secuencia (MSA)\n",
    "edu.time_fin(i = init)\n",
    "os.chdir('../jupyter/') # nos regresamos al directorio jupyter"
   ]
  },
  {
   "cell_type": "code",
   "execution_count": null,
   "metadata": {},
   "outputs": [],
   "source": []
  },
  {
   "cell_type": "code",
   "execution_count": null,
   "metadata": {},
   "outputs": [],
   "source": []
  },
  {
   "cell_type": "code",
   "execution_count": null,
   "metadata": {},
   "outputs": [],
   "source": []
  },
  {
   "cell_type": "markdown",
   "metadata": {},
   "source": [
    "#### [Kalign](https://bmcbioinformatics.biomedcentral.com/articles/10.1186/1471-2105-6-298)\n",
    "[Documentation](https://www.ebi.ac.uk/seqdb/confluence/display/JDSAT/Kalign+Help+and+Documentation)"
   ]
  },
  {
   "cell_type": "markdown",
   "metadata": {},
   "source": [
    "##### opción 1"
   ]
  },
  {
   "cell_type": "code",
   "execution_count": null,
   "metadata": {},
   "outputs": [],
   "source": [
    "# kalign acepta secuencias fasta\n",
    "comando2 = 'start cmd /k cd ../salidas/ ^&^& python ../binarios/kalign.py --email '+email+' --stype dna --sequence ../DB/ls_orchid_editado.fasta'\n",
    "cl = os.system(comando2)"
   ]
  },
  {
   "cell_type": "code",
   "execution_count": null,
   "metadata": {},
   "outputs": [],
   "source": [
    "edu.Help_kalign"
   ]
  },
  {
   "cell_type": "code",
   "execution_count": null,
   "metadata": {},
   "outputs": [],
   "source": []
  },
  {
   "cell_type": "markdown",
   "metadata": {},
   "source": [
    "##### opción 2"
   ]
  },
  {
   "cell_type": "code",
   "execution_count": null,
   "metadata": {},
   "outputs": [],
   "source": []
  },
  {
   "cell_type": "markdown",
   "metadata": {},
   "source": [
    "#### [MAFFT](https://pubmed.ncbi.nlm.nih.gov/12136088/)\n",
    "[Documentation](https://www.ebi.ac.uk/seqdb/confluence/display/JDSAT/MAFFT+Help+and+Documentation)"
   ]
  },
  {
   "cell_type": "code",
   "execution_count": null,
   "metadata": {},
   "outputs": [],
   "source": [
    "# mafft acepta secuencias fasta\n",
    "comando3 = 'start cmd /k cd ../salidas/ ^&^& python ../binarios/mafft.py --email '+email+' --stype dna --sequence ../DB/ls_orchid_editado.fasta'\n",
    "cl = os.system(comando3)"
   ]
  },
  {
   "cell_type": "code",
   "execution_count": null,
   "metadata": {},
   "outputs": [],
   "source": [
    "edu.Help_mafft"
   ]
  },
  {
   "cell_type": "markdown",
   "metadata": {},
   "source": [
    "#### [MUSCLE](https://www.ncbi.nlm.nih.gov/pmc/articles/PMC390337/)\n",
    "[Documentation](https://www.ebi.ac.uk/seqdb/confluence/display/JDSAT/MUSCLE+Help+and+Documentation)"
   ]
  },
  {
   "cell_type": "code",
   "execution_count": null,
   "metadata": {},
   "outputs": [],
   "source": [
    "# muscle acepta secuencias fasta\n",
    "comando4 = 'start cmd /k cd ../salidas/ ^&^& python ../binarios/muscle.py --email '+email+' --sequence ../DB/ls_orchid.fasta'\n",
    "cl = os.system(comando4)"
   ]
  },
  {
   "cell_type": "code",
   "execution_count": null,
   "metadata": {},
   "outputs": [],
   "source": [
    "edu.Help_muscle"
   ]
  },
  {
   "cell_type": "markdown",
   "metadata": {},
   "source": [
    "#### [MView](https://academic.oup.com/bioinformatics/article/14/4/380/190019)\n",
    "[Documentation](https://www.ebi.ac.uk/seqdb/confluence/display/JDSAT/MView+Help+and+Documentation)"
   ]
  },
  {
   "cell_type": "code",
   "execution_count": null,
   "metadata": {},
   "outputs": [],
   "source": [
    "# mview acepta alineamientos\n",
    "comando5 = 'start cmd /k cd ../salidas/ ^&^& python ../binarios/mview.py --email '+email+' --stype dna --sequence ../salidas/clustalo-R20210802-025311-0860-83289883-p2m.aln-clustal_num.clustal_num'\n",
    "cl = os.system(comando5)"
   ]
  },
  {
   "cell_type": "code",
   "execution_count": null,
   "metadata": {},
   "outputs": [],
   "source": [
    "edu.Help_mview"
   ]
  },
  {
   "cell_type": "markdown",
   "metadata": {},
   "source": [
    "#### [T-Coffee](https://pubmed.ncbi.nlm.nih.gov/10964570/)\n",
    "[Documentation](https://www.ebi.ac.uk/seqdb/confluence/display/JDSAT/T-coffee+Help+and+Documentation)"
   ]
  },
  {
   "cell_type": "code",
   "execution_count": null,
   "metadata": {},
   "outputs": [],
   "source": [
    "# tcoffee acepta secuencias fasta\n",
    "comando6 = 'start cmd /k cd ../salidas/ ^&^& python ../binarios/tcoffee.py --email '+email+' --stype dna --sequence ../DB/ls_orchid_editado.fasta'\n",
    "cl = os.system(comando6)"
   ]
  },
  {
   "cell_type": "code",
   "execution_count": null,
   "metadata": {},
   "outputs": [],
   "source": [
    "edu.Help_tcoffee"
   ]
  },
  {
   "cell_type": "markdown",
   "metadata": {},
   "source": [
    "#### [PRANK](https://bmcbioinformatics.biomedcentral.com/articles/10.1186/1471-2105-11-579)\n",
    "[Documentation](https://www.ebi.ac.uk/seqdb/confluence/display/JDSAT/PRANK+Help+and+Documentation)"
   ]
  },
  {
   "cell_type": "code",
   "execution_count": null,
   "metadata": {},
   "outputs": [],
   "source": [
    "# prank acepta secuencias fasta\n",
    "comando7 = 'start cmd /k cd ../salidas/ ^&^& python ../binarios/prank.py --email '+email+' --sequence ../DB/ls_orchid_editado.fasta'\n",
    "cl = os.system(comando7)"
   ]
  },
  {
   "cell_type": "code",
   "execution_count": null,
   "metadata": {},
   "outputs": [],
   "source": [
    "edu.Help_prank"
   ]
  },
  {
   "cell_type": "code",
   "execution_count": null,
   "metadata": {},
   "outputs": [],
   "source": []
  },
  {
   "cell_type": "markdown",
   "metadata": {},
   "source": [
    "### revisar un alineamiento"
   ]
  },
  {
   "cell_type": "code",
   "execution_count": null,
   "metadata": {},
   "outputs": [],
   "source": [
    "# selección de un alineamiento\n",
    "alin = \"../salidas/clustalo-R20210805-212700-0790-49943213-p1m.aln-clustal_num.clustal_num\""
   ]
  },
  {
   "cell_type": "code",
   "execution_count": null,
   "metadata": {},
   "outputs": [],
   "source": []
  },
  {
   "cell_type": "code",
   "execution_count": null,
   "metadata": {
    "scrolled": true
   },
   "outputs": [],
   "source": [
    "# se abre el alineamiento creado y ubicado en el folder DB\n",
    "alin_clustalw = AlignIO.read(alin, \"clustal\")"
   ]
  },
  {
   "cell_type": "code",
   "execution_count": null,
   "metadata": {},
   "outputs": [],
   "source": [
    "print(alin_clustalw)"
   ]
  },
  {
   "cell_type": "code",
   "execution_count": null,
   "metadata": {},
   "outputs": [],
   "source": []
  },
  {
   "cell_type": "code",
   "execution_count": null,
   "metadata": {},
   "outputs": [],
   "source": [
    "# visualización del parbol filogenético en texto plano\n",
    "arbol_clustal = Phylo.read(\"../salidas/clustalo-R20210805-212700-0790-49943213-p1m.phylotree.ph\", \"newick\")\n",
    "Phylo.draw_ascii(arbol_clustal)"
   ]
  },
  {
   "cell_type": "code",
   "execution_count": null,
   "metadata": {},
   "outputs": [],
   "source": []
  },
  {
   "cell_type": "code",
   "execution_count": null,
   "metadata": {
    "scrolled": false
   },
   "outputs": [],
   "source": [
    "fig = plt.figure(figsize=(7, 7))\n",
    "ax = fig.add_axes([0, 0, 1, 1])\n",
    "ax.axis('off')\n",
    "\n",
    "Phylo.draw(arbol_clustal, axes = ax)\n",
    "\n",
    "\n",
    "# si quiere guardar el cárbol tiene  que habilitar el siguiente comando\n",
    "# fig.savefig('../salidas/arbol_ls_orchid_editado.png', dpi = 900, bbox_inches= 'tight')"
   ]
  },
  {
   "cell_type": "code",
   "execution_count": null,
   "metadata": {},
   "outputs": [],
   "source": []
  },
  {
   "cell_type": "code",
   "execution_count": null,
   "metadata": {},
   "outputs": [],
   "source": []
  },
  {
   "cell_type": "markdown",
   "metadata": {},
   "source": [
    "### Los árboles filogenéticos pueden ser editados y visualizardos con la siguiente herramienta"
   ]
  },
  {
   "cell_type": "markdown",
   "metadata": {},
   "source": [
    "### __iTol__\n",
    "\n",
    "[<img align=\"left\" src=\"https://raw.githubusercontent.com/eduardo1011/curso_08_2021/main/iTol.png\" width=\"500\" height=\"500\">](https://itol.embl.de/)"
   ]
  },
  {
   "cell_type": "code",
   "execution_count": null,
   "metadata": {},
   "outputs": [],
   "source": []
  },
  {
   "cell_type": "markdown",
   "metadata": {},
   "source": [
    "### La siguiente herramienta realiza alineamientos MATFF y creoa árboles filogenéticos "
   ]
  },
  {
   "cell_type": "markdown",
   "metadata": {},
   "source": [
    "### NGPhylogeny.fr\n",
    "\n",
    "[<img align=\"left\" src=\"https://raw.githubusercontent.com/eduardo1011/curso_08_2021/main/NGPhylogeny.fr_web.png\" width=\"500\" height=\"500\">](https://ngphylogeny.fr/workflows/oneclick/)\n",
    "\n"
   ]
  },
  {
   "cell_type": "code",
   "execution_count": null,
   "metadata": {},
   "outputs": [],
   "source": []
  },
  {
   "cell_type": "code",
   "execution_count": null,
   "metadata": {},
   "outputs": [],
   "source": []
  },
  {
   "cell_type": "markdown",
   "metadata": {},
   "source": [
    "<hr style=\"height:5px;border-width:0;color:blue;background-color:blue\">"
   ]
  },
  {
   "cell_type": "markdown",
   "metadata": {},
   "source": [
    "<img align=\"left\" src=\"https://raw.githubusercontent.com/eduardo1011/curso_08_2021/main/exercise_blue.png\" width=\"90\" height=\"80\">\n",
    "\n",
    "<font color=#0000ff> <b>Ejercicio:</b> *realiza un MSA usando el archivo __SARS-CoV_&_SARS-CoV-2.faa__ el cual contiene secuencias de la proteína Spike (una glucoproteína transmembranal), de preferencia usa el programa __Clustal Omega__.* </font><br>\n"
   ]
  },
  {
   "cell_type": "code",
   "execution_count": null,
   "metadata": {},
   "outputs": [],
   "source": []
  },
  {
   "cell_type": "code",
   "execution_count": null,
   "metadata": {},
   "outputs": [],
   "source": []
  },
  {
   "cell_type": "markdown",
   "metadata": {},
   "source": [
    "<hr style=\"height:5px;border-width:0;color:blue;background-color:blue\"> "
   ]
  },
  {
   "cell_type": "code",
   "execution_count": null,
   "metadata": {},
   "outputs": [],
   "source": []
  },
  {
   "cell_type": "code",
   "execution_count": null,
   "metadata": {},
   "outputs": [],
   "source": []
  },
  {
   "cell_type": "markdown",
   "metadata": {},
   "source": [
    "<img align=\"left\" src=\"https://raw.githubusercontent.com/eduardo1011/curso_08_2021/main/exercise_blue.png\" width=\"90\" height=\"80\">\n",
    "\n",
    "\n",
    "### <font color = blue>Opcional</font></br>\n",
    "#### <font color = blue>Alineamiento de 40 genomas completos de SARS CoV y SARS CoV-2 de humano, y SARS CoV de murciélago y civeta.</font>\n",
    "####  <font color = blue>Comparar el resultado con el de la siguiente publicación.</font>\n",
    "\n",
    "[<img align=\"left\" src=\"https://raw.githubusercontent.com/eduardo1011/curso_08_2021/main/paper_covid19.png\" width=\"700\" height=\"700\">](https://onlinelibrary.wiley.com/doi/full/10.1002/prot.25967)\n",
    "\n",
    "<img align=\"left\" src=\"https://onlinelibrary.wiley.com/cms/asset/7ccdfbd5-9fa8-4089-9484-a9e0726ad51f/prot25967-fig-0003-m.jpg\" width=\"400\" height=\"400\">\n"
   ]
  },
  {
   "cell_type": "code",
   "execution_count": null,
   "metadata": {},
   "outputs": [],
   "source": []
  },
  {
   "cell_type": "code",
   "execution_count": null,
   "metadata": {},
   "outputs": [],
   "source": []
  },
  {
   "cell_type": "code",
   "execution_count": null,
   "metadata": {},
   "outputs": [],
   "source": []
  },
  {
   "cell_type": "markdown",
   "metadata": {},
   "source": [
    "### Manipulando alineamientos"
   ]
  },
  {
   "cell_type": "code",
   "execution_count": null,
   "metadata": {},
   "outputs": [],
   "source": []
  },
  {
   "cell_type": "code",
   "execution_count": null,
   "metadata": {},
   "outputs": [],
   "source": [
    "# se abre un archivo de alineamiento múltiple de secuencias\n",
    "alineamiento = AlignIO.read(alin, \"clustal\")"
   ]
  },
  {
   "cell_type": "code",
   "execution_count": null,
   "metadata": {},
   "outputs": [],
   "source": [
    "print(alineamiento)"
   ]
  },
  {
   "cell_type": "code",
   "execution_count": null,
   "metadata": {},
   "outputs": [],
   "source": []
  },
  {
   "cell_type": "code",
   "execution_count": null,
   "metadata": {},
   "outputs": [],
   "source": [
    "# número de secuencias alineadas\n",
    "print(\"Number of rows: \" + str(len(alineamiento)))"
   ]
  },
  {
   "cell_type": "code",
   "execution_count": null,
   "metadata": {},
   "outputs": [],
   "source": []
  },
  {
   "cell_type": "code",
   "execution_count": null,
   "metadata": {
    "scrolled": true
   },
   "outputs": [],
   "source": [
    "# iteración del alineamiento (línea por línea), el 50 indica la cantidad de nucleótidos a mostrar\n",
    "for record in alineamiento:\n",
    "    print(record.id, record.seq[0:50])"
   ]
  },
  {
   "cell_type": "code",
   "execution_count": null,
   "metadata": {},
   "outputs": [],
   "source": []
  },
  {
   "cell_type": "code",
   "execution_count": null,
   "metadata": {},
   "outputs": [],
   "source": [
    "# imprime las 10 primeras filas sin restringir las columnas (nucleótidos)\n",
    "print(alineamiento[0:10])"
   ]
  },
  {
   "cell_type": "code",
   "execution_count": null,
   "metadata": {},
   "outputs": [],
   "source": []
  },
  {
   "cell_type": "code",
   "execution_count": null,
   "metadata": {},
   "outputs": [],
   "source": [
    "# se obtienen los identificadores del alineamiento\n",
    "for record in alineamiento:\n",
    "    print(record.id)"
   ]
  },
  {
   "cell_type": "code",
   "execution_count": null,
   "metadata": {},
   "outputs": [],
   "source": []
  },
  {
   "cell_type": "code",
   "execution_count": null,
   "metadata": {},
   "outputs": [],
   "source": [
    "# una manera de extraer informacion de cualquier parte del alineamiento\n",
    "\"\"\"\n",
    "[:, :] = esta orden indica cuántas filas y cuántas columnas quiero extraer\n",
    "por ejemplo [0:5, 0:5] indica que tomará de la fila 0 a la 5, y de la columna 0 a la 5,\n",
    "esta acción está configurada de tal modo que las columnas hacen referencia a los nucleótidos.\n",
    "\"\"\"\n",
    "\n",
    "print(alineamiento[0:5, 0:5])"
   ]
  },
  {
   "cell_type": "code",
   "execution_count": null,
   "metadata": {},
   "outputs": [],
   "source": []
  },
  {
   "cell_type": "code",
   "execution_count": null,
   "metadata": {},
   "outputs": [],
   "source": [
    "print(alineamiento[3:12, 5:25])"
   ]
  },
  {
   "cell_type": "code",
   "execution_count": null,
   "metadata": {},
   "outputs": [],
   "source": []
  },
  {
   "cell_type": "code",
   "execution_count": null,
   "metadata": {},
   "outputs": [],
   "source": [
    "# se pueden concatenar fragmentos extraidos de los alineamientos\n",
    "editado = alineamiento[:5, :2] + alineamiento[:5, 22:28]\n",
    "print(editado)"
   ]
  },
  {
   "cell_type": "code",
   "execution_count": null,
   "metadata": {},
   "outputs": [],
   "source": []
  },
  {
   "cell_type": "code",
   "execution_count": null,
   "metadata": {},
   "outputs": [],
   "source": [
    "# visualización antes de ser ordenado (por orden alfabético de identificadores)\n",
    "print(alineamiento)"
   ]
  },
  {
   "cell_type": "code",
   "execution_count": null,
   "metadata": {},
   "outputs": [],
   "source": []
  },
  {
   "cell_type": "code",
   "execution_count": null,
   "metadata": {},
   "outputs": [],
   "source": [
    "alineamiento.sort()"
   ]
  },
  {
   "cell_type": "code",
   "execution_count": null,
   "metadata": {},
   "outputs": [],
   "source": [
    "# después de ser ordenado\n",
    "print(alineamiento)"
   ]
  },
  {
   "cell_type": "code",
   "execution_count": null,
   "metadata": {},
   "outputs": [],
   "source": []
  },
  {
   "cell_type": "code",
   "execution_count": null,
   "metadata": {},
   "outputs": [],
   "source": []
  },
  {
   "cell_type": "markdown",
   "metadata": {},
   "source": [
    "<b style=\"font-size:2vw\"><font color = red>BLAST</font></b>"
   ]
  },
  {
   "cell_type": "code",
   "execution_count": null,
   "metadata": {},
   "outputs": [],
   "source": []
  },
  {
   "cell_type": "markdown",
   "metadata": {},
   "source": [
    "### Ejecución de BLAST a través de internet\n",
    "\n",
    "> #### Programas:\n",
    "`blastn`    \n",
    "`blastp`  \n",
    "`blastx`  \n",
    "`tblast`  \n",
    "`tblastx`\n",
    "> #### Las bases de datos disponibles son:  \n",
    "`nr/nt`  \n",
    "`refseq_select`  \n",
    "`refseq_rna`  \n",
    "`refseq_representative_genomes`  \n",
    "`refseq_genomes`  \n",
    "`wgs`  \n",
    "`est`  \n",
    "`SRA`  \n",
    "`TSA`  \n",
    "`HTGS`  \n",
    "`pat`  \n",
    "`pdb`  \n",
    "`RefSeq_Gene`  \n",
    "`dbsts`"
   ]
  },
  {
   "cell_type": "code",
   "execution_count": null,
   "metadata": {},
   "outputs": [],
   "source": [
    "from Bio.Blast import NCBIWWW\n",
    "from Bio.Blast import NCBIXML\n",
    "from Bio import SearchIO"
   ]
  },
  {
   "cell_type": "code",
   "execution_count": null,
   "metadata": {},
   "outputs": [],
   "source": []
  },
  {
   "cell_type": "markdown",
   "metadata": {},
   "source": [
    "#### Ejecutando Blast usando un objeto `Seq`"
   ]
  },
  {
   "cell_type": "code",
   "execution_count": null,
   "metadata": {},
   "outputs": [],
   "source": []
  },
  {
   "cell_type": "code",
   "execution_count": null,
   "metadata": {},
   "outputs": [],
   "source": [
    "mi_sec"
   ]
  },
  {
   "cell_type": "code",
   "execution_count": null,
   "metadata": {},
   "outputs": [],
   "source": [
    "\"\"\"\n",
    "Es importante seleccionar el tipo de programa usado y la base de datos.\n",
    "\"\"\"\n",
    "programa1 = 'blastn'\n",
    "db1 = 'nr'"
   ]
  },
  {
   "cell_type": "code",
   "execution_count": null,
   "metadata": {},
   "outputs": [],
   "source": [
    "# solo permite hacer el análisis con una secuencia\n",
    "init = edu.time_ini()\n",
    "resultado_1 = NCBIWWW.qblast(programa1, db1, mi_sec)\n",
    "edu.time_fin(i = init)"
   ]
  },
  {
   "cell_type": "code",
   "execution_count": null,
   "metadata": {},
   "outputs": [],
   "source": []
  },
  {
   "cell_type": "code",
   "execution_count": null,
   "metadata": {},
   "outputs": [],
   "source": [
    "# se guarda el resultado en un archivo XML\n",
    "with open(\"../salidas/resultado_1_\"+programa1+\".xml\", \"w\") as temp:\n",
    "    temp.write(resultado_1.read())"
   ]
  },
  {
   "cell_type": "code",
   "execution_count": null,
   "metadata": {},
   "outputs": [],
   "source": []
  },
  {
   "cell_type": "code",
   "execution_count": null,
   "metadata": {
    "scrolled": true
   },
   "outputs": [],
   "source": [
    "resultado_blast1 = SearchIO.read(\"../salidas/resultado_1_\"+programa1+\".xml\", \"blast-xml\")"
   ]
  },
  {
   "cell_type": "code",
   "execution_count": null,
   "metadata": {},
   "outputs": [],
   "source": []
  },
  {
   "cell_type": "code",
   "execution_count": null,
   "metadata": {
    "scrolled": true
   },
   "outputs": [],
   "source": [
    "print(resultado_blast1)"
   ]
  },
  {
   "cell_type": "code",
   "execution_count": null,
   "metadata": {},
   "outputs": [],
   "source": []
  },
  {
   "cell_type": "code",
   "execution_count": null,
   "metadata": {},
   "outputs": [],
   "source": []
  },
  {
   "cell_type": "code",
   "execution_count": null,
   "metadata": {},
   "outputs": [],
   "source": []
  },
  {
   "cell_type": "markdown",
   "metadata": {},
   "source": [
    "<hr style=\"height:5px;border-width:0;color:blue;background-color:blue\">"
   ]
  },
  {
   "cell_type": "markdown",
   "metadata": {},
   "source": [
    "<img align=\"left\" src=\"https://raw.githubusercontent.com/eduardo1011/curso_08_2021/main/exercise_blue.png\" width=\"90\" height=\"80\">\n",
    "\n",
    "<font color=#0000ff> <b>Ejercicio:</b> *realiza un blastp usando la secuencia de la proteína desconocida que identificaste anteriormente.* </font><br>\n"
   ]
  },
  {
   "cell_type": "code",
   "execution_count": null,
   "metadata": {},
   "outputs": [],
   "source": [
    "proteina_desconocida"
   ]
  },
  {
   "cell_type": "code",
   "execution_count": null,
   "metadata": {},
   "outputs": [],
   "source": []
  },
  {
   "cell_type": "code",
   "execution_count": null,
   "metadata": {},
   "outputs": [],
   "source": []
  },
  {
   "cell_type": "markdown",
   "metadata": {},
   "source": [
    "<hr style=\"height:5px;border-width:0;color:blue;background-color:blue\"> "
   ]
  },
  {
   "cell_type": "code",
   "execution_count": null,
   "metadata": {},
   "outputs": [],
   "source": []
  },
  {
   "cell_type": "code",
   "execution_count": null,
   "metadata": {},
   "outputs": [],
   "source": []
  },
  {
   "cell_type": "markdown",
   "metadata": {},
   "source": [
    "#### Ejecución de Blast usando un archivo fasta con una secuencia"
   ]
  },
  {
   "cell_type": "code",
   "execution_count": null,
   "metadata": {},
   "outputs": [],
   "source": []
  },
  {
   "cell_type": "code",
   "execution_count": null,
   "metadata": {},
   "outputs": [],
   "source": [
    "programa2 = 'blastp'\n",
    "db2 = 'nr'"
   ]
  },
  {
   "cell_type": "code",
   "execution_count": null,
   "metadata": {},
   "outputs": [],
   "source": [
    "fasta_string = open(\"../DB/p53_humano.faa\").read()"
   ]
  },
  {
   "cell_type": "code",
   "execution_count": null,
   "metadata": {},
   "outputs": [],
   "source": []
  },
  {
   "cell_type": "code",
   "execution_count": null,
   "metadata": {},
   "outputs": [],
   "source": [
    "# solo permite hacer el análisis con una secuencia\n",
    "init = edu.time_ini()\n",
    "resultado_2 = NCBIWWW.qblast(programa2, db2, fasta_string)\n",
    "edu.time_fin(i = init)"
   ]
  },
  {
   "cell_type": "code",
   "execution_count": null,
   "metadata": {},
   "outputs": [],
   "source": []
  },
  {
   "cell_type": "code",
   "execution_count": null,
   "metadata": {},
   "outputs": [],
   "source": [
    "# se guarda el resultado en un archivo XML\n",
    "with open(\"../salidas/resultado_2_\"+programa2+\".xml\", \"w\") as temp:\n",
    "    temp.write(resultado_2.read())"
   ]
  },
  {
   "cell_type": "code",
   "execution_count": null,
   "metadata": {},
   "outputs": [],
   "source": []
  },
  {
   "cell_type": "code",
   "execution_count": null,
   "metadata": {},
   "outputs": [],
   "source": [
    "resultado_blast2 = SearchIO.read(\"../salidas/resultado_2_\"+programa2+\".xml\", \"blast-xml\")"
   ]
  },
  {
   "cell_type": "code",
   "execution_count": null,
   "metadata": {},
   "outputs": [],
   "source": []
  },
  {
   "cell_type": "code",
   "execution_count": null,
   "metadata": {
    "scrolled": true
   },
   "outputs": [],
   "source": [
    "print(resultado_blast2)"
   ]
  },
  {
   "cell_type": "code",
   "execution_count": null,
   "metadata": {},
   "outputs": [],
   "source": []
  },
  {
   "cell_type": "markdown",
   "metadata": {},
   "source": [
    "#### analizando los resultados del Blast"
   ]
  },
  {
   "cell_type": "code",
   "execution_count": null,
   "metadata": {},
   "outputs": [],
   "source": []
  },
  {
   "cell_type": "code",
   "execution_count": null,
   "metadata": {},
   "outputs": [],
   "source": []
  },
  {
   "cell_type": "code",
   "execution_count": null,
   "metadata": {},
   "outputs": [],
   "source": [
    "for hit in resultado_blast1:\n",
    "    print(hit)"
   ]
  },
  {
   "cell_type": "code",
   "execution_count": null,
   "metadata": {},
   "outputs": [],
   "source": [
    "len(resultado_blast1)"
   ]
  },
  {
   "cell_type": "code",
   "execution_count": null,
   "metadata": {},
   "outputs": [],
   "source": [
    "resultado_blast1[10]"
   ]
  },
  {
   "cell_type": "code",
   "execution_count": null,
   "metadata": {},
   "outputs": [],
   "source": [
    "resultado_blast1[0]"
   ]
  },
  {
   "cell_type": "code",
   "execution_count": null,
   "metadata": {},
   "outputs": [],
   "source": [
    "print(resultado_blast1[:3])"
   ]
  },
  {
   "cell_type": "code",
   "execution_count": null,
   "metadata": {},
   "outputs": [],
   "source": [
    "# diccionarios\n",
    "resultado_blast1[\"gi|2075648319|gb|MZ686192.1|\"]"
   ]
  },
  {
   "cell_type": "code",
   "execution_count": null,
   "metadata": {},
   "outputs": [],
   "source": [
    "for hit in resultado_blast1[:5]:   # id and sequence length of the first five hits\n",
    "    print(\"%s %i\" % (hit.id, hit.seq_len))"
   ]
  },
  {
   "cell_type": "code",
   "execution_count": null,
   "metadata": {},
   "outputs": [],
   "source": []
  },
  {
   "cell_type": "code",
   "execution_count": null,
   "metadata": {},
   "outputs": [],
   "source": [
    "sort_key = lambda hit: hit.seq_len\n",
    "sorted_qresult = resultado_blast1.sort(key=sort_key, reverse=True, in_place=False)\n",
    "for hit in sorted_qresult[:5]:\n",
    "    print(\"%s %i\" % (hit.id, hit.seq_len))"
   ]
  },
  {
   "cell_type": "code",
   "execution_count": null,
   "metadata": {},
   "outputs": [],
   "source": []
  },
  {
   "cell_type": "code",
   "execution_count": null,
   "metadata": {},
   "outputs": [],
   "source": [
    "def map_func(hit):\n",
    "    hit.id = hit.id.split(\"|\")[3]   # renames \"gi|301171322|ref|NR_035857.1|\" to \"NR_035857.1\"\n",
    "    return hit\n",
    "\n",
    "mapped_qresult = resultado_blast1.hit_map(map_func)\n",
    "for hit in mapped_qresult[:5]:\n",
    "    print(hit.id)"
   ]
  },
  {
   "cell_type": "code",
   "execution_count": null,
   "metadata": {},
   "outputs": [],
   "source": [
    "blast_hit = resultado_blast1[3]    # fourth hit from the query result\n",
    "print(blast_hit)"
   ]
  },
  {
   "cell_type": "code",
   "execution_count": null,
   "metadata": {},
   "outputs": [],
   "source": []
  },
  {
   "cell_type": "code",
   "execution_count": null,
   "metadata": {},
   "outputs": [],
   "source": [
    "blat_hit = resultado_blast1[0]      # the only hit\n",
    "print(blat_hit)"
   ]
  },
  {
   "cell_type": "code",
   "execution_count": null,
   "metadata": {},
   "outputs": [],
   "source": []
  },
  {
   "cell_type": "code",
   "execution_count": null,
   "metadata": {},
   "outputs": [],
   "source": []
  },
  {
   "cell_type": "markdown",
   "metadata": {},
   "source": [
    "#### Ejecución de Blast: método 2\n",
    "\n",
    "[Documentation](https://www.ebi.ac.uk/seqdb/confluence/display/JDSAT/PRANK+Help+and+Documentation)\n",
    "\n",
    "[Bases de datos compatibles con esta opción](https://www.ebi.ac.uk/seqdb/confluence/pages/viewpage.action?pageId=94148032)\n",
    "\n",
    "* Usando un archivo con proteínas en formato fasta"
   ]
  },
  {
   "cell_type": "code",
   "execution_count": null,
   "metadata": {},
   "outputs": [],
   "source": []
  },
  {
   "cell_type": "code",
   "execution_count": null,
   "metadata": {},
   "outputs": [],
   "source": [
    "uniprotkb, uniprotkb_swissprot, uniprotkb_swissprotsv, uniprotkb_trembl, uniprotkb_refprotswissprot, uniprotkb_archaea, uniprotkb_arthropoda"
   ]
  },
  {
   "cell_type": "code",
   "execution_count": null,
   "metadata": {},
   "outputs": [],
   "source": [
    "edu.Help_ncbiblast"
   ]
  },
  {
   "cell_type": "code",
   "execution_count": null,
   "metadata": {},
   "outputs": [],
   "source": [
    "# ncbiblast acepta solo una secuencia fasta\n",
    "comando8 = 'start cmd /k cd ../salidas/ ^&^& python ../binarios/ncbiblast.py --email '+email+' --program blastp --stype protein --sequence ../DB/p53_humano.faa --database uniprotkb'\n",
    "cl = os.system(comando8)"
   ]
  },
  {
   "cell_type": "code",
   "execution_count": null,
   "metadata": {},
   "outputs": [],
   "source": []
  },
  {
   "cell_type": "code",
   "execution_count": null,
   "metadata": {
    "scrolled": true
   },
   "outputs": [],
   "source": [
    "display(Image(filename='../salidas/ncbiblast-R20210805-180131-0246-5917649-p2m.ffdp-query-png.png'))"
   ]
  },
  {
   "cell_type": "code",
   "execution_count": null,
   "metadata": {},
   "outputs": [],
   "source": []
  },
  {
   "cell_type": "code",
   "execution_count": null,
   "metadata": {},
   "outputs": [],
   "source": []
  },
  {
   "cell_type": "markdown",
   "metadata": {},
   "source": [
    "* Usando un archivo con genes en formato fasta"
   ]
  },
  {
   "cell_type": "code",
   "execution_count": null,
   "metadata": {},
   "outputs": [],
   "source": [
    "# ncbiblast acepta solo una secuencia fasta\n",
    "comando8 = 'start cmd /k cd ../salidas/ ^&^& python ../binarios/ncbiblast.py --email '+email+' --program blastn --stype dna --sequence ../DB/p53_humano.fna --database em_hum'\n",
    "cl = os.system(comando8)"
   ]
  },
  {
   "cell_type": "code",
   "execution_count": null,
   "metadata": {},
   "outputs": [],
   "source": []
  },
  {
   "cell_type": "code",
   "execution_count": null,
   "metadata": {},
   "outputs": [],
   "source": [
    "display(Image(filename='../salidas/ncbiblast-R20210805-183244-0204-33712552-p1m.visual-png.png'))"
   ]
  },
  {
   "cell_type": "code",
   "execution_count": null,
   "metadata": {},
   "outputs": [],
   "source": []
  }
 ],
 "metadata": {
  "kernelspec": {
   "display_name": "Python 3",
   "language": "python",
   "name": "python3"
  },
  "language_info": {
   "codemirror_mode": {
    "name": "ipython",
    "version": 3
   },
   "file_extension": ".py",
   "mimetype": "text/x-python",
   "name": "python",
   "nbconvert_exporter": "python",
   "pygments_lexer": "ipython3",
   "version": "3.6.7"
  }
 },
 "nbformat": 4,
 "nbformat_minor": 4
}
