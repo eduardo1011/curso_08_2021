{
 "cells": [
  {
   "cell_type": "code",
   "execution_count": null,
   "metadata": {},
   "outputs": [],
   "source": [
    "from IPython.core.display import display, HTML\n",
    "display(HTML(\"<style>.container { width:80% !important; } </style>\"))"
   ]
  },
  {
   "cell_type": "code",
   "execution_count": null,
   "metadata": {},
   "outputs": [],
   "source": []
  },
  {
   "cell_type": "markdown",
   "metadata": {},
   "source": [
    "<img style=\"float: left;\" src=\"https://upload.wikimedia.org/wikipedia/commons/thumb/4/48/Markdown-mark.svg/208px-Markdown-mark.svg.png\" width = 10%> <br>"
   ]
  },
  {
   "cell_type": "markdown",
   "metadata": {},
   "source": [
    "## **Es un <font color = orange>lenguaje minimalista</font> marcado de escritura breve para la publicación de texto en html.**  \n",
    "\n",
    "Consultar la página del [github](https://github.com/adam-p/markdown-here/wiki/Markdown-Cheatsheet) para más información \n",
    "\n",
    "---"
   ]
  },
  {
   "cell_type": "markdown",
   "metadata": {},
   "source": [
    "<b style=\"font-size:2vw\"><font color = limegreen>1. Encabezados</font></b>"
   ]
  },
  {
   "cell_type": "raw",
   "metadata": {},
   "source": [
    "# E1  \n",
    "## E2  \n",
    "### E3  \n",
    "#### E4  \n",
    "##### E5  \n",
    "###### E6 "
   ]
  },
  {
   "cell_type": "markdown",
   "metadata": {},
   "source": [
    "#### <font color = red>Copia las lineas anteriores en una celda nueva `Markdown` y ejecuta la celda y observa el resultado<font>"
   ]
  },
  {
   "cell_type": "code",
   "execution_count": null,
   "metadata": {},
   "outputs": [],
   "source": []
  },
  {
   "cell_type": "code",
   "execution_count": null,
   "metadata": {},
   "outputs": [],
   "source": []
  },
  {
   "cell_type": "markdown",
   "metadata": {},
   "source": [
    "<b style=\"font-size:2vw\"><font color = limegreen>2. Estilos básicos de texto</font></b>"
   ]
  },
  {
   "cell_type": "markdown",
   "metadata": {},
   "source": [
    "* ### Cursiva: usar `*` o `_` en los extremos de la palabra o frase\n",
    "#### como se muestra a continuación:"
   ]
  },
  {
   "cell_type": "raw",
   "metadata": {},
   "source": [
    "*Saccharomyces cereviciae* es un hongo unicelular, ...\n",
    "\n",
    "_Saccharomyces cereviciae_ es un hongo unicelular, ..."
   ]
  },
  {
   "cell_type": "markdown",
   "metadata": {},
   "source": [
    "_Saccharomyces cereviciae_ es un hongo unicelular ...\n",
    "\n",
    "*Saccharomyces cereviciae* es un hongo unicelular ..."
   ]
  },
  {
   "cell_type": "code",
   "execution_count": null,
   "metadata": {},
   "outputs": [],
   "source": []
  },
  {
   "cell_type": "markdown",
   "metadata": {},
   "source": [
    "* ### Negrita: usar `**` o `__` en los extremos de la palabra o frase\n",
    "#### como se muestra a continuación:"
   ]
  },
  {
   "cell_type": "raw",
   "metadata": {},
   "source": [
    "**Saccharomyces cereviciae** es un hongo unicelular, ...\n",
    "\n",
    "__Saccharomyces cereviciae__ es un hongo unicelular, ..."
   ]
  },
  {
   "cell_type": "markdown",
   "metadata": {},
   "source": [
    "**Saccharomyces cereviciae** es un hongo unicelular, ...\n",
    "\n",
    "__Saccharomyces cereviciae__ es un hongo unicelular, ..."
   ]
  },
  {
   "cell_type": "code",
   "execution_count": null,
   "metadata": {},
   "outputs": [],
   "source": []
  },
  {
   "cell_type": "markdown",
   "metadata": {},
   "source": [
    "* ### Salto de línea en texto simple: usar `dos espacio` al final de la palabra o frase\n",
    "#### como se muestra a continuación:"
   ]
  },
  {
   "cell_type": "raw",
   "metadata": {},
   "source": [
    "La biotecnología utiliza células vivas para desarrollar o manipular productos con fines específicos.\n",
    "La biotecnología está vinculada con la ingeniería genética.\n",
    "La biotecnología se agrupa en siete colores o áreas de investigación y desarrollo."
   ]
  },
  {
   "cell_type": "markdown",
   "metadata": {},
   "source": [
    "#### <font color = red>Copia las lineas anteriores en una celda nueva `Markdown` y ejecuta la celda y observa el resultado<font>"
   ]
  },
  {
   "cell_type": "code",
   "execution_count": null,
   "metadata": {},
   "outputs": [],
   "source": []
  },
  {
   "cell_type": "code",
   "execution_count": null,
   "metadata": {},
   "outputs": [],
   "source": []
  },
  {
   "cell_type": "markdown",
   "metadata": {},
   "source": [
    "* ### Resaltar una código, palabra o frase: usar comillas invertidas ` `` ` al inicio y la final"
   ]
  },
  {
   "cell_type": "raw",
   "metadata": {},
   "source": [
    "`code`, `palabra`,`texto`"
   ]
  },
  {
   "cell_type": "code",
   "execution_count": null,
   "metadata": {},
   "outputs": [],
   "source": []
  },
  {
   "cell_type": "code",
   "execution_count": null,
   "metadata": {},
   "outputs": [],
   "source": []
  },
  {
   "cell_type": "markdown",
   "metadata": {},
   "source": [
    "* ### Aplicar color a una palabra o frase"
   ]
  },
  {
   "cell_type": "raw",
   "metadata": {},
   "source": [
    "<font color = red>Texto de color rojo<font>"
   ]
  },
  {
   "cell_type": "markdown",
   "metadata": {},
   "source": [
    "<font color = red>Texto de color rojo<font>"
   ]
  },
  {
   "cell_type": "code",
   "execution_count": null,
   "metadata": {},
   "outputs": [],
   "source": []
  },
  {
   "cell_type": "raw",
   "metadata": {},
   "source": [
    "<font color = blue>Texto de color azul<font>"
   ]
  },
  {
   "cell_type": "markdown",
   "metadata": {},
   "source": [
    "<font color = blue>Texto de color azul<font>"
   ]
  },
  {
   "cell_type": "code",
   "execution_count": null,
   "metadata": {},
   "outputs": [],
   "source": []
  },
  {
   "cell_type": "code",
   "execution_count": null,
   "metadata": {},
   "outputs": [],
   "source": []
  },
  {
   "cell_type": "markdown",
   "metadata": {},
   "source": [
    "<b style=\"font-size:2vw\"><font color = limegreen>3. Listas</font></b>"
   ]
  },
  {
   "cell_type": "markdown",
   "metadata": {},
   "source": [
    "* ### Para crear listas simples utilizar `*` asteriscos, `-` guiones, o `+` símbolo de suma."
   ]
  },
  {
   "cell_type": "raw",
   "metadata": {},
   "source": [
    "### Título\n",
    "- Subtítulo 1\n",
    "- Subtítulo 2\n",
    "    - Sub-lemento 1\n",
    "    - Sub-lemento 2\n",
    "        - Subsub-elemento 1\n",
    "        - Subsub-elemento 2"
   ]
  },
  {
   "cell_type": "markdown",
   "metadata": {},
   "source": [
    "### Título\n",
    "- Subtítulo 1\n",
    "- Subtítulo 2\n",
    "    - Sub-lemento 1\n",
    "    - Sub-lemento 2\n",
    "        - Subsub-elemento 1\n",
    "        - Subsub-elemento 2"
   ]
  },
  {
   "cell_type": "code",
   "execution_count": null,
   "metadata": {},
   "outputs": [],
   "source": []
  },
  {
   "cell_type": "markdown",
   "metadata": {},
   "source": [
    "* ### Para crear listas ordenadas debes utilizar números. Al igual que ocurre con las listas desordenadas, también podrás anidarlas o combinarlas."
   ]
  },
  {
   "cell_type": "raw",
   "metadata": {},
   "source": [
    "### Título\n",
    "1. Elemento de lista 1\n",
    "2. Elemento de lista 2\n",
    "    - Elemento de lista 3\n",
    "    - Elemento de lista 4\n",
    "        1. Elemento de lista 5\n",
    "        2. Elemento de lista 6\n",
    "3. Continúa con el elemento 3\n",
    "4. Elemento de lista 4"
   ]
  },
  {
   "cell_type": "markdown",
   "metadata": {},
   "source": [
    "### Título\n",
    "1. Elemento de lista 1\n",
    "2. Elemento de lista 2\n",
    "    - Elemento de lista 3\n",
    "    - Elemento de lista 4\n",
    "        1. Elemento de lista 5\n",
    "        2. Elemento de lista 6\n",
    "3. Continúa con el elemento 3\n",
    "4. Elemento de lista 4"
   ]
  },
  {
   "cell_type": "code",
   "execution_count": null,
   "metadata": {},
   "outputs": [],
   "source": []
  },
  {
   "cell_type": "code",
   "execution_count": null,
   "metadata": {},
   "outputs": [],
   "source": []
  },
  {
   "cell_type": "markdown",
   "metadata": {},
   "source": [
    "<b style=\"font-size:2vw\"><font color = limegreen>4. Visualización de imágenes</font></b>"
   ]
  },
  {
   "cell_type": "markdown",
   "metadata": {},
   "source": [
    "* ### Desde la web"
   ]
  },
  {
   "cell_type": "raw",
   "metadata": {},
   "source": [
    "<img style=\"float: left;\" src=\"https://www.iberdrola.com/wcorp/gc/prod/es_ES/comunicacion/biotecnologia_mult_1_res/Biotecnologia_746x419.jpg\" width = 40%> <br>"
   ]
  },
  {
   "cell_type": "markdown",
   "metadata": {},
   "source": [
    "<img style=\"float: left;\" src=\"https://www.iberdrola.com/wcorp/gc/prod/es_ES/comunicacion/biotecnologia_mult_1_res/Biotecnologia_746x419.jpg\" width = 40%> <br>"
   ]
  },
  {
   "cell_type": "code",
   "execution_count": null,
   "metadata": {},
   "outputs": [],
   "source": []
  },
  {
   "cell_type": "markdown",
   "metadata": {},
   "source": [
    "* ### Imagen ligada a una URL fuente"
   ]
  },
  {
   "cell_type": "raw",
   "metadata": {},
   "source": [
    "[<img align=\"left\" src=\"https://www.iberdrola.com/wcorp/gc/prod/es_ES/comunicacion/biotecnologia_mult_1_res/Biotecnologia_746x419.jpg\" width=\"40%\">](https://www.iberdrola.com/innovacion/que-es-la-biotecnologia)"
   ]
  },
  {
   "cell_type": "markdown",
   "metadata": {},
   "source": [
    "[<img align=\"left\" src=\"https://www.iberdrola.com/wcorp/gc/prod/es_ES/comunicacion/biotecnologia_mult_1_res/Biotecnologia_746x419.jpg\" width=\"40%\">](https://www.iberdrola.com/innovacion/que-es-la-biotecnologia)"
   ]
  },
  {
   "cell_type": "code",
   "execution_count": null,
   "metadata": {},
   "outputs": [],
   "source": []
  },
  {
   "cell_type": "markdown",
   "metadata": {},
   "source": [
    "* ### Imágenes dentro del ordenador\n",
    "\n",
    "También pueden visualizar imágenes alojadas en el ordenador, pero para este ejemplo es necesario tener una imagen y pegar su ubicación entre las comillas."
   ]
  },
  {
   "cell_type": "raw",
   "metadata": {},
   "source": [
    "<img align=\"left\" src=\"\" width=\"40%\">"
   ]
  },
  {
   "cell_type": "code",
   "execution_count": null,
   "metadata": {},
   "outputs": [],
   "source": []
  },
  {
   "cell_type": "code",
   "execution_count": null,
   "metadata": {},
   "outputs": [],
   "source": []
  },
  {
   "cell_type": "code",
   "execution_count": null,
   "metadata": {},
   "outputs": [],
   "source": []
  },
  {
   "cell_type": "code",
   "execution_count": null,
   "metadata": {},
   "outputs": [],
   "source": [
    "# Otra opción usando el módulo IPython\n",
    "from IPython.core.display import Image, display"
   ]
  },
  {
   "cell_type": "raw",
   "metadata": {},
   "source": [
    "display(Image(\"\", width=430, unconfined=True))"
   ]
  },
  {
   "cell_type": "code",
   "execution_count": null,
   "metadata": {},
   "outputs": [],
   "source": []
  },
  {
   "cell_type": "code",
   "execution_count": null,
   "metadata": {},
   "outputs": [],
   "source": []
  }
 ],
 "metadata": {
  "kernelspec": {
   "display_name": "Python 3",
   "language": "python",
   "name": "python3"
  },
  "language_info": {
   "codemirror_mode": {
    "name": "ipython",
    "version": 3
   },
   "file_extension": ".py",
   "mimetype": "text/x-python",
   "name": "python",
   "nbconvert_exporter": "python",
   "pygments_lexer": "ipython3",
   "version": "3.6.7"
  }
 },
 "nbformat": 4,
 "nbformat_minor": 4
}
