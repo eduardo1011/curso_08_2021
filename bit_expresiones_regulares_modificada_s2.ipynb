{
 "cells": [
  {
   "cell_type": "code",
   "execution_count": 1,
   "metadata": {},
   "outputs": [
    {
     "data": {
      "text/html": [
       "<style>.container { width:85% !important; } </style>"
      ],
      "text/plain": [
       "<IPython.core.display.HTML object>"
      ]
     },
     "metadata": {},
     "output_type": "display_data"
    }
   ],
   "source": [
    "from IPython.core.display import display, HTML\n",
    "display(HTML(\"<style>.container { width:85% !important; } </style>\"))"
   ]
  },
  {
   "cell_type": "code",
   "execution_count": null,
   "metadata": {},
   "outputs": [],
   "source": []
  },
  {
   "cell_type": "markdown",
   "metadata": {},
   "source": [
    "<b style=\"font-size:2vw\"><font color = red>1. Expresiones regulares</font></b>\n",
    "- ### Una expresión regular es una secuencia de caracteres que forma un patrón.\n",
    "- ### Las expresiones regulares se usan para realizar búsquedas o sustituciones.\n",
    "\n",
    "[Expresiones regulares en python](https://docs.python.org/es/3/library/re.html)"
   ]
  },
  {
   "cell_type": "code",
   "execution_count": null,
   "metadata": {},
   "outputs": [],
   "source": []
  },
  {
   "cell_type": "code",
   "execution_count": null,
   "metadata": {},
   "outputs": [],
   "source": []
  },
  {
   "cell_type": "markdown",
   "metadata": {},
   "source": [
    "### En informática se denomina metacarácter al carácter que tiene un significado especial en el programa informático en el que se use.\n",
    "- ### Los metacaracteres son interpretados de una forma especial por el lenguaje de programación\n",
    "https://es.wikipedia.org/wiki/Metacar%C3%A1cter\n",
    "### <font color = limegreen>Las expresiones regulares se han usado exitosamente para identificar dominios de proteínas y elementos reguladores</font>\n",
    "https://prosite.expasy.org/scanprosite/\n",
    "\n",
    "<img style=\"float: left;\" src=\"https://raw.githubusercontent.com/Bioinformatica2020/Anexos/master/caracteres.jpg\" width = 40%> <br>"
   ]
  },
  {
   "cell_type": "code",
   "execution_count": null,
   "metadata": {},
   "outputs": [],
   "source": []
  },
  {
   "cell_type": "markdown",
   "metadata": {},
   "source": [
    "### cadena de caracteres: `ATGTTACCCCCCGCTGCAGCG`\n",
    "\n",
    "#### `.` = coincide con cualquier caracter: <b style=\"font-size:1.5vw\"><font color = red>ATG.T ⇨ ATGTT</font></b>\n",
    "\n",
    "#### `^` = coincide con el inicio de la cadena: <b style=\"font-size:1.5vw\"><font color = red>^ATG.T ⇨ ATGTT</font></b>\n",
    "\n",
    "#### `$` = coincide con el final de la cadena; <b style=\"font-size:1.5vw\"><font color = red>GCG$ ⇨ GCG</font></b>\n",
    "\n",
    "#### `*` = coincide con cero o más ocurrencias del caracter anterior: <b style=\"font-size:1.5vw\"><font color = red>AC* ⇨ A, ACCCCCC, A</font></b>\n",
    "AC* coincidirá con \"A\", \"AC\" o \"A\" seguido de cualquier número de \"C\".\n",
    "\n",
    "#### `+`  = coincide con una o más ocurrencias del último caracter: <b style=\"font-size:1.5vw\"><font color = red>AC+ ⇨ ACCCCCC</font></b>\n",
    "\n",
    "#### `{x}` = coincide con exactamente x ocurrencias del patrón: <b style=\"font-size:1.5vw\"><font color = red>(C){3} ⇨ CCC, CCC</font></b>\n",
    "\n",
    "#### `{x, y}` = coincide con al menos x y no más de y ocurrencias: <b style=\"font-size:1.5vw\"><font color = red>T{1,2} ⇨ T, TT, T</font></b>\n",
    "\n",
    "#### `[]` =  coincide con un conjunto de caracteres: <b style=\"font-size:1.5vw\"><font color = red>[A-Z] ⇨ ATGTTACCCCCCGCTGCAGCG</font></b>\n",
    "\n",
    "#### `|` = permite definir opciones para el patrón: <b style=\"font-size:1.5vw\"><font color = red>TT|CG ⇨ TT, CG, CG</font></b>\n",
    "\n",
    "#### `()` = agrupa patrones"
   ]
  },
  {
   "cell_type": "code",
   "execution_count": null,
   "metadata": {},
   "outputs": [],
   "source": []
  },
  {
   "cell_type": "markdown",
   "metadata": {},
   "source": [
    "`\\d` = cualquier carácter que sea dígito  \n",
    "`\\D` = cualquier carácter que no sea dígito  \n",
    "`\\w` = cualquier carácter alfanumérico o guión bajo,  =  [a-zA-Z0-9_]  \n",
    "`\\W` = cualquier carácter no alfanumérico  \n",
    "`\\s` = espacio en blanco  \n",
    "`\\S` = cualquier carácter que no sea espacio  \n",
    "`\\t` = tabulador  \n",
    "`\\n` = salto de línea, nueva línea"
   ]
  },
  {
   "cell_type": "code",
   "execution_count": null,
   "metadata": {},
   "outputs": [],
   "source": []
  },
  {
   "cell_type": "markdown",
   "metadata": {},
   "source": [
    "### El patrón  `.*` se detiene cuando hay un salto de línea, por ello hay que elminar los saltos de línea `\\n` en secuencias "
   ]
  },
  {
   "cell_type": "code",
   "execution_count": null,
   "metadata": {},
   "outputs": [],
   "source": []
  },
  {
   "cell_type": "code",
   "execution_count": null,
   "metadata": {},
   "outputs": [],
   "source": []
  },
  {
   "cell_type": "markdown",
   "metadata": {},
   "source": [
    "# la función `re`\n",
    "### <font color = limegreen>La función `re` provee herramientas de expresiones regulares para un procesamiento avanzado de cadenas, manipulación y coincidencias complejas.</font>\n",
    "\n",
    "\n",
    "## <font color = deeppink>re.sub</font>('`patrón/es`', '`nuevo`', `string`)\n",
    "**Busca todas las coincidencias de un patrón desde el principio de la cadena de caracteres y sustituye las coincidencias con un nuevo texto, y devuelve una cadena de caracteres con el texto modificado**\n",
    "## <font color = deeppink>re.search</font>('`patrón/es`', `string`)\n",
    "**Busca un patrón desde el principio de la cadena de caracteres y al encontrar la primera conicidencia, regresa un objeto**\n",
    "## <font color = deeppink>re.findall</font>('`patrón/es`', `string`)\n",
    "**Busca todas las coincidencias de un patrón desde el principio de la cadena de caracteres y devuelve una lista con todas las coincidencias**\n",
    "## <font color = deeppink>re.finditer</font>('`patrón/es`', `string`)\n",
    "**Busca todas las coincidencias de un patrón desde el principio de la cadena de caracteres y devuelve un iterador con todas las coincidencias**\n",
    "## <font color = deeppink>re.split</font>('`patrón`', `string`)\n",
    "**Busca todas las coincidencias de un patrón desde el principio de la cadena de caracteres y separa los elementos utilizando al patrón como separador. Este regresa una lista de cadenas de caracteres con los textos separados por coma `,`. En caso de no encontrar coincidencias, regresa un objeto de tipo list con el texto original.**\n",
    "\n",
    "---"
   ]
  },
  {
   "cell_type": "code",
   "execution_count": null,
   "metadata": {},
   "outputs": [],
   "source": []
  },
  {
   "cell_type": "code",
   "execution_count": null,
   "metadata": {},
   "outputs": [],
   "source": []
  },
  {
   "cell_type": "markdown",
   "metadata": {},
   "source": [
    "<hr style=\"height:5px;border-width:0;color:blue;background-color:blue\">"
   ]
  },
  {
   "cell_type": "markdown",
   "metadata": {},
   "source": [
    "<img align=\"left\" src=\"https://raw.githubusercontent.com/eduardo1011/curso_08_2021/main/exercise_blue.png\" width=\"90\" height=\"80\">\n",
    "\n",
    "<font color=#0000ff> <b>Ejercicio:</b> *Se desea editar el encabezado de varias secuencias fasta para tener una mejor representación de un árbol filogenético, ¿Qué pasos realizarías para conseguir el siguiente encabezado? __2765630_P.sargentianum__* </font><br>\n",
    "<font color=#0000ff>El encabezado original es el siguiente: `'gi|2765630|emb|Z78505.1|PSZ78505 P.sargentianum 5.8S rRNA gene and ITS1 and ITS2 DNA'`</font><br>\n",
    "<img style=\"float: left;\" src=\"https://raw.githubusercontent.com/eduardo1011/curso_08_2021/main/header_edicion.jpg\" width = 100%> <br>"
   ]
  },
  {
   "cell_type": "code",
   "execution_count": null,
   "metadata": {},
   "outputs": [],
   "source": []
  },
  {
   "cell_type": "code",
   "execution_count": 20,
   "metadata": {},
   "outputs": [],
   "source": [
    "import re"
   ]
  },
  {
   "cell_type": "markdown",
   "metadata": {},
   "source": [
    "#### método 1"
   ]
  },
  {
   "cell_type": "code",
   "execution_count": 61,
   "metadata": {},
   "outputs": [],
   "source": [
    "a = 'gi|2765630|emb|Z78505.1|PSZ78505 P.sargentianum 5.8S rRNA gene and ITS1 and ITS2 DNA'\n",
    "aa = 'gi|2865630|emb|Z78505.1|PSZ7845405 A.targentianum 5.8S rRNA gene and ITS1 and ITS2 DNA'"
   ]
  },
  {
   "cell_type": "code",
   "execution_count": 69,
   "metadata": {},
   "outputs": [
    {
     "data": {
      "text/plain": [
       "['gi|2765630|emb|Z78505.1|PSZ78505',\n",
       " 'P.sargentianum',\n",
       " '5.8S',\n",
       " 'rRNA',\n",
       " 'gene',\n",
       " 'and',\n",
       " 'ITS1',\n",
       " 'and',\n",
       " 'ITS2',\n",
       " 'DNA']"
      ]
     },
     "execution_count": 69,
     "metadata": {},
     "output_type": "execute_result"
    }
   ],
   "source": [
    "v_split = a.split(' ')\n",
    "v_split"
   ]
  },
  {
   "cell_type": "code",
   "execution_count": 70,
   "metadata": {},
   "outputs": [
    {
     "data": {
      "text/plain": [
       "'gi|2765630|emb|Z78505.1|PSZ78505'"
      ]
     },
     "execution_count": 70,
     "metadata": {},
     "output_type": "execute_result"
    }
   ],
   "source": [
    "b = v_split[0]\n",
    "b"
   ]
  },
  {
   "cell_type": "code",
   "execution_count": 71,
   "metadata": {},
   "outputs": [
    {
     "data": {
      "text/plain": [
       "'2765630|emb|Z78505.1|PSZ78505'"
      ]
     },
     "execution_count": 71,
     "metadata": {},
     "output_type": "execute_result"
    }
   ],
   "source": [
    "c = re.sub('^...', '', b)\n",
    "c"
   ]
  },
  {
   "cell_type": "code",
   "execution_count": 72,
   "metadata": {},
   "outputs": [
    {
     "data": {
      "text/plain": [
       "'2765630'"
      ]
     },
     "execution_count": 72,
     "metadata": {},
     "output_type": "execute_result"
    }
   ],
   "source": [
    "iden = re.sub('[|].*', '', c)\n",
    "iden"
   ]
  },
  {
   "cell_type": "code",
   "execution_count": null,
   "metadata": {},
   "outputs": [],
   "source": []
  },
  {
   "cell_type": "code",
   "execution_count": 74,
   "metadata": {},
   "outputs": [
    {
     "data": {
      "text/plain": [
       "'P.sargentianum'"
      ]
     },
     "execution_count": 74,
     "metadata": {},
     "output_type": "execute_result"
    }
   ],
   "source": [
    "v_split[1]"
   ]
  },
  {
   "cell_type": "code",
   "execution_count": 75,
   "metadata": {},
   "outputs": [
    {
     "data": {
      "text/plain": [
       "'2765630_P.sargentianum'"
      ]
     },
     "execution_count": 75,
     "metadata": {},
     "output_type": "execute_result"
    }
   ],
   "source": [
    "iden + '_' + a.split(' ')[1]"
   ]
  },
  {
   "cell_type": "code",
   "execution_count": null,
   "metadata": {},
   "outputs": [],
   "source": []
  },
  {
   "cell_type": "markdown",
   "metadata": {},
   "source": [
    "#### método 2"
   ]
  },
  {
   "cell_type": "code",
   "execution_count": 56,
   "metadata": {},
   "outputs": [
    {
     "data": {
      "text/plain": [
       "'2865630'"
      ]
     },
     "execution_count": 56,
     "metadata": {},
     "output_type": "execute_result"
    }
   ],
   "source": [
    "aa.split('|')[1]"
   ]
  },
  {
   "cell_type": "code",
   "execution_count": 57,
   "metadata": {},
   "outputs": [
    {
     "data": {
      "text/plain": [
       "'A.targentianum'"
      ]
     },
     "execution_count": 57,
     "metadata": {},
     "output_type": "execute_result"
    }
   ],
   "source": [
    "aa.split(' ')[1]"
   ]
  },
  {
   "cell_type": "code",
   "execution_count": 58,
   "metadata": {},
   "outputs": [
    {
     "data": {
      "text/plain": [
       "'2865630_A.targentianum'"
      ]
     },
     "execution_count": 58,
     "metadata": {},
     "output_type": "execute_result"
    }
   ],
   "source": [
    "aa.split('|')[1] + '_' + aa.split(' ')[1]"
   ]
  },
  {
   "cell_type": "code",
   "execution_count": null,
   "metadata": {},
   "outputs": [],
   "source": []
  },
  {
   "cell_type": "code",
   "execution_count": null,
   "metadata": {},
   "outputs": [],
   "source": []
  },
  {
   "cell_type": "markdown",
   "metadata": {},
   "source": [
    "<hr style=\"height:5px;border-width:0;color:blue;background-color:blue\">"
   ]
  },
  {
   "cell_type": "code",
   "execution_count": null,
   "metadata": {},
   "outputs": [],
   "source": []
  }
 ],
 "metadata": {
  "kernelspec": {
   "display_name": "Python 3",
   "language": "python",
   "name": "python3"
  },
  "language_info": {
   "codemirror_mode": {
    "name": "ipython",
    "version": 3
   },
   "file_extension": ".py",
   "mimetype": "text/x-python",
   "name": "python",
   "nbconvert_exporter": "python",
   "pygments_lexer": "ipython3",
   "version": "3.6.7"
  }
 },
 "nbformat": 4,
 "nbformat_minor": 4
}
