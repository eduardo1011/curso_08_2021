{
 "cells": [
  {
   "cell_type": "code",
   "execution_count": 6,
   "metadata": {},
   "outputs": [
    {
     "data": {
      "text/html": [
       "<style>.container { width:85% !important; } </style>"
      ],
      "text/plain": [
       "<IPython.core.display.HTML object>"
      ]
     },
     "metadata": {},
     "output_type": "display_data"
    }
   ],
   "source": [
    "from IPython.core.display import display, HTML, Javascript, clear_output, Image\n",
    "display(HTML(\"<style>.container { width:85% !important; } </style>\"))"
   ]
  },
  {
   "cell_type": "code",
   "execution_count": null,
   "metadata": {},
   "outputs": [],
   "source": []
  },
  {
   "cell_type": "markdown",
   "metadata": {},
   "source": [
    "[<img align=\"left\" src=\"http://biopython.org/DIST/docs/tutorial/images/biopython_logo.svg\" width=\"500\" height=\"500\">](https://biopython.org/)"
   ]
  },
  {
   "cell_type": "markdown",
   "metadata": {},
   "source": [
    "### <font color=#333333>Biopython es un conjunto de herramientas para análisis biológico escritas en python por un equipo internacional de desarrolladores.</font>\n",
    "### <font color=#333333>Esta aplicación refleja un esfuerzo colaborativo para desarrollar bibliotecas de python y aplicaciones para dirigir las necesidades actuales y a futuro de trabajos bioinformáticos.</font>\n",
    "</br>"
   ]
  },
  {
   "cell_type": "code",
   "execution_count": null,
   "metadata": {},
   "outputs": [],
   "source": []
  },
  {
   "cell_type": "markdown",
   "metadata": {},
   "source": [
    "## Contenido"
   ]
  },
  {
   "cell_type": "markdown",
   "metadata": {},
   "source": [
    "* Sequence objects  \n",
    "* Sequence annotation objects  \n",
    "* Sequence Input/Output  \n",
    "* Multiple Sequence Alignment objects  \n",
    "* BLAST  \n",
    "* BLAST and other sequence search tools  \n",
    "* Accessing NCBI’s Entrez databases  \n",
    "* Swiss-Prot and ExPASy  \n",
    "* Going 3D: The PDB module  \n",
    "* Bio.PopGen: Population genetics  \n",
    "* Phylogenetics with Bio.Phylo  \n",
    "* Sequence motif analysis using Bio.motifs  \n",
    "* Cluster analysis  \n",
    "* Supervised learning methods  \n",
    "* Graphics including GenomeDiagram  \n",
    "* KEGG  \n",
    "* Bio.phenotype: analyse phenotypic data  "
   ]
  },
  {
   "cell_type": "code",
   "execution_count": null,
   "metadata": {},
   "outputs": [],
   "source": []
  },
  {
   "cell_type": "markdown",
   "metadata": {},
   "source": [
    "<b style=\"font-size:2vw\"><font color = red>1. Trabajando sobre secuencias</font></b>"
   ]
  },
  {
   "cell_type": "code",
   "execution_count": null,
   "metadata": {},
   "outputs": [],
   "source": []
  },
  {
   "cell_type": "markdown",
   "metadata": {},
   "source": [
    "#### importamos la función `Seq` desde el módulo Bio.Seq\n",
    "La función `Seq` convierte en objeto Seq, el cual es compatible con más funciones implementadas en Biopython"
   ]
  },
  {
   "cell_type": "code",
   "execution_count": 7,
   "metadata": {},
   "outputs": [],
   "source": [
    "from Bio.Seq import Seq"
   ]
  },
  {
   "cell_type": "code",
   "execution_count": null,
   "metadata": {},
   "outputs": [],
   "source": []
  },
  {
   "cell_type": "markdown",
   "metadata": {},
   "source": [
    "#### guardamos una secuencia de nucleótidos en la variable `mi_sec`"
   ]
  },
  {
   "cell_type": "code",
   "execution_count": 8,
   "metadata": {},
   "outputs": [],
   "source": [
    "mi_sec = Seq(\"TTTGTTTTTCTTGTTTTATTGCCACTAGTCTCTAGTCAGTGTGTTAATCTTACAACCAGA\")"
   ]
  },
  {
   "cell_type": "code",
   "execution_count": 9,
   "metadata": {},
   "outputs": [
    {
     "name": "stdout",
     "output_type": "stream",
     "text": [
      "TTTGTTTTTCTTGTTTTATTGCCACTAGTCTCTAGTCAGTGTGTTAATCTTACAACCAGA\n"
     ]
    }
   ],
   "source": [
    "print(mi_sec)"
   ]
  },
  {
   "cell_type": "code",
   "execution_count": null,
   "metadata": {},
   "outputs": [],
   "source": []
  },
  {
   "cell_type": "markdown",
   "metadata": {},
   "source": [
    "#### longitud de la secuencia"
   ]
  },
  {
   "cell_type": "code",
   "execution_count": 10,
   "metadata": {},
   "outputs": [
    {
     "data": {
      "text/plain": [
       "60"
      ]
     },
     "execution_count": 10,
     "metadata": {},
     "output_type": "execute_result"
    }
   ],
   "source": [
    "len(mi_sec)"
   ]
  },
  {
   "cell_type": "code",
   "execution_count": null,
   "metadata": {},
   "outputs": [],
   "source": []
  },
  {
   "cell_type": "markdown",
   "metadata": {},
   "source": [
    "#### iteración sobre las bases de la secuencia"
   ]
  },
  {
   "cell_type": "code",
   "execution_count": 11,
   "metadata": {
    "scrolled": true
   },
   "outputs": [
    {
     "name": "stdout",
     "output_type": "stream",
     "text": [
      "0 T\n",
      "1 T\n",
      "2 T\n",
      "3 G\n",
      "4 T\n",
      "5 T\n",
      "6 T\n",
      "7 T\n",
      "8 T\n",
      "9 C\n",
      "10 T\n",
      "11 T\n",
      "12 G\n",
      "13 T\n",
      "14 T\n",
      "15 T\n",
      "16 T\n",
      "17 A\n",
      "18 T\n",
      "19 T\n",
      "20 G\n",
      "21 C\n",
      "22 C\n",
      "23 A\n",
      "24 C\n",
      "25 T\n",
      "26 A\n",
      "27 G\n",
      "28 T\n",
      "29 C\n",
      "30 T\n",
      "31 C\n",
      "32 T\n",
      "33 A\n",
      "34 G\n",
      "35 T\n",
      "36 C\n",
      "37 A\n",
      "38 G\n",
      "39 T\n",
      "40 G\n",
      "41 T\n",
      "42 G\n",
      "43 T\n",
      "44 T\n",
      "45 A\n",
      "46 A\n",
      "47 T\n",
      "48 C\n",
      "49 T\n",
      "50 T\n",
      "51 A\n",
      "52 C\n",
      "53 A\n",
      "54 A\n",
      "55 C\n",
      "56 C\n",
      "57 A\n",
      "58 G\n",
      "59 A\n"
     ]
    }
   ],
   "source": [
    "for indice, base in enumerate(mi_sec):\n",
    "    print(indice, base)"
   ]
  },
  {
   "cell_type": "code",
   "execution_count": null,
   "metadata": {},
   "outputs": [],
   "source": []
  },
  {
   "cell_type": "markdown",
   "metadata": {},
   "source": [
    "#### determinar el % de GC"
   ]
  },
  {
   "cell_type": "code",
   "execution_count": 12,
   "metadata": {},
   "outputs": [
    {
     "data": {
      "text/plain": [
       "33.33333333333333"
      ]
     },
     "execution_count": 12,
     "metadata": {},
     "output_type": "execute_result"
    }
   ],
   "source": [
    "float(mi_sec.count(\"G\") + mi_sec.count(\"C\")) / len(mi_sec) * 100"
   ]
  },
  {
   "cell_type": "code",
   "execution_count": null,
   "metadata": {},
   "outputs": [],
   "source": []
  },
  {
   "cell_type": "markdown",
   "metadata": {},
   "source": [
    "####  importamos la función `GC` para determinar % de GC"
   ]
  },
  {
   "cell_type": "code",
   "execution_count": 13,
   "metadata": {},
   "outputs": [],
   "source": [
    "from Bio.SeqUtils import GC"
   ]
  },
  {
   "cell_type": "code",
   "execution_count": 14,
   "metadata": {},
   "outputs": [
    {
     "data": {
      "text/plain": [
       "33.333333333333336"
      ]
     },
     "execution_count": 14,
     "metadata": {},
     "output_type": "execute_result"
    }
   ],
   "source": [
    "GC(mi_sec)"
   ]
  },
  {
   "cell_type": "code",
   "execution_count": null,
   "metadata": {},
   "outputs": [],
   "source": []
  },
  {
   "cell_type": "markdown",
   "metadata": {},
   "source": [
    "#### cortar una secuencia\n",
    "[Revizar como es el indizado en python.](https://raw.githubusercontent.com/eduardo1011/curso_08_2021/main/indizado2_python.jpg)"
   ]
  },
  {
   "cell_type": "code",
   "execution_count": 18,
   "metadata": {},
   "outputs": [
    {
     "name": "stdout",
     "output_type": "stream",
     "text": [
      "TTTCTTGT\n"
     ]
    }
   ],
   "source": [
    "# !cuidado con los índice que maneja python! \n",
    "# en realidad está obteniendo desde la 7 a la 14\n",
    "print(mi_sec[6:14])"
   ]
  },
  {
   "cell_type": "code",
   "execution_count": 19,
   "metadata": {},
   "outputs": [
    {
     "name": "stdout",
     "output_type": "stream",
     "text": [
      "CTAGTCTCTA\n"
     ]
    }
   ],
   "source": [
    "# en realidad está obteniendo desde la 25 a la 34\n",
    "print(mi_sec[24:34]) "
   ]
  },
  {
   "cell_type": "code",
   "execution_count": 20,
   "metadata": {},
   "outputs": [
    {
     "name": "stdout",
     "output_type": "stream",
     "text": [
      "TTTTTTGTTTGCCATTTGCGGGTACTCACG\n"
     ]
    }
   ],
   "source": [
    "# empieza de la posición 0, y muestra las bases que se encuentran cada 2 posiciones\n",
    "print(mi_sec[0::2])"
   ]
  },
  {
   "cell_type": "code",
   "execution_count": null,
   "metadata": {},
   "outputs": [],
   "source": []
  },
  {
   "cell_type": "markdown",
   "metadata": {},
   "source": [
    "#### convierte la secuencia en una cadena de caracteres"
   ]
  },
  {
   "cell_type": "code",
   "execution_count": 24,
   "metadata": {},
   "outputs": [
    {
     "data": {
      "text/plain": [
       "'TTTGTTTTTCTTGTTTTATTGCCACTAGTCTCTAGTCAGTGTGTTAATCTTACAACCAGA'"
      ]
     },
     "execution_count": 24,
     "metadata": {},
     "output_type": "execute_result"
    }
   ],
   "source": [
    "# la función str convierte a la secuencia en un objeto de tipo \"str\" (string)\n",
    "str(mi_sec)"
   ]
  },
  {
   "cell_type": "code",
   "execution_count": null,
   "metadata": {},
   "outputs": [],
   "source": []
  },
  {
   "cell_type": "markdown",
   "metadata": {},
   "source": [
    "#### convierte el objeto en secuencia fasta"
   ]
  },
  {
   "cell_type": "code",
   "execution_count": 25,
   "metadata": {},
   "outputs": [],
   "source": [
    "# guarda la secuencia en la variable sec_fasta\n",
    "sec_fasta = '>nombre de secuencia\\n' + str(mi_sec)"
   ]
  },
  {
   "cell_type": "code",
   "execution_count": 26,
   "metadata": {},
   "outputs": [
    {
     "name": "stdout",
     "output_type": "stream",
     "text": [
      ">nombre de secuencia\n",
      "TTTGTTTTTCTTGTTTTATTGCCACTAGTCTCTAGTCAGTGTGTTAATCTTACAACCAGA\n"
     ]
    }
   ],
   "source": [
    "# imprimir la secuencia\n",
    "print(sec_fasta)"
   ]
  },
  {
   "cell_type": "code",
   "execution_count": null,
   "metadata": {},
   "outputs": [],
   "source": []
  },
  {
   "cell_type": "markdown",
   "metadata": {},
   "source": [
    "#### concatena o agrega secuencias"
   ]
  },
  {
   "cell_type": "code",
   "execution_count": 27,
   "metadata": {},
   "outputs": [],
   "source": [
    "# crea una lista con objetos \"Seq\" (es decir, fragmentos de secuencias)\n",
    "list_secs = [Seq(\"tttgtttttc\"), Seq(\"ttgttttattgcca\"), Seq(\"CTAGTCTCTAGTCAG\"), Seq(\"TGTGTTAAT\")]\n",
    "\n",
    "# crea una variable vacía donde se guardará cada fragmento\n",
    "concatenada = Seq(\"\")\n",
    "\n",
    "# itera la lista de secuencias para unir todos los fragmentos y generar una sola secuencia final\n",
    "for s in list_secs:\n",
    "    concatenada += s"
   ]
  },
  {
   "cell_type": "code",
   "execution_count": 28,
   "metadata": {},
   "outputs": [
    {
     "name": "stdout",
     "output_type": "stream",
     "text": [
      "tttgtttttcttgttttattgccaCTAGTCTCTAGTCAGTGTGTTAAT\n"
     ]
    }
   ],
   "source": [
    "print(concatenada)"
   ]
  },
  {
   "cell_type": "code",
   "execution_count": null,
   "metadata": {},
   "outputs": [],
   "source": []
  },
  {
   "cell_type": "markdown",
   "metadata": {},
   "source": [
    "####  funciones `.upper()` y `.lower()` para transformar minúsculas y mayúsculas"
   ]
  },
  {
   "cell_type": "code",
   "execution_count": 29,
   "metadata": {},
   "outputs": [
    {
     "data": {
      "text/plain": [
       "Seq('TTTGTTTTTCTTGTTTTATTGCCACTAGTCTCTAGTCAGTGTGTTAAT')"
      ]
     },
     "execution_count": 29,
     "metadata": {},
     "output_type": "execute_result"
    }
   ],
   "source": [
    "# transforma en mayúsculas\n",
    "concatenada.upper()"
   ]
  },
  {
   "cell_type": "code",
   "execution_count": 30,
   "metadata": {},
   "outputs": [
    {
     "data": {
      "text/plain": [
       "Seq('tttgtttttcttgttttattgccactagtctctagtcagtgtgttaat')"
      ]
     },
     "execution_count": 30,
     "metadata": {},
     "output_type": "execute_result"
    }
   ],
   "source": [
    "# transforma en minúsculas\n",
    "concatenada.lower()"
   ]
  },
  {
   "cell_type": "code",
   "execution_count": null,
   "metadata": {},
   "outputs": [],
   "source": []
  },
  {
   "cell_type": "markdown",
   "metadata": {},
   "source": [
    "#### las funciones `.upper()` y `.lower()` son útiles para buscar coincidencias que no distinguen entre minúsculas y mayúsculas"
   ]
  },
  {
   "cell_type": "code",
   "execution_count": 31,
   "metadata": {},
   "outputs": [
    {
     "data": {
      "text/plain": [
       "False"
      ]
     },
     "execution_count": 31,
     "metadata": {},
     "output_type": "execute_result"
    }
   ],
   "source": [
    "# no hay coincidencia porque tiene minúsculas y mayúsculas (ctagTCTC)\n",
    "\"TGCCACTAGTCT\" in concatenada"
   ]
  },
  {
   "cell_type": "code",
   "execution_count": 32,
   "metadata": {},
   "outputs": [
    {
     "data": {
      "text/plain": [
       "True"
      ]
     },
     "execution_count": 32,
     "metadata": {},
     "output_type": "execute_result"
    }
   ],
   "source": [
    "# ahora que todas son mayúsculas (CTAGTCTC) si hay coincidencia\n",
    "\"TGCCACTAGTCT\" in concatenada.upper()"
   ]
  },
  {
   "cell_type": "code",
   "execution_count": null,
   "metadata": {},
   "outputs": [],
   "source": []
  },
  {
   "cell_type": "markdown",
   "metadata": {},
   "source": [
    "#### Obtener el reverso complementario, funciones `.complement()` y `.reverse_complement()`"
   ]
  },
  {
   "cell_type": "code",
   "execution_count": 33,
   "metadata": {},
   "outputs": [
    {
     "name": "stdout",
     "output_type": "stream",
     "text": [
      "TTTGTTTTTCTTGTTTTATTGCCACTAGTCTCTAGTCAGTGTGTTAATCTTACAACCAGA\n"
     ]
    }
   ],
   "source": [
    "print(mi_sec)"
   ]
  },
  {
   "cell_type": "code",
   "execution_count": null,
   "metadata": {},
   "outputs": [],
   "source": []
  },
  {
   "cell_type": "code",
   "execution_count": 34,
   "metadata": {},
   "outputs": [
    {
     "name": "stdout",
     "output_type": "stream",
     "text": [
      "AAACAAAAAGAACAAAATAACGGTGATCAGAGATCAGTCACACAATTAGAATGTTGGTCT\n"
     ]
    }
   ],
   "source": [
    "# imprime la cadena complementaria\n",
    "print(mi_sec.complement())"
   ]
  },
  {
   "cell_type": "code",
   "execution_count": null,
   "metadata": {},
   "outputs": [],
   "source": []
  },
  {
   "cell_type": "code",
   "execution_count": 35,
   "metadata": {},
   "outputs": [
    {
     "name": "stdout",
     "output_type": "stream",
     "text": [
      "TCTGGTTGTAAGATTAACACACTGACTAGAGACTAGTGGCAATAAAACAAGAAAAACAAA\n"
     ]
    }
   ],
   "source": [
    "# imprime la cadena reversa complementaria\n",
    "print(mi_sec.reverse_complement())"
   ]
  },
  {
   "cell_type": "code",
   "execution_count": null,
   "metadata": {},
   "outputs": [],
   "source": []
  },
  {
   "cell_type": "markdown",
   "metadata": {},
   "source": [
    "<hr style=\"height:5px;border-width:0;color:blue;background-color:blue\">"
   ]
  },
  {
   "cell_type": "markdown",
   "metadata": {},
   "source": [
    "<img align=\"left\" src=\"https://raw.githubusercontent.com/eduardo1011/curso_08_2021/main/exercise_blue.png\" width=\"80\" height=\"80\">\n",
    "\n",
    "<font color=#0000ff> <b>Ejercicio:</b> *determina la cadena reversa complementaria de la siguiente secuencia usando funciones de Biopython.*  </font><br>\n",
    "<font> `ACTCAATTACCCCCTGCATACACTAATTCTTTCACACGTGGTGTT` </font>\n"
   ]
  },
  {
   "cell_type": "code",
   "execution_count": 36,
   "metadata": {},
   "outputs": [
    {
     "name": "stdout",
     "output_type": "stream",
     "text": [
      "Respuesta:\n"
     ]
    }
   ],
   "source": [
    "print('Respuesta:', )"
   ]
  },
  {
   "cell_type": "code",
   "execution_count": 37,
   "metadata": {},
   "outputs": [],
   "source": []
  },
  {
   "cell_type": "code",
   "execution_count": null,
   "metadata": {},
   "outputs": [],
   "source": []
  },
  {
   "cell_type": "code",
   "execution_count": null,
   "metadata": {},
   "outputs": [],
   "source": []
  },
  {
   "cell_type": "markdown",
   "metadata": {},
   "source": [
    "<hr style=\"height:5px;border-width:0;color:blue;background-color:blue\">"
   ]
  },
  {
   "cell_type": "code",
   "execution_count": null,
   "metadata": {},
   "outputs": [],
   "source": []
  },
  {
   "cell_type": "code",
   "execution_count": null,
   "metadata": {},
   "outputs": [],
   "source": []
  },
  {
   "cell_type": "markdown",
   "metadata": {},
   "source": [
    "* ### Transcripción\n",
    "<img align=\"left\" src=\"https://raw.githubusercontent.com/eduardo1011/curso_08_2021/main/transcripcion2.png\" width=\"600\" height=\"600\">"
   ]
  },
  {
   "cell_type": "markdown",
   "metadata": {},
   "source": [
    " > #### funciones de biopython: `.transcribe()` y `.back_transcribe()`"
   ]
  },
  {
   "cell_type": "code",
   "execution_count": null,
   "metadata": {},
   "outputs": [],
   "source": []
  },
  {
   "cell_type": "code",
   "execution_count": 49,
   "metadata": {},
   "outputs": [
    {
     "name": "stdout",
     "output_type": "stream",
     "text": [
      "5'- TTTGTTTTTCTTGTTTTATTGCCACTAGTCTCTAGTCAGTGTGTTAATCTTACAACCAGA -3'\n",
      "    ||||||||||||||||||||||||||||||||||||||||||||||||||||||||||||\n",
      "3'- AAACAAAAAGAACAAAATAACGGTGATCAGAGATCAGTCACACAATTAGAATGTTGGTCT -5'\n"
     ]
    }
   ],
   "source": [
    "# cadena \n",
    "print(\"5'-\", mi_sec, \"-3'\")\n",
    "print('    '+'|' * len(mi_sec))\n",
    "print(\"3'-\", mi_sec.complement(), \"-5'\")"
   ]
  },
  {
   "cell_type": "code",
   "execution_count": null,
   "metadata": {},
   "outputs": [],
   "source": []
  },
  {
   "cell_type": "code",
   "execution_count": 50,
   "metadata": {},
   "outputs": [],
   "source": [
    "mensajero = mi_sec.transcribe()"
   ]
  },
  {
   "cell_type": "code",
   "execution_count": 51,
   "metadata": {},
   "outputs": [
    {
     "name": "stdout",
     "output_type": "stream",
     "text": [
      "UUUGUUUUUCUUGUUUUAUUGCCACUAGUCUCUAGUCAGUGUGUUAAUCUUACAACCAGA\n"
     ]
    }
   ],
   "source": [
    "# Conversión de la cadena codificante en ARNm, cambio de T por U\n",
    "print(mensajero)"
   ]
  },
  {
   "cell_type": "code",
   "execution_count": null,
   "metadata": {},
   "outputs": [],
   "source": []
  },
  {
   "cell_type": "code",
   "execution_count": 52,
   "metadata": {},
   "outputs": [
    {
     "name": "stdout",
     "output_type": "stream",
     "text": [
      "TTTGTTTTTCTTGTTTTATTGCCACTAGTCTCTAGTCAGTGTGTTAATCTTACAACCAGA\n"
     ]
    }
   ],
   "source": [
    "# conversión del ARNm a cadena codificante \n",
    "print(mensajero.back_transcribe())"
   ]
  },
  {
   "cell_type": "code",
   "execution_count": null,
   "metadata": {},
   "outputs": [],
   "source": []
  },
  {
   "cell_type": "markdown",
   "metadata": {},
   "source": [
    "* ### Traducción\n",
    "<img align=\"left\" src=\"https://raw.githubusercontent.com/eduardo1011/curso_08_2021/main/traduccion.png\" width=\"600\" height=\"600\">"
   ]
  },
  {
   "cell_type": "markdown",
   "metadata": {},
   "source": [
    "> #### funciones `.translate()` (biopython usa el código genético estándar)"
   ]
  },
  {
   "cell_type": "code",
   "execution_count": null,
   "metadata": {},
   "outputs": [],
   "source": []
  },
  {
   "cell_type": "code",
   "execution_count": 53,
   "metadata": {},
   "outputs": [
    {
     "name": "stdout",
     "output_type": "stream",
     "text": [
      "UUUGUUUUUCUUGUUUUAUUGCCACUAGUCUCUAGUCAGUGUGUUAAUCUUACAACCAGA\n"
     ]
    }
   ],
   "source": [
    "print(mensajero)"
   ]
  },
  {
   "cell_type": "code",
   "execution_count": null,
   "metadata": {},
   "outputs": [],
   "source": []
  },
  {
   "cell_type": "code",
   "execution_count": 54,
   "metadata": {},
   "outputs": [],
   "source": [
    "# traducción del ARNm\n",
    "proteina = mensajero.translate()"
   ]
  },
  {
   "cell_type": "code",
   "execution_count": null,
   "metadata": {},
   "outputs": [],
   "source": []
  },
  {
   "cell_type": "code",
   "execution_count": 55,
   "metadata": {},
   "outputs": [
    {
     "name": "stdout",
     "output_type": "stream",
     "text": [
      "FVFLVLLPLVSSQCVNLTTR\n"
     ]
    }
   ],
   "source": [
    "# ahora se muestran los residuos de aminoácidos de la proteína\n",
    "print(proteina)"
   ]
  },
  {
   "cell_type": "code",
   "execution_count": null,
   "metadata": {},
   "outputs": [],
   "source": []
  },
  {
   "cell_type": "code",
   "execution_count": 56,
   "metadata": {},
   "outputs": [
    {
     "name": "stdout",
     "output_type": "stream",
     "text": [
      "FVFLVLLPLVSSQCVNLTTR\n"
     ]
    }
   ],
   "source": [
    "# otra forma de hacer la traducción es usando cadena codificante\n",
    "print(mi_sec.translate())"
   ]
  },
  {
   "cell_type": "code",
   "execution_count": null,
   "metadata": {},
   "outputs": [],
   "source": []
  },
  {
   "cell_type": "code",
   "execution_count": 57,
   "metadata": {},
   "outputs": [
    {
     "name": "stdout",
     "output_type": "stream",
     "text": [
      "20\n"
     ]
    }
   ],
   "source": [
    "# longitud final de la secuencia traducida\n",
    "print(len(mi_sec.translate()))"
   ]
  },
  {
   "cell_type": "code",
   "execution_count": null,
   "metadata": {},
   "outputs": [],
   "source": []
  },
  {
   "cell_type": "markdown",
   "metadata": {},
   "source": [
    "**Existen varios códigos genéticos disponibles, por lo tanto, para hacer la traducción es necesario conocerlos.**  \n",
    "https://www.ncbi.nlm.nih.gov/Taxonomy/Utils/wprintgc.cgi"
   ]
  },
  {
   "cell_type": "code",
   "execution_count": 59,
   "metadata": {},
   "outputs": [
    {
     "name": "stdout",
     "output_type": "stream",
     "text": [
      "https://www.ncbi.nlm.nih.gov/Taxonomy/Utils/wprintgc.cgi#SG2 \n",
      "\n",
      "FVFLVLLPLVSSQCVNLTT*\n"
     ]
    }
   ],
   "source": [
    "# de acuerdo al código mitocondrial de vertebrados la R (\"AGG\") del código estándar corresponde a un codón de paro (*)\n",
    "print('https://www.ncbi.nlm.nih.gov/Taxonomy/Utils/wprintgc.cgi#SG2', '\\n')\n",
    "print(mi_sec.translate(table=\"Vertebrate Mitochondrial\"))"
   ]
  },
  {
   "cell_type": "code",
   "execution_count": null,
   "metadata": {},
   "outputs": [],
   "source": []
  },
  {
   "cell_type": "code",
   "execution_count": 60,
   "metadata": {},
   "outputs": [],
   "source": [
    "# ejemplo con una secuencia de bacteria\n",
    "gen_bacteria = Seq(\"GTGAAAAAGATGCAATCTATCGTACTCGCACTTTCCCTGGTTCTGGTCGCTCCCATGGCA\"\n",
    "                   \"GCACAGGCTGCGGAAATTACGTTAGTCCCGTCAGTAAAATTACAGATAGGCGATCGTGAT\"\n",
    "                   \"AATCGTGGCTATTACTGGGATGGAGGTCACTGGCGCGACCACGGCTGGTGGAAACAACAT\"\n",
    "                   \"TATGAATGGCGAGGCAATCGCTGGCACCTACACGGACCGCCGCCACCGCCGCGCCACCAT\"\n",
    "                   \"AAGAAAGCTCCTCATGATCATCACGGCGGTCATGGTCCAGGCAAACATCACCGCTAA\")"
   ]
  },
  {
   "cell_type": "code",
   "execution_count": 61,
   "metadata": {},
   "outputs": [
    {
     "name": "stdout",
     "output_type": "stream",
     "text": [
      "VKKMQSIVLALSLVLVAPMAAQAAEITLVPSVKLQIGDRDNRGYYWDGGHWRDHGWWKQHYEWRGNRWHLHGPPPPPRHHKKAPHDHHGGHGPGKHHR*\n"
     ]
    }
   ],
   "source": [
    "# se elige el código genético para bacterias\n",
    "# en bacterias GTG puede ser un codón de inicio, mientras que normalmente codifica para valina\n",
    "\n",
    "print(gen_bacteria.translate(table=\"Bacterial\"))"
   ]
  },
  {
   "cell_type": "code",
   "execution_count": null,
   "metadata": {},
   "outputs": [],
   "source": []
  },
  {
   "cell_type": "code",
   "execution_count": 62,
   "metadata": {},
   "outputs": [
    {
     "name": "stdout",
     "output_type": "stream",
     "text": [
      "VKKMQSIVLALSLVLVAPMAAQAAEITLVPSVKLQIGDRDNRGYYWDGGHWRDHGWWKQHYEWRGNRWHLHGPPPPPRHHKKAPHDHHGGHGPGKHHR\n"
     ]
    }
   ],
   "source": [
    "# la función `to_stop` remueve el codón de paro (*)\n",
    "print(gen_bacteria.translate(table=\"Bacterial\", to_stop=True))"
   ]
  },
  {
   "cell_type": "code",
   "execution_count": null,
   "metadata": {},
   "outputs": [],
   "source": []
  },
  {
   "cell_type": "code",
   "execution_count": 64,
   "metadata": {},
   "outputs": [
    {
     "data": {
      "text/plain": [
       "Seq('MKKMQSIVLALSLVLVAPMAAQAAEITLVPSVKLQIGDRDNRGYYWDGGHWRDH...HHR', ExtendedIUPACProtein())"
      ]
     },
     "execution_count": 64,
     "metadata": {},
     "output_type": "execute_result"
    }
   ],
   "source": [
    "# en este caso el codón de inicio (GTG = V) se traduce como metionina\n",
    "gen_bacteria.translate(table=\"Bacterial\", cds=True)"
   ]
  },
  {
   "cell_type": "code",
   "execution_count": null,
   "metadata": {},
   "outputs": [],
   "source": []
  },
  {
   "cell_type": "code",
   "execution_count": null,
   "metadata": {},
   "outputs": [],
   "source": []
  },
  {
   "cell_type": "code",
   "execution_count": 65,
   "metadata": {},
   "outputs": [],
   "source": [
    "# muestra las tablas de código genético seleccionadas\n",
    "\n",
    "# from Bio.Data import CodonTable\n",
    "\n",
    "# tabla_estandar = CodonTable.unambiguous_dna_by_name[\"Standard\"] # CodonTable.unambiguous_dna_by_id[1]\n",
    "# print(tabla_estandar)\n",
    "\n",
    "# tabla_mitoc = CodonTable.unambiguous_dna_by_name[\"Vertebrate Mitochondrial\"] # CodonTable.unambiguous_dna_by_id[2]\n",
    "# print(tabla_mitoc)"
   ]
  },
  {
   "cell_type": "code",
   "execution_count": null,
   "metadata": {},
   "outputs": [],
   "source": []
  },
  {
   "cell_type": "code",
   "execution_count": null,
   "metadata": {},
   "outputs": [],
   "source": []
  },
  {
   "cell_type": "markdown",
   "metadata": {},
   "source": [
    "#### secuencias mutables"
   ]
  },
  {
   "cell_type": "code",
   "execution_count": 66,
   "metadata": {},
   "outputs": [],
   "source": [
    "# la función `MutableSeq` permite hacer modificaciones puntuales en la secuencia\n",
    "from Bio.Seq import MutableSeq"
   ]
  },
  {
   "cell_type": "code",
   "execution_count": null,
   "metadata": {},
   "outputs": [],
   "source": []
  },
  {
   "cell_type": "code",
   "execution_count": 67,
   "metadata": {},
   "outputs": [],
   "source": [
    "# convierte la secuencia en un objeto mutable, es decir, se pueden remplazar nucleótidos\n",
    "sec_mutable = MutableSeq('TTTGTTTTTCTTGTTTTATTGCCACTAGTCTCTAGTCAGTGTGTTAATCTTACAACCAGA')"
   ]
  },
  {
   "cell_type": "code",
   "execution_count": 68,
   "metadata": {},
   "outputs": [
    {
     "name": "stdout",
     "output_type": "stream",
     "text": [
      "TTTGTTTTTCTTGTTTTATTGCCACTAGTCTCTAGTCAGTGTGTTAATCTTACAACCAGA\n"
     ]
    }
   ],
   "source": [
    "print(sec_mutable)"
   ]
  },
  {
   "cell_type": "code",
   "execution_count": null,
   "metadata": {},
   "outputs": [],
   "source": []
  },
  {
   "cell_type": "code",
   "execution_count": 69,
   "metadata": {},
   "outputs": [
    {
     "name": "stdout",
     "output_type": "stream",
     "text": [
      "TTTGTCTTTCTTGTTTTATTGCCACTAGTCTCTAGTCAGTGTGTTAATCTTACAACCAGA\n"
     ]
    }
   ],
   "source": [
    "# sustituye cualquier nucleótido que se encuentre en la posición 5 por C\n",
    "sec_mutable[5] = \"C\"\n",
    "print(sec_mutable)"
   ]
  },
  {
   "cell_type": "code",
   "execution_count": null,
   "metadata": {},
   "outputs": [],
   "source": []
  },
  {
   "cell_type": "code",
   "execution_count": 70,
   "metadata": {},
   "outputs": [
    {
     "name": "stdout",
     "output_type": "stream",
     "text": [
      "TTGTCTTTCTTGTTTTATTGCCACTAGTCTCTAGTCAGTGTGTTAATCTTACAACCAGA\n"
     ]
    }
   ],
   "source": [
    "# remueve de una en una T, empezando por la primera que encuentre en la secuencia\n",
    "sec_mutable.remove(\"T\")\n",
    "print(sec_mutable)"
   ]
  },
  {
   "cell_type": "code",
   "execution_count": null,
   "metadata": {},
   "outputs": [],
   "source": []
  },
  {
   "cell_type": "markdown",
   "metadata": {},
   "source": [
    "#### usando secuencias como cadenas de caracteres"
   ]
  },
  {
   "cell_type": "code",
   "execution_count": 72,
   "metadata": {},
   "outputs": [],
   "source": [
    "# estas funciones no dependen del objeto `Seq`, por lo tanto pueden trabajar sobre cadenas de caracteres\n",
    "from Bio.Seq import reverse_complement, transcribe, back_transcribe, translate"
   ]
  },
  {
   "cell_type": "code",
   "execution_count": null,
   "metadata": {},
   "outputs": [],
   "source": []
  },
  {
   "cell_type": "code",
   "execution_count": 73,
   "metadata": {},
   "outputs": [
    {
     "data": {
      "text/plain": [
       "'TCTGGTTGTAAGATTAACACACTGACTAGAGACTAGTGGCAATAAAACAAGAAAAACAAA'"
      ]
     },
     "execution_count": 73,
     "metadata": {},
     "output_type": "execute_result"
    }
   ],
   "source": [
    "# trabaja como la función `.reverse_complement()`\n",
    "reverse_complement('TTTGTTTTTCTTGTTTTATTGCCACTAGTCTCTAGTCAGTGTGTTAATCTTACAACCAGA')"
   ]
  },
  {
   "cell_type": "code",
   "execution_count": null,
   "metadata": {},
   "outputs": [],
   "source": []
  },
  {
   "cell_type": "code",
   "execution_count": 74,
   "metadata": {},
   "outputs": [
    {
     "data": {
      "text/plain": [
       "'UUUGUUUUUCUUGUUUUAUUGCCACUAGUCUCUAGUCAGUGUGUUAAUCUUACAACCAGA'"
      ]
     },
     "execution_count": 74,
     "metadata": {},
     "output_type": "execute_result"
    }
   ],
   "source": [
    "# trabaja como la función `.transcribe()`\n",
    "transcribe('TTTGTTTTTCTTGTTTTATTGCCACTAGTCTCTAGTCAGTGTGTTAATCTTACAACCAGA')"
   ]
  },
  {
   "cell_type": "code",
   "execution_count": null,
   "metadata": {},
   "outputs": [],
   "source": []
  },
  {
   "cell_type": "code",
   "execution_count": 75,
   "metadata": {},
   "outputs": [
    {
     "data": {
      "text/plain": [
       "'TTTGTTTTTCTTGTTTTATTGCCACTAGTCTCTAGTCAGTGTGTTAATCTTACAACCAGA'"
      ]
     },
     "execution_count": 75,
     "metadata": {},
     "output_type": "execute_result"
    }
   ],
   "source": [
    "# trabaja como la función `.back_transcribe()`\n",
    "back_transcribe('TTTGTTTTTCTTGTTTTATTGCCACTAGTCTCTAGTCAGTGTGTTAATCTTACAACCAGA')"
   ]
  },
  {
   "cell_type": "code",
   "execution_count": null,
   "metadata": {},
   "outputs": [],
   "source": []
  },
  {
   "cell_type": "code",
   "execution_count": 76,
   "metadata": {},
   "outputs": [
    {
     "data": {
      "text/plain": [
       "'FVFLVLLPLVSSQCVNLTTR'"
      ]
     },
     "execution_count": 76,
     "metadata": {},
     "output_type": "execute_result"
    }
   ],
   "source": [
    "# trabaja como la función `.translate()`\n",
    "translate('TTTGTTTTTCTTGTTTTATTGCCACTAGTCTCTAGTCAGTGTGTTAATCTTACAACCAGA')"
   ]
  },
  {
   "cell_type": "code",
   "execution_count": null,
   "metadata": {},
   "outputs": [],
   "source": []
  },
  {
   "cell_type": "code",
   "execution_count": null,
   "metadata": {},
   "outputs": [],
   "source": []
  },
  {
   "cell_type": "markdown",
   "metadata": {},
   "source": [
    "<hr style=\"height:5px;border-width:0;color:blue;background-color:blue\">"
   ]
  },
  {
   "cell_type": "markdown",
   "metadata": {},
   "source": [
    "<img align=\"left\" src=\"https://raw.githubusercontent.com/eduardo1011/curso_08_2021/main/exercise_blue.png\" width=\"80\" height=\"80\">\n",
    "\n",
    "<font color=#0000ff> <b>Ejercicio:</b> *identifica la proteína a partir de la secuencia y determina su longitud, ten en cuenta que la __A__ del __ATG__ se encuentra en la posición __136__.* </font><br> "
   ]
  },
  {
   "cell_type": "code",
   "execution_count": 77,
   "metadata": {},
   "outputs": [],
   "source": [
    "secuencia = Seq('GTCTAGAGCCACCGTCCAGGGAGCAGGTAGCTGCTGGGCTCCGGGGACACTTTGCGTTCGGGCTGGGAGC'\n",
    "                           'GTGCTTTCCACGACGGTGACACGCTTCCCTGGATTGGCAGCCAGACTGCCTTCCGGGTCACTGCCATGGA'\n",
    "                           'GGAGCCGCAGTCAGATCCTAGCGTCGAGCCCCCTCTGAGTCAGGAAACATTTTCAGACCTATGGAAACTA'\n",
    "                           'CTTCCTGAAAACAACGTTCTGTCCCCCTTGCCGTCCCAAGCAATGGATGATTTGATGCTGTCCCCGGACG'\n",
    "                           'ATATTGAACAATGGTTCACTGAAGACCCAGGTCCAGATGAAGCTCCCAGAATGCCAGAGGCTGCTCCCCC'\n",
    "                           'CGTGGCCCCTGCACCAGCAGCTCCTACACCGGCGGCCCCTGCACCAGCCCCCTCCTGGCCCCTGTCATCT'\n",
    "                           'TCTGTCCCTTCCCAGAAAACCTACCAGGGCAGCTACGGTTTCCGTCTGGGCTTCTTGCATTCTGGGACAG'\n",
    "                           'CCAAGTCTGTGACTTGCACGTACTCCCCTGCCCTCAACAAGATGTTTTGCCAACTGGCCAAGACCTGCCC'\n",
    "                           'TGTGCAGCTGTGGGTTGATTCCACACCCCCGCCCGGCACCCGCGTCCGCGCCATGGCCATCTACAAGCAG'\n",
    "                           'TCACAGCACATGACGGAGGTTGTGAGGCGCTGCCCCCACCATGAGCGCTGCTCAGATAGCGATGGTCTGG'\n",
    "                           'CCCCTCCTCAGCATCTTATCCGAGTGGAAGGAAATTTGCGTGTGGAGTATTTGGATGACAGAAACACTTT'\n",
    "                           'TCGACATAGTGTGGTGGTGCCCTATGAGCCGCCTGAGGTTGGCTCTGACTGTACCACCATCCACTACAAC'\n",
    "                           'TACATGTGTAACAGTTCCTGCATGGGCGGCATGAACCGGAGGCCCATCCTCACCATCATCACACTGGAAG'\n",
    "                           'ACTCCAGTGGTAATCTACTGGGACGGAACAGCTTTGAGGTGCGTGTTTGTGCCTGTCCTGGGAGAGACCG'\n",
    "                           'GCGCACAGAGGAAGAGAATCTCCGCAAGAAAGGGGAGCCTCACCACGAGCTGCCCCCAGGGAGCACTAAG'\n",
    "                           'CGAGCACTGCCCAACAACACCAGCTCCTCTCCCCAGCCAAAGAAGAAACCACTGGATGGAGAATATTTCA'\n",
    "                           'CCCTTCAGATCCGTGGGCGTGAGCGCTTCGAGATGTTCCGAGAGCTGAATGAGGCCTTGGAACTCAAGGA'\n",
    "                           'TGCCCAGGCTGGGAAGGAGCCAGGGGGGAGCAGGGCTCACTCCAGCCACCTGAAGTCCAAAAAGGGTCAG'\n",
    "                           'TCTACCTCCCGCCATAAAAAACTCATGTTCAAGACAGAAGGGCCTGACTCAGACTGA')"
   ]
  },
  {
   "cell_type": "code",
   "execution_count": null,
   "metadata": {},
   "outputs": [],
   "source": []
  },
  {
   "cell_type": "code",
   "execution_count": 86,
   "metadata": {},
   "outputs": [
    {
     "name": "stdout",
     "output_type": "stream",
     "text": [
      "MEEPQSDPSVEPPLSQETFSDLWKLLPENNVLSPLPSQAMDDLMLSPDDIEQWFTEDPGPDEAPRMPEAAPPVAPAPAAPTPAAPAPAPSWPLSSSVPSQKTYQGSYGFRLGFLHSGTAKSVTCTYSPALNKMFCQLAKTCPVQLWVDSTPPPGTRVRAMAIYKQSQHMTEVVRRCPHHERCSDSDGLAPPQHLIRVEGNLRVEYLDDRNTFRHSVVVPYEPPEVGSDCTTIHYNYMCNSSCMGGMNRRPILTIITLEDSSGNLLGRNSFEVRVCACPGRDRRTEEENLRKKGEPHHELPPGSTKRALPNNTSSSPQPKKKPLDGEYFTLQIRGRERFEMFRELNEALELKDAQAGKEPGGSRAHSSHLKSKKGQSTSRHKKLMFKTEGPDSD*\n"
     ]
    }
   ],
   "source": [
    "print(translate(secuencia[135:]))"
   ]
  },
  {
   "cell_type": "code",
   "execution_count": null,
   "metadata": {},
   "outputs": [],
   "source": []
  },
  {
   "cell_type": "code",
   "execution_count": 87,
   "metadata": {},
   "outputs": [],
   "source": [
    "proteina_desconocida = str(translate(secuencia[135:]))"
   ]
  },
  {
   "cell_type": "markdown",
   "metadata": {},
   "source": [
    "<font color=#0000ff>*Define la proteína desconocida con la variable `proteina_desconocida` porque se usará para un alineamiento.* </font><br> "
   ]
  },
  {
   "cell_type": "code",
   "execution_count": 169,
   "metadata": {},
   "outputs": [
    {
     "data": {
      "text/plain": [
       "'MEEPQSDPSVEPPLSQETFSDLWKLLPENNVLSPLPSQAMDDLMLSPDDIEQWFTEDPGPDEAPRMPEAAPPVAPAPAAPTPAAPAPAPSWPLSSSVPSQKTYQGSYGFRLGFLHSGTAKSVTCTYSPALNKMFCQLAKTCPVQLWVDSTPPPGTRVRAMAIYKQSQHMTEVVRRCPHHERCSDSDGLAPPQHLIRVEGNLRVEYLDDRNTFRHSVVVPYEPPEVGSDCTTIHYNYMCNSSCMGGMNRRPILTIITLEDSSGNLLGRNSFEVRVCACPGRDRRTEEENLRKKGEPHHELPPGSTKRALPNNTSSSPQPKKKPLDGEYFTLQIRGRERFEMFRELNEALELKDAQAGKEPGGSRAHSSHLKSKKGQSTSRHKKLMFKTEGPDSD*'"
      ]
     },
     "execution_count": 169,
     "metadata": {},
     "output_type": "execute_result"
    }
   ],
   "source": [
    "proteina_desconocida"
   ]
  },
  {
   "cell_type": "code",
   "execution_count": null,
   "metadata": {},
   "outputs": [],
   "source": []
  },
  {
   "cell_type": "code",
   "execution_count": null,
   "metadata": {},
   "outputs": [],
   "source": []
  },
  {
   "cell_type": "markdown",
   "metadata": {},
   "source": [
    "<hr style=\"height:5px;border-width:0;color:blue;background-color:blue\"> "
   ]
  },
  {
   "cell_type": "code",
   "execution_count": null,
   "metadata": {},
   "outputs": [],
   "source": []
  },
  {
   "cell_type": "code",
   "execution_count": null,
   "metadata": {},
   "outputs": [],
   "source": []
  },
  {
   "cell_type": "markdown",
   "metadata": {},
   "source": [
    "<b style=\"font-size:2vw\"><font color = red>Formatos y objetos de anotación de secuencias</font></b>\n",
    "\n",
    "__bi__, abi-trim, ace, cif-atom, cif-seqres, __clustal__, __embl__, __fasta__, fasta-2line, __fastq-sanger__, fastq-solexa, __fastq-illumina__, gck, __genbank/gb__, ig, imgt, __nexus__, pdb-seqres, pdb-atom, phd, __phylip__, pir, seqxml, sff, sff-trim, snapgene, __stockholm__, swiss, tab, qual, uniprot-xml, xdna"
   ]
  },
  {
   "cell_type": "code",
   "execution_count": null,
   "metadata": {},
   "outputs": [],
   "source": []
  },
  {
   "cell_type": "markdown",
   "metadata": {},
   "source": [
    "* ### Archivos en formato fasta"
   ]
  },
  {
   "cell_type": "code",
   "execution_count": null,
   "metadata": {},
   "outputs": [],
   "source": []
  },
  {
   "cell_type": "markdown",
   "metadata": {},
   "source": [
    "#### objeto SeqRecord a partir de archivos fasta"
   ]
  },
  {
   "cell_type": "code",
   "execution_count": 91,
   "metadata": {},
   "outputs": [],
   "source": [
    "# la función SeqIO tiene los atributos `.read`, `.write`, `.index`, `.parse` \n",
    "from Bio import SeqIO\n",
    "\n",
    "# función para analizar atributos secuencias fasta\n",
    "from Bio.SeqRecord import SeqRecord"
   ]
  },
  {
   "cell_type": "code",
   "execution_count": null,
   "metadata": {},
   "outputs": [],
   "source": []
  },
  {
   "cell_type": "markdown",
   "metadata": {},
   "source": [
    " ###### Atributos de SeqRecord\n",
    " `.seq` : devuelve lasecuencia en objeto Seq  \n",
    "`.id` : devuelve el identificaror de la secuencia  \n",
    "`.name` : devuelve un nombre alternativo de la secuencia si lo tiene, por ejemplo el LOCUS, si no devuelve los mismo que `.id`.   \n",
    "`.description` : devuelve la descripción de la secuencia  \n",
    "`.annotations` : devuelve un diccionario con información sobre la secuencia.  \n",
    "`.features` : devuelve una lista de objetos con información estructurada sobre las características en la secuencia, por ejemplo, posiciones de genes en el genoma, dominios de proteínas."
   ]
  },
  {
   "cell_type": "code",
   "execution_count": null,
   "metadata": {},
   "outputs": [],
   "source": []
  },
  {
   "cell_type": "code",
   "execution_count": 93,
   "metadata": {},
   "outputs": [
    {
     "name": "stdout",
     "output_type": "stream",
     "text": [
      "1 sp|Q0Q475|SPIKE_BC279 Seq('MKVLIFALLFSLAKAQEGCGIISRKPQPKMEKVSSSRRGVYYNDDIFRSDVLHL...HYT', SingleLetterAlphabet()) 1241\n",
      "2 sp|Q3I5J5|SPIKE_BCRP3 Seq('MKILILAFLASLAKAQEGCGIISRKPQPKMAQVSSSRRGVYYNDDIFRSNVLHL...HYT', SingleLetterAlphabet()) 1241\n",
      "3 sp|Q3LZX1|SPIKE_BCHK3 Seq('MKILIFAFLANLAKAQEGCGIISRKPQPKMAQVSSSRRGVYYNDDIFRSDVLHL...HYT', SingleLetterAlphabet()) 1242\n",
      "4 tr|A0A2R3SUW9|A0A2R3SUW9_SARS Seq('MLFFLFLQFALVNSQCDLTGRTPLNPNYTNSSQRGVYYPDTIYRSDTLVLSQGY...HYT', SingleLetterAlphabet()) 1245\n",
      "5 tr|A0A2R3SUW7|A0A2R3SUW7_SARS Seq('MLFFLFLQFALVNSQCVNLTGRTPLNPNYTNSSQRGVYYPDTIYRSDTLVLSQG...HYT', SingleLetterAlphabet()) 1246\n",
      "6 sp|P0DTC2|SPIKE_SARS2 Seq('MFVFLVLLPLVSSQCVNLTTRTQLPPAYTNSFTRGVYYPDKVFRSSVLHSTQDL...HYT', SingleLetterAlphabet()) 1273\n",
      "7 tr|A0A0U1WJY8|A0A0U1WJY8_SARS Seq('MLILFVFLPFIAADTCLNFTNLAAPAYNIASSSRRGVYYPDDIFRSDFLHLVND...HYT', SingleLetterAlphabet()) 1233\n",
      "8 tr|A0A0U1WHI6|A0A0U1WHI6_SARS Seq('MKILIFAFLVTLVKAQEGCGVINLKTQPTLTQVSSSRRGVYYNDDIFRSDVLHL...HYT', SingleLetterAlphabet()) 1239\n",
      "9 tr|R9QTA0|R9QTA0_SARS Seq('MILLLLFLSSAKAQEGCGVISNKPQRTFDQYSSTFRGVYYNDDIFRSDVLHLTQ...HYT', SingleLetterAlphabet()) 1240\n",
      "10 tr|A0A2D1PX73|A0A2D1PX73_SARS Seq('MKILIFAFLVTLVKAQEGCGLISRKPQPKMAQVSSSRRGVYYNDDIFRSDVLHL...HYT', SingleLetterAlphabet()) 1241\n",
      "11 tr|A0A2D1PX05|A0A2D1PX05_SARS Seq('MKILIFAFLVTLVKAQEGCGIISRKPQPKMAQVSSSRRGVYYNDDIFRSDVLHL...HYT', SingleLetterAlphabet()) 1241\n",
      "12 tr|A0A2D1PX88|A0A2D1PX88_SARS Seq('MKVLIVLLCLGLVTAQDGCGHISTKPQPLMDKFSSSRRGVYYNDDIFRSDVLHL...HYT', SingleLetterAlphabet()) 1241\n",
      "13 tr|A0A2D1PX44|A0A2D1PX44_SARS Seq('MKVLIVLLSLGLVTAQDGCGHISTKPQPLMDKFSSSRRGVYYNDDIFRSDVLHL...HYT', SingleLetterAlphabet()) 1241\n",
      "14 tr|A0A0U1WHH0|A0A0U1WHH0_SARS Seq('MKILIFAFLVTLVKAQEGCGVINLKTQPILTQVSSSRRGVYYNDDIFRSDVLHL...HYT', SingleLetterAlphabet()) 1241\n",
      "15 tr|A0A0U1WHI2|A0A0U1WHI2_SARS Seq('MILLLLFLSSAAAQEGCGVISNKPQRTFDQYSSTRRGVYYNDDIFRSDVLHLTQ...HYT', SingleLetterAlphabet()) 1241\n",
      "16 tr|A0A0K1Z074|A0A0K1Z074_SARS Seq('MKILIFAFLVTLVKAQEGCGVINLRTQPKLSQVSSSRRGVYYNDDIFRSDVLHL...HYT', SingleLetterAlphabet()) 1241\n",
      "17 tr|A0A0K1Z054|A0A0K1Z054_SARS Seq('MKILIFAFLVTLVKAQEGCGVINLRTQPKLSQVSSSRRGVYYNDDIFRSDVLHL...HYT', SingleLetterAlphabet()) 1241\n",
      "18 tr|R9QTH3|R9QTH3_SARS Seq('MKIFLFSLLFSAALAQEGCGLLSFKPQPKLAQFSSSKRGVYYNDDIFRSDVLHL...HYT', SingleLetterAlphabet()) 1241\n",
      "19 tr|D2DJW4|D2DJW4_SARS Seq('MKVLIVLLCLGLVTAQDGCGHISTKPQPLMDKFSSSRRGVYYNDDIFRSDVLHL...HYT', SingleLetterAlphabet()) 1241\n",
      "20 tr|Q0Q484|Q0Q484_SARS Seq('MKILIFAFLVTLVKAQEGCGVINLRTQPKLTQVSSSRRGVYYNDDIFRSDVLHL...HYT', SingleLetterAlphabet()) 1241\n",
      "21 tr|Q0QDZ0|Q0QDZ0_SARS Seq('MKILIFAFLVTLVKAQEGCGVINLRTQPKLTQVSSSRRGVYYNDDIFRSDVLHL...HYT', SingleLetterAlphabet()) 1241\n",
      "22 tr|Q0QDX9|Q0QDX9_SARS Seq('MKVLIFALLFSLAKAQEGCGIISRKPQPKMEKVSSSRRGVYYNDDIFRSDVLHL...HYT', SingleLetterAlphabet()) 1241\n",
      "23 tr|A0A2D1PX86|A0A2D1PX86_SARS Seq('MKILIFAFLVTLVKAQEGCGIISRKPQPKMAQVSSSRRGVYYNDDIFRSDVLHL...HYT', SingleLetterAlphabet()) 1242\n",
      "24 tr|A0A0U1WHJ8|A0A0U1WHJ8_SARS Seq('MKILILAFLASLAKAQEGCGIISRKPQPKMAQVSSSRRGVYYNDDIFRSDVLHL...HYT', SingleLetterAlphabet()) 1242\n",
      "25 tr|A0A096XNM6|A0A096XNM6_SARS Seq('MKILILAFLANLAKAQEGCGIISRKPQPKMAQVSSSRRGVYYNDDIFRSDVLHL...HYT', SingleLetterAlphabet()) 1242\n",
      "26 tr|D5HJY0|D5HJY0_BCHK3 Seq('MKILIFAFLANLAKAQEGCGIISRKPQPKMAQVSSSRRGVYYNDDIFRSDVLHL...HYT', SingleLetterAlphabet()) 1242\n",
      "27 tr|D5HJZ1|D5HJZ1_BCHK3 Seq('MKILIFAFLANLAKAQEGCGIISRKPQPKMAQVSSSRRGVYYNDDIFRSDVLHL...HYT', SingleLetterAlphabet()) 1242\n",
      "28 tr|D5HK02|D5HK02_BCHK3 Seq('MKILIFAFLANLAKAQEGCGIISRKPQPKMAQVSSSRRGVYYNDDIFRSDVLHL...HYT', SingleLetterAlphabet()) 1242\n",
      "29 tr|D5HJT4|D5HJT4_BCHK3 Seq('MKILIFAFLASLAKAQEGCGIISRKPQPKMAQVSSSRRGVYYNDDIFRSDVLHL...HYT', SingleLetterAlphabet()) 1242\n",
      "30 tr|D5HJU5|D5HJU5_BCHK3 Seq('MKILIFAFLASLAKAQEGCGIISRKPQPKMAQVSSSRRGVYYNDDIFRSDVLHL...HYT', SingleLetterAlphabet()) 1242\n",
      "31 tr|Q3LZV3|Q3LZV3_BCHK3 Seq('MKILIFAFLANLAKAQEGCGIISRKPQPKMAQVSSSRRGVYYNDDIFRSDVLHL...HYT', SingleLetterAlphabet()) 1242\n",
      "32 tr|A0A3G5BJ32|A0A3G5BJ32_SARS Seq('MFIFLLFLTLTSGSDLDRCTTFDDVQAPNYTQHTSSMRGVYYPDEIFRSDTLYL...HYT', SingleLetterAlphabet()) 1255\n",
      "33 tr|A0A2D1PXA9|A0A2D1PXA9_SARS Seq('MFIFLFFLTLTSGSDLESCTTFDDVQAPNYPQHSSSRRGVYYPDEIFRSDTLYL...HYT', SingleLetterAlphabet()) 1255\n",
      "34 tr|A0A2D1PX97|A0A2D1PX97_SARS Seq('MFIFLFFLTLTSGSDLESCTTFDDVQAPNYPQHSSSRRGVYYPDEIFRSDTLYL...HYT', SingleLetterAlphabet()) 1255\n",
      "35 tr|S5YMR9|S5YMR9_SARS Seq('MFIFLLFLTLTSGSDLDRCTTFDDVQAPNYTQHTSSMRGVYYPDEIFRSDTLYL...HYT', SingleLetterAlphabet()) 1255\n",
      "36 tr|J9SFL2|J9SFL2_SARS Seq('MFIFLLFLTLTSGSDLDRCTTFDDVQAPNYTQHTSSMRGVYYPDEIFRSDTLYL...HYT', SingleLetterAlphabet()) 1255\n",
      "37 tr|J9TDZ0|J9TDZ0_SARS Seq('MFIFLLFLTLTSGSDLDRCTTFDDVQAPNYTQHTSSMRGVYYPDEIFRSDTLYL...HYT', SingleLetterAlphabet()) 1255\n",
      "38 tr|I6QPV5|I6QPV5_SARS Seq('MFIFLLFLTLTSGSDLDRCTTFDDVQAPNYTQHTSSMRGVYYPDEIFRSDTLYL...HYT', SingleLetterAlphabet()) 1255\n",
      "39 tr|F2YCW3|F2YCW3_SARS Seq('MFIFLLFLTLTSGSDLDRCTTFDDVQAPNYTQHTSSMRGVYYPDEIFRSDTLYL...HYT', SingleLetterAlphabet()) 1255\n",
      "40 tr|F2YCT3|F2YCT3_SARS Seq('MFIFLLFLTLTSGSDLDRCTTFDDVQAPNYTQHTSSMRGVYYPDEIFRSDTLYL...HYT', SingleLetterAlphabet()) 1255\n",
      "41 tr|D3KDM5|D3KDM5_SARS Seq('MFIFLLFLTLTSGSDLDRCTTFDDVQAPNYTQHTSSMRGVYYPDEIFRSDTLYL...HYT', SingleLetterAlphabet()) 1255\n",
      "42 tr|D2E2F2|D2E2F2_SARS Seq('MFIFLLFLTLTSGSDLDRCTTFDDVQAPNYTQHTSSMRGVYYPDEIFRSDTLYL...HYT', SingleLetterAlphabet()) 1255\n",
      "43 tr|D2E221|D2E221_SARS Seq('MFIFLLFLTLTSGSDLDRCTTFDDVQAPNYTQHTSSMRGVYYPDEIFRSDTLYL...HYT', SingleLetterAlphabet()) 1255\n",
      "44 tr|D2E2T4|D2E2T4_SARS Seq('MFIFLLFLTLTSGSDLDRCTTFDDVQAPNYTQHTSSMRGVYYPDEIFRSDTLYL...HYT', SingleLetterAlphabet()) 1255\n",
      "45 tr|D2E2C3|D2E2C3_SARS Seq('MFIFLLFLTLTSGSDLDRCTTFDDVQAPNYTQHTSSMRGVYYPDEIFRSDTLYL...HYT', SingleLetterAlphabet()) 1255\n",
      "46 tr|D2E2M5|D2E2M5_SARS Seq('MFIFLLFLTLTSGSDLDRCTTFDDVQAPNYTQHTSSMRGVYYPDEIFRSDTLYL...HYT', SingleLetterAlphabet()) 1255\n",
      "47 tr|D2E1K6|D2E1K6_SARS Seq('MFIFLLFLTLTSGSDLDRCTTFDDVQAPNYTQHTSSMRGVYYPDEIFRSDTLYL...HYT', SingleLetterAlphabet()) 1255\n",
      "48 tr|D2E250|D2E250_SARS Seq('MFIFLLFLTLTSGSDLDRCTTFDDVQAPNYTQHTSSMRGVYYPDEIFRSDTLYL...HYT', SingleLetterAlphabet()) 1255\n",
      "49 tr|D2E2D8|D2E2D8_SARS Seq('MFIFLLFLTLTSGSDLDRCTTFDDVQAPNYTQHTSSMRGVYYPDEIFRSDTLYL...HYT', SingleLetterAlphabet()) 1255\n",
      "50 tr|D2E1H7|D2E1H7_SARS Seq('MFIFLLFLTLTSGSDLDRCTTFDDVQAPNYTQHTSSMRGVYYPDEIFRSDTLYL...HYT', SingleLetterAlphabet()) 1255\n",
      "51 tr|D2E1Z1|D2E1Z1_SARS Seq('MFIFLLFLTLTSGSDLDRCTTFDDVQAPNYTQHTSSMRGVYYPDEIFRSDTLYL...HYT', SingleLetterAlphabet()) 1255\n",
      "52 tr|D2E206|D2E206_SARS Seq('MFIFLLFLTLTSGSDLDRCTTFDDVQAPNYTQHTSSMRGVYYPDEIFRSDTLYL...HYT', SingleLetterAlphabet()) 1255\n",
      "53 tr|C4P6Q7|C4P6Q7_SARS Seq('MFIFLLFLTLTSGSDLDRCTTFDDVQAPNYTQHTSSMRGVYYPDEIFRSDTLYL...HYT', SingleLetterAlphabet()) 1255\n",
      "54 tr|B8Q8U8|B8Q8U8_SARS Seq('MFIFLLFLTLTSGSDLDRCTTFDDVQAPNYTQHTSSMRGVYYPDEIFRSDTLYL...HYT', SingleLetterAlphabet()) 1255\n",
      "55 tr|B8Q8T7|B8Q8T7_SARS Seq('MFIFLLFLTLTSGSDLDRCTTFDDVQAPNYTQHTSSMRGVYYPDEIFRSDTLYL...HYT', SingleLetterAlphabet()) 1255\n",
      "56 tr|B8Q8V9|B8Q8V9_SARS Seq('MFIFLLFLTLTSGSDLDRCTTFDDVQAPNYTQHTSSMRGVYYPDEIFRSDTLYL...HYT', SingleLetterAlphabet()) 1255\n",
      "57 tr|B8Q8S6|B8Q8S6_SARS Seq('MFIFLLFLTLTSGSDLDRCTTFDDVQAPNYTQHTSSMRGVYYPDEIFRSDTLYL...HYT', SingleLetterAlphabet()) 1255\n",
      "58 tr|A4ZF29|A4ZF29_SARS Seq('MFIFLLFLTLTSGSDLDRCTTFDDVQAPNYTQHTSSMRGVYYPDEIFRSDTLYL...HYT', SingleLetterAlphabet()) 1255\n",
      "59 tr|A4ZF26|A4ZF26_SARS Seq('MFIFLLFLTLTSGSDLDRCTTFDDVQAPNYTQHTSSMRGVYYPDEIFRSDTLYL...HYT', SingleLetterAlphabet()) 1255\n",
      "60 tr|A4ZF28|A4ZF28_SARS Seq('MFIFLLFLTLTSGSDLDRCTTFDDVQAPNYTQHTSSMRGVYYPDEIFRSDTLYL...HYT', SingleLetterAlphabet()) 1255\n",
      "61 tr|A4ZF30|A4ZF30_SARS Seq('MFIFLLFLTLTSGSDLDRCTTFDDVQAPNYTQHTSSMRGVYYPDEIFRSDTLYL...HYT', SingleLetterAlphabet()) 1255\n",
      "62 tr|A4ZF27|A4ZF27_SARS Seq('MFIFLLFLTLTSGSDLDRCTTFDDVQAPNYTQHTSSMRGVYYPDEIFRSDTLYL...HYT', SingleLetterAlphabet()) 1255\n",
      "63 tr|A1IHM8|A1IHM8_SARS Seq('MFIFLLFLTLTSGSDLDRCTTFDDVQAPNYTQHTSSMRGVYYPDEIFRSDTLYL...HYT', SingleLetterAlphabet()) 1255\n",
      "64 tr|Q1T6X6|Q1T6X6_SARS Seq('MFIFLLFLTLTSGSDLDRCTTFDDVQAPNYTQHTSSMRGVYYPDEIFRSDTLYL...HYT', SingleLetterAlphabet()) 1255\n",
      "65 tr|Q202G3|Q202G3_SARS Seq('MFIFILFLTLTSGSDLDRCTTFDDVQAPNYTQHTSSMRGVYYPDEIFRSDTLYL...HYT', SingleLetterAlphabet()) 1255\n",
      "66 tr|Q202E5|Q202E5_SARS Seq('MFIFLLFLTLTSGSDLDRCTTFDDVQAPNYTQHTSSMRGVYYPDEIFRSDTLYL...HYT', SingleLetterAlphabet()) 1255\n",
      "67 tr|Q202F2|Q202F2_SARS Seq('MFIFLLFLTLTRGSDLDRCTTFDDVQAPNYTQHTSSMRGVYYPDEIFRSDTLYL...HYT', SingleLetterAlphabet()) 1255\n",
      "68 tr|Q202E6|Q202E6_SARS Seq('MFIFLLFLTLTSGSDLDRCTTFDDVQAPNYTQHTSSMRGVYYPDEIFRSDTLYL...HYT', SingleLetterAlphabet()) 1255\n",
      "69 tr|Q202H8|Q202H8_SARS Seq('MFIFLLFLTLTSGSDLDRCTTFDDVQAPNYTQHTSSMRGVYYPDEIFRSDTLYL...HYT', SingleLetterAlphabet()) 1255\n",
      "70 tr|Q202G5|Q202G5_SARS Seq('MLIFLLFLTLTSGSDLDRCTTFDDVQAPNYTQHTSSMRGVYYPDEIFRSDTLYL...HYT', SingleLetterAlphabet()) 1255\n",
      "71 tr|Q202H5|Q202H5_SARS Seq('MFIFLLFLTLTSGSDLDRCTTFDDVQAPNYTQHTSSMRGVYYPDEIFRSDTLYL...HYT', SingleLetterAlphabet()) 1255\n",
      "72 tr|Q202G8|Q202G8_SARS Seq('MFIFLLFLTLTRGSDLDRCTTFDDVQAPNYTQHTSSMRGVYYPDEIFRSDTLYL...HYT', SingleLetterAlphabet()) 1255\n",
      "73 tr|Q202F4|Q202F4_SARS Seq('MFIFLLFLTLTSGSDLDRCTTFDDVQAPNYTQHTSSMRGVYYPDEIFRSDTLYL...HYT', SingleLetterAlphabet()) 1255\n",
      "74 tr|Q202F5|Q202F5_SARS Seq('MFIFLLFLTLTRGSDLDRCTTFDDVQAPNYTQHTSSMRGVYYPDEIFRSDTLYL...HYT', SingleLetterAlphabet()) 1255\n",
      "75 tr|Q202F9|Q202F9_SARS Seq('MFIFLLFLTLTNGSDLDRCTTFDDVQAPNYTQHTSSMRGVYYPDEIFRSDTLYL...HYT', SingleLetterAlphabet()) 1255\n",
      "76 tr|Q3ZTC5|Q3ZTC5_SARS Seq('MFIFLLFLTLTSGSDLDRCTTFDDVQAPNYTQHTSSMRGVYYPDEIFRSDTLYL...HYT', SingleLetterAlphabet()) 1255\n",
      "77 tr|Q3ZTC8|Q3ZTC8_SARS Seq('MFIFLLFLTLTSGSDLDRCTTFDDVQAPNYTQHTSSMRGVYYPDEIFRSDTLYL...HYT', SingleLetterAlphabet()) 1255\n",
      "78 tr|Q3ZTE0|Q3ZTE0_SARS Seq('MFIFLLFLTLTSGSDLDRCTTFDDVQAPNYTQHTSSMRGVYYPDEIFRSDTLYL...HYT', SingleLetterAlphabet()) 1255\n",
      "79 tr|Q3ZTC7|Q3ZTC7_SARS Seq('MFIFLLFLTLTSGSDLDRCTTFDDVQAPNYTQHTSSMRGVYYPDEIFRSDTLYL...HYT', SingleLetterAlphabet()) 1255\n",
      "80 tr|Q3ZTF3|Q3ZTF3_SARS Seq('MFIFLLFLTLTSGSDLDRCTTFDDVQAPNYTQHTSSMRGVYYPDEIFRSDTLYL...HYT', SingleLetterAlphabet()) 1255\n",
      "81 tr|Q4JDM3|Q4JDM3_SARS Seq('MFIFLLFLTLTSGSDLDRCTTFDDVQAPNYTQHTSSMRGVYYPDEIFRSDTLYL...HYT', SingleLetterAlphabet()) 1255\n",
      "82 tr|Q4JDN4|Q4JDN4_SARS Seq('MFIFLLFLTLTSGSDLDRCTTFDDVQAPNYTQHTSSMRGVYYPDEIFRSDTLYL...HYT', SingleLetterAlphabet()) 1255\n",
      "83 tr|Q4JDM6|Q4JDM6_SARS Seq('MFIFLLFLTLTSGSDLDRCTTFDDVQAPNYTQHTSSMRGVYYPDEIFRSDTLYL...HYT', SingleLetterAlphabet()) 1255\n",
      "84 tr|Q4JDM5|Q4JDM5_SARS Seq('MFIFLLFLTLTSGSDLDRCTTFDDVQAPNYTQHTSSMRGVYYPDEIFRSDTLYL...HYT', SingleLetterAlphabet()) 1255\n",
      "85 tr|Q4JDN7|Q4JDN7_SARS Seq('MFIFLLFLTLTSGSDLDRCTTFDDVQAPNYTQHTSSMRGVYYPDEIFRSDTLYL...HYT', SingleLetterAlphabet()) 1255\n",
      "86 tr|Q4JDP1|Q4JDP1_SARS Seq('MFIFLLFLTLTSGSDLDRCTTFDDVQAPNYTQHTSSMRGVYYPDEIFRSDTLYL...HYT', SingleLetterAlphabet()) 1255\n",
      "87 tr|Q4JDN1|Q4JDN1_SARS Seq('MFIFLLFLTLTSGSDLDRCTTFDDVQAPNYTQHTSSMRGVYYPDEIFRSDTLYL...HYT', SingleLetterAlphabet()) 1255\n",
      "88 tr|Q4JDM4|Q4JDM4_SARS Seq('MFIFLLFLTLTSGSDLDRCTTFDDVQAPNYTQHTSSMRGVYYPDEIFRSDTLYL...HYT', SingleLetterAlphabet()) 1255\n",
      "89 tr|Q4JDP0|Q4JDP0_SARS Seq('MFIFLLFLTLTSGSDLDRCTTFDDVQAPNYTQHTSSMRGVYYPDEIFRSDTLYL...HYT', SingleLetterAlphabet()) 1255\n",
      "90 tr|Q4JDN6|Q4JDN6_SARS Seq('MFIFLLFLTLTSGSDLDRCTTFDDVQAPNYTQHTSSMRGVYYPDEIFRSDTLYL...HYT', SingleLetterAlphabet()) 1255\n",
      "91 tr|Q4JDM8|Q4JDM8_SARS Seq('MFIFLLFLTLTSGSDLDRCTTFDDVQAPNYTQHTSSMRGVYYPDEIFRSDTLYL...HYT', SingleLetterAlphabet()) 1255\n",
      "92 tr|Q4JDP2|Q4JDP2_SARS Seq('MFIFLLFLTLTSGSDLDRCTTFDDVQAPNYTQHTSSMRGVYYPDEIFRSDTLYL...HYT', SingleLetterAlphabet()) 1255\n",
      "93 tr|Q5GDJ6|Q5GDJ6_SARS Seq('MFIFLLFLTLTSGSDLDRCTTFDDVQAPNYTQHTSSMRGVYYPDEIFRSDTLYL...HYT', SingleLetterAlphabet()) 1255\n",
      "94 tr|Q5GDB6|Q5GDB6_SARS Seq('MFIFLLFLTLTSGSDLDRCTTFDDVQAPNYTQHTSSMRGVYYPDEIFRSDTLYL...HYT', SingleLetterAlphabet()) 1255\n",
      "95 tr|Q5GDB3|Q5GDB3_SARS Seq('MFIFLLFLTLTSGSDLDRCTTFDDVQAPNYTQHTSSMRGVYYPDEIFRSDTLYL...HYT', SingleLetterAlphabet()) 1255\n",
      "96 tr|Q5GDB5|Q5GDB5_SARS Seq('MFIFLLFLTLTSGSDLDRCTTFDDVQAPNYTQHTSSMRGVYYPDEIFRSDTLYL...HYT', SingleLetterAlphabet()) 1255\n",
      "97 tr|Q5GDB4|Q5GDB4_SARS Seq('MFIFLLFLTLTSGSDLDRCTTFDDVQAPNYTQHTSSMRGVYYPDEIFRSDTLYL...HYT', SingleLetterAlphabet()) 1255\n",
      "98 tr|Q5Y187|Q5Y187_SARS Seq('MFIFLLFLTLTSGSDLDRCTTFDDVQAPNYTQHTSSMRGVYYPDEIFRSDTLYL...HYT', SingleLetterAlphabet()) 1255\n",
      "99 tr|Q692E4|Q692E4_SARS Seq('MFIFLLFLTLTSGSDLDRCTTFDDVQAPNYTQHTSSMRGVYYPDEIFRSDTLYL...HYT', SingleLetterAlphabet()) 1255\n",
      "100 tr|Q6R7Y6|Q6R7Y6_SARS Seq('MFIFLLFLTLTSGSDLDRCTTFDDVQAPNYTQHTSSMRGVYYPDEIFRSDTLYL...HYT', SingleLetterAlphabet()) 1255\n",
      "101 tr|Q6JH46|Q6JH46_SARS Seq('MFIFLLFLTLTSGSDLDRCTTFDDVQAPNYTQHTSSMRGVYYPDEIFRSDTLYL...HYT', SingleLetterAlphabet()) 1255\n",
      "102 tr|Q6T7Y1|Q6T7Y1_SARS Seq('MFIFLLFFTLTSGSDLDRCTTFDDVQAPNYTQHTSSMRGVYYPDEIFRSDTLYL...HYT', SingleLetterAlphabet()) 1255\n",
      "103 tr|Q6T7X7|Q6T7X7_SARS Seq('MFIFLLFFTLTSGSDLDRCTTFDDVQAPNYTQHTSSMRGVYYPDEIFRSDTLYL...HYT', SingleLetterAlphabet()) 1255\n",
      "104 tr|Q6T7Y0|Q6T7Y0_SARS Seq('MFIFLLFFTLTSGSDLDRCTTFDDVQAPNYTQHTSSMRGVYYPDEIFRSDTLYL...HYT', SingleLetterAlphabet()) 1255\n",
      "105 tr|Q6T7X9|Q6T7X9_SARS Seq('MFIFLLFFTLTSGSDLDRCTTFDDVQAPNYTQHTSSMRGVYYPDEIFRSDTLYL...HYT', SingleLetterAlphabet()) 1255\n",
      "106 tr|Q6T7X8|Q6T7X8_SARS Seq('MFIFLLFLTLTSGSDLDRCTTFDDVQAPNYTQHTSSMRGVYYPDEIFRSDTLYL...HYT', SingleLetterAlphabet()) 1255\n",
      "107 tr|Q6T7X6|Q6T7X6_SARS Seq('MFIFLLFFTLTSGSDLDRCTTFDDVQAPNYTQHTSSMRGVYYPDEIFRSDTLYL...HYT', SingleLetterAlphabet()) 1255\n",
      "108 tr|Q6T7X5|Q6T7X5_SARS Seq('MFIFLLFLTLTSGSDLDRCTTFDDVQAPNYTQHTSSMRGVYYPDEIFRSDTLYL...HYT', SingleLetterAlphabet()) 1255\n",
      "109 tr|Q6T7X4|Q6T7X4_SARS Seq('MFIFLLFLTLTSGSDLDRCTTFDDVQAPNYTQHTSSMRGVYYPDEIFRSDTLYL...HYT', SingleLetterAlphabet()) 1255\n",
      "110 sp|P59594|SPIKE_SARS Seq('MFIFLLFLTLTSGSDLDRCTTFDDVQAPNYTQHTSSMRGVYYPDEIFRSDTLYL...HYT', SingleLetterAlphabet()) 1255\n",
      "111 tr|A0A2D1PXD5|A0A2D1PXD5_SARS Seq('MKLLVLVFATLVSSYTIEKCLDFDDRTPPANTQFLSSHRGVYYPDDIFRSNVLH...HYT', SingleLetterAlphabet()) 1256\n",
      "112 tr|A0A2D1PX29|A0A2D1PX29_SARS Seq('MKLLVLVFATLVSSYTIEKCLDFDDRTPPANTQFLSSHRGVYYPDDIFRSNVLH...HYT', SingleLetterAlphabet()) 1256\n",
      "113 tr|A0A2D1PXC0|A0A2D1PXC0_SARS Seq('MKLLVLVFATLVSSYTIEKCLDFDDRTPPANTQFLSSHRGVYYPDDIFRSNVLH...HYT', SingleLetterAlphabet()) 1256\n",
      "114 tr|U5WLK5|U5WLK5_SARS Seq('MKLLVLVFATLVSSYTIEKCLDFDDRTPPANTQFLSSHRGVYYPDDIFRSNVLH...HYT', SingleLetterAlphabet()) 1256\n",
      "115 tr|U5WHZ7|U5WHZ7_SARS Seq('MKLLVLVFATLVSSYTIEKCLDFDDRTPPANTQFLSSHRGVYYPDDIFRSNVLH...HYT', SingleLetterAlphabet()) 1256\n",
      "116 tr|U5WI05|U5WI05_SARS Seq('MKLLVLVFATLVSSYTIEKCLDFDDRTPPANTQFLSSHRGVYYPDDIFRSNVLH...HYT', SingleLetterAlphabet()) 1256\n",
      "117 tr|A0A023PTS3|A0A023PTS3_SARS Seq('MFLTCFILIFSLFCVSGDSIDTCETFDDVSPPQQNLVSSSKRGVYYPDDIYRSD...HYT', SingleLetterAlphabet()) 1259\n",
      "118 tr|A0A023PUW9|A0A023PUW9_SARS Seq('MFLTCFILSFSLFCVSGDSIDTCETFDDVSPPQQNLVSSSKRGVYYPDDIYRSD...HYT', SingleLetterAlphabet()) 1259\n",
      "119 tr|A0A6B9WHD3|A0A6B9WHD3_SARS Seq('MFVFLVLLPLVSSQCVNLTTRTQLPPAYTNSSTRGVYYPDKVFRSSVLHLTQDL...HYT', SingleLetterAlphabet()) 1269\n",
      "120 tr|A0A6G5ZVU5|A0A6G5ZVU5_SARS2 Seq('MFVFLVLLPLVSSQCVNLTTRTQLPPAYTNSFTRGVYYPDKVFRSSVLHSTQDL...HYT', SingleLetterAlphabet()) 1272\n",
      "121 tr|A0A6H1PJZ3|A0A6H1PJZ3_SARS2 Seq('MFVFLVLLPLVSSQCVNLTTRTQLPPAYTNSFTRGVYYPDKVFRSSVLHSTQDL...HYT', SingleLetterAlphabet()) 1273\n",
      "122 tr|A0A6G9KF55|A0A6G9KF55_SARS2 Seq('MFVFFVLLPLVSSQCVNLTTRTQLPPAYTNSFTRGVYYPDKVFRSSVLHSTQDL...HYT', SingleLetterAlphabet()) 1273\n",
      "123 tr|A0A6G9KFP7|A0A6G9KFP7_SARS2 Seq('MFVFLVLLPLVSSQCVNLTTRTQLPPAYTNSFTRGVYYPDKVFRSSVLHSTQDL...HYT', SingleLetterAlphabet()) 1273\n",
      "124 tr|A0A6G9HF12|A0A6G9HF12_SARS2 Seq('MFVFLVLLPLVSSQCVNLTTRTQLPPAYTNSFTRGVYYPDKVFRSSVLHSTQDL...HYT', SingleLetterAlphabet()) 1273\n",
      "125 tr|A0A6G8RR89|A0A6G8RR89_SARS2 Seq('MFVFLVLLPLVSSQCVNLTTRTQLPPAYTNSFTRGVYYPDKVFRSSVLHSTQDL...HYT', SingleLetterAlphabet()) 1273\n",
      "126 tr|A0A6G7S658|A0A6G7S658_SARS2 Seq('MFVFLVLLPLVSSQCVNLTTRTQLPPAYTNSFTRGVYYPDKVFRSSVLHSTQDL...HYT', SingleLetterAlphabet()) 1273\n",
      "127 tr|A0A6H1PMM5|A0A6H1PMM5_SARS2 Seq('MFVFLVLLPLVSSQCVNLTTRTQLPPAYTNSFTRGVYYPDKVFRSSVLHSTQDL...HYT', SingleLetterAlphabet()) 1273\n",
      "128 tr|A0A6G7K2M4|A0A6G7K2M4_SARS2 Seq('MFVFLVLLPLVSSQCVNLTTRTQLPPAYTNSFTRGVYYPDKVFRSSVLHSTQDL...HYT', SingleLetterAlphabet()) 1273\n",
      "129 tr|A0A6H2TXT6|A0A6H2TXT6_SARS2 Seq('MFVFLVLLPLVSSQCVNLTTRTQLPPAYTNSFTRGVYYPDKVFRSSVLHSTQDL...HYT', SingleLetterAlphabet()) 1273\n",
      "130 tr|A0A6C0X2H7|A0A6C0X2H7_SARS2 Seq('MFVFLVLLPLVSSQCVNLTTRTQLPPAYTNSFTRGVYYPDKVFRSSVLHSTQDL...HYT', SingleLetterAlphabet()) 1273\n",
      "131 tr|A0A6C0RQ44|A0A6C0RQ44_SARS2 Seq('MFVFLVLLPLVSSQCVNLTTRTQLPPANTNSFTRGVYYPDKVFRSSVLHSTQDL...HYT', SingleLetterAlphabet()) 1273\n",
      "132 tr|A0A6C0QGH5|A0A6C0QGH5_SARS2 Seq('MFVFLVLLPLVSSQCVNLTTRTQLPPAYTNSFTRGVYYPDKVFRSSVLHSTQDL...HYT', SingleLetterAlphabet()) 1273\n",
      "133 tr|A0A6P3CTT1|A0A6P3CTT1_SARS2 Seq('MFVFLVLLPLVSSQCVNLTTRTQLPPAYTNSFTRGVYYPDKVFRSSVLYSTQDL...HYT', SingleLetterAlphabet()) 1273\n",
      "134 tr|A0A6B9XJC0|A0A6B9XJC0_SARS2 Seq('MFVFLVLLPLVSSQCVNLTTRTQLPPAYTNSFTRGVYYPDKVFRSSVLHSTQDL...HYT', SingleLetterAlphabet()) 1273\n"
     ]
    }
   ],
   "source": [
    "# una forma de abrir un archivo fasta y obtener la información de cada secuencia\n",
    "# como se observa la función `SeqIO.parse` se le especifica el tipo de formato que se desea abrir \n",
    "# la función `enumerate` sirve para indizar un objeto iterado\n",
    "\n",
    "for e, registro in enumerate(SeqIO.parse(\"../DB/SARS-CoV_&_SARS-CoV-2.faa\", \"fasta\")):\n",
    "    print(e+1, registro.id, repr(registro.seq), len(registro))"
   ]
  },
  {
   "cell_type": "code",
   "execution_count": null,
   "metadata": {},
   "outputs": [],
   "source": []
  },
  {
   "cell_type": "code",
   "execution_count": 95,
   "metadata": {},
   "outputs": [
    {
     "name": "stdout",
     "output_type": "stream",
     "text": [
      "sp|Q0Q475|SPIKE_BC279\n",
      "sp|Q3I5J5|SPIKE_BCRP3\n",
      "sp|Q3LZX1|SPIKE_BCHK3\n",
      "tr|A0A2R3SUW9|A0A2R3SUW9_SARS\n",
      "tr|A0A2R3SUW7|A0A2R3SUW7_SARS\n",
      "sp|P0DTC2|SPIKE_SARS2\n",
      "tr|A0A0U1WJY8|A0A0U1WJY8_SARS\n",
      "tr|A0A0U1WHI6|A0A0U1WHI6_SARS\n",
      "tr|R9QTA0|R9QTA0_SARS\n",
      "tr|A0A2D1PX73|A0A2D1PX73_SARS\n",
      "tr|A0A2D1PX05|A0A2D1PX05_SARS\n",
      "tr|A0A2D1PX88|A0A2D1PX88_SARS\n",
      "tr|A0A2D1PX44|A0A2D1PX44_SARS\n",
      "tr|A0A0U1WHH0|A0A0U1WHH0_SARS\n",
      "tr|A0A0U1WHI2|A0A0U1WHI2_SARS\n",
      "tr|A0A0K1Z074|A0A0K1Z074_SARS\n",
      "tr|A0A0K1Z054|A0A0K1Z054_SARS\n",
      "tr|R9QTH3|R9QTH3_SARS\n",
      "tr|D2DJW4|D2DJW4_SARS\n",
      "tr|Q0Q484|Q0Q484_SARS\n",
      "tr|Q0QDZ0|Q0QDZ0_SARS\n",
      "tr|Q0QDX9|Q0QDX9_SARS\n",
      "tr|A0A2D1PX86|A0A2D1PX86_SARS\n",
      "tr|A0A0U1WHJ8|A0A0U1WHJ8_SARS\n",
      "tr|A0A096XNM6|A0A096XNM6_SARS\n",
      "tr|D5HJY0|D5HJY0_BCHK3\n",
      "tr|D5HJZ1|D5HJZ1_BCHK3\n",
      "tr|D5HK02|D5HK02_BCHK3\n",
      "tr|D5HJT4|D5HJT4_BCHK3\n",
      "tr|D5HJU5|D5HJU5_BCHK3\n",
      "tr|Q3LZV3|Q3LZV3_BCHK3\n",
      "tr|A0A3G5BJ32|A0A3G5BJ32_SARS\n",
      "tr|A0A2D1PXA9|A0A2D1PXA9_SARS\n",
      "tr|A0A2D1PX97|A0A2D1PX97_SARS\n",
      "tr|S5YMR9|S5YMR9_SARS\n",
      "tr|J9SFL2|J9SFL2_SARS\n",
      "tr|J9TDZ0|J9TDZ0_SARS\n",
      "tr|I6QPV5|I6QPV5_SARS\n",
      "tr|F2YCW3|F2YCW3_SARS\n",
      "tr|F2YCT3|F2YCT3_SARS\n",
      "tr|D3KDM5|D3KDM5_SARS\n",
      "tr|D2E2F2|D2E2F2_SARS\n",
      "tr|D2E221|D2E221_SARS\n",
      "tr|D2E2T4|D2E2T4_SARS\n",
      "tr|D2E2C3|D2E2C3_SARS\n",
      "tr|D2E2M5|D2E2M5_SARS\n",
      "tr|D2E1K6|D2E1K6_SARS\n",
      "tr|D2E250|D2E250_SARS\n",
      "tr|D2E2D8|D2E2D8_SARS\n",
      "tr|D2E1H7|D2E1H7_SARS\n",
      "tr|D2E1Z1|D2E1Z1_SARS\n",
      "tr|D2E206|D2E206_SARS\n",
      "tr|C4P6Q7|C4P6Q7_SARS\n",
      "tr|B8Q8U8|B8Q8U8_SARS\n",
      "tr|B8Q8T7|B8Q8T7_SARS\n",
      "tr|B8Q8V9|B8Q8V9_SARS\n",
      "tr|B8Q8S6|B8Q8S6_SARS\n",
      "tr|A4ZF29|A4ZF29_SARS\n",
      "tr|A4ZF26|A4ZF26_SARS\n",
      "tr|A4ZF28|A4ZF28_SARS\n",
      "tr|A4ZF30|A4ZF30_SARS\n",
      "tr|A4ZF27|A4ZF27_SARS\n",
      "tr|A1IHM8|A1IHM8_SARS\n",
      "tr|Q1T6X6|Q1T6X6_SARS\n",
      "tr|Q202G3|Q202G3_SARS\n",
      "tr|Q202E5|Q202E5_SARS\n",
      "tr|Q202F2|Q202F2_SARS\n",
      "tr|Q202E6|Q202E6_SARS\n",
      "tr|Q202H8|Q202H8_SARS\n",
      "tr|Q202G5|Q202G5_SARS\n",
      "tr|Q202H5|Q202H5_SARS\n",
      "tr|Q202G8|Q202G8_SARS\n",
      "tr|Q202F4|Q202F4_SARS\n",
      "tr|Q202F5|Q202F5_SARS\n",
      "tr|Q202F9|Q202F9_SARS\n",
      "tr|Q3ZTC5|Q3ZTC5_SARS\n",
      "tr|Q3ZTC8|Q3ZTC8_SARS\n",
      "tr|Q3ZTE0|Q3ZTE0_SARS\n",
      "tr|Q3ZTC7|Q3ZTC7_SARS\n",
      "tr|Q3ZTF3|Q3ZTF3_SARS\n",
      "tr|Q4JDM3|Q4JDM3_SARS\n",
      "tr|Q4JDN4|Q4JDN4_SARS\n",
      "tr|Q4JDM6|Q4JDM6_SARS\n",
      "tr|Q4JDM5|Q4JDM5_SARS\n",
      "tr|Q4JDN7|Q4JDN7_SARS\n",
      "tr|Q4JDP1|Q4JDP1_SARS\n",
      "tr|Q4JDN1|Q4JDN1_SARS\n",
      "tr|Q4JDM4|Q4JDM4_SARS\n",
      "tr|Q4JDP0|Q4JDP0_SARS\n",
      "tr|Q4JDN6|Q4JDN6_SARS\n",
      "tr|Q4JDM8|Q4JDM8_SARS\n",
      "tr|Q4JDP2|Q4JDP2_SARS\n",
      "tr|Q5GDJ6|Q5GDJ6_SARS\n",
      "tr|Q5GDB6|Q5GDB6_SARS\n",
      "tr|Q5GDB3|Q5GDB3_SARS\n",
      "tr|Q5GDB5|Q5GDB5_SARS\n",
      "tr|Q5GDB4|Q5GDB4_SARS\n",
      "tr|Q5Y187|Q5Y187_SARS\n",
      "tr|Q692E4|Q692E4_SARS\n",
      "tr|Q6R7Y6|Q6R7Y6_SARS\n",
      "tr|Q6JH46|Q6JH46_SARS\n",
      "tr|Q6T7Y1|Q6T7Y1_SARS\n",
      "tr|Q6T7X7|Q6T7X7_SARS\n",
      "tr|Q6T7Y0|Q6T7Y0_SARS\n",
      "tr|Q6T7X9|Q6T7X9_SARS\n",
      "tr|Q6T7X8|Q6T7X8_SARS\n",
      "tr|Q6T7X6|Q6T7X6_SARS\n",
      "tr|Q6T7X5|Q6T7X5_SARS\n",
      "tr|Q6T7X4|Q6T7X4_SARS\n",
      "sp|P59594|SPIKE_SARS\n",
      "tr|A0A2D1PXD5|A0A2D1PXD5_SARS\n",
      "tr|A0A2D1PX29|A0A2D1PX29_SARS\n",
      "tr|A0A2D1PXC0|A0A2D1PXC0_SARS\n",
      "tr|U5WLK5|U5WLK5_SARS\n",
      "tr|U5WHZ7|U5WHZ7_SARS\n",
      "tr|U5WI05|U5WI05_SARS\n",
      "tr|A0A023PTS3|A0A023PTS3_SARS\n",
      "tr|A0A023PUW9|A0A023PUW9_SARS\n",
      "tr|A0A6B9WHD3|A0A6B9WHD3_SARS\n",
      "tr|A0A6G5ZVU5|A0A6G5ZVU5_SARS2\n",
      "tr|A0A6H1PJZ3|A0A6H1PJZ3_SARS2\n",
      "tr|A0A6G9KF55|A0A6G9KF55_SARS2\n",
      "tr|A0A6G9KFP7|A0A6G9KFP7_SARS2\n",
      "tr|A0A6G9HF12|A0A6G9HF12_SARS2\n",
      "tr|A0A6G8RR89|A0A6G8RR89_SARS2\n",
      "tr|A0A6G7S658|A0A6G7S658_SARS2\n",
      "tr|A0A6H1PMM5|A0A6H1PMM5_SARS2\n",
      "tr|A0A6G7K2M4|A0A6G7K2M4_SARS2\n",
      "tr|A0A6H2TXT6|A0A6H2TXT6_SARS2\n",
      "tr|A0A6C0X2H7|A0A6C0X2H7_SARS2\n",
      "tr|A0A6C0RQ44|A0A6C0RQ44_SARS2\n",
      "tr|A0A6C0QGH5|A0A6C0QGH5_SARS2\n",
      "tr|A0A6P3CTT1|A0A6P3CTT1_SARS2\n",
      "tr|A0A6B9XJC0|A0A6B9XJC0_SARS2\n"
     ]
    }
   ],
   "source": [
    "\"\"\"\n",
    "esta es una buena opcición si se quiere editar el encabezado de todas las secuencias, eliminar o adicionar información\n",
    "para crear un archivo fasta nuevo\n",
    "\n",
    "como se muestra en el siguiente ejemplo\n",
    "\"\"\"\n",
    "\n",
    "for registro in SeqIO.parse(\"../DB/SARS-CoV_&_SARS-CoV-2.faa\", \"fasta\"):\n",
    "    print(registro.id)"
   ]
  },
  {
   "cell_type": "code",
   "execution_count": null,
   "metadata": {},
   "outputs": [],
   "source": []
  },
  {
   "cell_type": "markdown",
   "metadata": {},
   "source": [
    "##### un ejemplo de edición del encabezado"
   ]
  },
  {
   "cell_type": "code",
   "execution_count": 96,
   "metadata": {},
   "outputs": [],
   "source": [
    "# se importa el módulo de edición de cadenas de caracteres, atributo para sustituciones = `re.sub`\n",
    "import re"
   ]
  },
  {
   "cell_type": "code",
   "execution_count": 98,
   "metadata": {},
   "outputs": [
    {
     "name": "stdout",
     "output_type": "stream",
     "text": [
      "Q0Q475\n",
      "Q3I5J5\n",
      "Q3LZX1\n",
      "A0A2R3SUW9\n",
      "A0A2R3SUW7\n",
      "P0DTC2\n",
      "A0A0U1WJY8\n",
      "A0A0U1WHI6\n",
      "R9QTA0\n",
      "A0A2D1PX73\n",
      "A0A2D1PX05\n",
      "A0A2D1PX88\n",
      "A0A2D1PX44\n",
      "A0A0U1WHH0\n",
      "A0A0U1WHI2\n",
      "A0A0K1Z074\n",
      "A0A0K1Z054\n",
      "R9QTH3\n",
      "D2DJW4\n",
      "Q0Q484\n",
      "Q0QDZ0\n",
      "Q0QDX9\n",
      "A0A2D1PX86\n",
      "A0A0U1WHJ8\n",
      "A0A096XNM6\n",
      "D5HJY0\n",
      "D5HJZ1\n",
      "D5HK02\n",
      "D5HJT4\n",
      "D5HJU5\n",
      "Q3LZV3\n",
      "A0A3G5BJ32\n",
      "A0A2D1PXA9\n",
      "A0A2D1PX97\n",
      "S5YMR9\n",
      "J9SFL2\n",
      "J9TDZ0\n",
      "I6QPV5\n",
      "F2YCW3\n",
      "F2YCT3\n",
      "D3KDM5\n",
      "D2E2F2\n",
      "D2E221\n",
      "D2E2T4\n",
      "D2E2C3\n",
      "D2E2M5\n",
      "D2E1K6\n",
      "D2E250\n",
      "D2E2D8\n",
      "D2E1H7\n",
      "D2E1Z1\n",
      "D2E206\n",
      "C4P6Q7\n",
      "B8Q8U8\n",
      "B8Q8T7\n",
      "B8Q8V9\n",
      "B8Q8S6\n",
      "A4ZF29\n",
      "A4ZF26\n",
      "A4ZF28\n",
      "A4ZF30\n",
      "A4ZF27\n",
      "A1IHM8\n",
      "Q1T6X6\n",
      "Q202G3\n",
      "Q202E5\n",
      "Q202F2\n",
      "Q202E6\n",
      "Q202H8\n",
      "Q202G5\n",
      "Q202H5\n",
      "Q202G8\n",
      "Q202F4\n",
      "Q202F5\n",
      "Q202F9\n",
      "Q3ZTC5\n",
      "Q3ZTC8\n",
      "Q3ZTE0\n",
      "Q3ZTC7\n",
      "Q3ZTF3\n",
      "Q4JDM3\n",
      "Q4JDN4\n",
      "Q4JDM6\n",
      "Q4JDM5\n",
      "Q4JDN7\n",
      "Q4JDP1\n",
      "Q4JDN1\n",
      "Q4JDM4\n",
      "Q4JDP0\n",
      "Q4JDN6\n",
      "Q4JDM8\n",
      "Q4JDP2\n",
      "Q5GDJ6\n",
      "Q5GDB6\n",
      "Q5GDB3\n",
      "Q5GDB5\n",
      "Q5GDB4\n",
      "Q5Y187\n",
      "Q692E4\n",
      "Q6R7Y6\n",
      "Q6JH46\n",
      "Q6T7Y1\n",
      "Q6T7X7\n",
      "Q6T7Y0\n",
      "Q6T7X9\n",
      "Q6T7X8\n",
      "Q6T7X6\n",
      "Q6T7X5\n",
      "Q6T7X4\n",
      "P59594\n",
      "A0A2D1PXD5\n",
      "A0A2D1PX29\n",
      "A0A2D1PXC0\n",
      "U5WLK5\n",
      "U5WHZ7\n",
      "U5WI05\n",
      "A0A023PTS3\n",
      "A0A023PUW9\n",
      "A0A6B9WHD3\n",
      "A0A6G5ZVU5\n",
      "A0A6H1PJZ3\n",
      "A0A6G9KF55\n",
      "A0A6G9KFP7\n",
      "A0A6G9HF12\n",
      "A0A6G8RR89\n",
      "A0A6G7S658\n",
      "A0A6H1PMM5\n",
      "A0A6G7K2M4\n",
      "A0A6H2TXT6\n",
      "A0A6C0X2H7\n",
      "A0A6C0RQ44\n",
      "A0A6C0QGH5\n",
      "A0A6P3CTT1\n",
      "A0A6B9XJC0\n"
     ]
    }
   ],
   "source": [
    "# opción 1\n",
    "for registro in SeqIO.parse(\"../DB/SARS-CoV_&_SARS-CoV-2.faa\", \"fasta\"):\n",
    "    modificacion1 = re.sub('^...', '', registro.id)\n",
    "    print(re.sub('[|].*', '', modificacion1))"
   ]
  },
  {
   "cell_type": "code",
   "execution_count": 105,
   "metadata": {},
   "outputs": [
    {
     "name": "stdout",
     "output_type": "stream",
     "text": [
      "Q0Q475\n",
      "Q3I5J5\n",
      "Q3LZX1\n",
      "A0A2R3SUW9\n",
      "A0A2R3SUW7\n",
      "P0DTC2\n",
      "A0A0U1WJY8\n",
      "A0A0U1WHI6\n",
      "R9QTA0\n",
      "A0A2D1PX73\n",
      "A0A2D1PX05\n",
      "A0A2D1PX88\n",
      "A0A2D1PX44\n",
      "A0A0U1WHH0\n",
      "A0A0U1WHI2\n",
      "A0A0K1Z074\n",
      "A0A0K1Z054\n",
      "R9QTH3\n",
      "D2DJW4\n",
      "Q0Q484\n",
      "Q0QDZ0\n",
      "Q0QDX9\n",
      "A0A2D1PX86\n",
      "A0A0U1WHJ8\n",
      "A0A096XNM6\n",
      "D5HJY0\n",
      "D5HJZ1\n",
      "D5HK02\n",
      "D5HJT4\n",
      "D5HJU5\n",
      "Q3LZV3\n",
      "A0A3G5BJ32\n",
      "A0A2D1PXA9\n",
      "A0A2D1PX97\n",
      "S5YMR9\n",
      "J9SFL2\n",
      "J9TDZ0\n",
      "I6QPV5\n",
      "F2YCW3\n",
      "F2YCT3\n",
      "D3KDM5\n",
      "D2E2F2\n",
      "D2E221\n",
      "D2E2T4\n",
      "D2E2C3\n",
      "D2E2M5\n",
      "D2E1K6\n",
      "D2E250\n",
      "D2E2D8\n",
      "D2E1H7\n",
      "D2E1Z1\n",
      "D2E206\n",
      "C4P6Q7\n",
      "B8Q8U8\n",
      "B8Q8T7\n",
      "B8Q8V9\n",
      "B8Q8S6\n",
      "A4ZF29\n",
      "A4ZF26\n",
      "A4ZF28\n",
      "A4ZF30\n",
      "A4ZF27\n",
      "A1IHM8\n",
      "Q1T6X6\n",
      "Q202G3\n",
      "Q202E5\n",
      "Q202F2\n",
      "Q202E6\n",
      "Q202H8\n",
      "Q202G5\n",
      "Q202H5\n",
      "Q202G8\n",
      "Q202F4\n",
      "Q202F5\n",
      "Q202F9\n",
      "Q3ZTC5\n",
      "Q3ZTC8\n",
      "Q3ZTE0\n",
      "Q3ZTC7\n",
      "Q3ZTF3\n",
      "Q4JDM3\n",
      "Q4JDN4\n",
      "Q4JDM6\n",
      "Q4JDM5\n",
      "Q4JDN7\n",
      "Q4JDP1\n",
      "Q4JDN1\n",
      "Q4JDM4\n",
      "Q4JDP0\n",
      "Q4JDN6\n",
      "Q4JDM8\n",
      "Q4JDP2\n",
      "Q5GDJ6\n",
      "Q5GDB6\n",
      "Q5GDB3\n",
      "Q5GDB5\n",
      "Q5GDB4\n",
      "Q5Y187\n",
      "Q692E4\n",
      "Q6R7Y6\n",
      "Q6JH46\n",
      "Q6T7Y1\n",
      "Q6T7X7\n",
      "Q6T7Y0\n",
      "Q6T7X9\n",
      "Q6T7X8\n",
      "Q6T7X6\n",
      "Q6T7X5\n",
      "Q6T7X4\n",
      "P59594\n",
      "A0A2D1PXD5\n",
      "A0A2D1PX29\n",
      "A0A2D1PXC0\n",
      "U5WLK5\n",
      "U5WHZ7\n",
      "U5WI05\n",
      "A0A023PTS3\n",
      "A0A023PUW9\n",
      "A0A6B9WHD3\n",
      "A0A6G5ZVU5\n",
      "A0A6H1PJZ3\n",
      "A0A6G9KF55\n",
      "A0A6G9KFP7\n",
      "A0A6G9HF12\n",
      "A0A6G8RR89\n",
      "A0A6G7S658\n",
      "A0A6H1PMM5\n",
      "A0A6G7K2M4\n",
      "A0A6H2TXT6\n",
      "A0A6C0X2H7\n",
      "A0A6C0RQ44\n",
      "A0A6C0QGH5\n",
      "A0A6P3CTT1\n",
      "A0A6B9XJC0\n"
     ]
    }
   ],
   "source": [
    "# opción 2\n",
    "for registro in SeqIO.parse(\"../DB/SARS-CoV_&_SARS-CoV-2.faa\", \"fasta\"):\n",
    "    print(registro.id.split('|')[1])"
   ]
  },
  {
   "cell_type": "code",
   "execution_count": null,
   "metadata": {},
   "outputs": [],
   "source": []
  },
  {
   "cell_type": "markdown",
   "metadata": {},
   "source": [
    "#### cómo elegir las secuencias 20 y 50 a partir del archivo"
   ]
  },
  {
   "cell_type": "code",
   "execution_count": 111,
   "metadata": {},
   "outputs": [
    {
     "name": "stdout",
     "output_type": "stream",
     "text": [
      "20 tr|Q0Q484|Q0Q484_SARS Seq('MKILIFAFLVTLVKAQEGCGVINLRTQPKLTQVSSSRRGVYYNDDIFRSDVLHL...HYT', SingleLetterAlphabet()) 1241\n",
      "50 tr|D2E1H7|D2E1H7_SARS Seq('MFIFLLFLTLTSGSDLDRCTTFDDVQAPNYTQHTSSMRGVYYPDEIFRSDTLYL...HYT', SingleLetterAlphabet()) 1255\n"
     ]
    }
   ],
   "source": [
    "# el objeto `SeqRecord` es iterado para localizar las secuencias deseadas\n",
    "for e, seq_record in enumerate(SeqIO.parse(\"../DB/SARS-CoV_&_SARS-CoV-2.faa\", \"fasta\")):\n",
    "    if e+1 in [20, 50]:\n",
    "        print(e+1, seq_record.id, repr(seq_record.seq), len(seq_record))"
   ]
  },
  {
   "cell_type": "code",
   "execution_count": null,
   "metadata": {},
   "outputs": [],
   "source": []
  },
  {
   "cell_type": "markdown",
   "metadata": {},
   "source": [
    "#### cómo elegir secuencias con identificadores específicos (D5HJT4, Q3ZTF3, P59594)"
   ]
  },
  {
   "cell_type": "code",
   "execution_count": 112,
   "metadata": {},
   "outputs": [
    {
     "name": "stdout",
     "output_type": "stream",
     "text": [
      "29 tr|D5HJT4|D5HJT4_BCHK3 Seq('MKILIFAFLASLAKAQEGCGIISRKPQPKMAQVSSSRRGVYYNDDIFRSDVLHL...HYT', SingleLetterAlphabet()) 1242\n",
      "80 tr|Q3ZTF3|Q3ZTF3_SARS Seq('MFIFLLFLTLTSGSDLDRCTTFDDVQAPNYTQHTSSMRGVYYPDEIFRSDTLYL...HYT', SingleLetterAlphabet()) 1255\n",
      "110 sp|P59594|SPIKE_SARS Seq('MFIFLLFLTLTSGSDLDRCTTFDDVQAPNYTQHTSSMRGVYYPDEIFRSDTLYL...HYT', SingleLetterAlphabet()) 1255\n",
      "125 tr|A0A6G8RR89|A0A6G8RR89_SARS2 Seq('MFVFLVLLPLVSSQCVNLTTRTQLPPAYTNSFTRGVYYPDKVFRSSVLHSTQDL...HYT', SingleLetterAlphabet()) 1273\n"
     ]
    }
   ],
   "source": [
    "for e, seq_record in enumerate(SeqIO.parse(\"../DB/SARS-CoV_&_SARS-CoV-2.faa\", \"fasta\")):\n",
    "    for iden in ['D5HJT4', 'Q3ZTF3', 'P59594', 'A0A6G8RR89']:\n",
    "        if iden in seq_record.id:\n",
    "            print(e+1, seq_record.id, repr(seq_record.seq), len(seq_record))"
   ]
  },
  {
   "cell_type": "code",
   "execution_count": null,
   "metadata": {},
   "outputs": [],
   "source": []
  },
  {
   "cell_type": "markdown",
   "metadata": {},
   "source": [
    "#### ahora se muestra solo el encabezado de cada secuencia"
   ]
  },
  {
   "cell_type": "code",
   "execution_count": 113,
   "metadata": {},
   "outputs": [
    {
     "name": "stdout",
     "output_type": "stream",
     "text": [
      "29 tr|D5HJT4|D5HJT4_BCHK3 Spike glycoprotein OS=Bat SARS coronavirus HKU3-7 OX=742004 GN=S PE=3 SV=1\n",
      "80 tr|Q3ZTF3|Q3ZTF3_SARS Spike glycoprotein OS=Civet SARS CoV 007/2004 OX=285945 GN=S PE=3 SV=1\n",
      "110 sp|P59594|SPIKE_SARS Spike glycoprotein OS=Severe acute respiratory syndrome coronavirus OX=694009 GN=S PE=1 SV=1\n",
      "125 tr|A0A6G8RR89|A0A6G8RR89_SARS2 Spike glycoprotein OS=Severe acute respiratory syndrome coronavirus 2 OX=2697049 GN=S PE=3 SV=1\n"
     ]
    }
   ],
   "source": [
    "for e, seq_record in enumerate(SeqIO.parse(\"../DB/SARS-CoV_&_SARS-CoV-2.faa\", \"fasta\")):\n",
    "    for iden in ['D5HJT4', 'Q3ZTF3', 'P59594', 'A0A6G8RR89']:\n",
    "        if iden in seq_record.id:\n",
    "            print(e+1, seq_record.description)"
   ]
  },
  {
   "cell_type": "code",
   "execution_count": null,
   "metadata": {},
   "outputs": [],
   "source": []
  },
  {
   "cell_type": "markdown",
   "metadata": {},
   "source": [
    "* ### Archivos en formato Genbank"
   ]
  },
  {
   "cell_type": "code",
   "execution_count": null,
   "metadata": {},
   "outputs": [],
   "source": []
  },
  {
   "cell_type": "markdown",
   "metadata": {},
   "source": [
    "#### objeto SeqRecord a partir de archivos genbank"
   ]
  },
  {
   "cell_type": "code",
   "execution_count": 115,
   "metadata": {},
   "outputs": [],
   "source": [
    "# se abre el archivo p53_humano.gb localizado en el folder DB y se guarda como objeto `SeqRecord`\n",
    "sec_genbank = SeqIO.read(\"../DB/p53_humano.gb\", \"genbank\")"
   ]
  },
  {
   "cell_type": "code",
   "execution_count": null,
   "metadata": {},
   "outputs": [],
   "source": []
  },
  {
   "cell_type": "code",
   "execution_count": 116,
   "metadata": {},
   "outputs": [
    {
     "data": {
      "text/plain": [
       "SeqRecord(seq=Seq('GTCTAGAGCCACCGTCCAGGGAGCAGGTAGCTGCTGGGCTCCGGGGACACTTTG...TGA', IUPACAmbiguousDNA()), id='X02469.1', name='X02469', description='Human mRNA for p53 cellular tumor antigen', dbxrefs=[])"
      ]
     },
     "execution_count": 116,
     "metadata": {},
     "output_type": "execute_result"
    }
   ],
   "source": [
    "# visualización del objeto `SeqRecord`\n",
    "sec_genbank"
   ]
  },
  {
   "cell_type": "code",
   "execution_count": null,
   "metadata": {},
   "outputs": [],
   "source": []
  },
  {
   "cell_type": "code",
   "execution_count": 117,
   "metadata": {},
   "outputs": [
    {
     "data": {
      "text/plain": [
       "Seq('GTCTAGAGCCACCGTCCAGGGAGCAGGTAGCTGCTGGGCTCCGGGGACACTTTG...TGA', IUPACAmbiguousDNA())"
      ]
     },
     "execution_count": 117,
     "metadata": {},
     "output_type": "execute_result"
    }
   ],
   "source": [
    "# muestra el resultado del atributo `seq`\n",
    "sec_genbank.seq"
   ]
  },
  {
   "cell_type": "code",
   "execution_count": 136,
   "metadata": {},
   "outputs": [
    {
     "name": "stdout",
     "output_type": "stream",
     "text": [
      "GTCTAGAGCCACCGTCCAGGGAGCAGGTAGCTGCTGGGCTCCGGGGACACTTTGCGTTCGGGCTGGGAGCGTGCTTTCCACGACGGTGACACGCTTCCCTGGATTGGCAGCCAGACTGCCTTCCGGGTCACTGCCATGGAGGAGCCGCAGTCAGATCCTAGCGTCGAGCCCCCTCTGAGTCAGGAAACATTTTCAGACCTATGGAAACTACTTCCTGAAAACAACGTTCTGTCCCCCTTGCCGTCCCAAGCAATGGATGATTTGATGCTGTCCCCGGACGATATTGAACAATGGTTCACTGAAGACCCAGGTCCAGATGAAGCTCCCAGAATGCCAGAGGCTGCTCCCCCCGTGGCCCCTGCACCAGCAGCTCCTACACCGGCGGCCCCTGCACCAGCCCCCTCCTGGCCCCTGTCATCTTCTGTCCCTTCCCAGAAAACCTACCAGGGCAGCTACGGTTTCCGTCTGGGCTTCTTGCATTCTGGGACAGCCAAGTCTGTGACTTGCACGTACTCCCCTGCCCTCAACAAGATGTTTTGCCAACTGGCCAAGACCTGCCCTGTGCAGCTGTGGGTTGATTCCACACCCCCGCCCGGCACCCGCGTCCGCGCCATGGCCATCTACAAGCAGTCACAGCACATGACGGAGGTTGTGAGGCGCTGCCCCCACCATGAGCGCTGCTCAGATAGCGATGGTCTGGCCCCTCCTCAGCATCTTATCCGAGTGGAAGGAAATTTGCGTGTGGAGTATTTGGATGACAGAAACACTTTTCGACATAGTGTGGTGGTGCCCTATGAGCCGCCTGAGGTTGGCTCTGACTGTACCACCATCCACTACAACTACATGTGTAACAGTTCCTGCATGGGCGGCATGAACCGGAGGCCCATCCTCACCATCATCACACTGGAAGACTCCAGTGGTAATCTACTGGGACGGAACAGCTTTGAGGTGCGTGTTTGTGCCTGTCCTGGGAGAGACCGGCGCACAGAGGAAGAGAATCTCCGCAAGAAAGGGGAGCCTCACCACGAGCTGCCCCCAGGGAGCACTAAGCGAGCACTGCCCAACAACACCAGCTCCTCTCCCCAGCCAAAGAAGAAACCACTGGATGGAGAATATTTCACCCTTCAGATCCGTGGGCGTGAGCGCTTCGAGATGTTCCGAGAGCTGAATGAGGCCTTGGAACTCAAGGATGCCCAGGCTGGGAAGGAGCCAGGGGGGAGCAGGGCTCACTCCAGCCACCTGAAGTCCAAAAAGGGTCAGTCTACCTCCCGCCATAAAAAACTCATGTTCAAGACAGAAGGGCCTGACTCAGACTGA\n"
     ]
    }
   ],
   "source": [
    "print(sec_genbank.seq)"
   ]
  },
  {
   "cell_type": "code",
   "execution_count": null,
   "metadata": {},
   "outputs": [],
   "source": []
  },
  {
   "cell_type": "code",
   "execution_count": 137,
   "metadata": {},
   "outputs": [
    {
     "data": {
      "text/plain": [
       "'X02469.1'"
      ]
     },
     "execution_count": 137,
     "metadata": {},
     "output_type": "execute_result"
    }
   ],
   "source": [
    "# muestra el resultado del atributo `id`\n",
    "sec_genbank.id"
   ]
  },
  {
   "cell_type": "code",
   "execution_count": 138,
   "metadata": {},
   "outputs": [
    {
     "data": {
      "text/plain": [
       "'X02469'"
      ]
     },
     "execution_count": 138,
     "metadata": {},
     "output_type": "execute_result"
    }
   ],
   "source": [
    "# muestra el resultado del atributo `name`\n",
    "sec_genbank.name"
   ]
  },
  {
   "cell_type": "code",
   "execution_count": null,
   "metadata": {},
   "outputs": [],
   "source": []
  },
  {
   "cell_type": "code",
   "execution_count": 139,
   "metadata": {},
   "outputs": [
    {
     "data": {
      "text/plain": [
       "{'molecule_type': 'mRNA',\n",
       " 'topology': 'linear',\n",
       " 'data_file_division': 'PRI',\n",
       " 'date': '12-SEP-1993',\n",
       " 'accessions': ['X02469', 'M60950'],\n",
       " 'sequence_version': 1,\n",
       " 'keywords': ['antigen', 'tumor antigen'],\n",
       " 'source': 'Homo sapiens (human)',\n",
       " 'organism': 'Homo sapiens',\n",
       " 'taxonomy': ['Eukaryota',\n",
       "  'Metazoa',\n",
       "  'Chordata',\n",
       "  'Craniata',\n",
       "  'Vertebrata',\n",
       "  'Euteleostomi',\n",
       "  'Mammalia',\n",
       "  'Eutheria',\n",
       "  'Euarchontoglires',\n",
       "  'Primates',\n",
       "  'Haplorrhini',\n",
       "  'Catarrhini',\n",
       "  'Hominidae',\n",
       "  'Homo'],\n",
       " 'references': [Reference(title='Human p53 cellular tumor antigen: cDNA sequence and expression in COS cells', ...)],\n",
       " 'comment': 'Data kindly reviewed (19-FEB-1986) by D. Givol.'}"
      ]
     },
     "execution_count": 139,
     "metadata": {},
     "output_type": "execute_result"
    }
   ],
   "source": [
    "# el atributo `annotations` devuelve un diccionario con información relevante de la secuenica\n",
    "sec_genbank.annotations"
   ]
  },
  {
   "cell_type": "code",
   "execution_count": null,
   "metadata": {},
   "outputs": [],
   "source": []
  },
  {
   "cell_type": "code",
   "execution_count": 140,
   "metadata": {},
   "outputs": [
    {
     "name": "stdout",
     "output_type": "stream",
     "text": [
      "['Eukaryota', 'Metazoa', 'Chordata', 'Craniata', 'Vertebrata', 'Euteleostomi', 'Mammalia', 'Eutheria', 'Euarchontoglires', 'Primates', 'Haplorrhini', 'Catarrhini', 'Hominidae', 'Homo']\n"
     ]
    }
   ],
   "source": [
    "# explorando la clave ['taxonomy'] del diccionario\n",
    "print(sec_genbank.annotations['taxonomy'])"
   ]
  },
  {
   "cell_type": "code",
   "execution_count": 141,
   "metadata": {},
   "outputs": [
    {
     "name": "stdout",
     "output_type": "stream",
     "text": [
      "Homo sapiens (human)\n"
     ]
    }
   ],
   "source": [
    "# explora la clave ['taxonomy'] del diccionario\n",
    "print(sec_genbank.annotations['source'])"
   ]
  },
  {
   "cell_type": "code",
   "execution_count": 142,
   "metadata": {},
   "outputs": [
    {
     "name": "stdout",
     "output_type": "stream",
     "text": [
      "[Reference(title='Human p53 cellular tumor antigen: cDNA sequence and expression in COS cells', ...)]\n"
     ]
    }
   ],
   "source": [
    "print(sec_genbank.annotations['references'])"
   ]
  },
  {
   "cell_type": "code",
   "execution_count": 143,
   "metadata": {},
   "outputs": [
    {
     "name": "stdout",
     "output_type": "stream",
     "text": [
      "location: [0:1317]\n",
      "authors: Zakut-Houri,R., Bienz-Tadmor,B., Givol,D. and Oren,M.\n",
      "title: Human p53 cellular tumor antigen: cDNA sequence and expression in COS cells\n",
      "journal: EMBO J. 4 (5), 1251-1255 (1985)\n",
      "medline id: \n",
      "pubmed id: 4006916\n",
      "comment: \n",
      "\n"
     ]
    }
   ],
   "source": [
    "# la clave 'references' tiene otros atributos que explorar\n",
    "print(sec_genbank.annotations['references'][0])"
   ]
  },
  {
   "cell_type": "code",
   "execution_count": 144,
   "metadata": {},
   "outputs": [
    {
     "name": "stdout",
     "output_type": "stream",
     "text": [
      "Zakut-Houri,R., Bienz-Tadmor,B., Givol,D. and Oren,M.\n"
     ]
    }
   ],
   "source": [
    "# la clave 'references' tiene otros atributos que explorar\n",
    "print(sec_genbank.annotations['references'][0].authors)"
   ]
  },
  {
   "cell_type": "code",
   "execution_count": null,
   "metadata": {},
   "outputs": [],
   "source": []
  },
  {
   "cell_type": "code",
   "execution_count": 145,
   "metadata": {},
   "outputs": [
    {
     "data": {
      "text/plain": [
       "[SeqFeature(FeatureLocation(ExactPosition(0), ExactPosition(1317), strand=1), type='source'),\n",
       " SeqFeature(FeatureLocation(ExactPosition(135), ExactPosition(1317), strand=1), type='CDS'),\n",
       " SeqFeature(FeatureLocation(ExactPosition(353), ExactPosition(368), strand=1), type='repeat_region'),\n",
       " SeqFeature(FeatureLocation(ExactPosition(383), ExactPosition(398), strand=1), type='repeat_region')]"
      ]
     },
     "execution_count": 145,
     "metadata": {},
     "output_type": "execute_result"
    }
   ],
   "source": [
    "# lista de elementos del atributo `features`\n",
    "sec_genbank.features"
   ]
  },
  {
   "cell_type": "code",
   "execution_count": null,
   "metadata": {},
   "outputs": [],
   "source": []
  },
  {
   "cell_type": "markdown",
   "metadata": {},
   "source": [
    "###### Otros atributos de SeqRecord para explorar\n",
    " `.type` : devuelve el tipo de característica dentro de la lista  \n",
    "`.location` : devuelve la ubicación del tipo de característica dentro de la secuencia, por ejemplo la ubicación del CDS.  \n",
    "`.qualifiers` : devuelve un diccionario con información sobre el atributo `features`.  "
   ]
  },
  {
   "cell_type": "code",
   "execution_count": null,
   "metadata": {},
   "outputs": [],
   "source": []
  },
  {
   "cell_type": "code",
   "execution_count": 146,
   "metadata": {},
   "outputs": [
    {
     "data": {
      "text/plain": [
       "'CDS'"
      ]
     },
     "execution_count": 146,
     "metadata": {},
     "output_type": "execute_result"
    }
   ],
   "source": [
    "# se elige el elemento 1 de la lista para revisar el tipo de característica\n",
    "sec_genbank.features[1].type"
   ]
  },
  {
   "cell_type": "code",
   "execution_count": null,
   "metadata": {},
   "outputs": [],
   "source": []
  },
  {
   "cell_type": "code",
   "execution_count": 147,
   "metadata": {},
   "outputs": [
    {
     "data": {
      "text/plain": [
       "FeatureLocation(ExactPosition(135), ExactPosition(1317), strand=1)"
      ]
     },
     "execution_count": 147,
     "metadata": {},
     "output_type": "execute_result"
    }
   ],
   "source": [
    "# del mismo elemento se revisa la localización de la característica\n",
    "sec_genbank.features[1].location"
   ]
  },
  {
   "cell_type": "code",
   "execution_count": null,
   "metadata": {},
   "outputs": [],
   "source": []
  },
  {
   "cell_type": "code",
   "execution_count": 148,
   "metadata": {},
   "outputs": [
    {
     "data": {
      "text/plain": [
       "odict_keys(['note', 'codon_start', 'protein_id', 'db_xref', 'translation'])"
      ]
     },
     "execution_count": 148,
     "metadata": {},
     "output_type": "execute_result"
    }
   ],
   "source": [
    "# claves del diccionario generado por el atributo `qualifiers` \n",
    "sec_genbank.features[1].qualifiers.keys()"
   ]
  },
  {
   "cell_type": "code",
   "execution_count": null,
   "metadata": {},
   "outputs": [],
   "source": []
  },
  {
   "cell_type": "code",
   "execution_count": 149,
   "metadata": {},
   "outputs": [],
   "source": [
    "# con la clave ['translation'] se extrae la secuencia de la proteína, la proteína está dentro de una lista\n",
    "sec_prot = sec_genbank.features[1].qualifiers['translation']"
   ]
  },
  {
   "cell_type": "code",
   "execution_count": 150,
   "metadata": {},
   "outputs": [
    {
     "data": {
      "text/plain": [
       "['MEEPQSDPSVEPPLSQETFSDLWKLLPENNVLSPLPSQAMDDLMLSPDDIEQWFTEDPGPDEAPRMPEAAPPVAPAPAAPTPAAPAPAPSWPLSSSVPSQKTYQGSYGFRLGFLHSGTAKSVTCTYSPALNKMFCQLAKTCPVQLWVDSTPPPGTRVRAMAIYKQSQHMTEVVRRCPHHERCSDSDGLAPPQHLIRVEGNLRVEYLDDRNTFRHSVVVPYEPPEVGSDCTTIHYNYMCNSSCMGGMNRRPILTIITLEDSSGNLLGRNSFEVRVCACPGRDRRTEEENLRKKGEPHHELPPGSTKRALPNNTSSSPQPKKKPLDGEYFTLQIRGRERFEMFRELNEALELKDAQAGKEPGGSRAHSSHLKSKKGQSTSRHKKLMFKTEGPDSD']"
      ]
     },
     "execution_count": 150,
     "metadata": {},
     "output_type": "execute_result"
    }
   ],
   "source": [
    "sec_prot"
   ]
  },
  {
   "cell_type": "code",
   "execution_count": null,
   "metadata": {},
   "outputs": [],
   "source": []
  },
  {
   "cell_type": "code",
   "execution_count": 151,
   "metadata": {},
   "outputs": [
    {
     "name": "stdout",
     "output_type": "stream",
     "text": [
      "['MEEPQSDPSVEPPLSQETFSDLWKLLPENNVLSPLPSQAMDDLMLSPDDIEQWFTEDPGPDEAPRMPEAAPPVAPAPAAPTPAAPAPAPSWPLSSSVPSQKTYQGSYGFRLGFLHSGTAKSVTCTYSPALNKMFCQLAKTCPVQLWVDSTPPPGTRVRAMAIYKQSQHMTEVVRRCPHHERCSDSDGLAPPQHLIRVEGNLRVEYLDDRNTFRHSVVVPYEPPEVGSDCTTIHYNYMCNSSCMGGMNRRPILTIITLEDSSGNLLGRNSFEVRVCACPGRDRRTEEENLRKKGEPHHELPPGSTKRALPNNTSSSPQPKKKPLDGEYFTLQIRGRERFEMFRELNEALELKDAQAGKEPGGSRAHSSHLKSKKGQSTSRHKKLMFKTEGPDSD']\n",
      "\n",
      "Primera forma obtener los caracteres\n",
      "MEEPQSDPSVEPPLSQETFSDLWKLLPENNVLSPLPSQAMDDLMLSPDDIEQWFTEDPGPDEAPRMPEAAPPVAPAPAAPTPAAPAPAPSWPLSSSVPSQKTYQGSYGFRLGFLHSGTAKSVTCTYSPALNKMFCQLAKTCPVQLWVDSTPPPGTRVRAMAIYKQSQHMTEVVRRCPHHERCSDSDGLAPPQHLIRVEGNLRVEYLDDRNTFRHSVVVPYEPPEVGSDCTTIHYNYMCNSSCMGGMNRRPILTIITLEDSSGNLLGRNSFEVRVCACPGRDRRTEEENLRKKGEPHHELPPGSTKRALPNNTSSSPQPKKKPLDGEYFTLQIRGRERFEMFRELNEALELKDAQAGKEPGGSRAHSSHLKSKKGQSTSRHKKLMFKTEGPDSD\n",
      "\n",
      "Segunda forma obtener los caracteres\n",
      "MEEPQSDPSVEPPLSQETFSDLWKLLPENNVLSPLPSQAMDDLMLSPDDIEQWFTEDPGPDEAPRMPEAAPPVAPAPAAPTPAAPAPAPSWPLSSSVPSQKTYQGSYGFRLGFLHSGTAKSVTCTYSPALNKMFCQLAKTCPVQLWVDSTPPPGTRVRAMAIYKQSQHMTEVVRRCPHHERCSDSDGLAPPQHLIRVEGNLRVEYLDDRNTFRHSVVVPYEPPEVGSDCTTIHYNYMCNSSCMGGMNRRPILTIITLEDSSGNLLGRNSFEVRVCACPGRDRRTEEENLRKKGEPHHELPPGSTKRALPNNTSSSPQPKKKPLDGEYFTLQIRGRERFEMFRELNEALELKDAQAGKEPGGSRAHSSHLKSKKGQSTSRHKKLMFKTEGPDSD\n"
     ]
    }
   ],
   "source": [
    "# conversión de una lista en una cadena de caracteres\n",
    "\"\"\"\n",
    "las comillas simples expresan que durante la transformación de la lista\n",
    "entre cada letra no se agregue ningún caracter\n",
    "\"\"\"\n",
    "\n",
    "print(sec_prot)\n",
    "\n",
    "print('\\nPrimera forma obtener los caracteres')\n",
    "print(''.join(sec_prot))\n",
    "\n",
    "print('\\nSegunda forma obtener los caracteres')\n",
    "print(sec_prot[0])"
   ]
  },
  {
   "cell_type": "code",
   "execution_count": null,
   "metadata": {},
   "outputs": [],
   "source": []
  },
  {
   "cell_type": "code",
   "execution_count": 152,
   "metadata": {},
   "outputs": [
    {
     "data": {
      "text/plain": [
       "393"
      ]
     },
     "execution_count": 152,
     "metadata": {},
     "output_type": "execute_result"
    }
   ],
   "source": [
    "# longitud de la proteína\n",
    "len(''.join(sec_prot))"
   ]
  },
  {
   "cell_type": "code",
   "execution_count": null,
   "metadata": {},
   "outputs": [],
   "source": []
  },
  {
   "cell_type": "markdown",
   "metadata": {},
   "source": [
    "### Creación de un archivos fasta"
   ]
  },
  {
   "cell_type": "code",
   "execution_count": null,
   "metadata": {},
   "outputs": [],
   "source": []
  },
  {
   "cell_type": "code",
   "execution_count": 154,
   "metadata": {},
   "outputs": [],
   "source": [
    "sec01 = SeqRecord(Seq(\n",
    "        \"MMYQQGCFAGGTVLRLAKDLAENNRGARVLVVCSEITAVTFRGPSETHLDSMVGQALFGD\"\n",
    "        \"GAGAVIVGSDPDLSVERPLYELVWTGATLLPDSEGAIDGHLREVGLTFHLLKDVPGLISK\"\n",
    "        \"NIEKSLKEAFTPLGISDWNSTFWIAHPGGPAILDQVEAKLGLKEEKMRATREVLSEYGNM\"\n",
    "        \"SSAC\"),\n",
    "                  id=\"gi|14150838|gb|AAK54648.1|AF376133_1\",\n",
    "                  description=\"chalcone synthase [Cucumis sativus]\")\n",
    "\n",
    "sec02 = SeqRecord(Seq(\n",
    "        \"MVTVEEFRRAQCAEGPATVMAIGTATPSNCVDQSTYPDYYFRITNSEHKVELKEKFKRMC\"\n",
    "        \"EKSMIKKRYMHLTEEILKENPNICAYMAPSLDARQDIVVVEVPKLGKEAAQKAIKEWGQP\"\n",
    "        \"KSKITHLVFCTTSGVDMPGCDYQLTKLLGLRPSVKRFMMYQQGCFAGGTVLRMAKDLAEN\"\n",
    "        \"NKGARVLVVCSEITAVTFRGPNDTHLDSLVGQALFGDGAAAVIIGSDPIPEVERPLFELV\"\n",
    "        \"SAAQTLLPDSEGAIDGHLREVGLTFHLLKDVPGLISKNIEKSLVEAFQPLGISDWNSLFW\"\n",
    "        \"IAHPGGPAILDQVELKLGLKQEKLKATRKVLSNYGNMSSACVLFILDEMRKASAKEGLGT\"\n",
    "        \"TGEGLEWGVLFGFGPGLTVETVVLHSVAT\"),\n",
    "                  id=\"gi|13925890|gb|AAK49457.1|\",\n",
    "                  description=\"chalcone synthase [Nicotiana tabacum]\")"
   ]
  },
  {
   "cell_type": "code",
   "execution_count": 155,
   "metadata": {},
   "outputs": [],
   "source": [
    "registros = [sec01, sec02]"
   ]
  },
  {
   "cell_type": "code",
   "execution_count": 156,
   "metadata": {},
   "outputs": [
    {
     "data": {
      "text/plain": [
       "2"
      ]
     },
     "execution_count": 156,
     "metadata": {},
     "output_type": "execute_result"
    }
   ],
   "source": [
    "SeqIO.write(registros, \"../salidas/ejemplo1.faa\", \"fasta\")"
   ]
  },
  {
   "cell_type": "code",
   "execution_count": null,
   "metadata": {},
   "outputs": [],
   "source": []
  },
  {
   "cell_type": "code",
   "execution_count": null,
   "metadata": {},
   "outputs": [],
   "source": []
  },
  {
   "cell_type": "markdown",
   "metadata": {},
   "source": [
    "### Creación de un archivos fasta con encabezados editados (para un análisis filogenético):\n",
    "> #### mantener el identificador principal.\n",
    "> #### mantener el nomnre del organismo.\n",
    "> #### concatenar ambos elementos (esto evita redundancias)."
   ]
  },
  {
   "cell_type": "code",
   "execution_count": null,
   "metadata": {},
   "outputs": [],
   "source": []
  },
  {
   "cell_type": "code",
   "execution_count": 163,
   "metadata": {
    "scrolled": true
   },
   "outputs": [
    {
     "name": "stdout",
     "output_type": "stream",
     "text": [
      "2765658_C.irapeanum\n",
      "2765657_C.californicum\n",
      "2765656_C.fasciculatum\n",
      "2765655_C.margaritaceum\n",
      "2765654_C.lichiangense\n",
      "2765652_C.yatabeanum\n",
      "2765651_C.guttatum\n",
      "2765650_C.acaule\n",
      "2765649_C.formosanum\n",
      "2765648_C.himalaicum\n",
      "2765647_C.macranthum\n",
      "2765646_C.calceolus\n",
      "2765645_C.segawai\n",
      "2765644_C.pubescens\n",
      "2765643_C.reginae\n",
      "2765642_C.flavum\n",
      "2765641_C.passerinum\n",
      "2765640_M.xerophyticum\n",
      "2765639_P.schlimii\n",
      "2765637_P.wallisii\n",
      "2765636_P.exstaminodium\n",
      "2765634_P.pearcei\n",
      "2765633_P.longifolium\n",
      "2765632_P.lindenii\n",
      "2765631_P.lindleyanum\n",
      "2765630_P.sargentianum\n",
      "2765628_P.czerwiakowianum\n"
     ]
    }
   ],
   "source": [
    "registros2 = []\n",
    "\n",
    "for registro in SeqIO.parse(\"../DB/ls_orchid.fasta\", \"fasta\"):\n",
    "    header = registro.id.split('|')[1]+'_'+registro.description.split(' ')[1]\n",
    "    \n",
    "    objeto = SeqRecord(registro.seq, id = header, description = '')\n",
    "    registros2.append(objeto)\n",
    "    \n",
    "    print(header)"
   ]
  },
  {
   "cell_type": "code",
   "execution_count": 164,
   "metadata": {},
   "outputs": [
    {
     "data": {
      "text/plain": [
       "[SeqRecord(seq=Seq('CGTAACAAGGTTTCCGTAGGTGAACCTGCGGAAGGATCATTGATGAGACCGTGG...CGC', SingleLetterAlphabet()), id='2765658_C.irapeanum', name='<unknown name>', description='', dbxrefs=[]),\n",
       " SeqRecord(seq=Seq('CGTAACAAGGTTTCCGTAGGTGAACCTGCGGAAGGATCATTGTTGAGACAACAG...GGC', SingleLetterAlphabet()), id='2765657_C.californicum', name='<unknown name>', description='', dbxrefs=[]),\n",
       " SeqRecord(seq=Seq('CGTAACAAGGTTTCCGTAGGTGAACCTGCGGAAGGATCATTGTTGAGACAGCAG...TAA', SingleLetterAlphabet()), id='2765656_C.fasciculatum', name='<unknown name>', description='', dbxrefs=[]),\n",
       " SeqRecord(seq=Seq('CGTAACAAGGTTTCCGTAGGTGAACCTGCGGAAGGATCATTGTTGAAACAACAT...CAT', SingleLetterAlphabet()), id='2765655_C.margaritaceum', name='<unknown name>', description='', dbxrefs=[]),\n",
       " SeqRecord(seq=Seq('ACGGCGAGCTGCCGAAGGACATTGTTGAGACAGCAGAATATACGATTGAGTGAA...AAA', SingleLetterAlphabet()), id='2765654_C.lichiangense', name='<unknown name>', description='', dbxrefs=[]),\n",
       " SeqRecord(seq=Seq('CGTAACAAGGTTTCCGTAGGTGAACCTGCGGAAGGATCATTGTTGAGACAGTAG...CCC', SingleLetterAlphabet()), id='2765652_C.yatabeanum', name='<unknown name>', description='', dbxrefs=[]),\n",
       " SeqRecord(seq=Seq('CGTAACAAGGTTTCCGTAGGTGAACCTGCGGAAGGATCATTGTTGAGACAGTAG...TGT', SingleLetterAlphabet()), id='2765651_C.guttatum', name='<unknown name>', description='', dbxrefs=[]),\n",
       " SeqRecord(seq=Seq('TGTTGAGATAGCAGAATATACATCGAGTGAATCCGGAGGACCTGTGGTTATTCG...GCA', SingleLetterAlphabet()), id='2765650_C.acaule', name='<unknown name>', description='', dbxrefs=[]),\n",
       " SeqRecord(seq=Seq('CGTAACAAGGTTTCCGTAGGTGAACCTGCGGAAGGATCATTGTTGAGATAGTAG...AGC', SingleLetterAlphabet()), id='2765649_C.formosanum', name='<unknown name>', description='', dbxrefs=[]),\n",
       " SeqRecord(seq=Seq('CGTAACCAGGTTTCCGTAGGTGAACCTGCGGCAGGATCATTGTTGAGACAGCAG...AAG', SingleLetterAlphabet()), id='2765648_C.himalaicum', name='<unknown name>', description='', dbxrefs=[]),\n",
       " SeqRecord(seq=Seq('CGTAACAAGGTTTCCGTAGGTGAACCTGCGGAAGGATCATTGTTGAGACAGCAG...GAG', SingleLetterAlphabet()), id='2765647_C.macranthum', name='<unknown name>', description='', dbxrefs=[]),\n",
       " SeqRecord(seq=Seq('GTAGGTGAACCTGCGGAAGGATCATTGTTGAGACAGTAGAATATATGATCGAGT...ACC', SingleLetterAlphabet()), id='2765646_C.calceolus', name='<unknown name>', description='', dbxrefs=[]),\n",
       " SeqRecord(seq=Seq('CGTAACAAGGTTTCCGTAGGTGAACCTGCGGAAGGATCATTGTTGAGACAGCAG...TTT', SingleLetterAlphabet()), id='2765645_C.segawai', name='<unknown name>', description='', dbxrefs=[]),\n",
       " SeqRecord(seq=Seq('ATATGATCGAGTGAATCTGGTGGACTTGTGGTTACTCAGCTCGCCATAGGCTTT...TTA', SingleLetterAlphabet()), id='2765644_C.pubescens', name='<unknown name>', description='', dbxrefs=[]),\n",
       " SeqRecord(seq=Seq('CGTAACAAGGTTTCCGTAGGTGAACCTGCGGGAGGATCATTGTTGAGATAGTAG...TCC', SingleLetterAlphabet()), id='2765643_C.reginae', name='<unknown name>', description='', dbxrefs=[]),\n",
       " SeqRecord(seq=Seq('CGTAACAAGGTTTCCGTAGGTGAACCTGCGGAAGGATCATTGTTGAGACAGTAG...AGC', SingleLetterAlphabet()), id='2765642_C.flavum', name='<unknown name>', description='', dbxrefs=[]),\n",
       " SeqRecord(seq=Seq('CGTAACAAGGTTTCCGTAGGTGAACCTGCGGAAGGATCATTGTTGAGACAGTAT...TAA', SingleLetterAlphabet()), id='2765641_C.passerinum', name='<unknown name>', description='', dbxrefs=[]),\n",
       " SeqRecord(seq=Seq('CGTAACAAGGTTTCCGTAGGTGAACCTGCGGAAGGATCATTGCTGAGACCGTAG...AGC', SingleLetterAlphabet()), id='2765640_M.xerophyticum', name='<unknown name>', description='', dbxrefs=[]),\n",
       " SeqRecord(seq=Seq('CGTAACAAGGTTTCCGTAGGTGGACCTTCGGGAGGATCATTTTTGAAGCCCCCA...CTA', SingleLetterAlphabet()), id='2765639_P.schlimii', name='<unknown name>', description='', dbxrefs=[]),\n",
       " SeqRecord(seq=Seq('CGTAACAAGGTTTCCGTAGGTGGACCTTCGGGAGGATCATTTTTGAAGCCCCCA...AGC', SingleLetterAlphabet()), id='2765637_P.wallisii', name='<unknown name>', description='', dbxrefs=[]),\n",
       " SeqRecord(seq=Seq('CGTAACAAGGTTTCCGTAGGTGAACCTTCGGAAGGATCATTGTTGAGACCCCCA...GGA', SingleLetterAlphabet()), id='2765636_P.exstaminodium', name='<unknown name>', description='', dbxrefs=[]),\n",
       " SeqRecord(seq=Seq('CGTAACAAGGTTTCCGTAGGTGAACCTGCGGAAGGATCATTGTTGAGACCGCCA...GGA', SingleLetterAlphabet()), id='2765634_P.pearcei', name='<unknown name>', description='', dbxrefs=[]),\n",
       " SeqRecord(seq=Seq('CGTAACAAGGTTTCCGTAGGTGAACCTGCGGAAGGATCATTGTTGAGACCGCCA...TGA', SingleLetterAlphabet()), id='2765633_P.longifolium', name='<unknown name>', description='', dbxrefs=[]),\n",
       " SeqRecord(seq=Seq('CGTAACAAGGTTTCCGTAGGTGAACCTGCGGAAGGATCATTGTTGAGACCCCCA...TGA', SingleLetterAlphabet()), id='2765632_P.lindenii', name='<unknown name>', description='', dbxrefs=[]),\n",
       " SeqRecord(seq=Seq('CGTAACAAGGTTTCCGTAGGTGAACCTGCGGAAGGATCATTGTTGAGACCGCAA...TGA', SingleLetterAlphabet()), id='2765631_P.lindleyanum', name='<unknown name>', description='', dbxrefs=[]),\n",
       " SeqRecord(seq=Seq('CGTAACAAGGTTTCCGTAGGTGAACCTGCGGAAGGATCATTGTTGAGACCGCCA...TTT', SingleLetterAlphabet()), id='2765630_P.sargentianum', name='<unknown name>', description='', dbxrefs=[]),\n",
       " SeqRecord(seq=Seq('CGTAACCAGGTTTCCGTAGGTGAACCTCCGGAAGGATCCTTGTTGAGACCGCCA...TAA', SingleLetterAlphabet()), id='2765628_P.czerwiakowianum', name='<unknown name>', description='', dbxrefs=[])]"
      ]
     },
     "execution_count": 164,
     "metadata": {},
     "output_type": "execute_result"
    }
   ],
   "source": [
    "registros2"
   ]
  },
  {
   "cell_type": "code",
   "execution_count": 165,
   "metadata": {},
   "outputs": [
    {
     "data": {
      "text/plain": [
       "27"
      ]
     },
     "execution_count": 165,
     "metadata": {},
     "output_type": "execute_result"
    }
   ],
   "source": [
    "SeqIO.write(registros2, \"../DB/ls_orchid_editado.fasta\", \"fasta\")"
   ]
  },
  {
   "cell_type": "code",
   "execution_count": null,
   "metadata": {},
   "outputs": [],
   "source": []
  },
  {
   "cell_type": "markdown",
   "metadata": {},
   "source": [
    "#### así quedó la secuencia después de la edición"
   ]
  },
  {
   "cell_type": "code",
   "execution_count": 168,
   "metadata": {},
   "outputs": [
    {
     "name": "stdout",
     "output_type": "stream",
     "text": [
      ">2765658_C.irapeanum\n",
      "CGTAACAAGGTTTCCGTAGGTGAACCTGCGGAAGGATCATTGATGAGACCGTGGAATAAACGATCGAGTGAATCCGGAGGACCGGTGTACTCAGCTCACCGGGGGCATTGCTCCCGTGGTGACCCTGATTTGTTGTTGGGCCGCCTCGGGAGCGTCCATGGCGGGTTTGAACCTCTAGCCCGGCGCAGTTTGGGCGCCAAGCCATATGAAAGCATCACCGGCGAATGGCATTGTCTTCCCCAAAACCCGGAGCGGCGGCGTGCTGTCGCGTGCCCAATGAATTTTGATGACTCTCGCAAACGGGAATCTTGGCTCTTTGCATCGGATGGAAGGACGCAGCGAAATGCGATAAGTGGTGTGAATTGCAAGATCCCGTGAACCATCGAGTCTTTTGAACGCAAGTTGCGCCCGAGGCCATCAGGCTAAGGGCACGCCTGCTTGGGCGTCGCGCTTCGTCTCTCTCCTGCCAATGCTTGCCCGGCATACAGCCAGGCCGGCGTGGTGCGGATGTGAAAGATTGGCCCCTTGTGCCTAGGTGCGGCGGGTCCAAGAGCTGGTGTTTTGATGGCCCGGAACCCGGCAAGAGGTGGACGGATGCTGGCAGCAGCTGCCGTGCGAATCCCCCATGTTGTCGTGCTTGTCGGACAGGCAGGAGAACCCTTCCGAACCCCAATGGAGGGCGGTTGACCGCCATTCGGATGTGACCCCAGGTCAGGCGGGGGCACCCGCTGAGTTTACGC\n",
      ">2765657_C.californicum\n",
      "CGTAACAAGGTTTCCGTAGGTGAACCTGCGGAAGGATCATTGTTGAGACAACAGAATATATGATCGAGTGAATCTGGAGGACCTGTGGTAACTCAGCTCGTCGTGGCACTGCTTTTGTCGTGACCCTGCTTTGTTGTTGGGCCTCCTCAAGAGCTTTCATGGCAGGTTTGAACTTTAGTACGGTGCAGTTTGCGCCAAGTCATATAAAGCATCACTGATGAATGACATTATTGTCAGAAAAAATCAGAGGGGCAGTATGCTACTGAGCATGCCAGTGAATTTTTATGACTCTCGCAACGGATATCTTGGCTCTAACATCGATGAAGAACGCAGCTAAATGCGATAAGTGGTGTGAATTGCAGAATCCCGTGAACCATCGAGTCTTTGAACGCAAGTTGCGCTCGAGGCCATCAGGCTAAGGGCACGCCTGCCTGGGCGTCGTGTGTTGCGTCTCTCCTACCAATGCTTGCTTGGCATATCGCTAAGCTGGCATTATACGGATGTGAATGATTGGCCCCTTGTGCCTAGGTGCGGTGGGTCTAAGGATTGTTGCTTTGATGGGTAGGAATGTGGCACGAGGTGGAGAATGCTAACAGTCATAAGGCTGCTATTTGAATCCCCCATGTTGTTGTATTTTTTCGAACCTACACAAGAACCTAATTGAACCCCAATGGAGCTAAAATAACCATTGGGCAGTTGATTTCCATTCAGATGCGACCCCAGGTCAGGCGGGGCCACCCGCTGAGTTGAGGC\n",
      ">2765656_C.fasciculatum\n",
      "CGTAACAAGGTTTCCGTAGGTGAACCTGCGGAAGGATCATTGTTGAGACAGCAGAACATACGATCGAGTGAATCCGGAGGACCCGTGGTTACACGGCTCACCGTGGCTTTGCTCTCGTGGTGAACCCGGTTTGCGACCGGGCCGCCTCGGGAACTTTCATGGCGGGTTTGAACGTCTAGCGCGGCGCAGTTTGCGCCAAGTCATATGGAGCGTCACCGATGGATGGCATTTTTGTCAAGAAAAACTCGGAGGGGCGGCGTCTGTTGCGCGTGCCAATGAATTTATGACGACTCTCGGCAACGGGATATCTGGCTCTTGCATCGATGAAGAACGCAGCGAAATGCGATAAGTGGTGTGAATTGCAGAATCCCGCGAACCATCGAGTCTTTGAACGCAAGTTGCGCCCGAGGCCATCAGGCTAAGGGCACGCCTGCCTGGGCGTCGTGTGCTGCGTCTCTCCTGATAATGCTTGATTGGCATGCGGCTAGTCTGTCATTGTGAGGACGTGAAAGATTGGCCCCTTGCGCCTAGGTGCGGCGGGTCTAAGCATCGGTGTTCTGATGGCCCGGAACTTGGCAGTAGGTGGAGGATGCTGGCAGCCGCAAGGCTGCCGTTCGAATCCCCCGTGTTGTCGTACTCGTCAGGCCTACAGAAGAACCTGTTTGAACCCCCAGTGGACGCAAAACCGCCCTCGGGCGGTGATTTCCATTCAGATGCGACCCCAGTCAGGCGGGCCACCCGTGAGTAA\n",
      ">2765655_C.margaritaceum\n",
      "CGTAACAAGGTTTCCGTAGGTGAACCTGCGGAAGGATCATTGTTGAAACAACATAATAAACGATTGAGTGAATCTGGAGGACTTGTGGTAATTTGGCTCGCTAGGGATATCCTTTTGTGGTGACCATGATTTGTCATTGGGCCTCATTGAGAGCTTTCATGGCGGGTTTGAACCTCTAGCACGGTCCAGTTTGCACCAAGGTATATAAAGAATCACCGATGAATGACATTATTGCCCCACACAACGTCGGAGGTGTGGTGTGTTAATGTTCATTCCAATGAATTTTGATGACTCTCGGCAGACGGATATCTTGACTCTTGCATCGATGAAGAACGCACCGAAATGTGATAAGTGGTGTGAATTGCAGAATCCCGTGAACCATCGAGTCTTTGAACGCAAGTTGCGCCCGAGGCCATCAGGCTAAGGGCACGCCTGCCTGGGCGTCGTATGTTTTATCTCTCCTTCCAATGCTTGTCCAGCATATAGCTAGGCCATCATTGTGTGGATGTGAAAGATTGGCCCCTTGTGCTTAGGTGCGGTGGGTCTAAGGATATGTGTTTTGATGGTCTGAAACTTGGCAAGAGGTGGAGGATGCTGGCAGCCGCAAGGCTATTGTTTGAATCCCCCATGTTGTCATGTTTGTTGGGCCTATAGAACAACTTGTTTGGACCCTAATTAAGGCAAAACAATCCTTGGGTGGTTGATTTCCAATCAGATGCGACCCCAGTCAGGGGGCCACCCCAT\n",
      ">2765654_C.lichiangense\n",
      "ACGGCGAGCTGCCGAAGGACATTGTTGAGACAGCAGAATATACGATTGAGTGAATCTGGAGGACTTGTGGTTATTTGGCTCGCTAGGGATTTCCTTTTGTGGTGACCATGATTTGTCATTGGGCCTCATTGAGAGCTTTCATGGCGGGTTTGAACCTCTAGCACGGTGCAGTTTGCACCAAGGTATATAAAGAATCACCGATGAATGACATTATTGTCAAAAAAGTCGGAGGTGTGGTGTGTTATTGGTCATGCCAATGAATTGTTGATGACTCTCGCCGAGGGATATCTTGGCTCTTGCATCGATGAAGAATCCCACCGAAATGTGATAAGTGGTGTGAATTGCAGAATCCCGTGAACCATCGAGTCTTTGAACGCAAGTTGCGCCCGAGGCCATCAGGCTAAGGGCACGCCTGCCTGGGCGTCGTATGTTTTATCTCTCCTTCCAATGCTTGTCCAGCATATAGCTAGGCCATCATTGTGTGGATGTGAAAGATTGGCCCCTTGTGCTTAGGTGCGGTGGGTCTAAGGATATGTGTTTTGATGGTCTGAAACTTGGCAAGAGGTGGAGGATGCTGGCAGCCGCAAGGCTATTGTTTGAATCCCCCATGTTGTCATATTTGTTGGGCCTATAGAACAACTTGTTTGGACCCTAATTAAGGCAAAACAATCCTTGGGTGGTTGATTTCCAATCAGATGCGACCCCAGTCAGCGGGCCACCAGCTGAGCTAAAA\n",
      ">2765652_C.yatabeanum\n",
      "CGTAACAAGGTTTCCGTAGGTGAACCTGCGGAAGGATCATTGTTGAGACAGTAGAATATATGATCGAGTGAATCTGGATGACCTGTGGTTACTCGGCTCGCCTGATTTGTTGTTGGGCTTCCTTAGGAGCTTACATGGCGGGTTTGAACCTCTACCACGGTGCAGTTTGCGCCAAGTCATATGAAGCATAACTGCAAATGGCACTACTGTCACCAAAAGTTGGAGTGGCAGTGTGTTATTGCATGCGCTAATGGATTTTTGATGACTCTCGGCCAACGGATATCTGGCTCTTTGCATCGATGAAGGAACGCAGCGAAATGCGATAAGTGGTGTGAATTGCAGAATCCCGCGAACCATCGAGTCTTTGAACGCAAGTTGCGCCCGAGGCCATCAGGCTAAGGGCACGCCTGCCTGGGCGTCGTGTATCGCATCTCTCTTGCCAATGCTTACCCGGCATACAACTAGGCTGGCATTGGGTGGATGTGAAAGATTGGCCCCTTGTGCCTAGGTGCGGTGGGTCTAAGGATTGATGTTTTGATGGATCGAAACCTGGCAGGAGGTGGAGGATGCTGGAAGCCGCAAGGCTGTCGTTCGAATCCCCCATGTTGTCATATTTGTCGAACCTATAAAAGAACATGCTTGAACCCCAATGGATTGTAAAATGACCCTTGGCGGTTGATTTCCATTTAGATGCGACCCCAGGTCAGGCGGGCCACCC\n",
      ">2765651_C.guttatum\n",
      "CGTAACAAGGTTTCCGTAGGTGAACCTGCGGAAGGATCATTGTTGAGACAGTAGAATATATGATCGAGTGAATCTGGAGGACCTGTGGTTACTCGGCTCCCCTGATTTGTTGTTGGGCTTCCTTAGGAGCTTACATGCCGGGTTTGAACCTCTACCACGGTGCAGTTTGCGCCAAGTCATATGAAGCATAACTGAACAATGGCATTATTGTCACCAAAAGTTGGAGTGGCAGTGTGCTATTGCATGCGCTAATGGATTTTTGATGACTCTCGCCAACGGATATCTTGGCTCTTGCATCGATGAAGAACCCAGCGAAATGCGATAAGTGGTGTGAATTGCAGAATCCCGCGAACCATCGAGTCTTTGAACGCAAGTTGCGCCCGAGGCCATCAGGCTAAGGGCACGCCTGCCTGGGCGTCGTGTATCGCATCTCTCTTGCCAATGCTTACCCGGCATACAACTAGGCTGGCATTGTGCGGATGTGAAAGATTGGCCCCTTGTGCCTAGGTGCGGTGGGTCTAAGGATTGATGTTTTGATGGATCGAAACCTGGCAGGAGGTGGAGGATGCTGGAAGCCGCAAGGCTGTCGTTCGAATCCCCCATGTTGTCATATTTGTCGAACCTATAAAAGAACATGCTTGAACCCCAATGGATGTAAAATGACCCTTGGCGGTTGATTTCCATTTAGATGCGACCCCAGGTCAGGCGGGGCCACCCGCTGAGTTTATGT\n",
      ">2765650_C.acaule\n",
      "TGTTGAGATAGCAGAATATACATCGAGTGAATCCGGAGGACCTGTGGTTATTCGGCTTGCCGAGGGCTTTGCTTTTGTGGTGACCCAAATTTGTCGTTGGGCCTCCTCGGGAGCTTTCATGGCAGGTTTCAAACTCTAGCACGGCACAGTTTGTGCCAAGTCATATGAAGCATCACCGACAAATGACATTATTGTCAAAAAAGTTGGAGGGGCGGTGTCCTCCTGTGCATGCCGAATATAATTTTGATGACTCTCGACAAGCGGATATCTTGGCTCTTGCATCGGATGAAGAACCCAGCGAAATGCGATAAGTGGTGTGAATTGCAAGATCCCGTGAACCATCGAGTCTTTTGAACGCAAGTTGCGCCCGAGGCCATCAGGCTAAGGGCACGCCTGCCTGGGCGTCGTGTGTTGTGTCTCTCTTGCCAATGCCTGTCCATATATCTAGGCTTGCATTGTGCGGATGCGAAAGATTGGCCCCTTGTGCCTTGGCGCGTTGGGTCTAAGGAATGTTTTGATGGCCCGAAACTTGGCAGGAGGTGGAGGACATTGGCTGCCACAAGGTTGTCATTTAAATCCCCCATGTTATCGTATTTATCGGACCTATATAATAACTTGTTTGAACCCCAGTGGAGGCAAAATGACCCTTGGATGGTTGACTGCCATTCATATGCGACCCCAGGTCAGGCGGGCCACCCGCTGCA\n",
      ">2765649_C.formosanum\n",
      "CGTAACAAGGTTTCCGTAGGTGAACCTGCGGAAGGATCATTGTTGAGATAGTAGAATATATGATTGAGTGAATATGGAGGACATGTGGTTACTTGGCTCGTCAGTGCTTTGCTTTTGTGGTGACCTTAATTGGGCCTCCTTAGGAGCTTTCATGGCGGGTTCAAACCTTTAGCACGGCGCAGTTTGTGCCAAGTCATATAAGCATCCCTGATGAATGGCATTGTTGTTAAAAAAGTCGGAGGGGCGGCATGCTGTTGTGCATGCTAATGAATTTTTTGATGACTCTCGCAACGGAACTTGGCTCTTTACATCCGATGAAGAACGCAGCGAAATGCGATAAGTGGTGTGAATTGCAGAATCCCGTGAACCATCGAGTATTTGAACGCAAGTTGCGCCCAAGGCCATCAGGCTAAGGGCACGCCTGCCTGGGCGTCGTGTGCTGCATCTCTCCTNCCAATGCTTGCCCAGCATATAGCTAGGTTAGCATTGTGCGGATGAAATATTGGCCCCTTGTGCTTAGGTGCGGTGGGTCTAAGGATTAGTATTTTGATAGCTCGGAACTCGGCAGGAGGTGGAGAATGTTGGTAGCTGCAAGGCTGCCATTTGAATTCCCCATGTTGTCGTATTTGTTGAACCTATAAAAGAACTTGTTTGAACCCCAATGAAGGAAAAATGACCCTTGGGCGGTTGATTTTCATTCAGATGCAACCCCAGGTCAGGTGGCCACCCTGAGATTAAGC\n",
      ">2765648_C.himalaicum\n",
      "CGTAACCAGGTTTCCGTAGGTGAACCTGCGGCAGGATCATTGTTGAGACAGCAGAATATATGATCGAGTGAATCCGGTGGACTTGTGGTTACTCAGCTCGACATAGGCTTTGCTTTTGCGGTGACCCTAACTTGTCATTGGGCCTCCTCCCAAGCTTTCCTTGTGGGTGTGAACCTCTAGCACGGTGCAGTATGCGCCAAGTCATATGAAGCATCACTGAGGAATGACATTATTGTCCCAAAAGCTAGAGTGGAAGCGTGCTCTTGCATGCATGCATAATGAATTTTTTATTGACTCTCGACATATGTGGTGTGAATTGCAGAATCCCGTGAACCATCGAGTCTTTGAACGCAAGTTGCGCCCGATGCCATCAGGCTAAGGGCACGCCTGCCTGGGCGTCGTGTGCTGCGTCTCTCCTATCAATGCTTTCCTATCATATAGATTGGTTTGCATTGCGTGGATGCGAAAGATTGGCCCCTTGTGCCTAGGTGCGGTGGGTCTAAGGACTAGTGTTTTGATGGTTCGAAACCTGGCAGGAGGTGGAGGATGTTGGCAGCTATAAGGCTATCGTTTGAACCCCCCATATTGTCGTGTTTGTCGGACCTAGAGAAGAACCTGTTTGAATCCCAATGGAGGCAAACAACCCTCGGGCGGTTGATTGCCATTCATATTGCGACCCAGGTCAGGCGGGGCCACCGCTGAGTTTAAG\n",
      ">2765647_C.macranthum\n",
      "CGTAACAAGGTTTCCGTAGGTGAACCTGCGGAAGGATCATTGTTGAGACAGCAGAATATATGATCGAGTGAATCCGGTGGACTTGTGGTTACTCAGCTCGACATAGGCTTTGCTTTTGCGGTGACCCTAATTTGTCATTGGGCCTCCCCCCAAGCTTTCCTTGTGGGTTTGAACCTCTAGCACGGTGCAGTATGCGCCAAGTCATATGAAGCATCACTGATGAATGACATTATTGTCCAAAAAGTTGGAGTGGAAGCGTGCTATTGCATACATGCAAATGAATTTTTTATGACTCTCGACATATCGTGGTGTGATCGCAGAATCCCGTGAACCATCGAGTCTTTGAACGCAAGTTGCGCCCGATGCCATCAGGCTAAGGGAACGCCTGCCTGGGCGTCGTGTGCTGCGTCTCTCCTGTCAATGGTTATACGTCATATAGACAGGTTTGCATTGCGTGGATGTGAAAGATTGGCCCCTTGTGCCTAGGTGCGGTGGGTCTAAGGACTAGTGTTTTGATGGTTCGAAACCTGGCAGGAGGTGGAGGATGTTGGCAGCTATAAGGCTATCATTTGAATCCCCCATATTGTCGTGTTTGTCGGACCTAGAGAAGAACATGTTTGAATCCCAATGGGGGCAAACAACCCTCGGGCGGTTGATTGCCATTCATATGCGACCCCAGGTCAGGCGGCCACCCGCTGAG\n",
      ">2765646_C.calceolus\n",
      "GTAGGTGAACCTGCGGAAGGATCATTGTTGAGACAGTAGAATATATGATCGAGTGAATCCGGTGGACTTGTGGTTACTCAGCTCGACATAGGCTTGGCTTTGGCGGTGACCCTAATTTGCCATTGGGCCTCCTCCAAAGCTTTCCTTGTGGGTTTGAACCTCTAGCACGGTGCAGTATGCGCCAAGTCATATGAAGCATCACCGATGAATGACATTATTGTCAAAAAGTTGGAGTGGAAGCGTGCTATTGCATGCATGCAAATGAATTTTTTATGACTCTCGACAACGGATATCTTGGCTCTTGCATCGATGAAGAACGCAGCAAAATGCGATAAGTGGTGTGAATTGCAGAATCCCGTGAACCATCGAGTCTTTGAACGCAAGTTGCGCCCGATGCCATCAGGCTAAGGGCACGCCTGCCTGGGCGTCGTGTGCTGCGTCTCTCCTGTCAATGCTTTCATGTCATATAGATAGGTTTGCATTGCGTGGATGTGAAAGAATGGCCCCTTGTGCCTAGGTACGGTGGGTCTAAGGACTAGTGTTTTGATGGTTCGAAACCTGGCAGGAGGTGGAGGATGTTGGCAGCTATAAGGCTATCATTTGAATCCCCCATATTGTCGTGTTTGTCGGACCTAGAGAAAAACATGTTTGAATCCCAATGGAGGCAAACAACTCTCGGGCGGTTGATTGCCATTCATATGCGACCCCAGGTCAGGCGGGGCCACC\n",
      ">2765645_C.segawai\n",
      "CGTAACAAGGTTTCCGTAGGTGAACCTGCGGAAGGATCATTGTTGAGACAGCAGAATATATGATCGAGTGAATCCGGTGGACTTGTGGTTACTCAGCTCGCCATAGGCTTTGCTTTTGCGGTGACCCTAATTTGTCATTGGGCCTCCTCCAAAGCTTTCCTTGTGGGTTTGAACCTCTAGCACGGTGCAGTATGCGCCAAGTCATATGAATCATCACCGATGAATGACATTATTGTCCAAAAAGTTGGAGTAGAAGCGTGCTATTGCATGCATGCAATAGAATATTTTATGACTCTCGACAAGGGATATCTTGGCTCTTGCATCGGATGAAGAACGCAGCGAAATTGTGATAAGTGGTGTGAATTGCAGAATCCCGTGAACCATCGAGTATGTGAACGCAAGTTGCGCCCGATGCCATCAGGCTAAGGGCACGCCTGCCTGGGCGTCGTGTGCTGCGTCTCTCCTGTCAATGCTTTCCTGTCATATCGATAGGTTTGCATTGTGTGGATGTGAAAGATTGGCCCCTTGTGCCTAGGTGCGGTGGGTCTAAGGACTAGTGTTTTGATGGTTCGAAACCTGGCAGGAGGTGGAGGATGTTGGCAGCTATAAGGTTGTCATGTGAATCCCCCATATTGTCGTGTTTGTCGGACCTGGAGAAGAACCTGTTTGAATCCCAATGGAGGCAAACAACCCTCGGGCGGTTGATTGCCATTCATATGCGACCCCAGGTCAGGCGGGCCACCCGCTGAGTTT\n",
      ">2765644_C.pubescens\n",
      "ATATGATCGAGTGAATCTGGTGGACTTGTGGTTACTCAGCTCGCCATAGGCTTTGCTTTTGCGGTGACCCTAATTTGTCATTGGGCCTCCTCCCAAGCTTTCCTTGTGGGTTTGAACCTCTAGCACGGTGCAGTATGCACCAAGTCATATGAAGCATTGCCGATGAATGACATTATTGTCCAAAAGTTGGAGTGGAAGCGTGCTACTGCATGCATGCAAATGAATTTTTTTATGACTCTCGACAACGGATATCTTGGCTCTTGCATCGATGAAGAACGCAGCGAAATGCGATAAGTGGTGTGAATTGCAGAATCCCGTGAACCATCGAGTCTTTGAACGCAAGTTGCGCCCGATGCCATCAGGCTAAGGGCACGCCTGCCTGGGCGTCGTGTGCTGCGTCTCTCCTGTCAATGCTTTCCCATCATATAGATAGGTTTGCATTGTGTGGATGTGAAAGATTGGCCCCTTGTGCCTAGGTGCGGTGGGTCTAAGAACTTAATGTTTTGATGGTTCGAAACCTGGCAGGAGGTGGAGGATGTTGGCAGCTATATAAGGCTATCATTTGAATCCCCCATATTGTCGCGTTTGTTGGACCTAGAGAAGAACATGTTTGAATCCCAATGGAGGCAAACAACCCTCGGGCGGTTGATTGCCATTCATATGCGACCCCAGGTCAGGCGGGGCCACCCGCTGAGTTTA\n",
      ">2765643_C.reginae\n",
      "CGTAACAAGGTTTCCGTAGGTGAACCTGCGGGAGGATCATTGTTGAGATAGTAGAATATTCGATCGAGTGAATCCGGAGGACTTGTGGTTACTCGGCTCGTCGAAGGCTTAACTTTTGTGGTGACCCTGATTTGTAGTTGGGCATCCTCGAGAGCTTTTATGGCGGGTTTGAGCCTCTATCACGGCGCAGTTTGCGCCAAGTCATATGAAGCATCGCCGACGAATTACATTATTGTCCCCCAAACTCGGATGGACGGTGTGTGTTACGCATACCCGTGAACCATCGAGTCTTTGAACGCAAGTTGCGCCCAAGGCCATCAGGCTAAGGGCACGCCTGCCTGGGCGTCGTGTGCTGCATCTCTTTTGCCAATGCTTGCTCGACATACAATTAGGCCAGTATTGCATAGATATGAAAGATTGACCCCTTGTGCTTAGGTGCGGTGGGTCTAAGGATTGGTGTTTTGATGGCCCAAACCCCGGCAGGAGGTGGAGCATGTTGATAGTCGCAAGGCTGTCGTTCAAATCCCACATGTTGTCGTATTTGCCGGACCCACAGAAGAACCTATTTGAACCCCTATGGAGGCAAAACAACCCTTGAGCGATTGATTGCCATTCAGATACGACCCCAGGTCAGGCGGGGCCACCCGCTGAGTTTTCC\n",
      ">2765642_C.flavum\n",
      "CGTAACAAGGTTTCCGTAGGTGAACCTGCGGAAGGATCATTGTTGAGACAGTAGAATATACGATCGAGTGAATCCAGAGGACTTGTGGTTACTCGGCTCGTCCAAGTCTTAGCTTTTGTGGCCCTGATTTGTCGTTGGGCATCCTCAGGAGATTTTATGGCGGGTTTGAACCTCTATCACGGTGCAGTTTGCGCCAAGTCATATGAAGCATCACCGATGAATGACATTATTGTCACAAAAGTCGGATGGGCGGTGTGCTGTTGTGCATGCCAATAAATTTTTGATGACTCTCGGCCAACGGATATCTTGCTCTTCCATCGATGAAGAACGCAGCGAAATGCGATAAGTGGTGTGAATTGCAGAATCCCGTGAACCATCGAGTCTTTGAACGCAAGTTGCGCCCAAGGCCATCAGGCTAAGGGCACGCCTGCCTGGGCGTCGTGTGCTGCATCTCTTTTGCCAATGCTTGCCCGACATACAATTAGGACAGTATTGCATAGATATGAAAGATTGACCCCTTGTGCTTAGGTGCGGTGGGTCTAAGGATTGGTGTTTTGGTGGCCCGAACCCCGGCAGGAGGTGGATCATGTTGATAGTCGCAAGACTGTCATTCAAATCCCACATGTTGTCGTATTTGTCGGACCCACAGAAGAACCTATTTGAACCCCAATGGAGGCAAAACAACCCTCGAGCGATTGATTGCCATTCAGATACGACCCCAGGTCAGGCGGGGCCACCCGCTGAGTTTAAGC\n",
      ">2765641_C.passerinum\n",
      "CGTAACAAGGTTTCCGTAGGTGAACCTGCGGAAGGATCATTGTTGAGACAGTATAATATATGATCGAGTGAATCCGGAGGACTTGTGGTTACTCGGCTCGTCCAAGTCTTAGCTTTTGTGGCCCTGATTTGTCGTTGGGCATCCTCAGGAGCTTTTATGGCGGGTTTGAACCTCTATCACGGCGCAGTTTGCGCCAAGTCATATGAAGCATCACCGACGAATGACATTATTGTCACCAAAGTCGGATGGGCGGTGTGCTATTGTGCATACCAATAATTTTTTGATGACTCTCGTCAACGGATATCTTAGCGAAATGCGATAAGTGGTGTGAATTGCAGAATCCCGTGAACCATCGAGTCTTTGAACGCAAGTTGCGCCCAAGGCCATCAGGCTAAGGGCACGCCTGCCTGGGCGTCGTGTGCTGCATCTCTTTTGCCAATGCTTGCCCGACATACAATTAGGCCAGTATTGCATAGATATGAAAGATTGACCCCTTGTGCTTAGGTGCGGTGGGTCTAAGGATTGGTGTTTTGATGTCCCGAACCCCGGCAGGAGGTGGAGCATGTTGATAGTCGCAAGACTATCGTTCAAATCCCACATGTTGTCGTATTTGTCGGACCCACAGAAGAACCTATTTGAACCCCAATGGAGGCAAAACAACCCTCGAGTGATTGATTGCCATTCAGATATGACCCCAGGTCAGGCGGGGCCACCCGCTGAGTTTAA\n",
      ">2765640_M.xerophyticum\n",
      "CGTAACAAGGTTTCCGTAGGTGAACCTGCGGAAGGATCATTGCTGAGACCGTAGAATAAACGATCGAGTTAATCTGGAGGACCGGTGTACTTCGATCTCCCAGGGGCTTTCGCTACTGTGGTGGCCTTTGATCTGCCATCGGGCCTCCTTGGGAGTGTTCTTGAAGGCGATCAAACTTCTAGCCCGGCGCAGCTTCGCGCCAAGTCTTTTGAGACAAGAATCGGCATAGGGGTGTTCCCTTGTAGCCGGTGGGGGTGGCACTTGATTCGTGCCCCCCAAGTTACATTTTTACAACTCTCGGCAACGGATATCTCGGCTCTTGCATCGATGGAGGACGCAGCGAAATGCGATAAGTGGTGTGAATTGCAGAATCCCGTGAACATCGAGTCTTTGAACGCAAGTTGCGCTCGAGGCCGTCAGGCTAAGGGCACGCCTGCCTGGGCGTTGTGTACTGTGTCTCTCCCACCAATGGTTGTCCAAGAATACCGTTCGGTCGGTGCGGATGTGAGTTTGGCCCCTTGTTCTTCGGTTCAATGGGTCTAAGACCTCGGGCTTTTGATGGTCCAAAATTCGACAAGAGGTGGATGGGCAATGGCTGAGCCAAAGCTGTTGTGCGAATGCCGTATGTTGTCCGATTTGATGGGCCATCATAATTCGTAGGACCCTTCGGAACCCCATTGGTGCCACATCAACCCAACCCATGGGCGGTTGATTGCCATTTGGAAGCAACCCCAGGTCAGGTGAGGCCACCCGCTGAGTTTAAGC\n",
      ">2765639_P.schlimii\n",
      "CGTAACAAGGTTTCCGTAGGTGGACCTTCGGGAGGATCATTTTTGAAGCCCCCAAATATACGATCGAGATAATCCGGAGGACCGGTGTACTTTGGTCTCCCAGGGGCTTCCGCCGCTGTGGTGACCATGATTTCCCATCGAACCTCCTTGGGAGAGTTCTCTATGGCAATTGAACCCTTGGCCCGGCGCAGTTTCGCTCCAAGTCAAATGAGATAGAACCGACAAGGGTCTTCGTCCTCCATGGATGGACCGGGGAGGGCCGGCGTGCTGCTGTGCCCCCTTAAGATTCGTCTGACAACTCTCGTCAACGGATATCTCGGCTCTTGCATCGATGAAGAACCCAGCGAAATGTGATAAGTGGTGTGAATTGCAGAATCCCGTGAACCATCGAGTCTTTGAACGCAAGTTGCGCCCGAGGCCATCAGGCTAAGGGCACGCCTGCCTGGGCGTTGCGTGCTGCATCTCTCCCAATGCTAAGGTTGAACAGCCATACTGTTCGGCCGGCGAGGATGAGAGTTTGGCCCCTTGTTCTTCGGTGCGATGGGTCCAAGACTTGGGCTTGTGACGGTCCACAAATCCGGCAAGAGGTGGACGGACGGTGGCTGCGACAAAGCTGTTGTGCGAATGCCCTATGTTGTCGTATTTGATGGGCCGGAATGATCCCTTTCGAACCCCGTCGGAGGCACGTCGACCCAACCCATGGGCGGTTGACGGCCATTAGGATGCAACCCCAGGTCAGGTGAGACTACCCGCTA\n",
      ">2765637_P.wallisii\n",
      "CGTAACAAGGTTTCCGTAGGTGGACCTTCGGGAGGATCATTTTTGAAGCCCCCAAAAAAACGATCGAATTAATCCGGAGGGCCGGTGTAGTTTGGTCTCCCAGGGGCCTTGGCTACTGTGGTGACCGTGAATTTCCGTCGAACCCTCTGGGAGGAATTCTTGATGGCAAATGAAACCCTTGGCCCGGCGCAGTTTCGCCCCAAATCAAATGAGATGGAACCGGCGGAGGGCATCGTCCCCCATGGAACCGGGGAGGGCCGGCGTTCTTCCGTTCCCCCAATGAAATTATTTTTTGACAACTCTCGCAACGGATATCTCGGCTCTTGCATCGATGAAGAACGCAGCGAAATGTGATAAGCTGGTGTGAATTGCAGAATCCCGTGAACCATCGAGTCTTTGAACGCAAGTTGCGCCCGAGGCCATCAGGCTAAGGGCACGCCTGCCTGGGCGTTGCGTGCTGCATCTCTCTCCCATTGCTAAGGCTGAACAGGCATACTGTTCGGCCGGCGCGGATGAGTGTTTGGCCCCTTGTTCTTCGGTGCGATGGGTCCAAGACCTGGGCTTTTGACGGCCGGAAATCCGGCAAGAGGTGGACGGACGGTGGCTGCGACGAAGCTGTCGTGCGAATGCCCTGCGTTGTCGTATTTGATGGGCCGGAATAAATCCCTTTTGAACCCCATTGGAGGCACGTCAACCCGTGGGCGGTCGACGGTCATTTGGATCCAACCCCAGGTCAGGTGAGGCCACCCGCTGAGTTTAAGC\n",
      ">2765636_P.exstaminodium\n",
      "CGTAACAAGGTTTCCGTAGGTGAACCTTCGGAAGGATCATTGTTGAGACCCCCAAAAAAACGATCGAGTTAATCCGGAGGACCGGTGTAGTTTGGTCTCCCAGGGGCTTTGGCTACTGTGGTGGCCGTGAATTTCCGTCGAACCTCCTTGGGAGAATTCTTGATGGCAATTGAACCCTTGGCCCGGCGCAGTTTCGCCCCAAGTCAAATGAGATGGAACCGGCGGAGGGCATCGTCCTCCATGGAACCGGGGAGGGCCGGCGTTCTTCCGTTCCCCCCATGAATTTTTTTTTGACAACTCTCGGCAACGGATATCTCGGCTCTTTGCATCCGATGAAAGAACCCAGCGAAATGTGATAAGTGGTGTGAATTGCAGAATCCCGTGAACCATCGAGTCTTTGAACGCAAGTTGCGCCCGAGGCCATCAGGCTAAGGGCACGCCTGCCTGGGCGTTGCGTGCTGCATCTCTCTCCCATTGCTAAGGCTGAACAGGCATACTGTTCGGCCGGCGCGGATGAGTGTTTGGCCCCTTGTTCTTCGGTGCGATGGGTCCAAGACCTGGGCTTTTGACGGCCGGAAATCCGGCAAGAGGTGGACGGACGGTGGCTGCGACGAAGCTGTCGTGCGAATGCCCTACGCTGTCGTATTTGATGGGCCGGAATAAATCCCTTTTGAGCCCCATTGGAGGCACGTCAACCCGTGGGCGGTCGACGGCCATTTGGATGCAACCCCAGGTCAGGTGAGGA\n",
      ">2765634_P.pearcei\n",
      "CGTAACAAGGTTTCCGTAGGTGAACCTGCGGAAGGATCATTGTTGAGACCGCCAAATATACGATCGAGTTAATCCGGAGGACCGGTGTAGTTTGGTCTCCCAGGGGCTTTCGCCGCTGTGGTGACCGTGATTTGCCATCGAGCCTCCTTGGGAGATTTCTTGATGGCAATTGAACCCTTGGCCCGGCGCAGTTTCGCGCCAAGTCATATGAGATAGAACCGGCGGAGGGCGTCGTCCTCCATGGAGCGGGGAGGGCCGGCATGCTCCGTGCCCCCCCATGAATTTTTCTGACAACTCTCGGCAACGGACGTAACAAGGTTTAAATGTGATAAGCAGGTGTGAATTGCAGAATCCCGTGAACCATCGAGTCTTTGAACGCAAGTTGCGCCCGAGGCCATCAGGTTAAGGGCACGCCTGCCTGGGCGTTGCGTGCTGCATCTCTCCCATTGCTAAGGTTGAACGGGCATACTGTTCGGCCGGCGCGGATGAGAGTTTGGCCCCTTGTTCTTCGGTGCGATGGGTCCAAGACCTGGGCTTTTGACGGTCCAAAATCCGGCAAGAGGTGGACGGACGGTGGCTGCGACAGAGCTGTCGTGCGAATGCCCTACGTTGTCGTTTTTGATGGGCCAGAATAAATCCCTTTTGAACCCCATTGGAGGCACGTCAACCCAATGGGGGGTGACGGGCATTTGGTTAACCCCGGCAAGTTAAGGCACCCGTTAATTTTAGGA\n",
      ">2765633_P.longifolium\n",
      "CGTAACAAGGTTTCCGTAGGTGAACCTGCGGAAGGATCATTGTTGAGACCGCCAAATATACGATCGAGTTAATCCGGAGGACCGGTGTAGTTTGGTCTCCCAGGGGCTTTCGCCGCTGTGGTGACCGTGATTTGCCATCGAGCCTCCTTGGGAGATTTCTTGATGGCAATTGAACCCTTGGCCCGGCGCAGTTTCGCGCCAAGTCATATGAGATAGAACCGGCAGGGGGCGTCGTCCTCCATGGAGCCGGGGAGGGCCGGCATGCTGCCGTGCCCCCAATGAATTTTTTGACAACTCTCGGCAACGGATATCTCGGCTCTTGCATCGATGAAGAACGCAGCGAAATGTGATAAGTGGTGTGAATTGCAGAATCCCGTGAACCATCGAGTCTTTGAACGCAAGTTGCGCCCGAGGCCATCAGGCTAAGGGCACGCCTGCCTGGGCGTTGCGTGCTGCATCTCTCCCATTGCTAAGGTTGAACGGGCATACTGTTCGGCCGGCGCGGATGAGAGTTTGGCCCCTTGTTCTTCGGTGCGATGGGTCCAAGACCTGGGCTTTTGACGGTCCAAAATCCGGCAAGAGGTGGACGGACGGTGGCTGCGACAGAGCTGTCGTGCGAATGCCCTACGTTGTCGTATTTGATGGGCCGGAATAAATCCCTTTGAACCCCATTGGAGGCACGTCAACCCCATGGGCGGTGACGGCCACTTGGATGCAACCCAGTCAGTGAGCCACCGCTGA\n",
      ">2765632_P.lindenii\n",
      "CGTAACAAGGTTTCCGTAGGTGAACCTGCGGAAGGATCATTGTTGAGACCCCCAAAAAAACGATCGAGTTAATCCGGAGGACCGGTGTAGTTTGGTCTCCCAGGGGCTTTGGCTACTGTGGTGACCGTGAATTTCCGTCGAGCCTCCTTGGGAGATTTCTTGATGGCAATTGAACCCTTGGCCCGGCGCAGTTTCGCCCCAAGTCAAATGAGATGGAACCGGCGGAGGGCATCGTCCTCCATGGAACCGGGGAGGGCCGGCGTGCTTCCGTCCCCCAATGAATTTTTTTGACAACTCTCGCAACGGATATCTCGCTCTTGCATCGATGAAGAACACAGCGAAATGTGATAAGTGGTGTGAATTGCAGAATCCCGTGAACCATCGAGTCTTTGAACGCAAGTTGCGCCCGAGGCCATCAGGCTAAGGGCACGCCTGCCTGGGCGTTGCGTGCTGCATCTCTCTCCCATTGCTAAGGCTGAACAGGCATACTGTTCGGCCGGCGCGGATGAGTGTTTGGCCCCTTGTTCTTCGGTGCGATGGGTCCAAGACCTGGGCTTTTGACGGCCGGAAATCCGGCAAGAGGTGGACGGACGGTGGCTGCGACGAAGCTGTCGTGCGAATGCCCTGCGTTGTCGTATTTGATGGGCCGGAATAAATCCCTTTGAACCCCATTGGAGGCACGTCAACCCGTGGCGGTCGACGGCCATTTGGATGCAACCCAGTCAGTGAGCCACCGCTGA\n",
      ">2765631_P.lindleyanum\n",
      "CGTAACAAGGTTTCCGTAGGTGAACCTGCGGAAGGATCATTGTTGAGACCGCAAAATATACGATCGAGTTAATCCGGAGGACTGGTGTAGTTTGGTCTCCCAGGGGCGTTGGCTACTGCGGTGACCATGATTTTCCATCGAGCCTCCTCGGGAGATTTCTTGATGGCAATTGAACCCTTGGCCCGGCGCAGTTTCGCGCCAAGTCGTATGAGATAGAACCGGCAGAGGGCTTCGTCCTCCATGGAACCGGGGAGGACCGGCATGCCGCCGTACCCCCTTTGAATCGGGCTGACAACTCTCGTTCAAGGAGCCCTCAGCTCATAATGTGATAAGTGGTGTGAATTGCAGAATCCCGTGAACCATCGAGTCTTTGAACGCAAGTTGCGCCCGAGGCCATCAGGCTAAGGGCACGCCTGCCTGGGCGTTGCGTGCTGCATCTCTCCCGTTGCTAAGGTCGAACAGGCATATACTGTTCGGCCGGCGCGGATGAGAGTTTGGCCCCTTGTTCTTCGGTGCGATGGGTCCAAGACCTGGGCTTTTGACGGTAAAAAATCCGGCAAGAGGTGGACGGACGGTGGCTGCGACAAAGCTGTCGTGCGAATGCCCTACGTTGTCGTATTTGATGGGCCAGAATAAATCCCTTTTGAACCCCATTGGAGGCACGTCAACCCATGGGCGGTTTGACGGCCATTGGATGCCAACCCAGTCAGGTGAGGCCACCCGCTGA\n",
      ">2765630_P.sargentianum\n",
      "CGTAACAAGGTTTCCGTAGGTGAACCTGCGGAAGGATCATTGTTGAGACCGCCAAATATACGATCGAGTTAATCCGGAGGACTGGTGTAGTTTGGTCTCCCAGGGGCGGTGGCTACTGCGGTGACCATGATATTCCATCGAGCCTCCTCGGGAGATTTCTTGATGGCAATTGAACCCGTGGCCCGGCGCAGTTTCGCGCCAAGTCGTATGAGATAGAACCGGCAGAGGTCTTCGTCCTCCATGGAACCGGGGAGGCCCGGCATACCACCATACCCCCAATGAATCTTTGTGACAACTCTCGTCAATGTGATAAGTGGTGTGAATTGCAGAATCCCGTGAACCATCGAGTCTTTGAACGCAAGTTGCGCCCGAGGCCATCAGGCTAAGGGCACGCCTGCCTGGGCGTTGCGTGCTGCATCTCTCCCGTTGCTAAGGTCGAACAGGCATACTGTTCGGTCGGCGCGGATGAGAGTTTGGCCCCTTGTTCTTCGGTGCGATGGGTCCAAGACCTGGGCTTTTGACGGTAAAAAATCCGGCAAGAGGTGGACGGACGGTGGCTGCGACAAAGCTGTCGTGCGAATGCCCTGCGTTGTCGTATTTGATGGGCCGGAATAAATCCCTTTTGAACCCCATTGGAGGCACGTCAACCCATGGGCGGTTGACGGCCATTTGGATGCAACCCCAGGTCAGGTGAGCCACCCGCTGAGTTTT\n",
      ">2765628_P.czerwiakowianum\n",
      "CGTAACCAGGTTTCCGTAGGTGAACCTCCGGAAGGATCCTTGTTGAGACCGCCAAATATACGATCGAGTTAATCCGGAGGACCGGTGTAGTTTGGTCTCCCAGGGGCTTTCGCCGCTGTGGTGTCCGTGATTTACCATCGAGCCTCCTTGGGAGATTTCTTGATGGCAATTGAACCCATGGCCCGGCGCAGTTTCGCGCCAAGTCATATGAGATAGAACCGGCAGGGGGCGTCGTCCTCCATGGAACCGGGGAGGGCCGGCATGCTACCGTACCCCCAATGAATTATTTTGACAACTCTCGGCAACGGAGTCTCAGCTCTTTGTGATAAGTGGTGTGAATTGCAGAATCCCGTGAACCATCGAGTCTTTGAACGCAAGTTGCGCCCGAGGCCATCAGGCTAAGGGCACGCCTGCCTGGGCGTTGCGTGCTGCATCTCTCCCATTGCTAAGGTTGAACGGGCATACTGTTCGGCCGGCGCGGACGAGAGTTTGGCCCCTTGTTCTTCGGTGCGATGGGTCCAAGACCTGGGCTTTTGACGGTCCAAAATCCGGCAAGAGGTGGACGGACGGTGGCTGCGACAAAGCTGTCGTGCGAATGCCCTACGTTGTCGTATTTGATGGGCCAGAATAAATCCCTTTTGAACCCCATTGGAGGCACGTCAACCCATGGGCGGTTGACGGCCATTTGGATGCAACCCCAGGTCAGGTGAGCCACCCGCTGAGATAA\n"
     ]
    }
   ],
   "source": [
    "# abrimos el archivo fasta y lo vemos en esta celda\n",
    "for registro in SeqIO.parse(\"../DB/ls_orchid_editado.fasta\", \"fasta\"):\n",
    "    print('>'+registro.id+'\\n'+registro.seq)"
   ]
  },
  {
   "cell_type": "code",
   "execution_count": null,
   "metadata": {},
   "outputs": [],
   "source": []
  },
  {
   "cell_type": "code",
   "execution_count": null,
   "metadata": {},
   "outputs": [],
   "source": []
  },
  {
   "cell_type": "code",
   "execution_count": null,
   "metadata": {},
   "outputs": [],
   "source": [
    "proteina_desconocida"
   ]
  },
  {
   "cell_type": "markdown",
   "metadata": {},
   "source": [
    "<b style=\"font-size:2vw\"><font color = red>Alineamiento múltiple de secuencias (Multiple Sequence Alignment: MSA)</font></b>\n",
    "\n",
    "<hr style=\"height:2px;border-width:0;color:blue;background-color:limegreen\">\n",
    "\n",
    "### <font color = black>En bioinformática, un alineamiento de secuencias es una forma de ordenar las secuencias de ADN, ARN o proteínas para identificar regiones similares que pueden ser consecuencia de relaciones funcionales, estructurales o evolutivas.</font> \n",
    "<hr style=\"height:2px;border-width:0;color:blue;background-color:limegreen\"> \n",
    "\n",
    "#### Generalmente se representan en formato gráfico y de texto.\n",
    "#### Es un paso inicial para la construcción de perfiles, regiones conservadas, búsqueda de unidades funcionales dentro de proteínas."
   ]
  },
  {
   "cell_type": "code",
   "execution_count": null,
   "metadata": {},
   "outputs": [],
   "source": []
  },
  {
   "cell_type": "code",
   "execution_count": 170,
   "metadata": {},
   "outputs": [],
   "source": [
    "# carga de módulos\n",
    "import sys, os\n",
    "sys.path.append(\"../binarios/\")\n",
    "import edu\n",
    "from Bio import AlignIO\n",
    "from Bio import Phylo\n",
    "import matplotlib.pyplot as plt"
   ]
  },
  {
   "cell_type": "code",
   "execution_count": null,
   "metadata": {},
   "outputs": [],
   "source": []
  },
  {
   "cell_type": "markdown",
   "metadata": {},
   "source": [
    "### [Herramientas para alineamiento de secuencias](https://en.wikipedia.org/wiki/List_of_sequence_alignment_software)"
   ]
  },
  {
   "cell_type": "code",
   "execution_count": null,
   "metadata": {},
   "outputs": [],
   "source": []
  },
  {
   "cell_type": "markdown",
   "metadata": {},
   "source": [
    "#### Cada algoritmo tiene restricciones, una de ellas es el número de secuencias aceptadas, entonces la instalación local puede ser la mejor opción.\n",
    "#### <font color = green>Para hacer uso de estos recursos es necesario proporcionar un correo electrónico.</font>"
   ]
  },
  {
   "cell_type": "code",
   "execution_count": 174,
   "metadata": {},
   "outputs": [],
   "source": [
    "# guarda tu email en una variable para usarla en análisis posteriores\n",
    "email = 'ejemplo@hotmail.com'"
   ]
  },
  {
   "cell_type": "code",
   "execution_count": null,
   "metadata": {},
   "outputs": [],
   "source": []
  },
  {
   "cell_type": "markdown",
   "metadata": {},
   "source": [
    "#### [Clustal Omega](https://www.ncbi.nlm.nih.gov/pmc/articles/PMC3261699/)\n",
    "[Documentation](https://www.ebi.ac.uk/seqdb/confluence/display/JDSAT/Clustal+Omega+Help+and+Documentation)"
   ]
  },
  {
   "cell_type": "markdown",
   "metadata": {},
   "source": [
    "##### opción 1\n",
    "<img align=\"left\" src=\"https://creazilla-store.fra1.digitaloceanspaces.com/emojis/47510/warning-emoji-clipart-md.png\" width=\"25\" height=\"25\">\n",
    "\n",
    "<font color=red> !!!!!! esta opción solo es compatible con Windows !!!!!!</font><br> "
   ]
  },
  {
   "cell_type": "code",
   "execution_count": 175,
   "metadata": {},
   "outputs": [],
   "source": [
    "# clustalo acepta secuencias fasta\n",
    "comando1 = 'start cmd /k cd ../salidas/ ^&^& python ../binarios/clustalo.py --email '+email+' --stype dna --sequence ../DB/ls_orchid_editado.fasta'\n",
    "cl = os.system(comando1)"
   ]
  },
  {
   "cell_type": "code",
   "execution_count": 176,
   "metadata": {},
   "outputs": [
    {
     "data": {
      "application/vnd.jupyter.widget-view+json": {
       "model_id": "fd8ef6e55956481eb2cdc3df59d8caa6",
       "version_major": 2,
       "version_minor": 0
      },
      "text/plain": [
       "HBox(children=(Button(description='Clustalo Help', icon='question-circle', layout=Layout(width='200px'), style…"
      ]
     },
     "metadata": {},
     "output_type": "display_data"
    }
   ],
   "source": [
    "edu.Help_clustalo"
   ]
  },
  {
   "cell_type": "code",
   "execution_count": null,
   "metadata": {},
   "outputs": [],
   "source": []
  },
  {
   "cell_type": "markdown",
   "metadata": {},
   "source": [
    "##### opción 2\n",
    "<img align=\"left\" src=\"https://creazilla-store.fra1.digitaloceanspaces.com/emojis/47510/warning-emoji-clipart-md.png\" width=\"25\" height=\"25\">\n",
    "\n",
    "<font color=red> !!!!!! esta opción solo es compatible con Windows!!!!!!</font><br> "
   ]
  },
  {
   "cell_type": "code",
   "execution_count": 181,
   "metadata": {},
   "outputs": [],
   "source": [
    "# para esta opción se necesita el módulo subprocess\n",
    "import subprocess"
   ]
  },
  {
   "cell_type": "code",
   "execution_count": 185,
   "metadata": {},
   "outputs": [
    {
     "name": "stdout",
     "output_type": "stream",
     "text": [
      "Time: 0:00:18\n"
     ]
    }
   ],
   "source": [
    "# clustalo acepta secuencias fasta\n",
    "\n",
    "os.chdir('../salidas/') # nos movemos al directorio salidas para guardar los resultados\n",
    "init = edu.time_ini()\n",
    "\"\"\"\n",
    "Formatos de alineamientos generados por Clustalo\n",
    "--outfmt={a2m=fa[sta],clu[stal],msf,phy[lip],selex,st[ockholm],vie[nna]} MSA output file format (default: fasta)\n",
    "\"\"\"\n",
    "subprocess.call(['python',\n",
    "                 '../binarios/clustalo.py',                       # archivo de entrada en formato fasta\n",
    "                 '--email', email,                                # seleción del tipo de secuencia (dna o prot)\n",
    "                 '--stype',  'dna',                               # imprime el proceso\n",
    "                 '--sequence', '../DB/ls_orchid_editado.fasta',   # construye un árbol filogenético en formato Newick \n",
    "                 '--outfmt', 'stockholm'])\n",
    "edu.time_fin(i = init)\n",
    "os.chdir('../jupyter/') # nos regresamos al directorio jupyter"
   ]
  },
  {
   "cell_type": "code",
   "execution_count": null,
   "metadata": {},
   "outputs": [],
   "source": []
  },
  {
   "cell_type": "code",
   "execution_count": 185,
   "metadata": {},
   "outputs": [],
   "source": []
  },
  {
   "cell_type": "markdown",
   "metadata": {},
   "source": [
    "##### opción 2.1\n",
    "<img align=\"left\" src=\"https://creazilla-store.fra1.digitaloceanspaces.com/emojis/47510/warning-emoji-clipart-md.png\" width=\"25\" height=\"25\">\n",
    "\n",
    "<font color=red> !!!!!! esta opción solo es compatible con Mac y Linux con python v3 !!!!!!</font><br> "
   ]
  },
  {
   "cell_type": "raw",
   "metadata": {},
   "source": [
    "# clustalo acepta secuencias fasta\n",
    "\n",
    "os.chdir('../salidas/') # nos movemos al directorio salidas para guardar los resultados\n",
    "init = edu.time_ini()\n",
    "\n",
    "subprocess.call(['python3',\n",
    "                 '../binarios/clustalo.py',         # archivo de entrada en formato fasta\n",
    "                 '--email', email,                  # seleción del tipo de secuencia (dna o prot)\n",
    "                 '--stype',  'dna',                 # imprime el proceso\n",
    "                 '--sequence',                      # construye un árbol filogenético en formato Newick \n",
    "                 '../DB/ls_orchid_editado.fasta'])  # ordenar el alineamiento múltiple de secuencia (MSA)\n",
    "edu.time_fin(i = init)\n",
    "os.chdir('../jupyter/') # nos regresamos al directorio jupyter"
   ]
  },
  {
   "cell_type": "code",
   "execution_count": null,
   "metadata": {},
   "outputs": [],
   "source": []
  },
  {
   "cell_type": "code",
   "execution_count": null,
   "metadata": {},
   "outputs": [],
   "source": []
  },
  {
   "cell_type": "code",
   "execution_count": null,
   "metadata": {},
   "outputs": [],
   "source": []
  },
  {
   "cell_type": "markdown",
   "metadata": {},
   "source": [
    "#### [Kalign](https://bmcbioinformatics.biomedcentral.com/articles/10.1186/1471-2105-6-298)\n",
    "[Documentation](https://www.ebi.ac.uk/seqdb/confluence/display/JDSAT/Kalign+Help+and+Documentation)"
   ]
  },
  {
   "cell_type": "markdown",
   "metadata": {},
   "source": [
    "##### opción 1"
   ]
  },
  {
   "cell_type": "code",
   "execution_count": null,
   "metadata": {},
   "outputs": [],
   "source": [
    "# kalign acepta secuencias fasta\n",
    "comando2 = 'start cmd /k cd ../salidas/ ^&^& python ../binarios/kalign.py --email '+email+' --stype dna --sequence ../DB/ls_orchid_editado.fasta'\n",
    "cl = os.system(comando2)"
   ]
  },
  {
   "cell_type": "code",
   "execution_count": 186,
   "metadata": {},
   "outputs": [
    {
     "data": {
      "application/vnd.jupyter.widget-view+json": {
       "model_id": "6303844e5c4c4177b76966bc9ca971ed",
       "version_major": 2,
       "version_minor": 0
      },
      "text/plain": [
       "HBox(children=(Button(description='Kalign Help', icon='question-circle', layout=Layout(width='200px'), style=B…"
      ]
     },
     "metadata": {},
     "output_type": "display_data"
    }
   ],
   "source": [
    "edu.Help_kalign"
   ]
  },
  {
   "cell_type": "code",
   "execution_count": null,
   "metadata": {},
   "outputs": [],
   "source": []
  },
  {
   "cell_type": "markdown",
   "metadata": {},
   "source": [
    "##### opción 2"
   ]
  },
  {
   "cell_type": "code",
   "execution_count": null,
   "metadata": {},
   "outputs": [],
   "source": []
  },
  {
   "cell_type": "markdown",
   "metadata": {},
   "source": [
    "#### [MAFFT](https://pubmed.ncbi.nlm.nih.gov/12136088/)\n",
    "[Documentation](https://www.ebi.ac.uk/seqdb/confluence/display/JDSAT/MAFFT+Help+and+Documentation)"
   ]
  },
  {
   "cell_type": "code",
   "execution_count": null,
   "metadata": {},
   "outputs": [],
   "source": [
    "# mafft acepta secuencias fasta\n",
    "comando3 = 'start cmd /k cd ../salidas/ ^&^& python ../binarios/mafft.py --email '+email+' --stype dna --sequence ../DB/ls_orchid_editado.fasta'\n",
    "cl = os.system(comando3)"
   ]
  },
  {
   "cell_type": "code",
   "execution_count": null,
   "metadata": {},
   "outputs": [],
   "source": [
    "edu.Help_mafft"
   ]
  },
  {
   "cell_type": "markdown",
   "metadata": {},
   "source": [
    "#### [MUSCLE](https://www.ncbi.nlm.nih.gov/pmc/articles/PMC390337/)\n",
    "[Documentation](https://www.ebi.ac.uk/seqdb/confluence/display/JDSAT/MUSCLE+Help+and+Documentation)"
   ]
  },
  {
   "cell_type": "code",
   "execution_count": null,
   "metadata": {},
   "outputs": [],
   "source": [
    "# muscle acepta secuencias fasta\n",
    "comando4 = 'start cmd /k cd ../salidas/ ^&^& python ../binarios/muscle.py --email '+email+' --sequence ../DB/ls_orchid.fasta'\n",
    "cl = os.system(comando4)"
   ]
  },
  {
   "cell_type": "code",
   "execution_count": null,
   "metadata": {},
   "outputs": [],
   "source": [
    "edu.Help_muscle"
   ]
  },
  {
   "cell_type": "markdown",
   "metadata": {},
   "source": [
    "#### [MView](https://academic.oup.com/bioinformatics/article/14/4/380/190019)\n",
    "[Documentation](https://www.ebi.ac.uk/seqdb/confluence/display/JDSAT/MView+Help+and+Documentation)"
   ]
  },
  {
   "cell_type": "code",
   "execution_count": null,
   "metadata": {},
   "outputs": [],
   "source": [
    "# mview acepta alineamientos\n",
    "comando5 = 'start cmd /k cd ../salidas/ ^&^& python ../binarios/mview.py --email '+email+' --stype dna --sequence ../salidas/clustalo-R20210802-025311-0860-83289883-p2m.aln-clustal_num.clustal_num'\n",
    "cl = os.system(comando5)"
   ]
  },
  {
   "cell_type": "code",
   "execution_count": null,
   "metadata": {},
   "outputs": [],
   "source": [
    "edu.Help_mview"
   ]
  },
  {
   "cell_type": "markdown",
   "metadata": {},
   "source": [
    "#### [T-Coffee](https://pubmed.ncbi.nlm.nih.gov/10964570/)\n",
    "[Documentation](https://www.ebi.ac.uk/seqdb/confluence/display/JDSAT/T-coffee+Help+and+Documentation)"
   ]
  },
  {
   "cell_type": "code",
   "execution_count": null,
   "metadata": {},
   "outputs": [],
   "source": [
    "# tcoffee acepta secuencias fasta\n",
    "comando6 = 'start cmd /k cd ../salidas/ ^&^& python ../binarios/tcoffee.py --email '+email+' --stype dna --sequence ../DB/ls_orchid_editado.fasta'\n",
    "cl = os.system(comando6)"
   ]
  },
  {
   "cell_type": "code",
   "execution_count": null,
   "metadata": {},
   "outputs": [],
   "source": [
    "edu.Help_tcoffee"
   ]
  },
  {
   "cell_type": "markdown",
   "metadata": {},
   "source": [
    "#### [PRANK](https://bmcbioinformatics.biomedcentral.com/articles/10.1186/1471-2105-11-579)\n",
    "[Documentation](https://www.ebi.ac.uk/seqdb/confluence/display/JDSAT/PRANK+Help+and+Documentation)"
   ]
  },
  {
   "cell_type": "code",
   "execution_count": null,
   "metadata": {},
   "outputs": [],
   "source": [
    "# prank acepta secuencias fasta\n",
    "comando7 = 'start cmd /k cd ../salidas/ ^&^& python ../binarios/prank.py --email '+email+' --sequence ../DB/ls_orchid_editado.fasta'\n",
    "cl = os.system(comando7)"
   ]
  },
  {
   "cell_type": "code",
   "execution_count": null,
   "metadata": {},
   "outputs": [],
   "source": [
    "edu.Help_prank"
   ]
  },
  {
   "cell_type": "code",
   "execution_count": null,
   "metadata": {},
   "outputs": [],
   "source": []
  },
  {
   "cell_type": "code",
   "execution_count": 205,
   "metadata": {},
   "outputs": [],
   "source": [
    "# selección de un alineamiento\n",
    "alin = \"../salidas/clustalo-R20210803-182543-0671-59525963-p1m.aln-clustal_num.clustal_num\""
   ]
  },
  {
   "cell_type": "code",
   "execution_count": null,
   "metadata": {},
   "outputs": [],
   "source": []
  },
  {
   "cell_type": "code",
   "execution_count": 206,
   "metadata": {},
   "outputs": [],
   "source": [
    "# se abre el alineamiento creado y ubicado en el folder DB\n",
    "alin_clustalw = AlignIO.read(alin, \"clustal\")"
   ]
  },
  {
   "cell_type": "code",
   "execution_count": 207,
   "metadata": {},
   "outputs": [
    {
     "name": "stdout",
     "output_type": "stream",
     "text": [
      "SingleLetterAlphabet() alignment with 27 rows and 789 columns\n",
      "CGTAACAAGGTTTCCGTAGGTGAACCTGCGGAAGGATCATTGCT...AGC gi|2765640|emb|Z78515.1|MXZ78515\n",
      "CGTAACAAGGTTTCCGTAGGTGGACCTTCGGGAGGATCATTTTT...--- gi|2765639|emb|Z78514.1|PSZ78514\n",
      "CGTAACAAGGTTTCCGTAGGTGGACCTTCGGGAGGATCATTTTT...AGC gi|2765637|emb|Z78512.1|PWZ78512\n",
      "CGTAACAAGGTTTCCGTAGGTGAACCTTCGGAAGGATCATTGTT...--- gi|2765636|emb|Z78511.1|PEZ78511\n",
      "CGTAACAAGGTTTCCGTAGGTGAACCTGCGGAAGGATCATTGTT...--- gi|2765633|emb|Z78508.1|PLZ78508\n",
      "CGTAACAAGGTTTCCGTAGGTGAACCTGCGGAAGGATCATTGTT...--- gi|2765632|emb|Z78507.1|PLZ78507\n",
      "CGTAACAAGGTTTCCGTAGGTGAACCTGCGGAAGGATCATTGTT...GGA gi|2765634|emb|Z78509.1|PPZ78509\n",
      "CGTAACAAGGTTTCCGTAGGTGAACCTGCGGAAGGATCATTGTT...--- gi|2765631|emb|Z78506.1|PLZ78506\n",
      "CGTAACAAGGTTTCCGTAGGTGAACCTGCGGAAGGATCATTGTT...--- gi|2765630|emb|Z78505.1|PSZ78505\n",
      "CGTAACCAGGTTTCCGTAGGTGAACCTCCGGAAGGATCCTTGTT...--- gi|2765628|emb|Z78503.1|PCZ78503\n",
      "CGTAACAAGGTTTCCGTAGGTGAACCTGCGGAAGGATCATTGAT...CGC gi|2765658|emb|Z78533.1|CIZ78533\n",
      "----------------------------------------TGTT...--- gi|2765650|emb|Z78525.1|CAZ78525\n",
      "CGTAACCAGGTTTCCGTAGGTGAACCTGCGGCAGGATCATTGTT...G-- gi|2765648|emb|Z78523.1|CHZ78523\n",
      "--------------------------------------------...--- gi|2765644|emb|Z78519.1|CPZ78519\n",
      "CGTAACAAGGTTTCCGTAGGTGAACCTGCGGAAGGATCATTGTT...--- gi|2765647|emb|Z78522.1|CMZ78522\n",
      "---------------GTAGGTGAACCTGCGGAAGGATCATTGTT...--- gi|2765646|emb|Z78521.1|CCZ78521\n",
      "CGTAACAAGGTTTCCGTAGGTGAACCTGCGGAAGGATCATTGTT...--- gi|2765645|emb|Z78520.1|CSZ78520\n",
      "CGTAACAAGGTTTCCGTAGGTGAACCTGCGGAAGGATCATTGTT...--- gi|2765655|emb|Z78530.1|CMZ78530\n",
      "...\n",
      "CGTAACAAGGTTTCCGTAGGTGAACCTGCGGAAGGATCATTGTT...A-- gi|2765641|emb|Z78516.1|CPZ78516\n"
     ]
    }
   ],
   "source": [
    "print(alin_clustalw)"
   ]
  },
  {
   "cell_type": "code",
   "execution_count": null,
   "metadata": {},
   "outputs": [],
   "source": []
  },
  {
   "cell_type": "code",
   "execution_count": 217,
   "metadata": {},
   "outputs": [
    {
     "name": "stdout",
     "output_type": "stream",
     "text": [
      "                        ___________________ 2765640_M.xerophyticum\n",
      "                       |\n",
      "                       |        _____________ 2765639_P.schlimii\n",
      "        _______________|       |\n",
      "       |               |       |         _________ 2765637_P.wallisii\n",
      "       |               |       |       _|\n",
      "       |               |_______|      | |__ 2765636_P.exstaminodium\n",
      "       |                       |  ____|\n",
      "       |                       | |    |   _____ 2765633_P.longifolium\n",
      "       |                       | |    |__|\n",
      "       |                       | |       |______ 2765632_P.lindenii\n",
      "  _____|                       |_|\n",
      " |     |                         |     _________ 2765634_P.pearcei\n",
      " |     |                         |   _|\n",
      " |     |                         |  | |____ 2765628_P.czerwiakowianum\n",
      " |     |                         |__|\n",
      " |     |                            |   _____ 2765631_P.lindleyanum\n",
      " |     |                            |__|\n",
      " |     |                               |__ 2765630_P.sargentianum\n",
      " |     |\n",
      " |     |____________________ 2765658_C.irapeanum\n",
      " |\n",
      " |____________________ 2765656_C.fasciculatum\n",
      " |\n",
      " |  _________________ 2765650_C.acaule\n",
      " | |\n",
      " |_|            _____ 2765648_C.himalaicum\n",
      " | |           |\n",
      " | |           |   ___ 2765644_C.pubescens\n",
      " | |___________| _|\n",
      "_|             || |__ 2765646_C.calceolus\n",
      " |             ||\n",
      " |             ||____ 2765647_C.macranthum\n",
      " |              |\n",
      " |              |_____ 2765645_C.segawai\n",
      " |\n",
      " |               ____ 2765655_C.margaritaceum\n",
      " |______________|\n",
      " |              |______ 2765654_C.lichiangense\n",
      " |\n",
      " | _________________ 2765649_C.formosanum\n",
      " ,|\n",
      " ||_______________ 2765657_C.californicum\n",
      " |\n",
      " |          ___ 2765652_C.yatabeanum\n",
      " | ________|\n",
      " ||        |__ 2765651_C.guttatum\n",
      " ||\n",
      "  |        _____ 2765643_C.reginae\n",
      "  |_______|\n",
      "          |   __ 2765642_C.flavum\n",
      "          |__|\n",
      "             |__ 2765641_C.passerinum\n",
      "\n"
     ]
    }
   ],
   "source": [
    "# visualización del parbol filogenético en texto plano\n",
    "arbol_clustal = Phylo.read(\"../salidas/clustalo-R20210803-184440-0648-64868289-p1m.phylotree.ph\", \"newick\")\n",
    "Phylo.draw_ascii(arbol_clustal)"
   ]
  },
  {
   "cell_type": "code",
   "execution_count": null,
   "metadata": {},
   "outputs": [],
   "source": []
  },
  {
   "cell_type": "code",
   "execution_count": 218,
   "metadata": {
    "scrolled": false
   },
   "outputs": [
    {
     "data": {
      "image/png": "[encoded data removed]",
      "text/plain": [
       "<Figure size 504x504 with 1 Axes>"
      ]
     },
     "metadata": {
      "needs_background": "light"
     },
     "output_type": "display_data"
    }
   ],
   "source": [
    "fig = plt.figure(figsize=(7, 7))\n",
    "ax = fig.add_axes([0, 0, 1, 1])\n",
    "ax.axis('off')\n",
    "\n",
    "Phylo.draw(arbol_clustal, axes = ax)\n",
    "\n",
    "\n",
    "# si quiere guardar el cárbol tiene  que habilitar el siguiente comando\n",
    "fig.savefig('../salidas/arbol_ls_orchid_editado.png', dpi = 900, bbox_inches= 'tight')"
   ]
  },
  {
   "cell_type": "code",
   "execution_count": null,
   "metadata": {},
   "outputs": [],
   "source": []
  },
  {
   "cell_type": "code",
   "execution_count": null,
   "metadata": {},
   "outputs": [],
   "source": []
  },
  {
   "cell_type": "markdown",
   "metadata": {},
   "source": [
    "### Los árboles filogenéticos pueden ser editados y visualizardos con la siguiente herramienta"
   ]
  },
  {
   "cell_type": "markdown",
   "metadata": {},
   "source": [
    "### __iTol__\n",
    "\n",
    "[<img align=\"left\" src=\"https://raw.githubusercontent.com/eduardo1011/curso_08_2021/main/iTol.png\" width=\"500\" height=\"500\">](https://itol.embl.de/)"
   ]
  },
  {
   "cell_type": "code",
   "execution_count": null,
   "metadata": {},
   "outputs": [],
   "source": []
  },
  {
   "cell_type": "markdown",
   "metadata": {},
   "source": [
    "### La siguiente herramienta realiza alineamientos MATFF y creoa árboles filogenéticos "
   ]
  },
  {
   "cell_type": "markdown",
   "metadata": {},
   "source": [
    "### NGPhylogeny.fr\n",
    "\n",
    "[<img align=\"left\" src=\"https://raw.githubusercontent.com/eduardo1011/curso_08_2021/main/NGPhylogeny.fr_web.png\" width=\"500\" height=\"500\">](https://ngphylogeny.fr/workflows/oneclick/)\n",
    "\n"
   ]
  },
  {
   "cell_type": "code",
   "execution_count": null,
   "metadata": {},
   "outputs": [],
   "source": []
  },
  {
   "cell_type": "code",
   "execution_count": null,
   "metadata": {},
   "outputs": [],
   "source": []
  },
  {
   "cell_type": "markdown",
   "metadata": {},
   "source": [
    "<hr style=\"height:5px;border-width:0;color:blue;background-color:blue\">"
   ]
  },
  {
   "cell_type": "markdown",
   "metadata": {},
   "source": [
    "<img align=\"left\" src=\"https://raw.githubusercontent.com/eduardo1011/curso_08_2021/main/exercise_blue.png\" width=\"90\" height=\"80\">\n",
    "\n",
    "<font color=#0000ff> <b>Ejercicio:</b> *realiza un MSA usando el archivo __SARS-CoV_&_SARS-CoV-2.faa__ el cual contiene secuencias de la proteína Spike (una glucoproteína transmembranal), de preferencia usa el programa __Clustal Omega__.* </font><br>\n"
   ]
  },
  {
   "cell_type": "code",
   "execution_count": null,
   "metadata": {},
   "outputs": [],
   "source": []
  },
  {
   "cell_type": "code",
   "execution_count": null,
   "metadata": {},
   "outputs": [],
   "source": []
  },
  {
   "cell_type": "markdown",
   "metadata": {},
   "source": [
    "<hr style=\"height:5px;border-width:0;color:blue;background-color:blue\"> "
   ]
  },
  {
   "cell_type": "code",
   "execution_count": null,
   "metadata": {},
   "outputs": [],
   "source": []
  },
  {
   "cell_type": "code",
   "execution_count": null,
   "metadata": {},
   "outputs": [],
   "source": []
  },
  {
   "cell_type": "markdown",
   "metadata": {},
   "source": [
    "<img align=\"left\" src=\"https://raw.githubusercontent.com/eduardo1011/curso_08_2021/main/exercise_blue.png\" width=\"90\" height=\"80\">\n",
    "\n",
    "\n",
    "### <font color = blue>Opcional</font></br>\n",
    "#### <font color = blue>Alineamiento de 40 genomas completos de SARS CoV y SARS CoV-2 de humano, y SARS CoV de murciélago y civeta.</font>\n",
    "####  <font color = blue>Comparar el resultado con el de la siguiente publicación.</font>\n",
    "\n",
    "[<img align=\"left\" src=\"https://raw.githubusercontent.com/eduardo1011/curso_08_2021/main/paper_covid19.png\" width=\"700\" height=\"700\">](https://onlinelibrary.wiley.com/doi/full/10.1002/prot.25967)\n",
    "\n",
    "<img align=\"left\" src=\"https://onlinelibrary.wiley.com/cms/asset/7ccdfbd5-9fa8-4089-9484-a9e0726ad51f/prot25967-fig-0003-m.jpg\" width=\"400\" height=\"400\">\n"
   ]
  },
  {
   "cell_type": "code",
   "execution_count": null,
   "metadata": {},
   "outputs": [],
   "source": []
  },
  {
   "cell_type": "code",
   "execution_count": null,
   "metadata": {},
   "outputs": [],
   "source": []
  },
  {
   "cell_type": "code",
   "execution_count": null,
   "metadata": {},
   "outputs": [],
   "source": []
  },
  {
   "cell_type": "markdown",
   "metadata": {},
   "source": [
    "### Manipulando alineamientos"
   ]
  },
  {
   "cell_type": "code",
   "execution_count": null,
   "metadata": {},
   "outputs": [],
   "source": []
  },
  {
   "cell_type": "code",
   "execution_count": null,
   "metadata": {},
   "outputs": [],
   "source": [
    "# se abre un archivo de alineamiento múltiple de secuencias\n",
    "alineamiento = AlignIO.read(alin, \"clustal\")"
   ]
  },
  {
   "cell_type": "code",
   "execution_count": null,
   "metadata": {},
   "outputs": [],
   "source": [
    "print(alineamiento)"
   ]
  },
  {
   "cell_type": "code",
   "execution_count": null,
   "metadata": {},
   "outputs": [],
   "source": []
  },
  {
   "cell_type": "code",
   "execution_count": null,
   "metadata": {},
   "outputs": [],
   "source": [
    "# número de secuencias alineadas\n",
    "print(\"Number of rows: \" + str(len(alineamiento)))"
   ]
  },
  {
   "cell_type": "code",
   "execution_count": null,
   "metadata": {},
   "outputs": [],
   "source": []
  },
  {
   "cell_type": "code",
   "execution_count": null,
   "metadata": {
    "scrolled": true
   },
   "outputs": [],
   "source": [
    "# iteración del alineamiento (línea por línea), el 50 indica la cantidad de nucleótidos a mostrar\n",
    "for record in alineamiento:\n",
    "    print(record.id, record.seq[0:50])"
   ]
  },
  {
   "cell_type": "code",
   "execution_count": null,
   "metadata": {},
   "outputs": [],
   "source": []
  },
  {
   "cell_type": "code",
   "execution_count": null,
   "metadata": {},
   "outputs": [],
   "source": [
    "# imprime las 10 primeras filas sin restringir las columnas (nucleótidos)\n",
    "print(alineamiento[0:10])"
   ]
  },
  {
   "cell_type": "code",
   "execution_count": null,
   "metadata": {},
   "outputs": [],
   "source": []
  },
  {
   "cell_type": "code",
   "execution_count": null,
   "metadata": {},
   "outputs": [],
   "source": [
    "# se obtienen los identificadores del alineamiento\n",
    "for record in alineamiento:\n",
    "    print(record.id)"
   ]
  },
  {
   "cell_type": "code",
   "execution_count": null,
   "metadata": {},
   "outputs": [],
   "source": []
  },
  {
   "cell_type": "code",
   "execution_count": null,
   "metadata": {},
   "outputs": [],
   "source": [
    "# una manera de extraer informacion de cualquier parte del alineamiento\n",
    "\"\"\"\n",
    "[:, :] = esta orden indica cuántas filas y cuántas columnas quiero extraer\n",
    "por ejemplo [0:5, 0:5] indica que tomará de la fila 0 a la 5, y de la columna 0 a la 5,\n",
    "esta acción está configurada de tal modo que las columnas hacen referencia a los nucleótidos.\n",
    "\"\"\"\n",
    "\n",
    "print(alineamiento[0:5, 0:5])"
   ]
  },
  {
   "cell_type": "code",
   "execution_count": null,
   "metadata": {},
   "outputs": [],
   "source": []
  },
  {
   "cell_type": "code",
   "execution_count": null,
   "metadata": {},
   "outputs": [],
   "source": [
    "print(alineamiento[3:12, 5:25])"
   ]
  },
  {
   "cell_type": "code",
   "execution_count": null,
   "metadata": {},
   "outputs": [],
   "source": []
  },
  {
   "cell_type": "code",
   "execution_count": null,
   "metadata": {},
   "outputs": [],
   "source": [
    "# se pueden concatenar fragmentos extraidos de los alineamientos\n",
    "editado = alineamiento[:5, :2] + alineamiento[:5, 22:28]\n",
    "print(editado)"
   ]
  },
  {
   "cell_type": "code",
   "execution_count": null,
   "metadata": {},
   "outputs": [],
   "source": []
  },
  {
   "cell_type": "code",
   "execution_count": null,
   "metadata": {},
   "outputs": [],
   "source": [
    "# visualización antes de ser ordenado (por orden alfabético de identificadores)\n",
    "print(alineamiento)"
   ]
  },
  {
   "cell_type": "code",
   "execution_count": null,
   "metadata": {},
   "outputs": [],
   "source": []
  },
  {
   "cell_type": "code",
   "execution_count": null,
   "metadata": {},
   "outputs": [],
   "source": [
    "alineamiento.sort()"
   ]
  },
  {
   "cell_type": "code",
   "execution_count": null,
   "metadata": {},
   "outputs": [],
   "source": [
    "# después de ser ordenado\n",
    "print(alineamiento)"
   ]
  },
  {
   "cell_type": "code",
   "execution_count": null,
   "metadata": {},
   "outputs": [],
   "source": []
  },
  {
   "cell_type": "code",
   "execution_count": null,
   "metadata": {},
   "outputs": [],
   "source": []
  },
  {
   "cell_type": "code",
   "execution_count": null,
   "metadata": {},
   "outputs": [],
   "source": []
  },
  {
   "cell_type": "markdown",
   "metadata": {},
   "source": [
    "<b style=\"font-size:2vw\"><font color = red>Alineamiento múltiple de secuencias (Multiple Sequence Alignment: MSA)</font></b>\n",
    "\n",
    "<hr style=\"height:2px;border-width:0;color:blue;background-color:limegreen\">\n",
    "\n",
    "### <font color = black>En bioinformática, un alineamiento de secuencias es una forma de ordenar las secuencias de ADN, ARN o proteínas para identificar regiones similares que pueden ser consecuencia de relaciones funcionales, estructurales o evolutivas.</font> \n",
    "<hr style=\"height:2px;border-width:0;color:blue;background-color:limegreen\"> \n",
    "\n",
    "#### Generalmente se representan en formato gráfico y de texto.\n",
    "#### Es un paso inicial para la construcción de perfiles en la búsqueda de unidades funcionales dentro de proteínas."
   ]
  },
  {
   "cell_type": "code",
   "execution_count": null,
   "metadata": {},
   "outputs": [],
   "source": []
  },
  {
   "cell_type": "code",
   "execution_count": null,
   "metadata": {},
   "outputs": [],
   "source": []
  },
  {
   "cell_type": "code",
   "execution_count": null,
   "metadata": {},
   "outputs": [],
   "source": []
  },
  {
   "cell_type": "code",
   "execution_count": null,
   "metadata": {},
   "outputs": [],
   "source": []
  },
  {
   "cell_type": "code",
   "execution_count": null,
   "metadata": {},
   "outputs": [],
   "source": []
  },
  {
   "cell_type": "code",
   "execution_count": null,
   "metadata": {},
   "outputs": [],
   "source": []
  },
  {
   "cell_type": "markdown",
   "metadata": {},
   "source": [
    "<b style=\"font-size:2vw\"><font color = red>BLAST</font></b>"
   ]
  },
  {
   "cell_type": "code",
   "execution_count": null,
   "metadata": {},
   "outputs": [],
   "source": []
  },
  {
   "cell_type": "markdown",
   "metadata": {},
   "source": [
    "### Ejecución de BLAST a través de internet\n",
    "\n",
    "> #### Programas:\n",
    "`blastn`    \n",
    "`blastp`  \n",
    "`blastx`  \n",
    "`tblast`  \n",
    "`tblastx`\n",
    "> #### Las bases de datos disponibles son:  \n",
    "`nr/nt`  \n",
    "`refseq_select`  \n",
    "`refseq_rna`  \n",
    "`refseq_representative_genomes`  \n",
    "`refseq_genomes`  \n",
    "`wgs`  \n",
    "`est`  \n",
    "`SRA`  \n",
    "`TSA`  \n",
    "`HTGS`  \n",
    "`pat`  \n",
    "`pdb`  \n",
    "`RefSeq_Gene`  \n",
    "`dbsts`"
   ]
  },
  {
   "cell_type": "code",
   "execution_count": 2,
   "metadata": {},
   "outputs": [],
   "source": [
    "from Bio.Blast import NCBIWWW\n",
    "from Bio.Blast import NCBIXML\n",
    "from Bio import SearchIO"
   ]
  },
  {
   "cell_type": "code",
   "execution_count": null,
   "metadata": {},
   "outputs": [],
   "source": []
  },
  {
   "cell_type": "markdown",
   "metadata": {},
   "source": [
    "#### Ejecutando Blast usando un objeto `Seq`"
   ]
  },
  {
   "cell_type": "code",
   "execution_count": null,
   "metadata": {},
   "outputs": [],
   "source": []
  },
  {
   "cell_type": "code",
   "execution_count": 3,
   "metadata": {},
   "outputs": [],
   "source": [
    "\"\"\"\n",
    "Es importante seleccionar el tipo de programa usado y la base de datos.\n",
    "\"\"\"\n",
    "programa1 = 'blastn'\n",
    "db1 = 'nr'"
   ]
  },
  {
   "cell_type": "code",
   "execution_count": 4,
   "metadata": {},
   "outputs": [
    {
     "ename": "NameError",
     "evalue": "name 'edu' is not defined",
     "output_type": "error",
     "traceback": [
      "\u001b[1;31m---------------------------------------------------------------------------\u001b[0m",
      "\u001b[1;31mNameError\u001b[0m                                 Traceback (most recent call last)",
      "\u001b[1;32m<ipython-input-4-53685fe946e9>\u001b[0m in \u001b[0;36m<module>\u001b[1;34m\u001b[0m\n\u001b[0;32m      1\u001b[0m \u001b[1;31m# solo permite hacer el análisis con una secuencia\u001b[0m\u001b[1;33m\u001b[0m\u001b[1;33m\u001b[0m\u001b[1;33m\u001b[0m\u001b[0m\n\u001b[1;32m----> 2\u001b[1;33m \u001b[0minit\u001b[0m \u001b[1;33m=\u001b[0m \u001b[0medu\u001b[0m\u001b[1;33m.\u001b[0m\u001b[0mtime_ini\u001b[0m\u001b[1;33m(\u001b[0m\u001b[1;33m)\u001b[0m\u001b[1;33m\u001b[0m\u001b[1;33m\u001b[0m\u001b[0m\n\u001b[0m\u001b[0;32m      3\u001b[0m \u001b[0mresultado_1\u001b[0m \u001b[1;33m=\u001b[0m \u001b[0mNCBIWWW\u001b[0m\u001b[1;33m.\u001b[0m\u001b[0mqblast\u001b[0m\u001b[1;33m(\u001b[0m\u001b[0mprograma1\u001b[0m\u001b[1;33m,\u001b[0m \u001b[0mdb1\u001b[0m\u001b[1;33m,\u001b[0m \u001b[0mmi_sec\u001b[0m\u001b[1;33m)\u001b[0m\u001b[1;33m\u001b[0m\u001b[1;33m\u001b[0m\u001b[0m\n\u001b[0;32m      4\u001b[0m \u001b[0medu\u001b[0m\u001b[1;33m.\u001b[0m\u001b[0mtime_fin\u001b[0m\u001b[1;33m(\u001b[0m\u001b[0mi\u001b[0m \u001b[1;33m=\u001b[0m \u001b[0minit\u001b[0m\u001b[1;33m)\u001b[0m\u001b[1;33m\u001b[0m\u001b[1;33m\u001b[0m\u001b[0m\n",
      "\u001b[1;31mNameError\u001b[0m: name 'edu' is not defined"
     ]
    }
   ],
   "source": [
    "# solo permite hacer el análisis con una secuencia\n",
    "init = edu.time_ini()\n",
    "resultado_1 = NCBIWWW.qblast(programa1, db1, mi_sec)\n",
    "edu.time_fin(i = init)"
   ]
  },
  {
   "cell_type": "code",
   "execution_count": null,
   "metadata": {},
   "outputs": [],
   "source": []
  },
  {
   "cell_type": "code",
   "execution_count": null,
   "metadata": {},
   "outputs": [],
   "source": [
    "# se guarda el resultado en un archivo XML\n",
    "with open(\"../salidas/resultado_1_\"+programa1+\".xml\", \"w\") as temp:\n",
    "    temp.write(resultado_1.read())"
   ]
  },
  {
   "cell_type": "code",
   "execution_count": null,
   "metadata": {},
   "outputs": [],
   "source": []
  },
  {
   "cell_type": "code",
   "execution_count": null,
   "metadata": {
    "scrolled": true
   },
   "outputs": [],
   "source": [
    "resultado_blast1 = SearchIO.read(\"../salidas/resultado_1_\"+programa1+\".xml\", \"blast-xml\")"
   ]
  },
  {
   "cell_type": "code",
   "execution_count": null,
   "metadata": {},
   "outputs": [],
   "source": []
  },
  {
   "cell_type": "code",
   "execution_count": null,
   "metadata": {
    "scrolled": true
   },
   "outputs": [],
   "source": [
    "print(resultado_blast1)"
   ]
  },
  {
   "cell_type": "code",
   "execution_count": null,
   "metadata": {},
   "outputs": [],
   "source": []
  },
  {
   "cell_type": "code",
   "execution_count": null,
   "metadata": {},
   "outputs": [],
   "source": []
  },
  {
   "cell_type": "code",
   "execution_count": null,
   "metadata": {},
   "outputs": [],
   "source": []
  },
  {
   "cell_type": "code",
   "execution_count": null,
   "metadata": {},
   "outputs": [],
   "source": []
  },
  {
   "cell_type": "code",
   "execution_count": null,
   "metadata": {},
   "outputs": [],
   "source": []
  },
  {
   "cell_type": "code",
   "execution_count": null,
   "metadata": {},
   "outputs": [],
   "source": []
  },
  {
   "cell_type": "markdown",
   "metadata": {},
   "source": [
    "#### Ejecución de Blast usando un archivo fasta"
   ]
  },
  {
   "cell_type": "code",
   "execution_count": null,
   "metadata": {},
   "outputs": [],
   "source": []
  },
  {
   "cell_type": "code",
   "execution_count": null,
   "metadata": {},
   "outputs": [],
   "source": [
    "programa2 = 'blastp'\n",
    "db2 = 'nr'"
   ]
  },
  {
   "cell_type": "code",
   "execution_count": null,
   "metadata": {},
   "outputs": [],
   "source": [
    "fasta_string = open(\"../DB/p53_humano.faa\").read()"
   ]
  },
  {
   "cell_type": "code",
   "execution_count": null,
   "metadata": {},
   "outputs": [],
   "source": []
  },
  {
   "cell_type": "code",
   "execution_count": null,
   "metadata": {},
   "outputs": [],
   "source": [
    "# solo permite hacer el análisis con una secuencia\n",
    "init = edu.time_ini()\n",
    "resultado_2 = NCBIWWW.qblast(programa2, db2, fasta_string)\n",
    "edu.time_fin(i = init)"
   ]
  },
  {
   "cell_type": "code",
   "execution_count": null,
   "metadata": {},
   "outputs": [],
   "source": []
  },
  {
   "cell_type": "code",
   "execution_count": null,
   "metadata": {},
   "outputs": [],
   "source": [
    "# se guarda el resultado en un archivo XML\n",
    "with open(\"../salidas/resultado_2_\"+programa2+\".xml\", \"w\") as temp:\n",
    "    temp.write(resultado_2.read())"
   ]
  },
  {
   "cell_type": "code",
   "execution_count": null,
   "metadata": {},
   "outputs": [],
   "source": []
  },
  {
   "cell_type": "code",
   "execution_count": null,
   "metadata": {},
   "outputs": [],
   "source": [
    "resultado_blast2 = SearchIO.read(\"../salidas/resultado_2_\"+programa2+\".xml\", \"blast-xml\")"
   ]
  },
  {
   "cell_type": "code",
   "execution_count": null,
   "metadata": {},
   "outputs": [],
   "source": []
  },
  {
   "cell_type": "code",
   "execution_count": null,
   "metadata": {},
   "outputs": [],
   "source": [
    "print(resultado_blast2)"
   ]
  },
  {
   "cell_type": "code",
   "execution_count": null,
   "metadata": {},
   "outputs": [],
   "source": []
  },
  {
   "cell_type": "markdown",
   "metadata": {},
   "source": [
    "#### analizando los resultados del Blast"
   ]
  },
  {
   "cell_type": "code",
   "execution_count": null,
   "metadata": {},
   "outputs": [],
   "source": []
  },
  {
   "cell_type": "code",
   "execution_count": null,
   "metadata": {},
   "outputs": [],
   "source": []
  },
  {
   "cell_type": "code",
   "execution_count": null,
   "metadata": {},
   "outputs": [],
   "source": [
    "for hit in resultado_blast1:\n",
    "    print(hit)"
   ]
  },
  {
   "cell_type": "code",
   "execution_count": null,
   "metadata": {},
   "outputs": [],
   "source": [
    "len(resultado_blast1)"
   ]
  },
  {
   "cell_type": "code",
   "execution_count": null,
   "metadata": {},
   "outputs": [],
   "source": [
    "resultado_blast1[10]"
   ]
  },
  {
   "cell_type": "code",
   "execution_count": null,
   "metadata": {},
   "outputs": [],
   "source": [
    "resultado_blast1[0]"
   ]
  },
  {
   "cell_type": "code",
   "execution_count": null,
   "metadata": {},
   "outputs": [],
   "source": [
    "print(resultado_blast1[:3])"
   ]
  },
  {
   "cell_type": "code",
   "execution_count": null,
   "metadata": {},
   "outputs": [],
   "source": [
    "# diccionarios\n",
    "resultado_blast1[\"gi|2074180584|gb|MZ668382.1|\"]"
   ]
  },
  {
   "cell_type": "code",
   "execution_count": null,
   "metadata": {},
   "outputs": [],
   "source": [
    "for hit in resultado_blast1[:5]:   # id and sequence length of the first five hits\n",
    "    print(\"%s %i\" % (hit.id, hit.seq_len))"
   ]
  },
  {
   "cell_type": "code",
   "execution_count": null,
   "metadata": {},
   "outputs": [],
   "source": []
  },
  {
   "cell_type": "code",
   "execution_count": null,
   "metadata": {},
   "outputs": [],
   "source": [
    "sort_key = lambda hit: hit.seq_len\n",
    "sorted_qresult = resultado_blast1.sort(key=sort_key, reverse=True, in_place=False)\n",
    "for hit in sorted_qresult[:5]:\n",
    "    print(\"%s %i\" % (hit.id, hit.seq_len))"
   ]
  },
  {
   "cell_type": "code",
   "execution_count": null,
   "metadata": {},
   "outputs": [],
   "source": []
  },
  {
   "cell_type": "code",
   "execution_count": null,
   "metadata": {},
   "outputs": [],
   "source": [
    "def map_func(hit):\n",
    "    hit.id = hit.id.split(\"|\")[3]   # renames \"gi|301171322|ref|NR_035857.1|\" to \"NR_035857.1\"\n",
    "    return hit\n",
    "\n",
    "mapped_qresult = resultado_blast1.hit_map(map_func)\n",
    "for hit in mapped_qresult[:5]:\n",
    "    print(hit.id)"
   ]
  },
  {
   "cell_type": "code",
   "execution_count": null,
   "metadata": {},
   "outputs": [],
   "source": [
    "blast_hit = resultado_blast1[3]    # fourth hit from the query result\n",
    "print(blast_hit)"
   ]
  },
  {
   "cell_type": "code",
   "execution_count": null,
   "metadata": {},
   "outputs": [],
   "source": []
  },
  {
   "cell_type": "code",
   "execution_count": null,
   "metadata": {},
   "outputs": [],
   "source": [
    "blat_hit = resultado_blast1[0]      # the only hit\n",
    "print(blat_hit)"
   ]
  },
  {
   "cell_type": "code",
   "execution_count": null,
   "metadata": {},
   "outputs": [],
   "source": []
  },
  {
   "cell_type": "code",
   "execution_count": null,
   "metadata": {},
   "outputs": [],
   "source": []
  },
  {
   "cell_type": "markdown",
   "metadata": {},
   "source": [
    "#### Ejecución de Blast: método 2\n",
    "Usando un archivo fasta"
   ]
  },
  {
   "cell_type": "code",
   "execution_count": null,
   "metadata": {},
   "outputs": [],
   "source": []
  },
  {
   "cell_type": "code",
   "execution_count": null,
   "metadata": {},
   "outputs": [],
   "source": [
    "uniprotkb, uniprotkb_swissprot, uniprotkb_swissprotsv, uniprotkb_trembl, uniprotkb_refprotswissprot, uniprotkb_archaea, uniprotkb_arthropoda"
   ]
  },
  {
   "cell_type": "code",
   "execution_count": null,
   "metadata": {},
   "outputs": [],
   "source": [
    "# ncbiblast acepta solo una secuencia fasta\n",
    "comando8 = 'start cmd /k cd ../salidas/ ^&^& python ../binarios/ncbiblast.py --email '+email+' --program blastp --stype protein --sequence ../DB/p53_humano.faa --database xxxxxxxxxxx'\n",
    "cl = os.system(comando8)"
   ]
  },
  {
   "cell_type": "code",
   "execution_count": null,
   "metadata": {},
   "outputs": [],
   "source": [
    "edu.Help_ncbiblast"
   ]
  },
  {
   "cell_type": "code",
   "execution_count": null,
   "metadata": {},
   "outputs": [],
   "source": []
  },
  {
   "cell_type": "code",
   "execution_count": null,
   "metadata": {
    "scrolled": true
   },
   "outputs": [],
   "source": [
    "display(Image(filename='../salidas/ncbiblast-R20210802-035112-0081-21364162-p2m.ffdp-subject-png.png'))"
   ]
  },
  {
   "cell_type": "code",
   "execution_count": null,
   "metadata": {},
   "outputs": [],
   "source": []
  },
  {
   "cell_type": "code",
   "execution_count": null,
   "metadata": {},
   "outputs": [],
   "source": []
  },
  {
   "cell_type": "code",
   "execution_count": null,
   "metadata": {},
   "outputs": [],
   "source": []
  },
  {
   "cell_type": "code",
   "execution_count": null,
   "metadata": {},
   "outputs": [],
   "source": []
  },
  {
   "cell_type": "markdown",
   "metadata": {},
   "source": [
    "* ### Identificación de unidades funcionales con hmmscan"
   ]
  },
  {
   "cell_type": "code",
   "execution_count": 219,
   "metadata": {},
   "outputs": [],
   "source": [
    "# Hmmer3 hmmscan\n",
    "\n",
    "# solo acepta una secuencia fasta\n",
    "\n",
    "comando8 = 'start cmd /k cd ../salidas/ ^&^& python ../binarios/hmmer3_hmmscan.py --email '+email+' --database pfam --sequence ../DB/p53_humano.faa'\n",
    "cl = os.system(comando8)"
   ]
  },
  {
   "cell_type": "code",
   "execution_count": null,
   "metadata": {},
   "outputs": [],
   "source": []
  },
  {
   "cell_type": "code",
   "execution_count": null,
   "metadata": {},
   "outputs": [],
   "source": []
  },
  {
   "cell_type": "markdown",
   "metadata": {},
   "source": [
    "* ### Identificación de unidades funcionales con PfamScan"
   ]
  },
  {
   "cell_type": "code",
   "execution_count": 220,
   "metadata": {},
   "outputs": [],
   "source": [
    "# PfamScan\n",
    "\n",
    "# acepta hasta 100 secuencias fasta\n",
    "\n",
    "comando10 = 'start cmd /k cd ../salidas/ ^&^& python ../binarios/pfamscan.py --email '+email+' --database pfam-a --sequence ../DB/proteinas_desconocidas.fasta'\n",
    "cl = os.system(comando10)"
   ]
  },
  {
   "cell_type": "code",
   "execution_count": null,
   "metadata": {},
   "outputs": [],
   "source": []
  },
  {
   "cell_type": "code",
   "execution_count": null,
   "metadata": {},
   "outputs": [],
   "source": []
  },
  {
   "cell_type": "code",
   "execution_count": 221,
   "metadata": {},
   "outputs": [],
   "source": [
    "import json"
   ]
  },
  {
   "cell_type": "code",
   "execution_count": 226,
   "metadata": {},
   "outputs": [],
   "source": [
    "p = open('../salidas/pfamscan-R20210803-202417-0596-2890619-p2m.out.txt', 'r')"
   ]
  },
  {
   "cell_type": "code",
   "execution_count": 227,
   "metadata": {},
   "outputs": [],
   "source": [
    "pp = p.read()"
   ]
  },
  {
   "cell_type": "code",
   "execution_count": 228,
   "metadata": {},
   "outputs": [
    {
     "data": {
      "text/plain": [
       "'[{\"model_length\":\"316\",\"align\":[\"#HMM       llidgerflllsGeihyfRlp.pelWedvlekvkalGlnaietYveWnlhepkegkydfe.GaldlekFlklaqeagLyvilRpGpYicaEwdaGGlpaWllkkkeiklRssdeafleavekyleailkkvkkllltnGGpiilvQvEneYg.....skavdkaylralakalkek.laekallftadvpseevaekg.tlp.eedilatvgfgsdaka..........keafkllkefspekPlvvsefwtgwfdewgekkaarsaeelaeevervlakn.....issvnlYMihGGTnfGflaganflgtsYdydApldEagnltpkylelke\",\"#MATCH     l + ger+ ++sGe+hy+Rlp pelW dv++k++a G+nai++Y++W++h+ +e+++dfe Ga+d+++ ++ a++agLyvi+R GpY +aE++aGG+++W  + + ++ R+s +++ +++  ++++i k+++  ++tnGGp+il Q Ene       + ++  +y++++++a+ ++ +  + ++++++++s++++ +  ++  + +i+  ++++ +              ++++  +++s ++P  ++ef +gwf+ wg++ + +++ el  e+++v++kn     ++++n+YM+ G T++G  a a++++tsYdy Ap+ E++++++k  + k \",\"#PP        7789*******************************************************99******************************************************************************************9998777778889**9888887765167899999999999988876543330345999999988843345567777776677788********************************************************************9.66666******************998875\",\"#SEQ       LSVKGERVYVFSGEFHYQRLPvPELWLDVFQKLRANGFNAISIYFFWSFHSASEDTFDFEnGAHDVQRVFDYAKQAGLYVIARAGPYCNAETSAGGFALWASNGQMGSTRTSASSYYDRWYPWIQEIGKIIAANQITNGGPVILNQHENELQetihsADNTVVKYMEQIKAAFSDAgIIVPSTHNEKGMRSMSWSTDYqDVGgAVNIYGLDSYPGGLSCtnpnsgfnlvRTYYQWFQNYSSSQPEYLPEFEGGWFSAWGGSFYDQCSTELSPEFADVYYKNnigsrVTLHNIYMVMGATSWGQSA-APVVYTSYDYSAPMRETREIRDKLKQTKL\"],\"env\":{\"to\":\"374\",\"from\":\"36\"},\"name\":\"Glyco_hydro_35\",\"acc\":\"PF01301.19\",\"sig\":1,\"evalue\":\"2.4e-80\",\"desc\":\"Glycosyl hydrolases family 35\",\"hmm\":{\"to\":\"311\",\"from\":\"2\"},\"act_site\":null,\"type\":\"Domain\",\"bits\":\"270.5\",\"clan\":\"CL0058\",\"seq\":{\"to\":\"370\",\"from\":\"37\",\"name\":\"B6H5X9|BGALC_PENRW\"}},{\"model_length\":\"181\",\"align\":[\"#HMM       aktervgngtsyttsnsaiavtelrnpdtkasFyvvrhadysslestsfklkvnTsaaGnltiPqlggsltLngrdSKilVtDYdvG.gktLlYStAEvlTwkklddktvlvlYggegetgefalkg.......kskgsssvvegskikskngalvlnwytqsegrtvvklgngllvylldrnsAynf\",\"#MATCH     ++t+++gngt+y ts+++i++++lrnp+t+a+Fyv+ h+++ss++ t+++l+vnTs aG+ltiP+    ++L gr+SKi+VtDY+ G g++LlYS+AEvlT+++l d +v+v+Y++ g++gefa+k+       k++g+s+v++     ++++ + ++ y q++g+tv+k+++g+lvylld+++A+nf\",\"#PP        689*********.6******************************************.6******9....******************77****************.9********************888888777777777773....333447888.999*************************9\",\"#SEQ       LQTQMEGNGTGY-TSDASIYTWALRNPETHAGFYVLAHSTSSSRAVTTTSLNVNTS-AGALTIPN----IELAGRQSKIIVTDYQTGdGSSLLYSSAEVLTYATL-DVDVIVFYLNIGQKGEFAFKDapthltfKTYGNSKVSSA----KSDHGTKYT-YCQGDGTTVLKFSHGVLVYLLDKETAWNF\"],\"env\":{\"to\":\"557\",\"from\":\"381\"},\"name\":\"BetaGal_dom2\",\"acc\":\"PF10435.9\",\"sig\":1,\"evalue\":\"1.1e-54\",\"desc\":\"Beta-galactosidase, domain 2\",\"hmm\":{\"to\":\"181\",\"from\":\"2\"},\"act_site\":null,\"type\":\"Domain\",\"bits\":\"184.9\",\"clan\":\"CL0369\",\"seq\":{\"to\":\"557\",\"from\":\"382\",\"name\":\"B6H5X9|BGALC_PENRW\"}},{\"model_length\":\"77\",\"align\":[\"#HMM       vpdltssPaesenessviVkGpYLvRsasisgstLaltGDlnatttlevi.apssvktltwNgkklettktkyGsl\",\"#MATCH     ++ +ts+P ++++e +++  GpYLvR+as+sg+t++l+GD+ + t+lev+   s+v++++wNgk++ t+kt+yGsl\",\"#PP        67788******988.***********************************6669********************98\",\"#SEQ       AVPTTSNPRVAPSE-QILALGPYLVRTASVSGHTVSLVGDNANATSLEVYtGNSKVTQIKWNGKETPTKKTAYGSL\"],\"env\":{\"to\":\"634\",\"from\":\"558\"},\"name\":\"BetaGal_dom3\",\"acc\":\"PF13363.6\",\"sig\":1,\"evalue\":\"5.8e-22\",\"desc\":\"Beta-galactosidase, domain 3\",\"hmm\":{\"to\":\"76\",\"from\":\"2\"},\"act_site\":null,\"type\":\"Domain\",\"bits\":\"77.0\",\"clan\":\"No_clan\",\"seq\":{\"to\":\"633\",\"from\":\"559\",\"name\":\"B6H5X9|BGALC_PENRW\"}},{\"model_length\":\"114\",\"align\":[\"#HMM       Yderqgwhlpgkttsnnskwplt..vlyssdygfhagvrlyrgtfdldlpsg.ldvslsltlsggtafrvsvwlNGyqlgsyv..ph.igpqvtFpvpegilnyngenvlavlvdamged\",\"#MATCH     Yd++ +w++++ktts ns +plt  vlys+dyg+hag+++yrg+f     +g +++++++t+++g a+++ +wlNG ++g  +  p+   ++ +++++  +l+ + +nvl+v++d++g+d\",\"#PP        9***.****************************************.....6669***************************999955456666778899988888.************97\",\"#SEQ       YDDS-RWTVCNKTTSVNSVAPLTlpVLYSGDYGYHAGTKIYRGRF-----DGvTATGANITVQNGVAAGWAAWLNGVYVGGAIgdPDlAATSAELEFTSSTLRRK-DNVLTVVMDYTGHD\"],\"env\":{\"to\":\"778\",\"from\":\"666\"},\"name\":\"BetaGal_dom4_5\",\"acc\":\"PF13364.6\",\"sig\":1,\"evalue\":\"2.2e-24\",\"desc\":\"Beta-galactosidase jelly roll domain\",\"hmm\":{\"to\":\"114\",\"from\":\"1\"},\"act_site\":null,\"type\":\"Domain\",\"bits\":\"86.2\",\"clan\":\"CL0202\",\"seq\":{\"to\":\"778\",\"from\":\"666\",\"name\":\"B6H5X9|BGALC_PENRW\"}},{\"model_length\":\"114\",\"align\":[\"#HMM       Yderqgwhlpgkttsnnskwpltvlyssdyg.fhagvrlyrgtfdldlpsgldvslsltl..sggtafrvsvwlNGyqlgsyvphigpqvtFpvpegilnyngenvlavlvdamge\",\"#MATCH     Y+er gwhlpg++ s++ +       s+ +g ++a  r+y++tf+ldl+s+ldv+++l+l  s+ + ++v++++NGyq+g+y+phigpq++Fp+p+g++n++gen+la++++a++e\",\"#PP        9*************664444.....4777777****************************999999***********************************************987\",\"#SEQ       YGERLGWHLPGYKGSKTATS-----ESPLDGvSGAAGRFYTTTFKLDLDSDLDVPIGLQLgaSADAPAVVQIFMNGYQFGHYLPHIGPQTRFPFPPGVINNRGENTLAISLWALTE\"],\"env\":{\"to\":\"942\",\"from\":\"831\"},\"name\":\"BetaGal_dom4_5\",\"acc\":\"PF13364.6\",\"sig\":1,\"evalue\":\"1.8e-32\",\"desc\":\"Beta-galactosidase jelly roll domain\",\"hmm\":{\"to\":\"113\",\"from\":\"1\"},\"act_site\":null,\"type\":\"Domain\",\"bits\":\"112.3\",\"clan\":\"CL0202\",\"seq\":{\"to\":\"941\",\"from\":\"831\",\"name\":\"B6H5X9|BGALC_PENRW\"}},{\"model_length\":\"240\",\"align\":[\"#HMM       llFGDqtadvlpeLrkLl.qakenplLrsFLekasealraeisrlpaaer..kslp...rftslqeller..ysesglkspalssallciaqlaqfivyleenpeeypspestylvGlCtGllaAaavacskslseLvplaveavrvafrlGlevarvaarleegsssssesWslavtglseeelekalaefneekglppasrvyisavssss.vtis\",\"#MATCH     l+FG q a++ ++L  +  +  enp+L  FL+++ + l    s+++ +    +s+p   + t l++ ++     +++ ++ +l ++l++i q+ +  ++ e+++++        + G+C G laA+avacs++ +e+ ++a  +vr+a+ +G +v    + +++g++      s+av+     + ++  +++n+     ++s +y+s+ ++++ +t++\",\"#PP        689999999999999999777777777.599999999999999885555444778866666777777777777788888899************999996555554443...4468*************************************9987..33332222.....3555553....22222233333333..4445666666654445555\",\"#SEQ       LVFGPQIAEIDESLFYISrNIDENPAL-HFLKDVLRELPSLWSTISDTWAplSSIPgaaQLTALADCVQGgpIATHENPTNVLLTPLTVIRQIIDAWKFKEKSQNKCRI---MDAQGFCVGFLAAVAVACSNDAKEFADIASTMVRLAVCIGTAVDL--DGISHGQA-----RSVAVRW----KSASENEQLNRLLT--SSSTAYVSCFTDTNsATVT\"],\"env\":{\"to\":\"245\",\"from\":\"15\"},\"name\":\"SAT\",\"acc\":\"PF16073.5\",\"sig\":1,\"evalue\":\"2.3e-09\",\"desc\":\"Starter unit:ACP transacylase in aflatoxin biosynthesis\",\"hmm\":{\"to\":\"209\",\"from\":\"1\"},\"act_site\":null,\"type\":\"Family\",\"bits\":\"37.3\",\"clan\":\"CL0323\",\"seq\":{\"to\":\"215\",\"from\":\"15\",\"name\":\"B6HV32|ADRD_PENRW\"}},{\"model_length\":\"253\",\"align\":[\"#HMM       epvaivGmgarfPggndveefwelLlegrdaiselpadrwdadklydpparaagkiktklggfld.vddfdpeffgispreaeamdpqqrllleaawealedagltpeeldgsr....vgvfiGvgagdyaalaaldedgsevkaspkavgavlanviagrisyalglrGpsvtvdtACsSslvavhaavqslrsgeadvalaGGvellltpeavagfsaagllspdgrckafdpkadGfvlGEGvGavvLkrleda\",\"#MATCH      p+ai+Gmg+r+++++++e++we+L  g+ ++s lp++r++ dkl     r + k +  +g++l+  d fd++ffgis+rea+amdpqqrlll++ +ea+e+ag+   +   ++    +g+++Gvg+ dy + + ++++    +a++ a+g+ l+++  gr+s+ +g++Gpsv+vdtACsS++v +h+a+++l+++e+++a+aGGv+++++p+ +  ++aa +lsp+g +kafd+ a+G+++GEG+G+vvL +l+da\",\"#PP        69*******************************************.....56666666.999***9***************************************88444..444466************765555433....4566.9999.****************************************************************************************************9987\",\"#SEQ       TPIAITGMGCRYAQADSPEQLWEMLELGQCGVSALPNERFKMDKL-----RREPKGPF-WGNYLAnPDVFDHRFFGISAREADAMDPQQRLLLQVGYEAMESAGYCGLRN--PNvptdIGCYVGVGSDDYTENVGSTHA----NAFS-ATGT-LQAFCTGRLSHYFGWTGPSVVVDTACSSAAVSIHLACKALQTNECSIAVAGGVNVMTSPRVTQNLAAASFLSPTGASKAFDATANGYCRGEGAGLVVLRPLADA\"],\"env\":{\"to\":\"630\",\"from\":\"387\"},\"name\":\"ketoacyl-synt\",\"acc\":\"PF00109.26\",\"sig\":1,\"evalue\":\"6e-73\",\"desc\":\"Beta-ketoacyl synthase, N-terminal domain\",\"hmm\":{\"to\":\"253\",\"from\":\"2\"},\"act_site\":null,\"type\":\"Domain\",\"bits\":\"245.5\",\"clan\":\"CL0046\",\"seq\":{\"to\":\"630\",\"from\":\"388\",\"name\":\"B6HV32|ADRD_PENRW\"}},{\"model_length\":\"118\",\"align\":[\"#HMM       yavikgsavnsdgahnsltapngeaqaraiekalaeagvdpedvdyveahgtgtplgDpiElealkkvfgekarkqplavgSvKsniGHleaAaGvaelikvvlalkhgvipptlnl\",\"#MATCH     +avi gsavn++ +   +t p+ ++q+ +++kal  +g+ pedv+yveahgtgt++gDpiE+ +++k+fg  +r+++l vgS+K niGH+e A+Gva+l+k+vl++++++ip+++n+\",\"#PP        69*********66999**********************************************************99**************************************997\",\"#SEQ       LAVIGGSAVNQGSNCSPITVPDSNSQRSLYRKALLASGIPPEDVTYVEAHGTGTQVGDPIEFDSIRKAFGGPGRSEKLHVGSIKDNIGHTETASGVAGLLKTVLMMQKQQIPKQANF\"],\"env\":{\"to\":\"755\",\"from\":\"638\"},\"name\":\"Ketoacyl-synt_C\",\"acc\":\"PF02801.22\",\"sig\":1,\"evalue\":\"6.4e-36\",\"desc\":\"Beta-ketoacyl synthase, C-terminal domain\",\"hmm\":{\"to\":\"117\",\"from\":\"1\"},\"act_site\":null,\"type\":\"Domain\",\"bits\":\"122.9\",\"clan\":\"CL0046\",\"seq\":{\"to\":\"754\",\"from\":\"638\",\"name\":\"B6HV32|ADRD_PENRW\"}},{\"model_length\":\"319\",\"align\":[\"#HMM       glldaiqfvqpaLaavqialaellkskGvrpaavvGHSlGElAaavvagalsseeallavvlrsrlmmqla..gpgdmaavel........aeeeeklrcqddvvgavansprrvvisgsqealrelvervskeg...vgalvenvnvavhspqvdaiadalasal\",\"#MATCH     g +++++     L+ +q a a  + s G++ + ++GHS G l  + vag l + +al  v  r r+++++     g+m+ ve          +  +++  +  v +a++n+pr++ ++g + +l+ +++++s+e+   ++ ++ +   a+hs+ vd+i + l++  \",\"#PP        468999999999*******************************************************9997535788999987776554433334444578899****************99997.89******98655666677789************998654\",\"#SEQ       GPIEDTVSLHCILFSIQYASAMSWISSGLQVDRIIGHSFGQLTGLCVAGGLNLSDALYLVSERARMIQSMWgsERGAMLLVEGteadvqslLNRATQQMADAAVDVACVNGPRNIILAGDERSLQ-MIQKLSAETpsiLRTKRLKNTHAFHSRLVDSIVPSLSKVA\"],\"env\":{\"to\":\"1171\",\"from\":\"914\"},\"name\":\"Acyl_transf_1\",\"acc\":\"PF00698.21\",\"sig\":1,\"evalue\":\"1.7e-16\",\"desc\":\"Acyl transferase domain\",\"hmm\":{\"to\":\"206\",\"from\":\"54\"},\"act_site\":null,\"type\":\"Domain\",\"bits\":\"60.6\",\"clan\":\"CL0323\",\"seq\":{\"to\":\"1128\",\"from\":\"964\",\"name\":\"B6HV32|ADRD_PENRW\"}},{\"model_length\":\"298\",\"align\":[\"#HMM       DHrvdgkvvlPgagylemaleAarqltges....kavelrdvsilkalvlpedepvevqlslepeedgadrawvefeifSregggeewtehatGtvrlaegaa...........aaavdlealqarcaepaslrsvssaefYerlaargleyGpsFqglralwrgdgealaelrlpeelaggesayvlhPallDaalQllaaal.saeaekadaaylPvaierlrvyr....pssaageelwvharleeegarsivadltlvd.edGrvvaeieglrlrrvere\",\"#MATCH      H+v ++ + P+  y e+++ Aa  + +e     +  +l++++i+++lvl+++++v   lsl+++++g++   ++f++++re +++  t+hatG+++l++  +           ++  d + + ++ a++++++ +++ ++Y+++ +r ++y + ++g++++ +++ ea + ++l ++ +++   ++ +P l+D  +Q+ ++ +    ++++d++++ ++++++ + +    +++++ ++  v++ ++++ +++i++d+ ++d e+G++ ++i   ++++v+ +\",\"#PP        6**************************999999999***************987655..55555544444..68***********88***********9988899999999987444444444.5556666667799999*****.999***************999999999999888855...79***********88888896779******************9**97666666777799999********************************99866\",\"#SEQ       GHAVLDQNLCPASLYFEVIVRAAGLVRPENdtspSMPHLQNLAISAPLVLNPTGNVL--LSLTRARAGDS--PWSFSLYTREPNTNLVTTHATGEISLHPFGQntplfvrlhsmNRLIDSSRV-DSIANSRESSGLKGFAVYQAF-RRVVNYADCYRGVERVFATEHEAAGIVNLLSSKTKD---AACDPMLVDNFIQVAGIHVnCLSETNEDEVFVCTGVGEILIGEafmtRDPKSSRSWGVYSNMDRSVKNKIACDTFVLDrETGKLAVTILSAEFTSVSIA\"],\"env\":{\"to\":\"1603\",\"from\":\"1323\"},\"name\":\"PS-DH\",\"acc\":\"PF14765.6\",\"sig\":1,\"evalue\":\"1.1e-23\",\"desc\":\"Polyketide synthase dehydratase\",\"hmm\":{\"to\":\"294\",\"from\":\"32\"},\"act_site\":null,\"type\":\"Domain\",\"bits\":\"83.9\",\"clan\":\"CL0050\",\"seq\":{\"to\":\"1599\",\"from\":\"1325\",\"name\":\"B6HV32|ADRD_PENRW\"}},{\"model_length\":\"67\",\"align\":[\"#HMM       lrelvaevlgvpleeidpdtdlfdlGlDSllavellaaleeefgveiplsdlfehptlaelaayl\",\"#MATCH     ++e+++++lg+  ee+ p+++l + G+DSl+ +e+l++++++f+v+i+ s+l e p++++l++ +\",\"#PP        899************99*********************************************976\",\"#SEQ       VQEMLCDLLGIVSEELLPSSNLEEIGVDSLMRTEVLVEIKKRFNVSIDASTLTEIPNIQALVQTI\"],\"env\":{\"to\":\"1722\",\"from\":\"1656\"},\"name\":\"PP-binding\",\"acc\":\"PF00550.25\",\"sig\":1,\"evalue\":\"3e-14\",\"desc\":\"Phosphopantetheine attachment site\",\"hmm\":{\"to\":\"67\",\"from\":\"3\"},\"act_site\":null,\"type\":\"Domain\",\"bits\":\"53.1\",\"clan\":\"CL0314\",\"seq\":{\"to\":\"1722\",\"from\":\"1658\",\"name\":\"B6HV32|ADRD_PENRW\"}},{\"model_length\":\"90\",\"align\":[\"#HMM       FeeikkltdqfieetglagylkevlpkqteLvvalvveAFekLgcdlrsakpGqklprikhlpkhkrlvdylYevLeearlvdldgdeiv\",\"#MATCH     F++i+++t ++ e t+++g++++v+pkq+ Lv+a+vveAF+ Lg++l++++++ ++p++++l++h ++ ++lY++Le  +l++ +++++v\",\"#PP        77787777.7899***********************************************************************999886\",\"#SEQ       FTDIQRST-SHSEMTQWNGFCESVYPKQMALVTAYVVEAFKSLGVSLDKFEAEGVIPQVPVLKQHGKVRNQLYSILEFSNLIRATDRGFV\"],\"env\":{\"to\":\"1864\",\"from\":\"1776\"},\"name\":\"HTH_51\",\"acc\":\"PF18558.1\",\"sig\":1,\"evalue\":\"2.4e-20\",\"desc\":\"Helix-turn-helix domain\",\"hmm\":{\"to\":\"90\",\"from\":\"1\"},\"act_site\":null,\"type\":\"Domain\",\"bits\":\"72.2\",\"clan\":\"CL0123\",\"seq\":{\"to\":\"1864\",\"from\":\"1776\",\"name\":\"B6HV32|ADRD_PENRW\"}},{\"model_length\":\"99\",\"align\":[\"#HMM       LeiGcGtGsllrallekl.....pdieytgvDispsaiedakeklakrennnnnnvelealdlldldggssfDlvvasnvlhhlkdirevldnirklLkpgGrl\",\"#MATCH     LeiG+GtG +++all++l      + +yt++D+s+  ++ a++k+++++  + +++++e++   d  g  ++D++++sn++h+++++ ++ +ni klL+p+G+l\",\"#PP        8************************************************9999999999999887776..9*******************************87\",\"#SEQ       LEIGGGTGGTTKALLNQLtavpgLRFQYTFTDLSSGLLTLARKKFKHYNFMKYQVLNVEQTPTPDMVG--QYDIILSSNCVHATRNLVQSCSNINKLLRPDGIL\"],\"env\":{\"to\":\"2065\",\"from\":\"1964\"},\"name\":\"Methyltransf_12\",\"acc\":\"PF08242.12\",\"sig\":1,\"evalue\":\"5.4e-17\",\"desc\":\"Methyltransferase domain\",\"hmm\":{\"to\":\"99\",\"from\":\"1\"},\"act_site\":null,\"type\":\"Domain\",\"bits\":\"62.4\",\"clan\":\"CL0063\",\"seq\":{\"to\":\"2065\",\"from\":\"1964\",\"name\":\"B6HV32|ADRD_PENRW\"}},{\"model_length\":\"211\",\"align\":[\"#HMM       vyfHGGGfvlgsldthdalcrelakelgavvvsvdYrlAPehpfP.aavedalaalrwlaeqa.......welgadpsrivlaGdSaGGnlaaavalrardegepkvagqvliyPvtdlertesesikkaeeladgpllt\",\"#MATCH     + +HGGG ++ s +  ++   ++  ++g   vsvdYrl Pe  +   +++d+ +al+w+++          +++ d +++v +G S G++la+ +a  a ++g  ++++++ +y  td e+   + + k +  + +++ +\",\"#PP        679**********999988889999*****************98626899*********998899999955999****************************9889********9886633...3333333334444444\",\"#SEQ       LLIHGGGHIMLSRRDVRSKQVKMLLDAGFLPVSVDYRLCPEVSLSeGPMHDVCDALSWARNVLpklslcrPDIQSDGTQVVAVGWSTGAHLAMTLAWTAEQRGIEPPQAILAFYGPTDYED---PFWSKPNFPYGKSAAS\"],\"env\":{\"to\":\"2355\",\"from\":\"2188\"},\"name\":\"Abhydrolase_3\",\"acc\":\"PF07859.13\",\"sig\":1,\"evalue\":\"2.6e-11\",\"desc\":\"alpha/beta hydrolase fold\",\"hmm\":{\"to\":\"133\",\"from\":\"2\"},\"act_site\":null,\"type\":\"Domain\",\"bits\":\"43.8\",\"clan\":\"CL0028\",\"seq\":{\"to\":\"2325\",\"from\":\"2189\",\"name\":\"B6HV32|ADRD_PENRW\"}},{\"model_length\":\"212\",\"align\":[\"#HMM       kelspyspldnvk...aypplLlihGlaDdrvppaealklvaaLqkkgknvlllifpdegH......gvgkprakveelarllaFlkea\",\"#MATCH     ke++++spl++++    ++p+++ihG++Dd +p+++a +  ++L  kg++v+l+i  ++ H      g+ k+ a ++ +++ ++Fl ++\",\"#PP        5666677777776777***************************************************9**999999*********9887\",\"#SEQ       KEIQAVSPLAQIRngcYKTPTFIIHGTLDDLIPVEQAQRTSQELVTKGVEVELRIVDKAVHlfdiypGFEKDHAAAQAVQDGYEFLRDH\"],\"env\":{\"to\":\"2495\",\"from\":\"2392\"},\"name\":\"Peptidase_S9\",\"acc\":\"PF00326.21\",\"sig\":1,\"evalue\":\"1.7e-07\",\"desc\":\"Prolyl oligopeptidase family\",\"hmm\":{\"to\":\"208\",\"from\":\"129\"},\"act_site\":null,\"type\":\"Domain\",\"bits\":\"30.9\",\"clan\":\"CL0028\",\"seq\":{\"to\":\"2493\",\"from\":\"2405\",\"name\":\"B6HV32|ADRD_PENRW\"}},{\"model_length\":\"68\",\"align\":[\"#HMM       ekvWppeledafleallliPpmgrrklklegklhgRnelIseyIlkktgkertrKQvsShiQvlk\",\"#MATCH     e vW++eledaf +al++ Ppmgrrk + +gk +gRnelI+eyI+k tgk+rtrKQvsSh+Qvl \",\"#PP        78*************************************************************95\",\"#SEQ       EPVWSDELEDAFQQALEANPPMGRRKWSERGKSYGRNELIAEYIFKLTGKRRTRKQVSSHLQVLD\"],\"env\":{\"to\":\"198\",\"from\":\"131\"},\"name\":\"TEA\",\"acc\":\"PF01285.18\",\"sig\":1,\"evalue\":\"4.1e-27\",\"desc\":\"TEA/ATTS domain\",\"hmm\":{\"to\":\"66\",\"from\":\"2\"},\"act_site\":null,\"type\":\"Domain\",\"bits\":\"94.0\",\"clan\":\"CL0123\",\"seq\":{\"to\":\"196\",\"from\":\"132\",\"name\":\"B6H7F3|ABAA_PENRW\"}},{\"model_length\":\"241\",\"align\":[\"#HMM       ilVtGatGfiGsalvkallekgyevigldrlssasntarledl.......elveldltdrsalerlfkeeqpdavihlAa.vggvaassedpadfieknlqgtlnlleaarka.gvkrllflsS..sevYGkdae....qp.keettltgpl..kpnspYaaaKlageklveayaaqyg\",\"#MATCH     +lVtGa+G+i s+++k ll+ gy v g  r +    t+  e+         +v  d+ +++a+++ +k  ++  vih+A    +  a  +  +++++ +++g++nll+aa+++  +kr++  sS  ++ Y++++     +   ++++++ +    +   Y a K+ ge++++++ ++++\",\"#PP        79*****************************66666666555599**997788889999999999999..9*******9999999999999999998.9************998999*******77777876666543311433333333335788888**************999875\",\"#SEQ       VLVTGANGYIASHIIKVLLDLGYLVQGTVRTPMPWLTEYFEKRygsgrfeLIVVSDFQQSDAFDESVK--GVSGVIHVAQgLPSSTAAETVESATAY-TVNGVVNLLKAASTKpTIKRVVLTSSivAAGYPAGKGfkldVDtWDKSLEQASKggTTVPIYRACKVEGERQAWKWVEKNQ\"],\"env\":{\"to\":\"203\",\"from\":\"15\"},\"name\":\"Epimerase\",\"acc\":\"PF01370.21\",\"sig\":1,\"evalue\":\"1.5e-11\",\"desc\":\"NAD dependent epimerase/dehydratase family\",\"hmm\":{\"to\":\"161\",\"from\":\"1\"},\"act_site\":null,\"type\":\"Family\",\"bits\":\"44.2\",\"clan\":\"CL0063\",\"seq\":{\"to\":\"190\",\"from\":\"15\",\"name\":\"B6HV33|ADRE_PENRW\"}},{\"model_length\":\"104\",\"align\":[\"#HMM       krkkesekirekypdriPvivekaekeklpeldkkkylvPedltvgqlvliirkrlqlepekalfllvnetlpstsatmsalyeeekdedgflyvvyssentfG\",\"#MATCH     krk+e+e+ir+ky driPvi+ek+ek++++++dkkkylvP+dltvgq+v++irkr++l+peka+f++v+e+lp+t+a ms++yee+kdedgfly++ys+entfG\",\"#PP        79*****************************************************************************************************9\",\"#SEQ       KRKAEAERIRQKYADRIPVICEKVEKSDIATIDKKKYLVPADLTVGQFVYVIRKRIKLSPEKAIFIFVDEVLPPTAALMSSIYEEHKDEDGFLYITYSGENTFG\"],\"env\":{\"to\":\"116\",\"from\":\"13\"},\"name\":\"Atg8\",\"acc\":\"PF02991.16\",\"sig\":1,\"evalue\":\"3.2e-51\",\"desc\":\"Autophagy protein Atg8 ubiquitin like\",\"hmm\":{\"to\":\"104\",\"from\":\"1\"},\"act_site\":null,\"type\":\"Domain\",\"bits\":\"171.8\",\"clan\":\"CL0072\",\"seq\":{\"to\":\"116\",\"from\":\"13\",\"name\":\"A7KAL9|ATG8_PENRW\"}},{\"model_length\":\"142\",\"align\":[\"#HMM       krllekypeysivvtGHSLGgalAlLaal\",\"#MATCH     +++ e yp+++i++tGHSLGga+ +L++l\",\"#PP        458899********************987\",\"#SEQ       SNVTEIYPDANIWMTGHSLGGAMTSLVGL\"],\"env\":{\"to\":\"327\",\"from\":\"261\"},\"name\":\"Lipase_3\",\"acc\":\"PF01764.25\",\"sig\":1,\"evalue\":\"9.5e-06\",\"desc\":\"Lipase (class 3)\",\"hmm\":{\"to\":\"84\",\"from\":\"56\"},\"act_site\":null,\"type\":\"Family\",\"bits\":\"25.5\",\"clan\":\"CL0028\",\"seq\":{\"to\":\"322\",\"from\":\"294\",\"name\":\"A7KAM5|ATG15_PENRW\"}},{\"model_length\":\"332\",\"align\":[\"#HMM       lsftqGllvGqlsvvllliifikffifgeasskeskasskaaerlssskkklssvikkkkkekeessedleekks.snv...veessakiesiLektyYd................veshqpesLDWfnvLiaqtiaqfreeal.....ekdnilksLnealn.seelpdyldkikvteidlGedfPifsncrii.keskesekkrLeakidvdls.DtltlgietkLllnyPkpltavLPvalavsvvrfsgtLtvslipstkaeelv.......................keeeeeeeeeeeeeeeeeegtalvfsflpdyrldlsvksliGsrsklqdvPkiaslvearlkkWfeercvePrfqvvklPslWPrkknt\",\"#MATCH     lsftqG+l+Gqlsvvll+ +fikffifgea+++ s+ +s++++   +  ++ ssv++  ++++    ++l+ek+s snv   v+++s++++siL+ktyY+                ++shqpesLDWfnvLiaqtiaq+re+a+      +++il+sL++a+n  e++p+++dkikvt+i+lGe+fPifsncrii    + s+++rL+a +dvdls D+l++++et++llnyPkp +a++P+al+vsvvrfsgtL++slip++++  +                            e++++++e   +++++++++fsflpdyrldlsv+sliGsrs+lqdvPkia+lvear+++Wfeer+vePr+qvv lP+lWPr+ +t\",\"#PP        69**********************************9987665...2..23344443333222....23333333234445589999*********************************************************88887799***********8999***************************954567899*************99*******************************************98877665789***********99988876533344455555555667799******************************************************************998\",\"#SEQ       LSFTQGFLLGQLSVVLLIGAFIKFFIFGEAPPPPSRGMSNRTT---H--RRYSSVYSPPQDSQ----KSLREKPStSNVlrpVPSTSTNTRSILRKTYYSaiptnptskhgrhrmhHSSHQPESLDWFNVLIAQTIAQYRETAYslkdsPTSSILSSLTAAMNnPEKKPSFIDKIKVTDISLGEEFPIFSNCRIIaVDDPVSDGGRLQALLDVDLSdDNLSIAVETSMLLNYPKPRSAIIPIALSVSVVRFSGTLCISLIPASTEPPEPlqtpagspapptsdprdnagnrpPGPGEHTASQDELPPKSSPKSNVAFSFLPDYRLDLSVRSLIGSRSRLQDVPKIAQLVEARVHAWFEERVVEPRVQVVGLPDLWPRMGRT\"],\"env\":{\"to\":\"390\",\"from\":\"17\"},\"name\":\"MMM1\",\"acc\":\"PF10296.9\",\"sig\":1,\"evalue\":\"9.2e-131\",\"desc\":\"Maintenance of mitochondrial morphology protein 1\",\"hmm\":{\"to\":\"330\",\"from\":\"1\"},\"act_site\":null,\"type\":\"Family\",\"bits\":\"435.8\",\"clan\":\"No_clan\",\"seq\":{\"to\":\"388\",\"from\":\"17\",\"name\":\"B6HDM7|MMM1_PENRW\"}},{\"model_length\":\"315\",\"align\":[\"#HMM       eYfgeisiGtpeqkftvifDTGSsdlWVpsskckkssackshstydpskSstykkngkslsisYGdg.svsGflsqdtvkvggltvknqefgeatkepgstflaakfdGiLGlgfkeisvee...atpvfdnlvsqglikepvfsvylnreeeeggeivfGgvDeskykGsltyvpvts.kgywqielesvtvggktvlcssgcqailDtGTsllalptsivekiakaigakkses.egeyvvdCdslsslpdisftiggakitvpvselvlkeeeseesqCilglvseeegdlwiLGdvFlrsayvvfdldnnrvglAe\",\"#MATCH     eY+++++iG +  +++++fDTGS+dlWV+s++ + s + + h++yd s Ss  k +g+s+sisYGdg  +sG +++dtv+vgg++ ++q+++ a+k +++++++ ++dG+LGl+f++i++++   +t++fd+++s   +++p+f+v l   + + g++ fG++D++k++Gslty++v++ +g+w+++ +s++vg+ ++    +++ i+DtGT+ll l++ +v+++ k++ ++k+++ +g yv+ Cd+  +lpd+++tig+ +  vp +++ + + ++++s+C+ g++s+++    i+Gd+Fl+s yvvfd +  r+g+A+\",\"#PP        6********88..9*******************9.999*******986.67889*************99****************************************************98888899***9998..9*********5..9**************************9899**************99..999*************************97666554289*******8..*********************************************************************97\",\"#SEQ       EYLTPVKIGES--TLNLDFDTGSADLWVFSTELS-SAEQSGHDVYDVS-SSGKKLTGASWSISYGDGsGASGDVYKDTVTVGGVKATGQAVEAAKKISQQFVQDKSNDGLLGLAFSSINTVSpkpQTTFFDTVKSD--LDKPLFAVTLK--HGAPGTYDFGYIDKKKFTGSLTYTDVDNsQGFWSFTADSYKVGTGSA--GPSIEGIADTGTTLLLLDDGVVSDYYKKVDGAKNNYsAGGYVFPCDA--DLPDFTVTIGSYDAVVPGKHIKYAPVTTGSSSCFGGIQSNSGIGFSIFGDIFLKSQYVVFDAEGPRLGFAA\"],\"env\":{\"to\":\"395\",\"from\":\"87\"},\"name\":\"Asp\",\"acc\":\"PF00026.23\",\"sig\":1,\"evalue\":\"3e-73\",\"desc\":\"Eukaryotic aspartyl protease\",\"hmm\":{\"to\":\"314\",\"from\":\"1\"},\"act_site\":null,\"type\":\"Family\",\"bits\":\"247.0\",\"clan\":\"CL0129\",\"seq\":{\"to\":\"394\",\"from\":\"87\",\"name\":\"B6HL60|PEPA_PENRW\"}},{\"model_length\":\"215\",\"align\":[\"#HMM       LLeagvhfGhqtrrwnpkmkpyIyger.ngihiidlektlaalrraykvvkevaakggkilfvgtkkqakeavkeaakrangyyvnerWlgGtLTNfkt\",\"#MATCH     LL+a++h+G   ++ + +m+py+ + r +g+ ++++ kt +++  a++++   + +   +  ++ +   ++av + a+ +++  +  r+++G +TN+ t\",\"#PP        89*******5..667899******999469*******************986.578999*************************************865\",\"#SEQ       LLAAQCHLGS--KNLQVHMEPYLWKLRaDGVNVLNIGKTWEKIVLAARIIAA-IDNPADVCVISARPYGQRAVLKFASHTGATAIAGRFTPGNFTNYIT\"],\"env\":{\"to\":\"119\",\"from\":\"20\"},\"name\":\"Ribosomal_S2\",\"acc\":\"PF00318.20\",\"sig\":1,\"evalue\":\"8.4e-08\",\"desc\":\"Ribosomal protein S2\",\"hmm\":{\"to\":\"98\",\"from\":\"1\"},\"act_site\":null,\"type\":\"Family\",\"bits\":\"31.7\",\"clan\":\"CL0067\",\"seq\":{\"to\":\"115\",\"from\":\"20\",\"name\":\"B6H2I7|RSSA_PENRW\"}},{\"model_length\":\"215\",\"align\":[\"#HMM       klPdlvvvldpkkekiavkEakklgipviaivDtnvdpdlvdypIpaNddsirsiklilgvladai\",\"#MATCH     k P l++v+dp+ +  a+kEa+ ++ipvia++Dt++ +d vd +Ip N++   +i l+  +la+ +\",\"#PP        78************************************************************9987\",\"#SEQ       KEPRLIIVTDPRTDAQAIKEASYVNIPVIALCDTDSPTDFVDVAIPTNNKGRHAIGLVWWMLAREV\"],\"env\":{\"to\":\"186\",\"from\":\"114\"},\"name\":\"Ribosomal_S2\",\"acc\":\"PF00318.20\",\"sig\":1,\"evalue\":\"4e-15\",\"desc\":\"Ribosomal protein S2\",\"hmm\":{\"to\":\"212\",\"from\":\"147\"},\"act_site\":null,\"type\":\"Family\",\"bits\":\"55.6\",\"clan\":\"CL0067\",\"seq\":{\"to\":\"184\",\"from\":\"119\",\"name\":\"B6H2I7|RSSA_PENRW\"}},{\"model_length\":\"95\",\"align\":[\"#HMM       fFYRdPEeiekeeqaaaekalvkkeeqeewtapv.eftep.evadWaeegvav..psvpaaaaaaaaevkaaedwsaqpatedWsaaptaaaeatseW\",\"#MATCH     +FYRdPE++e++e  a e++++++ee     a + e   + + ++W+++++ +  p ++ aaa+aa+ ++aa++w+a+   +dW+a ++a   +t+eW\",\"#PP        9************9.56677788887...44433122..23567898776554115555556666889999999**998..9**954444...67777\",\"#SEQ       YFYRDPEAEENKEI-ADESKVAGAEE---IGAGAvES--GfAGENWDASAPGAgnPGTAFAAASAATGAAAATSWDAEG--ADWAASSAA---PTTEW\"],\"env\":{\"to\":\"302\",\"from\":\"205\"},\"name\":\"40S_SA_C\",\"acc\":\"PF16122.5\",\"sig\":1,\"evalue\":\"2.9e-08\",\"desc\":\"40S ribosomal protein SA C-terminus\",\"hmm\":{\"to\":\"94\",\"from\":\"1\"},\"act_site\":null,\"type\":\"Family\",\"bits\":\"34.9\",\"clan\":\"No_clan\",\"seq\":{\"to\":\"291\",\"from\":\"205\",\"name\":\"B6H2I7|RSSA_PENRW\"}},{\"model_length\":\"250\",\"align\":[\"#HMM       rnLiGslvasafrlkdpedkpgifFvfqDLSVRteGtFrLrfrlvnvgaeavaveekegsapvlaevfSdpFtVysakkFpGvlesTaLskalakqGikipiRk\",\"#MATCH       L G+lv+s+ rlkd ++++g fFvf DLSV++eG+FrL+f+l+++ +         +++  l++v+S+ FtV  +k+FpG++esT+Ls+++a+qG+k++iRk\",\"#PP        5799*********************************************.........99*******************************************9\",\"#SEQ       TALAGTLVSSLHRLKDVDNSDGGFFVFGDLSVKIEGEFRLKFTLFEMRK---------DRVSYLKTVISERFTVSPPKSFPGMMESTHLSRSFADQGVKLRIRK\"],\"env\":{\"to\":\"136\",\"from\":\"34\"},\"name\":\"Velvet\",\"acc\":\"PF11754.8\",\"sig\":1,\"evalue\":\"2.6e-32\",\"desc\":\"Velvet factor\",\"hmm\":{\"to\":\"248\",\"from\":\"145\"},\"act_site\":null,\"type\":\"Family\",\"bits\":\"112.7\",\"clan\":\"CL0159\",\"seq\":{\"to\":\"133\",\"from\":\"39\",\"name\":\"B6HQ74|VOSA_PENRW\"}},{\"model_length\":\"250\",\"align\":[\"#HMM       ysLevvQqPkrARmCgfgdk...drrpidPppvvqLrvtd...aetnsevdveeldssffvvtvdLwse\",\"#MATCH     y+L v+QqP+rAR+Cg+g k   drrp+dPppvv+Lr+++   a++ +++d++ +++++f+++++L ++\",\"#PP        99*************************************97755889999****************875\",\"#SEQ       YKLSVMQQPERARACGAGAKssaDRRPVDPPPVVELRIFEsdpANDTQKTDITFAYNANFFLYATLETA\"],\"env\":{\"to\":\"106\",\"from\":\"30\"},\"name\":\"Velvet\",\"acc\":\"PF11754.8\",\"sig\":1,\"evalue\":\"3.7e-19\",\"desc\":\"Velvet factor\",\"hmm\":{\"to\":\"63\",\"from\":\"1\"},\"act_site\":null,\"type\":\"Family\",\"bits\":\"69.6\",\"clan\":\"CL0159\",\"seq\":{\"to\":\"98\",\"from\":\"30\",\"name\":\"B6H3B2|VEA_PENRW\"}},{\"model_length\":\"250\",\"align\":[\"#HMM       kltrnLiGslvasafrlkdpedkpgifFvfqDLSVRteGtFrLrfrlvnvgae....................avaveekegsapvlaevfSdpFtVysakkFpGvlesTaLskalakqGikipiRkd\",\"#MATCH     + +++L+G  va++++l++p+  ++ +F+f+DLSVR+eG++rL f+l++  ++                    ++++   +   +++ ev S pFtVysakkFpG+  sT+Ls+ +a+qG++++iR+d\",\"#PP        6799***************96..9**************************9999*****************9988888889999*****************************************986\",\"#SEQ       QSCPVLTGVPVAGVAYLDRPS--QAGYFIFPDLSVRHEGRYRLSFHLYEEIKDakdadkdstlplpnqiplsaTSKPGIPQAFLHFRLEVKSVPFTVYSAKKFPGLATSTSLSRIIAEQGCRVRIRRD\"],\"env\":{\"to\":\"236\",\"from\":\"98\"},\"name\":\"Velvet\",\"acc\":\"PF11754.8\",\"sig\":1,\"evalue\":\"8.8e-31\",\"desc\":\"Velvet factor\",\"hmm\":{\"to\":\"249\",\"from\":\"142\"},\"act_site\":null,\"type\":\"Family\",\"bits\":\"107.7\",\"clan\":\"CL0159\",\"seq\":{\"to\":\"235\",\"from\":\"110\",\"name\":\"B6H3B2|VEA_PENRW\"}},{\"model_length\":\"446\",\"align\":[\"#HMM       yiSeDeGktwkkvkeklkgeaiq....eivvhpfdkkkaylltdskklyvttDrGktwkkfklpfkpsl..saeplsfhakdkdwlialgekkeskdckkkayystdggkswkklqesvkkcewakss..........kkkeekilceekeeeseseekkklrlvssddffkskkelk..........segvvsfavvkeflvvavkseetselalyvSldgkkfaeaefpskkleekaytvlessehsiflavt.tssdkelgsllkSnsnGtsfvlslenvnrneegyvdfekvegleGvilanvvknaeev..kkgakkklktkItfddGrtWellkppdkdkygcsskklekcsLhLhsyteelerknvg...rkvfSspsApGlimgvGnvGkslksyeeadtfiSrDaGltWkevlkgahkyefGDqGsiivavkdeeketkelsYSlDeGktWeeykfsdekirvl\",\"#MATCH     ++S D G++w++vk +    +i+     i+ hpfd+++ay+l++++k+++ttD++k+w+ f+++  p    ++ pl+f+ +d++++i++g +++   c  +++y+td+++++k l+e + +c wa s+          k+++++ilc++   +   e++++ rl++sd+ffk++ e +          s    +++ v++++v+  +s++t+e alyvS+d + +++aef ++++ee+ayt+les+++si+++v+ t++d+++gsl+ SnsnGt+f++++e++n++ +g+vdfe+v+g++G+ ++n+vkn+ee+  ++++kkkl + I+fddGrt+++lk+++             ++LhLhs+t+ +  ++++   +++fSsp ApGl+mgvGn+G +l++y+++d+++S++aGltW+++lkg+h yefGDqG++i av d++ +t+++++S+D+Gk+We+++++ +kir+l\",\"#PP        79***********96433..34445779*************************************9988889****************************************************998899*******99***********************************76666778999998888899************************************************************61557778****************************************************9889999*********************7.............48********9999998755557*****.**********************************************************7.*********************.999987\",\"#SEQ       HVSFDGGEEWETVKGNDG--TIEgtvdLIWRHPFDDNRAYILGENGKHWITTDQAKSWRPFQVDVLPFAsmRSFPLEFNGWDPKKVIFMGLDCTILGCLPQTFYTTDDFETVKPLREMTLQCMWAASRpqfaldidmpKSTGDRILCVVPGLKGPFEHTRTERLIYSDSFFKDDAEGTeakldhgkplSGVSLQIRSVSKYIVARLQSRGTQEQALYVSDDSNVWHRAEFGKHRIEEDAYTILESTNYSIQIDVQtTWQDNRMGSLFSSNSNGTYFTQNIEHTNEDLNGLVDFERVTGIHGITIVNTVKNWEEAkkSDSNKKKLISSISFDDGRTFQPLKADK-------------DELHLHSMTTYAALHEMPlpdHRMFSSP-APGLVMGVGNTGGHLEDYSKGDLYVSDNAGLTWRRALKGPHRYEFGDQGGVITAVLDSS-QTDKVQFSIDHGKEWESISLG-QKIRPL\"],\"env\":{\"to\":\"518\",\"from\":\"60\"},\"name\":\"Sortilin-Vps10\",\"acc\":\"PF15902.5\",\"sig\":1,\"evalue\":\"5.7e-135\",\"desc\":\"Sortilin, neurotensin receptor 3,\",\"hmm\":{\"to\":\"444\",\"from\":\"4\"},\"act_site\":null,\"type\":\"Domain\",\"bits\":\"450.6\",\"clan\":\"CL0434\",\"seq\":{\"to\":\"516\",\"from\":\"62\",\"name\":\"B6H711|VPS10_PENRW\"}},{\"model_length\":\"170\",\"align\":[\"#HMM       epdstslkflllgksssedkekvvvislDFsklferkCkeeeDyekwsareeek.kekCllGhkqkyrrrkkdakCfvgekfkdpkv.eenCeCteeDfeCdynfereesegkCvlaeklevpdeeekevCkkkkkkeksylkssgyrkipgntC..eggkekdkdekvekpC\",\"#MATCH     +pdstslkfll+g+ss++ ++k++++ +DF +l+er+C  + D e+w+ar +ek +++Cl+G+kq ++rrk++a+Cf++++f  +    + C+C+ eDfeCdynf+r+e++++Cv+a +l++p+++    C  k++++k y+++sg+r+ipgn C  egg  +d ++++e++C\",\"#PP        89***********99887.6799999************6.66*********9999*****************************8886899*******************9*************98....*..678888.***************87777..77788899998\",\"#SEQ       TPDSTSLKFLLVGTSSDD-TTKTLMFFIDFDGLHERECG-SGDLEEWTARLNEKgEPDCLMGQKQFFQRRKANADCFIKKEFAISGPeFQLCKCSAEDFECDYNFVRSEDRKECVPAVPLTPPAGK----C--KDPSDK-YMGPSGWRLIPGNACirEGG--EDLEREIERSC\"],\"env\":{\"to\":\"682\",\"from\":\"520\"},\"name\":\"Sortilin_C\",\"acc\":\"PF15901.5\",\"sig\":1,\"evalue\":\"1.2e-46\",\"desc\":\"Sortilin, neurotensin receptor 3, C-terminal\",\"hmm\":{\"to\":\"170\",\"from\":\"2\"},\"act_site\":null,\"type\":\"Domain\",\"bits\":\"159.2\",\"clan\":\"No_clan\",\"seq\":{\"to\":\"682\",\"from\":\"521\",\"name\":\"B6H711|VPS10_PENRW\"}},{\"model_length\":\"446\",\"align\":[\"#HMM       evyiSeDeGktwkkvkeklkgeaiqeivvhpfdkkkaylltdskklyvttDrGktwkkfklpfkpsl.saeplsfhakdkdwlialgek.keskdckkkayystdggkswkklqesvk..kcewakss..kkkeekilceekeeeseseekkklrlvssddffkskkelksegvvsfavvkeflvvavks.eetselalyvSldgkkfaeaefpskkleekaytvlessehsiflavttss..dkelgsllkSnsnGtsfvlslenvnrneegyvdfekvegleGvilanvvknaeev.kkgakkklktkItfddGrtWellkppdkd......kyg.csskklekcsLhLhsyteelerknvgrkvfSspsApGlimgvGnvGkslksyeeadtfiSrDaGltWkevlkgahkyefGDqGsiivavkdeeketkelsYSlDeGktWeeykfsdekirvldl\",\"#MATCH     e+++S+D+G++wk+++  +++++i e+v+hp+++++a++ltd+k++y+t ++G++++ f++p+ p++   ++l+fh+k +d li++g+k +e+k+c+++ay+++ +g+sw+ +   +   +c++  ++  +++e+ ++ce++++e+   ++++++lv sdd+f++ ++ + e++   a+++ f vva  + ++++ l++ vS+dg+++a+a+fp  +++  +ytvl ss+h++fl v+ +   ++++gsl+kSnsnGt+fv+sle +n n++gy+d+++++gleGv++anvv+n+eev +kga+kkl+t+It++dG++W ll+pp+kd      +++ ++ k++ekc+Lh h+yte   r+++ r+++ s sA+Gl+++ GnvG++l+s +eadt+++rD+G++W++v+kg++++efG  Gs+iv+v+d++ +tk ++Y+lDeG +W+e++f+++++ ++d+\",\"#PP        689************7..899999.5*****************************************99*******************9************************99998446***88878899**********9987...7999*****************.*****************99777888******************.9*********************998632446***********************************************************************************9997777777999**************...6777.66777777**********************************************************7.************************999886\",\"#SEQ       ELHVSRDHGRNWKQIH--PDEKFI-EMVQHPYFSDTAFFLTDGKRVYYTINHGDSFHFFDAPSVPNKeYIRKLAFHEKFQDSLIWIGHKdCEGKNCRSQAYVTDKRGASWEPMLIGIAdgGCNFGYQEgrNNSEKLVICEQYKDEE---KNNNRQLVISDDYFSTMEVKF-ENIARSATKNGFEVVAWYEgDQKEYLNASVSVDGRTYANAHFP-FNIKVPQYTVLPSSPHALFLLVMVNGggERSFGSLVKSNSNGTYFVQSLEGLNVNDRGYTDYDELQGLEGVAIANVVSNREEVlNKGAAKKLRTMITHNDGGQWMLLAPPSKDvdgknfDCSvTEGKGTEKCALHFHGYTE---RRDY-RDTLYSGSAIGLMLALGNVGEHLTSASEADTYLTRDGGISWTQVKKGQYMWEFGAAGSVIVLVSDRK-ATKVVHYTLDEGMSWHEFQFAEKELVIDDI\"],\"env\":{\"to\":\"1183\",\"from\":\"734\"},\"name\":\"Sortilin-Vps10\",\"acc\":\"PF15902.5\",\"sig\":1,\"evalue\":\"5.9e-141\",\"desc\":\"Sortilin, neurotensin receptor 3,\",\"hmm\":{\"to\":\"446\",\"from\":\"2\"},\"act_site\":null,\"type\":\"Domain\",\"bits\":\"470.3\",\"clan\":\"CL0434\",\"seq\":{\"to\":\"1183\",\"from\":\"735\",\"name\":\"B6H711|VPS10_PENRW\"}},{\"model_length\":\"170\",\"align\":[\"#HMM       tepdstslkflllgksssedkekvvvislDFsklferkCke.eeDyekwsareeekkekCllGhkqkyrrrkkdakCfvgekfkd.pkveenCeCteeDfeCdynfereesegkCvlaeklevpdeeekevCkkkkkkeksylkssgyrkipgntCeggkekdkdekvekpC\",\"#MATCH     t+p++ts+kfll+g +  +     v+++lDFs++ +r+C++ e+Dy++w +++  ++e+C++Gh ++y+r+k+ a+C++  +  + +++ +nC+Ct++DfeCdyn+e +++ g+C l+++l+++d++  ++C++ ++++  y +++gyr+ip++tCegg     d++v+kpC\",\"#PP        79************88665....6888************87444*********66699*********************9976664666*******************876.9************55..9**54.555558999***************..66788899999\",\"#SEQ       TVPSDTSKKFLLWGIDGGK----RVIVTLDFSGIWSRDCNDdESDYYNWAPTHPFQEENCIFGHVEEYHRKKPAAECWNAWREPHiHSIGRNCTCTRADFECDYNYEIQTD-GSCGLVPGLQPQDHV--AQCSQ-DPDKVEYWEPTGYRRIPQTTCEGG--LLLDQDVSKPC\"],\"env\":{\"to\":\"1346\",\"from\":\"1185\"},\"name\":\"Sortilin_C\",\"acc\":\"PF15901.5\",\"sig\":1,\"evalue\":\"2.2e-45\",\"desc\":\"Sortilin, neurotensin receptor 3, C-terminal\",\"hmm\":{\"to\":\"170\",\"from\":\"1\"},\"act_site\":null,\"type\":\"Domain\",\"bits\":\"155.0\",\"clan\":\"No_clan\",\"seq\":{\"to\":\"1346\",\"from\":\"1185\",\"name\":\"B6H711|VPS10_PENRW\"}},{\"model_length\":\"240\",\"align\":[\"#HMM       palssallciaqlaqfivyleenpeeypspe........stylvGlCtGllaAaavacskslseLvplaveavrvafrlGlevarvaarleegsssssesWslavtglseeelekalaefneekglppasrvyisavssss.vtisGpPstleal\",\"#MATCH      a+  +l+ iaql+++++y+e++++   +++        +t+ vG C G+++A +v++s+s++++   a  ++r +f lG+++ +  +++++ + s   s sl+          + l+++++  ++     +yis+  +++ +t++ p ++ ++l\",\"#PP        467789*************98888877776678888899*****************************************99876..444411112...222222....234445555555555544..56777776666657776666665554\",\"#SEQ       NAILGPLVIIAQLVEYLQYVESSQSANGDGKlfqlpstaQTETVGCCLGVFSALVVSSSSSWAKFHHNAAAVLRKVFVLGALSDA--QDISDVTGS---SVSLIA----FWRGGQSLSDLKKVLEIC--PGAYISVLYDDNrATVTTPSRIASDL\"],\"env\":{\"to\":\"302\",\"from\":\"95\"},\"name\":\"SAT\",\"acc\":\"PF16073.5\",\"sig\":1,\"evalue\":\"2e-10\",\"desc\":\"Starter unit:ACP transacylase in aflatoxin biosynthesis\",\"hmm\":{\"to\":\"218\",\"from\":\"73\"},\"act_site\":null,\"type\":\"Family\",\"bits\":\"40.9\",\"clan\":\"CL0323\",\"seq\":{\"to\":\"281\",\"from\":\"138\",\"name\":\"B6HN77|SORB_PENRW\"}},{\"model_length\":\"253\",\"align\":[\"#HMM       epvaivGmgarfPggndveefwelLlegrdais.elpadrwdadklydpparaagkiktklggfld.vddfdpeffgispreaeamdpqqrllleaawealedagltpeeldgsrvgvfiGvgagdyaalaaldedgsevkaspkavgavlanviagrisyalglrGpsvtvdtACsSslvavhaavqslrsgeadvalaGGvellltpeavagfsaagllspdgrckafdpkadGfvlGEGvGavvLkrleda\",\"#MATCH     +++a++Gm++ ++g++d+e++w+ Llegr+  +  +p++r+  ++++  ++   g+ ++ +g+f+d  d+fd +ff++spre+  mdpqqrl l++a++a++++g+  +   ++r+g++iG+ a+dy++  ++++++    a++ a+ga l+++iag +s+ +g++Gp +++dtACs+s va+++a++++ sg++++alaGG++   tp+ +  ++a  +lsp+g+ck+fd+kadG+++GE +Gav+Lk+l+ a\",\"#PP        79*******************************889**********8..555556666779***********************************************999999*************9988888777....466.9999.****************************************************************************************************9976\",\"#SEQ       NDIAVIGMSCQVAGAQDLEQYWNILLEGRSQHKnLVPNERFAMETVF--RPGQDGEDRKWYGNFIDdYDAFDYKFFRKSPREVLHMDPQQRLILQTAYQAVAQSGYYHRPGADRRIGCYIGCVANDYENNISHTSPT----AFS-ATGA-LRSYIAGKVSHYFGWTGPGMMLDTACSASTVAIDLACRAILSGDCSAALAGGTNFYSTPMFFQNLAAGSFLSPTGQCKPFDAKADGYCRGEAIGAVFLKKLSNA\"],\"env\":{\"to\":\"674\",\"from\":\"428\"},\"name\":\"ketoacyl-synt\",\"acc\":\"PF00109.26\",\"sig\":1,\"evalue\":\"5e-69\",\"desc\":\"Beta-ketoacyl synthase, N-terminal domain\",\"hmm\":{\"to\":\"253\",\"from\":\"2\"},\"act_site\":null,\"type\":\"Domain\",\"bits\":\"232.7\",\"clan\":\"CL0046\",\"seq\":{\"to\":\"674\",\"from\":\"429\",\"name\":\"B6HN77|SORB_PENRW\"}},{\"model_length\":\"118\",\"align\":[\"#HMM       yavikgsavnsdgahnsltapngeaqaraiekalaeagvdpedvdyveahgtgtplgDpiElealkkvfgekar..kqplavgSvKsniGHleaAaGvaelikvvlalkhgvipptlnl\",\"#MATCH     ++vi ++a+n++ +++ +  pn++++ ++ ++++ +ag++ +d+++veahgtgtp+gDp+E+ ++++vfg + r   +pl +gSvK +iGH+e+A+Gv++lik++l++++  ipp++++\",\"#PP        589********99**********************************************************9999978**************************************987\",\"#SEQ       LGVISATAINQNQNDTPIFVPNPSSLTNVFQNVVGKAGLEVNDISVVEAHGTGTPVGDPAEYDSIRQVFGGSVRagLKPLQLGSVKGLIGHTEGASGVVALIKMLLMMQESRIPPQASF\"],\"env\":{\"to\":\"801\",\"from\":\"682\"},\"name\":\"Ketoacyl-synt_C\",\"acc\":\"PF02801.22\",\"sig\":1,\"evalue\":\"1e-32\",\"desc\":\"Beta-ketoacyl synthase, C-terminal domain\",\"hmm\":{\"to\":\"117\",\"from\":\"1\"},\"act_site\":null,\"type\":\"Domain\",\"bits\":\"112.7\",\"clan\":\"CL0046\",\"seq\":{\"to\":\"800\",\"from\":\"682\",\"name\":\"B6HN77|SORB_PENRW\"}},{\"model_length\":\"319\",\"align\":[\"#HMM       fsGqGsQwaGMGmeLlktskafaaviaradeafksqygfsvldvlrnnpeglldaiqfvqpaLaavqialaellkskGvrpaavvGHSlGElAaavvagalsseeallavvlrsrlmmqlagp..gdmaavel.........aeeeeklr...cqddvvgavansprrvvisgsqealrelvervskeg..vgalvenvnvavhspqvdaiadalasaladiaprkpkvakisstsldesserelsaeywvanlrspvrfaeavlsaaetiplv\",\"#MATCH     f Gq s   G  +  +++  + ++ ++r+d + ks    s+   + + +   + +  + qp L  +q + a  +   Gv+paa+vGHS GEl a+ v g ls+e+al+ v  rs+++++  gp  g m ave          ++++ +l       + + a+ n+p++ +i+gs +a++++ + vs  +  +  ++ +v  a+hs  v+ ++++l +   ++   +++++    + +++++++ +s +y ++ +r+pv f+ av+++a + p++\",\"#PP        67777777788888889999999************87789988777777..5777889*************************************************************99643489999998776666666333333331134556899***************************99666777888889*************98877778866666665..55566778999*********************996665554\",\"#SEQ       FGGQVSKSVGLDRGVFDKATVLRKYLDRCDSVCKSIGAGSIYPGIFQSE--PILDPAVLQPLLLSMQYSCALSWIDCGVEPAALVGHSFGELTALCVSGILSLEDALKLVHGRSKIIKESWGPekGSMIAVEAdrndvekllVASNARLGeteRAGHATIACFNGPKSFTIAGSAAAIDAVQQTVSTLDipIKHKRLDVTNAFHSTLVEHLRPQLEALGRSLSFGNAHIPL--ERATEQRETGPISPAYVAEHMRNPVYFDHAVQRLASQYPEA\"],\"env\":{\"to\":\"1266\",\"from\":\"960\"},\"name\":\"Acyl_transf_1\",\"acc\":\"PF00698.21\",\"sig\":1,\"evalue\":\"1.2e-23\",\"desc\":\"Acyl transferase domain\",\"hmm\":{\"to\":\"261\",\"from\":\"4\"},\"act_site\":null,\"type\":\"Domain\",\"bits\":\"84.1\",\"clan\":\"CL0323\",\"seq\":{\"to\":\"1231\",\"from\":\"962\",\"name\":\"B6HN77|SORB_PENRW\"}},{\"model_length\":\"67\",\"align\":[\"#HMM       klrelvaevlgvpleeidpdtdlfdlGlDSllavellaaleeefgveiplsdlfe\",\"#MATCH     kl+ ++a++ g+++eei+ ++ l d G+DSl+ +e+++++e +f+++++ s+l+ \",\"#PP        677789************9**********************************87\",\"#SEQ       KLLPVLADISGLEPEEINETDALADIGIDSLMGMEMAREVETTFNCTLEQSELMS\"],\"env\":{\"to\":\"1782\",\"from\":\"1715\"},\"name\":\"PP-binding\",\"acc\":\"PF00550.25\",\"sig\":1,\"evalue\":\"1.1e-08\",\"desc\":\"Phosphopantetheine attachment site\",\"hmm\":{\"to\":\"56\",\"from\":\"2\"},\"act_site\":null,\"type\":\"Domain\",\"bits\":\"35.3\",\"clan\":\"CL0314\",\"seq\":{\"to\":\"1770\",\"from\":\"1716\",\"name\":\"B6HN77|SORB_PENRW\"}},{\"model_length\":\"90\",\"align\":[\"#HMM       FeeikkltdqfieetglagylkevlpkqteLvvalvveAFekLgcdlrsakpGqklprikhlpkhkrlvdylYevLeearlvdldgdei\",\"#MATCH     F+  +++td+++++ ++agyl+ + +kqt+L+++l+ +AF++Lgcdl +akpG++l++++++p+h+r+++ylY++Lee+r++d+d++ i\",\"#PP        88999********************************************************************************9876\",\"#SEQ       FRAANEQTDAYLKKWKCAGYLDGASQKQTRLCLVLTSDAFKQLGCDLVAAKPGEVLQPVPFVPRHHRFHEYLYKMLEETRIIDVDEGII\"],\"env\":{\"to\":\"1938\",\"from\":\"1849\"},\"name\":\"HTH_51\",\"acc\":\"PF18558.1\",\"sig\":1,\"evalue\":\"7.3e-29\",\"desc\":\"Helix-turn-helix domain\",\"hmm\":{\"to\":\"89\",\"from\":\"1\"},\"act_site\":null,\"type\":\"Domain\",\"bits\":\"99.5\",\"clan\":\"CL0123\",\"seq\":{\"to\":\"1937\",\"from\":\"1849\",\"name\":\"B6HN77|SORB_PENRW\"}},{\"model_length\":\"99\",\"align\":[\"#HMM       LeiGcGtGsllrallekl....pdieytgvDispsaiedakeklakrennnnnnvelealdlldldggssfDlvvasnvlhhlkdirevldnirklLkpgGrl\",\"#MATCH     Le G+GtG ++++l ++l    +++eyt++D+sps +++ak+k++++   ++++ ++e+  ++ l   +s  +v+asn++h++  ++ + +nirk L+p+G l\",\"#PP        89***********************************************9999999999996544.447********************************86\",\"#SEQ       LEMGAGTGGTTKVLVPALaklgIPVEYTFTDLSPSLVAQAKKKFKQYPFMKFAVHDIEQPPSDPL-LIGSQNIVIASNAVHATHSLQVSTQNIRKFLRPDGFL\"],\"env\":{\"to\":\"2143\",\"from\":\"2042\"},\"name\":\"Methyltransf_12\",\"acc\":\"PF08242.12\",\"sig\":1,\"evalue\":\"4.5e-15\",\"desc\":\"Methyltransferase domain\",\"hmm\":{\"to\":\"99\",\"from\":\"1\"},\"act_site\":null,\"type\":\"Domain\",\"bits\":\"56.2\",\"clan\":\"CL0063\",\"seq\":{\"to\":\"2143\",\"from\":\"2042\",\"name\":\"B6HN77|SORB_PENRW\"}},{\"model_length\":\"257\",\"align\":[\"#HMM       lTGaTGFLGkvLlekLLrttpev.kiyllvR.aksge........saeeRleeelekkelfsallkelaerikvveGDlseprlGLseedlqelaeevdviihsaAtvnfdepykellrvNveGtrevlelakklkkl.......kvllhvST.ayvngeregeveekvyeegekeekldederaklkglpntYeqsKalaEklvrearrr..sglpvvivRpsiitgesktGwingsdlgirgllgliakg\",\"#MATCH     +TG TG LG+++++ L++  + v ++y+l R a  g+        ++++R  ++le+k++  ++  + + ++kv+e+D s+ +lGL+ e++++l  +v++iih+a  vn  +++k+  +  +  +r++++la+++++         ++ ++S+ ++v ++ + +           e ++ e+ ++ +  lpn+Y   K++ E++++e+  +  ++++++ vR++ + g+ +tG+ n  + ++ +l+ ++++ \",\"#PP        7****************9987.77*****88433333222222334455555555555555444..69***********************************************98887776.9********54444345566689******988888888665.........346799***************************98432245569*********************.777777766654\",\"#SEQ       VTGTTGSLGSHIIAHLVSLPS-VdRVYCLNRpAIGGArakdatprDPLHRQLQSLESKSIALDA--SQLAKLKVIETDSSKAQLGLDTEEYKHLLCHVTHIIHNAFPVNGLRSLKQNEAQFTI-MRNLVDLAAEISARrkatdfkFAFQFISSlSAVGKYPSVHA---------GEIQVPEEHLNIDSALPNGYGGAKVICERILHETLGQypERFRAMTVRLGQLSGSMETGYWNHME-VLGFLFKSAQTL\"],\"env\":{\"to\":\"2538\",\"from\":\"2281\"},\"name\":\"NAD_binding_4\",\"acc\":\"PF07993.12\",\"sig\":1,\"evalue\":\"6.9e-24\",\"desc\":\"Male sterility protein\",\"hmm\":{\"to\":\"232\",\"from\":\"1\"},\"act_site\":null,\"type\":\"Family\",\"bits\":\"84.4\",\"clan\":\"CL0063\",\"seq\":{\"to\":\"2518\",\"from\":\"2281\",\"name\":\"B6HN77|SORB_PENRW\"}},{\"model_length\":\"349\",\"align\":[\"#HMM       dVlIVGaGpaGlmlallLseaGvrvvlvekrsttvvlpradgln...qrtmellrqlGledrilaegapnelmgealynelsdt..pkaradle.....lesspervtvypqteleriLvehaeerglqvrfktevesleqdeegvtaevrdketgeeetvrakYlvGaDGgrStvrktl.gie..fegeetvyeagvldvlfdadlsdivep....lvlilsaesrgvmviPlentlerfyvqvearaekeersekfteeevkarlreiv........ge.........ktldveieevsawtvaqrvaekyrkgrvflaGDAaHihpPtgGqGlNtaiqDavnLawkLaav.....lkGeAkeelLdtYeeerravaqavvd\",\"#MATCH     +V+IVG+G +Gl la  L ++ v+ ++ e+ ++  +l+ + +++   qr me l+   + +++ + ++  ++ ++++   +++   +++r+        l+ ++  ++++   ++   +v+h  +  +q r  + + s+e d e+ +a+++ + +ge+   +a+ ++G+DG rS+vr+++ g++   +  + + ++g  ++++ a+ +++  p    + +++  +  +v  iPl +  ++++ +  +  +kee++e +t ++ k+ +  ++        +e         + ++ ++e+  ++++ +  + ++ kgrv+laGDAaH+ +P +G G   +i+Da  La  La       ++G   +e L  Y+e r +++q +v+\",\"#PP        8**************9999999****************9988753338999999987.6777888887777778877777454478555555444344244444.44556666666666777666666655..557888************99.6888..8****************98647766667777778899999999998888888899976777777777777788877..33333333333455555544444444333322200000000221111111114566677777888888888999************************************998752222245677777788888888777776665\",\"#SEQ       EVAIVGGGITGLALAVGLLKRNVSFTIYERAENFGELGVGITFTpnaQRAMEALDPC-VLQSFTNVASAPSGGTINFVDGVREQgsEDPRTSTAallfqLHVKG-GYKACRRCDFVDQIVQHIPKDCVQYR--KWLDSIETDHESGRAVLKFR-DGEI--AHADVVIGCDGIRSQVRASMfGTDelCPRAQYSHQLGYRGMVPLAQATAVLGPektsSAVLHTGPGAFVLTIPLAE--VHAMHIEAFIMDKEEWPEVQTSSDSKRYVLPATrneatkafAEfgptvrsavSMFPEKLEKWAVFDMLEAPVPTFAKGRVCLAGDAAHASTPNQGGGAGFGIEDALVLAEVLAVLaeapnVSGIVASEALAVYSEVRYERSQWLVR\"],\"env\":{\"to\":\"386\",\"from\":\"8\"},\"name\":\"FAD_binding_3\",\"acc\":\"PF01494.19\",\"sig\":1,\"evalue\":\"2.5e-22\",\"desc\":\"FAD binding domain\",\"hmm\":{\"to\":\"347\",\"from\":\"3\"},\"act_site\":null,\"type\":\"Family\",\"bits\":\"79.6\",\"clan\":\"CL0063\",\"seq\":{\"to\":\"384\",\"from\":\"10\",\"name\":\"B6HN76|SORC_PENRW\"}},{\"model_length\":\"166\",\"align\":[\"#HMM       rkskhaPtevsskkpvsrkrevv..kvkkkksrDPRFdsls....geldedlfeknYaFLdeyrekEleelkkelkkekdkeeekeelkrelqrlesrekerekkererevlkelkkeekekvkegkk..pfflkksekkklllkekfeelkkkkklekaierkrkKnasKekk\",\"#MATCH     r+skhaP+e+ssk++v+rkr+ v  + ++++srDPRFd+++    g  ++ +  k+YaFLdeyr++El++lk++++k+k+  ++ke+lk e++r++++++++++k+re+ev++e+kk+ek++++egkk  p++lk+se++k++l++k+ e+ +++++ ka+er+r+K+asKe+k\",\"#PP        89*******************98432.59999********99887666788889**************************.**********************************************************************.********************98\",\"#SEQ       RSSKHAPMELSSKRAVTRKRTAVelP-PAPRSRDPRFDAAVmghsGVGKHPHGGKAYAFLDEYRASELNDLKEQMRKTKN-LQQKEKLKGEIRRMQDKLRSAQNKKREAEVQAEHKKREKQLIREGKKanPYYLKNSELQKQVLERKYGEM-GSRERAKALERRRRKMASKERK\"],\"env\":{\"to\":\"324\",\"from\":\"154\"},\"name\":\"RRP36\",\"acc\":\"PF06102.12\",\"sig\":1,\"evalue\":\"1.1e-46\",\"desc\":\"rRNA biogenesis protein RRP36\",\"hmm\":{\"to\":\"166\",\"from\":\"1\"},\"act_site\":null,\"type\":\"Family\",\"bits\":\"158.8\",\"clan\":\"No_clan\",\"seq\":{\"to\":\"324\",\"from\":\"154\",\"name\":\"B6HGB5|RRP36_PENRW\"}},{\"model_length\":\"463\",\"align\":[\"#HMM       elveeeaedlveklrkkagesselditellskaaldvigsilFgarfdlledeklselvkaveelssllskssvqllllfpllkylptkllrklkeavkklkdlldklieerretldsa.kksrrdfldalllakkekkgesklsdeelaatvlellfaGvdTtsstlswaLyeLaknPevqeklreEidevlgdkreptyddlqklpyldavikEtLRlhpvvplllpRevtkdvvirg.ylipkGtevivnlyalhrdpevfpnPeeFdpeRFldekg........nskrksfaflPFGaGpRnCiGerlArmelklflatlLqnFevelqpetdpppileksglllppkpik\",\"#MATCH     +l +e +++l++++ ++++ + +++i++ +   +  + ++ ++ga++  + +  +  +   +++ +  +++    ++ l p++++++ ++++ +++  +++  +l++++e  r+t+ ++ ++s+r f  ++ +++  + +    s+ + ++  l l++ +v Tts  ++ +L+ + ++Pe+ + lreE+ +v++++  ++++ l kl++++ v kE++Rl p++ +++ R+++k v++++  +ipkGt+   ++  l  dpe++p+Pe+Fd  RF++ ++        ++ +   ++l+FG G+++C+G+ l   e kl+l ++L +++++  + +++p+   +s+++++  +++\",\"#PP        445666777777887777777.8**********************977333333333333333333.33344444667777888888.5566666666999***************9995444444444444443..333...47889999999999999*********************************995.7***************************************************86.578999********************99********999****************************************865.66666555557777666655\",\"#SEQ       ALSDEANHRLQTQWTDSSEWH-TVSIHDTVLALVAQMTTRAFVGAELCRNAEWLDIAINFTINRAI-AVQAVQAWPWILQPVVHWFL-PTCKAVRRQIQRARTILMPVLERERQTMHRKdSSSDRIFSTLTFIDQ--YAQ---GSRYDATMAQLRLTAVSVLTTSDMVEKVLARICEHPELIQPLREEVVSVFESS-GLHHKSLLKLTLMESVMKESQRLEPATLISMFRAAKKTVTLQDgTTIPKGTRLA-FANDLRLDPELYPDPETFDGYRFERMRKdpeqaklaPFTKTRTSHLAFGHGKHACPGRFLSCDEAKLILCHILLKYDFKALD-GRVPDLHVRSMFIQRDTGGM\"],\"env\":{\"to\":\"494\",\"from\":\"125\"},\"name\":\"p450\",\"acc\":\"PF00067.22\",\"sig\":1,\"evalue\":\"3.1e-39\",\"desc\":\"Cytochrome P450\",\"hmm\":{\"to\":\"460\",\"from\":\"116\"},\"act_site\":null,\"type\":\"Domain\",\"bits\":\"135.0\",\"clan\":\"No_clan\",\"seq\":{\"to\":\"491\",\"from\":\"148\",\"name\":\"B6HJU3|ROQO_PENRW\"}},{\"model_length\":\"364\",\"align\":[\"#HMM       dqrfWwkttgpllaslLeeagYsveqqyehLlffrkvvvPaLGprp.askrspkwkslltddgsPiElSwnfsssgdkkptvRfaiepigplagteedplnqqatrellerlaqlavpgvdlewfdhfkealllseeeeaklaekgekskkaksqvflafdlkkggkivlKaYffPrlkalatgqsaeelvfdairalkpgeelepalklleeylesrpkkeklrpellsiDcvdpsksRlKiYlrtpstsfdsvrdvmtLGGrlddeeteeglellrelwklllglpegfrplpek.sktekdesslssgllfyfelkpgkelPepKvYipvrhygenDlaiaraleeffeklgwgeaaesyee\",\"#MATCH     dq ++w+++gp+l ++L++ +Ys+++qye+L++f++v++P LGp+p     ++ +k+ll  +gs +ElS+n+++ g    t R+a+ep+++ a+t+ dpln++ ++++l +l++ ++ ++d+e+++ + ++l+l++ ee+ ++ ++ +++++k+q++la+dl +   i++K Yf+P+lka++tgqs+ +l+f+air++++++++epa k++e y++++   +++++ +ls+D+vdp+++R+K+Yl++ + ++++v++++t+GG+l+deet+ gl++l+elw   +g  eg+r+ pe+ s +  d+++    +++++e++pg++lP+pK+Y+p+   g  +l+ia+ l++ffe++g+ e+a  y +\",\"#PP        899*******************************************43...478*********9.*********88...*****************************************************99*****99988999****************5.78*******************************5579**************88...6779****************************************999*************.8899999999666443333.333333.44566********************..**********************9999875\",\"#SEQ       DQYQYWHAVGPMLGRMLSNGSYSIHKQYEYLCLFAHVIIPKLGPFPgG---RDIYKCLLGGTGS-VELSQNVQKLG---LTARVAFEPTSYIASTGVDPLNRHTVHATLVELRAIGSASIDMELHQMLVNELTLTDREERLMSPEAISGTAWKTQILLALDLGQ-TGITIKEYFYPALKASVTGQSVAKLCFSAIRKVDKQGRFEPASKAIETYMKTQ---SQTDLYFLSCDLVDPAATRIKLYLMELDMRLAKVEEHWTMGGKLNDEETLLGLKMLQELW-VEFGIIEGMRNEPERpSLP-GDPDTI-VPFIMNYEMSPGEALPKPKFYFPLV--GIPELKIANVLTAFFERYGMPEQAAVYRN\"],\"env\":{\"to\":\"387\",\"from\":\"38\"},\"name\":\"Trp_DMAT\",\"acc\":\"PF11991.8\",\"sig\":1,\"evalue\":\"8.6e-95\",\"desc\":\"Tryptophan dimethylallyltransferase\",\"hmm\":{\"to\":\"363\",\"from\":\"1\"},\"act_site\":null,\"type\":\"Family\",\"bits\":\"318.2\",\"clan\":\"No_clan\",\"seq\":{\"to\":\"386\",\"from\":\"38\",\"name\":\"B6HJU1|ROQD_PENRW\"}},{\"model_length\":\"349\",\"align\":[\"#HMM       LvehaeerglqvrfktevesleqdeegvtaevrdketgeeetvrakYlvGaDGgrStvrkt.lgiefegeetvyeagvldvlfdadlsdiveplvlilsaesrgv............mviPlen.tlerfyvqv.earaekeer.sekfteeevkarlreivgektld........veieevsawtvaqr...vaekyrkgrvflaGDAaHihpPtgGqGlNtaiqDavnLawkLa\",\"#MATCH     L+eha++ g+++rf+   +   +de +  a v+   +ge+ ++ a  +vGaDG++S++r+  lg + ++++ +  +  + + f+a+l +   +  +il++                   +++ + +++ +++qv   + ek+++  e++t+++v ++l  + +++t +        +++e+   +++ +r    + + r gr++++GDAaH+++  +GqG   +++Da +La  L \",\"#PP        99*************999977777665..44444..3566.9*****************9725777.344433.357777888887763444455555433222245566688877777777774555.555551444444444478999999998888777766543111111113444455555544421145667778******************************98775\",\"#SEQ       LYEHAKSLGIDLRFASAATDYWEDEGQ--AGVTV--NGEQ-RIAAACVVGADGVHSKTRDYvLGYQ-IAPQPS-GLAAFRACFSANLLAGDPDAQWILEEAGVQDrmrryittgglgLTLSTGKrGQN-VIWQVwHRKHEKADEsWENVTDARVEDALALLQDWPTYPqvaavlrhTPSEKLADYKIISRdplPTWRSRGGRIMVIGDAAHAMSAIAGQGGGQSVEDAATLAICLE\"],\"env\":{\"to\":\"361\",\"from\":\"112\"},\"name\":\"FAD_binding_3\",\"acc\":\"PF01494.19\",\"sig\":1,\"evalue\":\"1.6e-13\",\"desc\":\"FAD binding domain\",\"hmm\":{\"to\":\"319\",\"from\":\"111\"},\"act_site\":null,\"type\":\"Family\",\"bits\":\"50.6\",\"clan\":\"CL0063\",\"seq\":{\"to\":\"349\",\"from\":\"122\",\"name\":\"B6HJU4|ROQM_PENRW\"}}]'"
      ]
     },
     "execution_count": 228,
     "metadata": {},
     "output_type": "execute_result"
    }
   ],
   "source": [
    "pp"
   ]
  },
  {
   "cell_type": "code",
   "execution_count": 229,
   "metadata": {},
   "outputs": [],
   "source": [
    "p.close()"
   ]
  },
  {
   "cell_type": "code",
   "execution_count": null,
   "metadata": {},
   "outputs": [],
   "source": []
  },
  {
   "cell_type": "code",
   "execution_count": 235,
   "metadata": {},
   "outputs": [],
   "source": [
    "ww = json.loads(pp)"
   ]
  },
  {
   "cell_type": "code",
   "execution_count": 236,
   "metadata": {},
   "outputs": [
    {
     "data": {
      "text/plain": [
       "{'model_length': '181',\n",
       " 'align': ['#HMM       aktervgngtsyttsnsaiavtelrnpdtkasFyvvrhadysslestsfklkvnTsaaGnltiPqlggsltLngrdSKilVtDYdvG.gktLlYStAEvlTwkklddktvlvlYggegetgefalkg.......kskgsssvvegskikskngalvlnwytqsegrtvvklgngllvylldrnsAynf',\n",
       "  '#MATCH     ++t+++gngt+y ts+++i++++lrnp+t+a+Fyv+ h+++ss++ t+++l+vnTs aG+ltiP+    ++L gr+SKi+VtDY+ G g++LlYS+AEvlT+++l d +v+v+Y++ g++gefa+k+       k++g+s+v++     ++++ + ++ y q++g+tv+k+++g+lvylld+++A+nf',\n",
       "  '#PP        689*********.6******************************************.6******9....******************77****************.9********************888888777777777773....333447888.999*************************9',\n",
       "  '#SEQ       LQTQMEGNGTGY-TSDASIYTWALRNPETHAGFYVLAHSTSSSRAVTTTSLNVNTS-AGALTIPN----IELAGRQSKIIVTDYQTGdGSSLLYSSAEVLTYATL-DVDVIVFYLNIGQKGEFAFKDapthltfKTYGNSKVSSA----KSDHGTKYT-YCQGDGTTVLKFSHGVLVYLLDKETAWNF'],\n",
       " 'env': {'to': '557', 'from': '381'},\n",
       " 'name': 'BetaGal_dom2',\n",
       " 'acc': 'PF10435.9',\n",
       " 'sig': 1,\n",
       " 'evalue': '1.1e-54',\n",
       " 'desc': 'Beta-galactosidase, domain 2',\n",
       " 'hmm': {'to': '181', 'from': '2'},\n",
       " 'act_site': None,\n",
       " 'type': 'Domain',\n",
       " 'bits': '184.9',\n",
       " 'clan': 'CL0369',\n",
       " 'seq': {'to': '557', 'from': '382', 'name': 'B6H5X9|BGALC_PENRW'}}"
      ]
     },
     "execution_count": 236,
     "metadata": {},
     "output_type": "execute_result"
    }
   ],
   "source": [
    "ww[1]"
   ]
  },
  {
   "cell_type": "code",
   "execution_count": 231,
   "metadata": {},
   "outputs": [
    {
     "data": {
      "text/plain": [
       "dict_keys(['model_length', 'align', 'env', 'name', 'acc', 'sig', 'evalue', 'desc', 'hmm', 'act_site', 'type', 'bits', 'clan', 'seq'])"
      ]
     },
     "execution_count": 231,
     "metadata": {},
     "output_type": "execute_result"
    }
   ],
   "source": [
    "ww[1].keys()"
   ]
  },
  {
   "cell_type": "code",
   "execution_count": null,
   "metadata": {},
   "outputs": [],
   "source": [
    "DatA = []\n",
    "for w in ww:\n",
    "    data = []\n",
    "    for i in w:\n",
    "        if i == 'align':\n",
    "            pass\n",
    "        else:\n",
    "            data.append(w[i])\n",
    "    DatA.append(data)"
   ]
  },
  {
   "cell_type": "code",
   "execution_count": null,
   "metadata": {},
   "outputs": [],
   "source": [
    "i"
   ]
  },
  {
   "cell_type": "code",
   "execution_count": null,
   "metadata": {},
   "outputs": [],
   "source": [
    "for w in ww:\n",
    "    print(w)"
   ]
  },
  {
   "cell_type": "code",
   "execution_count": null,
   "metadata": {},
   "outputs": [],
   "source": [
    "w"
   ]
  },
  {
   "cell_type": "code",
   "execution_count": null,
   "metadata": {},
   "outputs": [],
   "source": []
  },
  {
   "cell_type": "code",
   "execution_count": null,
   "metadata": {},
   "outputs": [],
   "source": []
  },
  {
   "cell_type": "code",
   "execution_count": null,
   "metadata": {},
   "outputs": [],
   "source": [
    "\n",
    "\n",
    "\n",
    "data = []\n",
    "for i in ww[1]:\n",
    "    print(ww[1][i])\n",
    "    data.append(ww[1][i])"
   ]
  },
  {
   "cell_type": "code",
   "execution_count": null,
   "metadata": {},
   "outputs": [],
   "source": []
  },
  {
   "cell_type": "code",
   "execution_count": null,
   "metadata": {},
   "outputs": [],
   "source": [
    "from pandas import DataFrame"
   ]
  },
  {
   "cell_type": "code",
   "execution_count": null,
   "metadata": {
    "scrolled": true
   },
   "outputs": [],
   "source": [
    "DataFrame(DatA)"
   ]
  },
  {
   "cell_type": "code",
   "execution_count": null,
   "metadata": {},
   "outputs": [],
   "source": [
    "ww[1].keys()"
   ]
  },
  {
   "cell_type": "code",
   "execution_count": null,
   "metadata": {},
   "outputs": [],
   "source": []
  },
  {
   "cell_type": "code",
   "execution_count": null,
   "metadata": {},
   "outputs": [],
   "source": []
  },
  {
   "cell_type": "code",
   "execution_count": null,
   "metadata": {},
   "outputs": [],
   "source": []
  },
  {
   "cell_type": "code",
   "execution_count": null,
   "metadata": {},
   "outputs": [],
   "source": []
  },
  {
   "cell_type": "code",
   "execution_count": null,
   "metadata": {},
   "outputs": [],
   "source": [
    "Chapter ‍9 Accessing NCBI’s Entrez databases"
   ]
  },
  {
   "cell_type": "code",
   "execution_count": null,
   "metadata": {},
   "outputs": [],
   "source": []
  },
  {
   "cell_type": "code",
   "execution_count": null,
   "metadata": {},
   "outputs": [],
   "source": []
  },
  {
   "cell_type": "code",
   "execution_count": null,
   "metadata": {},
   "outputs": [],
   "source": []
  }
 ],
 "metadata": {
  "kernelspec": {
   "display_name": "Python 3",
   "language": "python",
   "name": "python3"
  },
  "language_info": {
   "codemirror_mode": {
    "name": "ipython",
    "version": 3
   },
   "file_extension": ".py",
   "mimetype": "text/x-python",
   "name": "python",
   "nbconvert_exporter": "python",
   "pygments_lexer": "ipython3",
   "version": "3.6.7"
  }
 },
 "nbformat": 4,
 "nbformat_minor": 4
}
